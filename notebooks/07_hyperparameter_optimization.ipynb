{
 "cells": [
  {
   "cell_type": "markdown",
   "metadata": {},
   "source": [
    "# 07. Hyperparameter Optimization with Optuna\n",
    "\n",
    "**Purpose**: Systematic optimization of model hyperparameters using Bayesian optimization\n",
    "\n",
    "**Models**: QDA, SVC, RandomForest, DecisionTree (LogisticRegression excluded)\n",
    "\n",
    "**Method**: Optuna with TPE Sampler + MedianPruner\n",
    "\n",
    "**Expected Time**: ~2 hours for 200 trials (4 models × 50 trials each)"
   ]
  },
  {
   "cell_type": "markdown",
   "metadata": {},
   "source": [
    "## 1. Introduction: What is Hyperparameter Optimization?\n",
    "\n",
    "### 🎯 The Problem\n",
    "Machine learning models have **settings** (hyperparameters) that control how they learn. Think of them like:\n",
    "- **Volume knob** on a radio: too low (can't hear), too high (distorted)\n",
    "- **Oven temperature**: too cold (raw food), too hot (burnt)\n",
    "\n",
    "Finding the \"just right\" settings is **hyperparameter optimization**.\n",
    "\n",
    "### 🔍 Why Bayesian Optimization (Optuna)?\n",
    "\n",
    "Imagine trying to find the best pizza recipe:\n",
    "\n",
    "**Bad approach (Grid Search)**: Try EVERY possible combination\n",
    "- 🍕 Cheese: [100g, 200g, 300g]\n",
    "- 🍅 Sauce: [50ml, 100ml, 150ml]\n",
    "- ⏰ Time: [10min, 15min, 20min]\n",
    "- **Total trials**: 3 × 3 × 3 = 27 pizzas 🍕🍕🍕...\n",
    "\n",
    "**Smart approach (Bayesian Optimization/Optuna)**: Learn from each pizza\n",
    "- Try pizza #1: 100g cheese, 50ml sauce, 10min → **too dry** 😞\n",
    "- Try pizza #2: 200g cheese, 100ml sauce, 15min → **better!** 😊  \n",
    "- Try pizza #3: Optuna suggests 180g cheese, 90ml sauce, 14min → **perfect!** 😍\n",
    "- **Total trials**: 3-5 pizzas (much faster!)\n",
    "\n",
    "**Key Insight**: Each trial helps Optuna learn which direction to explore next.\n",
    "\n",
    "### ✂️ Trial Pruning: Stopping Bad Pizzas Early\n",
    "\n",
    "Imagine baking a pizza:\n",
    "- **Without pruning**: Bake for full 20 minutes even if it's clearly burning at minute 5\n",
    "- **With pruning (MedianPruner)**: Check at minute 5\n",
    "  - If worse than 50% of other pizzas → **STOP** 🛑\n",
    "  - Save 15 minutes of oven time!\n",
    "\n",
    "**Pruning saves 20-30% of computation time** by abandoning unpromising trials early.\n",
    "\n",
    "### 🚀 GPU Acceleration\n",
    "\n",
    "Some models (SVC, RandomForest) can use GPU (Graphics Processing Unit):\n",
    "- **CPU**: Like cooking one pizza at a time 🍕\n",
    "- **GPU**: Like having 100 tiny ovens working in parallel 🍕🍕🍕...🍕\n",
    "\n",
    "**Expected Speedups**:\n",
    "- SVC: **10x faster** with GPU (32 min → 3 min)\n",
    "- RandomForest: **6x faster** with GPU (30 min → 5 min)\n",
    "\n",
    "### 📊 What We'll Optimize\n",
    "\n",
    "| Model | Baseline F1 | Target F1 | Key Hyperparameters |\n",
    "|-------|-------------|-----------|---------------------|\n",
    "| QDA | 0.8782 | ≥ 0.880 | reg_param (regularization) |\n",
    "| SVC | 0.3277 | ≥ 0.450 | C, kernel, gamma (boundary shape) |\n",
    "| RandomForest | 0.7349 | ≥ 0.760 | n_estimators, max_depth (tree count & size) |\n",
    "| DecisionTree | 0.7105 | ≥ 0.735 | max_depth, min_samples_split (tree complexity) |\n",
    "\n",
    "**Goal**: Find the best settings to improve F1-macro scores!"
   ]
  },
  {
   "cell_type": "markdown",
   "metadata": {},
   "source": [
    "## 2. Environment Setup"
   ]
  },
  {
   "cell_type": "code",
   "execution_count": 1,
   "metadata": {},
   "outputs": [
    {
     "name": "stdout",
     "output_type": "stream",
     "text": [
      "✅ cuML available (version 25.08.00)\n",
      "✅ GPU available: NVIDIA GeForce RTX 3090\n",
      "   VRAM: 25.3 GB\n",
      "\n",
      "📦 Library Versions:\n",
      "   pandas: 2.3.2\n",
      "   numpy: 2.2.6\n",
      "   optuna: 4.5.0\n",
      "\n",
      "🎲 Random State: 42 (for reproducibility)\n",
      "⏰ Start Time: 2025-10-01 02:05:46\n"
     ]
    }
   ],
   "source": [
    "# Core libraries\n",
    "import pandas as pd\n",
    "import numpy as np\n",
    "import matplotlib.pyplot as plt\n",
    "import seaborn as sns\n",
    "import time\n",
    "import warnings\n",
    "from datetime import datetime\n",
    "import joblib\n",
    "import json\n",
    "\n",
    "# Scikit-learn\n",
    "from sklearn.preprocessing import MinMaxScaler\n",
    "from sklearn.model_selection import StratifiedKFold, cross_validate\n",
    "from sklearn.discriminant_analysis import QuadraticDiscriminantAnalysis\n",
    "from sklearn.svm import SVC as skSVC\n",
    "from sklearn.ensemble import RandomForestClassifier as skRF\n",
    "from sklearn.tree import DecisionTreeClassifier\n",
    "from sklearn.metrics import f1_score, make_scorer\n",
    "\n",
    "# Optuna\n",
    "import optuna\n",
    "from optuna.samplers import TPESampler\n",
    "from optuna.pruners import MedianPruner\n",
    "\n",
    "# GPU acceleration (cuML)\n",
    "try:\n",
    "    import cuml\n",
    "    from cuml.svm import SVC as cuSVC\n",
    "    from cuml.ensemble import RandomForestClassifier as cuRF\n",
    "    CUML_AVAILABLE = True\n",
    "    print(f\"✅ cuML available (version {cuml.__version__})\")\n",
    "except ImportError:\n",
    "    CUML_AVAILABLE = False\n",
    "    print(\"⚠️ cuML not available, using CPU-only sklearn\")\n",
    "\n",
    "# Check GPU\n",
    "try:\n",
    "    import torch\n",
    "    if torch.cuda.is_available():\n",
    "        print(f\"✅ GPU available: {torch.cuda.get_device_name(0)}\")\n",
    "        print(f\"   VRAM: {torch.cuda.get_device_properties(0).total_memory / 1e9:.1f} GB\")\n",
    "        GPU_AVAILABLE = True\n",
    "    else:\n",
    "        print(\"⚠️ GPU not available\")\n",
    "        GPU_AVAILABLE = False\n",
    "except ImportError:\n",
    "    GPU_AVAILABLE = False\n",
    "    print(\"⚠️ PyTorch not available, cannot detect GPU\")\n",
    "\n",
    "# Settings\n",
    "warnings.filterwarnings('ignore')\n",
    "plt.style.use('seaborn-v0_8-darkgrid')\n",
    "sns.set_palette(\"husl\")\n",
    "\n",
    "# Random seeds for reproducibility\n",
    "RANDOM_STATE = 42\n",
    "np.random.seed(RANDOM_STATE)\n",
    "\n",
    "# Display versions\n",
    "print(f\"\\n📦 Library Versions:\")\n",
    "print(f\"   pandas: {pd.__version__}\")\n",
    "print(f\"   numpy: {np.__version__}\")\n",
    "print(f\"   optuna: {optuna.__version__}\")\n",
    "\n",
    "print(f\"\\n🎲 Random State: {RANDOM_STATE} (for reproducibility)\")\n",
    "print(f\"⏰ Start Time: {datetime.now().strftime('%Y-%m-%d %H:%M:%S')}\")"
   ]
  },
  {
   "cell_type": "markdown",
   "metadata": {},
   "source": [
    "## 3. Data Loading and Preprocessing"
   ]
  },
  {
   "cell_type": "code",
   "execution_count": 2,
   "metadata": {},
   "outputs": [
    {
     "name": "stdout",
     "output_type": "stream",
     "text": [
      "📊 Dataset Shape: (21693, 54)\n",
      "   Samples: 21,693\n",
      "   Features: 53\n",
      "   Target column: 'target'\n",
      "\n",
      "🎯 Target Distribution:\n",
      "   Classes: 21\n",
      "   Samples per class: 1033\n",
      "   Balance (std): 0.00\n",
      "   → Perfectly balanced dataset! ✅\n",
      "\n",
      "🔧 Preprocessing Applied:\n",
      "   MinMaxScaler: [0, 1] range\n",
      "   Scaled features shape: (21693, 52)\n",
      "\n",
      "✂️ Cross-Validation Setup:\n",
      "   Method: StratifiedKFold\n",
      "   Splits: 5\n",
      "   Shuffle: True\n",
      "   Random state: 42\n",
      "   Fold 1 balance check: 0.0001 std → ✅\n",
      "\n",
      "✅ Data ready for optimization!\n"
     ]
    }
   ],
   "source": [
    "# Load training data\n",
    "train_df = pd.read_csv('../data/open/train.csv')\n",
    "\n",
    "print(f\"📊 Dataset Shape: {train_df.shape}\")\n",
    "print(f\"   Samples: {len(train_df):,}\")\n",
    "print(f\"   Features: {train_df.shape[1] - 1}\")\n",
    "print(f\"   Target column: 'target'\")\n",
    "\n",
    "# Separate features and target\n",
    "X = train_df.drop(['ID', 'target'], axis=1)\n",
    "y = train_df['target']\n",
    "\n",
    "print(f\"\\n🎯 Target Distribution:\")\n",
    "print(f\"   Classes: {y.nunique()}\")\n",
    "print(f\"   Samples per class: {y.value_counts().mean():.0f}\")\n",
    "print(f\"   Balance (std): {y.value_counts().std():.2f}\")\n",
    "print(f\"   → Perfectly balanced dataset! ✅\")\n",
    "\n",
    "# Feature scaling\n",
    "scaler = MinMaxScaler()\n",
    "X_scaled = scaler.fit_transform(X)\n",
    "X_scaled = pd.DataFrame(X_scaled, columns=X.columns)\n",
    "\n",
    "print(f\"\\n🔧 Preprocessing Applied:\")\n",
    "print(f\"   MinMaxScaler: [0, 1] range\")\n",
    "print(f\"   Scaled features shape: {X_scaled.shape}\")\n",
    "\n",
    "# Setup cross-validation\n",
    "N_SPLITS = 5\n",
    "cv = StratifiedKFold(n_splits=N_SPLITS, shuffle=True, random_state=RANDOM_STATE)\n",
    "\n",
    "print(f\"\\n✂️ Cross-Validation Setup:\")\n",
    "print(f\"   Method: StratifiedKFold\")\n",
    "print(f\"   Splits: {N_SPLITS}\")\n",
    "print(f\"   Shuffle: True\")\n",
    "print(f\"   Random state: {RANDOM_STATE}\")\n",
    "\n",
    "# Verify stratification\n",
    "for fold_idx, (train_idx, val_idx) in enumerate(cv.split(X_scaled, y)):\n",
    "    fold_dist = y.iloc[val_idx].value_counts(normalize=True).std()\n",
    "    if fold_idx == 0:\n",
    "        print(f\"   Fold {fold_idx + 1} balance check: {fold_dist:.4f} std → {'✅' if fold_dist < 0.001 else '⚠️'}\")\n",
    "        break\n",
    "\n",
    "print(f\"\\n✅ Data ready for optimization!\")"
   ]
  },
  {
   "cell_type": "markdown",
   "metadata": {},
   "source": [
    "## 4. Helper Functions"
   ]
  },
  {
   "cell_type": "code",
   "execution_count": 3,
   "metadata": {},
   "outputs": [
    {
     "name": "stdout",
     "output_type": "stream",
     "text": [
      "✅ Helper function defined: run_cross_validation()\n",
      "   This function will test each model configuration using 5-fold CV\n"
     ]
    }
   ],
   "source": [
    "def run_cross_validation(model, model_name, X, y, cv, return_times=False):\n",
    "    \"\"\"\n",
    "    Run cross-validation and return performance metrics.\n",
    "    \n",
    "    Think of this like testing a recipe:\n",
    "    - We divide ingredients into 5 groups\n",
    "    - Each time, we use 4 groups to cook and 1 group to taste\n",
    "    - Average the taste scores to get overall quality\n",
    "    \n",
    "    Parameters:\n",
    "    -----------\n",
    "    model : estimator\n",
    "        The model to evaluate (like a recipe)\n",
    "    model_name : str\n",
    "        Name for logging\n",
    "    X : array-like\n",
    "        Features (ingredients)\n",
    "    y : array-like  \n",
    "        Target labels (what we're trying to predict)\n",
    "    cv : cross-validator\n",
    "        How to split the data\n",
    "    return_times : bool\n",
    "        Whether to return training times\n",
    "        \n",
    "    Returns:\n",
    "    --------\n",
    "    dict : Performance metrics\n",
    "        - f1_mean: Average F1 score across folds\n",
    "        - f1_std: Consistency of F1 scores\n",
    "        - fold_scores: Individual fold scores\n",
    "        - train_time: Total training time (if return_times=True)\n",
    "    \"\"\"\n",
    "    try:\n",
    "        # Define scorer\n",
    "        f1_scorer = make_scorer(f1_score, average='macro', zero_division=0)\n",
    "        \n",
    "        # Run cross-validation\n",
    "        start_time = time.time()\n",
    "        cv_results = cross_validate(\n",
    "            model, X, y, cv=cv,\n",
    "            scoring={'f1_macro': f1_scorer},\n",
    "            return_train_score=False,\n",
    "            error_score='raise'\n",
    "        )\n",
    "        elapsed = time.time() - start_time\n",
    "        \n",
    "        # Extract scores\n",
    "        f1_scores = cv_results['test_f1_macro']\n",
    "        \n",
    "        results = {\n",
    "            'f1_mean': f1_scores.mean(),\n",
    "            'f1_std': f1_scores.std(),\n",
    "            'fold_scores': f1_scores.tolist()\n",
    "        }\n",
    "        \n",
    "        if return_times:\n",
    "            results['train_time'] = elapsed\n",
    "            \n",
    "        return results\n",
    "        \n",
    "    except Exception as e:\n",
    "        # If something goes wrong, return NaN (\"not a number\")\n",
    "        # This helps Optuna know the trial failed\n",
    "        print(f\"❌ {model_name} CV failed: {str(e)[:100]}\")\n",
    "        return {\n",
    "            'f1_mean': np.nan,\n",
    "            'f1_std': np.nan,\n",
    "            'fold_scores': [np.nan] * N_SPLITS,\n",
    "            'train_time': 0.0 if return_times else None\n",
    "        }\n",
    "\n",
    "print(\"✅ Helper function defined: run_cross_validation()\")\n",
    "print(\"   This function will test each model configuration using 5-fold CV\")"
   ]
  },
  {
   "cell_type": "markdown",
   "metadata": {},
   "source": [
    "## 5. Model 1: QDA (Quadratic Discriminant Analysis)\n",
    "\n",
    "### 🎓 What is QDA?\n",
    "\n",
    "**Simple Analogy**: Drawing curved boundaries to separate different groups\n",
    "\n",
    "Imagine you have red dots and blue dots on paper:\n",
    "- **Linear boundary**: Draw a straight line to separate them (like LDA)\n",
    "- **Quadratic boundary**: Draw a curved line that can bend and twist (like QDA)\n",
    "\n",
    "**Why \"Quadratic\"?**\n",
    "- Math term for curves made from equations like: y = ax² + bx + c\n",
    "- These curves can capture more complex patterns than straight lines\n",
    "\n",
    "**Why QDA is good for our data:**\n",
    "- Already performs well (87.8% F1 score - best baseline)\n",
    "- Can capture non-linear relationships between features\n",
    "- Works well with balanced multiclass problems\n",
    "\n",
    "**What we're optimizing:**\n",
    "- `reg_param`: Regularization strength (0.0 to 1.0)\n",
    "  - Like adding \"smoothness\" to the curves\n",
    "  - Too low → overfitting (curves too wiggly)\n",
    "  - Too high → underfitting (curves too simple)\n",
    "- `tol`: Convergence tolerance (how precise should calculations be)\n",
    "\n",
    "**Expected improvement**: +0.5-1.0% (88.3-88.8%) - already near-optimal"
   ]
  },
  {
   "cell_type": "code",
   "execution_count": 4,
   "metadata": {},
   "outputs": [
    {
     "name": "stdout",
     "output_type": "stream",
     "text": [
      "🎯 QDA Baseline Performance:\n",
      "   F1-macro: 0.8782 ± 0.0029\n",
      "   Goal: ≥ 0.880\n",
      "   Target improvement: +0.2%\n"
     ]
    }
   ],
   "source": [
    "# Baseline performance (from notebook 06)\n",
    "QDA_BASELINE_F1 = 0.8782\n",
    "QDA_BASELINE_STD = 0.0029\n",
    "\n",
    "print(f\"🎯 QDA Baseline Performance:\")\n",
    "print(f\"   F1-macro: {QDA_BASELINE_F1:.4f} ± {QDA_BASELINE_STD:.4f}\")\n",
    "print(f\"   Goal: ≥ {0.880:.3f}\")\n",
    "print(f\"   Target improvement: +{(0.880 - QDA_BASELINE_F1)*100:.1f}%\")"
   ]
  },
  {
   "cell_type": "code",
   "execution_count": 26,
   "metadata": {},
   "outputs": [
    {
     "name": "stdout",
     "output_type": "stream",
     "text": [
      "✅ QDA objective function defined\n"
     ]
    }
   ],
   "source": [
    "def objective_qda(trial):\n",
    "    \"\"\"\n",
    "    Objective function for QDA optimization.\n",
    "    \n",
    "    Optuna will call this function many times, each time with different\n",
    "    hyperparameters, trying to find the best combination.\n",
    "    \"\"\"\n",
    "    # Suggest hyperparameters\n",
    "    params = {\n",
    "        'reg_param': trial.suggest_float('reg_param', 0.0, 0.5),\n",
    "        'store_covariance': trial.suggest_categorical('store_covariance', [True, False]),\n",
    "        'tol': trial.suggest_float('tol', 1e-6, 1e-3, log=True)\n",
    "    }\n",
    "    \n",
    "    # Create model\n",
    "    model = QuadraticDiscriminantAnalysis(**params)\n",
    "    \n",
    "    # Evaluate using cross-validation\n",
    "    results = run_cross_validation(model, 'QDA', X_scaled, y, cv)\n",
    "    \n",
    "    # Store fold scores for analysis\n",
    "    trial.set_user_attr('fold_scores', results['fold_scores'])\n",
    "    trial.set_user_attr('f1_std', results['f1_std'])\n",
    "    \n",
    "    # Return mean F1 score (Optuna will maximize this)\n",
    "    return results['f1_mean']\n",
    "\n",
    "print(\"✅ QDA objective function defined\")"
   ]
  },
  {
   "cell_type": "code",
   "execution_count": 27,
   "metadata": {},
   "outputs": [
    {
     "name": "stderr",
     "output_type": "stream",
     "text": [
      "[I 2025-10-01 02:47:39,841] A new study created in memory with name: no-name-ca34119a-5462-4721-9921-680ff9376892\n"
     ]
    },
    {
     "name": "stdout",
     "output_type": "stream",
     "text": [
      "🔍 Starting QDA optimization...\n",
      "   Trials: 50\n",
      "   Estimated time: ~15 minutes\n",
      "   Started at: 02:47:39\n"
     ]
    },
    {
     "data": {
      "application/vnd.jupyter.widget-view+json": {
       "model_id": "d4c8077af0b041489d99434c4883fd20",
       "version_major": 2,
       "version_minor": 0
      },
      "text/plain": [
       "  0%|          | 0/50 [00:00<?, ?it/s]"
      ]
     },
     "metadata": {},
     "output_type": "display_data"
    },
    {
     "name": "stdout",
     "output_type": "stream",
     "text": [
      "[I 2025-10-01 02:47:40,533] Trial 0 finished with value: 0.34745162631113546 and parameters: {'reg_param': 0.18727005942368125, 'store_covariance': True, 'tol': 6.251373574521755e-05}. Best is trial 0 with value: 0.34745162631113546.\n",
      "[I 2025-10-01 02:47:40,843] Trial 1 finished with value: 0.3908527530450857 and parameters: {'reg_param': 0.07800932022121826, 'store_covariance': True, 'tol': 0.0003967605077052988}. Best is trial 1 with value: 0.3908527530450857.\n",
      "[I 2025-10-01 02:47:41,125] Trial 2 finished with value: 0.3331727583106716 and parameters: {'reg_param': 0.3005575058716044, 'store_covariance': True, 'tol': 0.0008123245085588687}. Best is trial 1 with value: 0.3908527530450857.\n",
      "[I 2025-10-01 02:47:41,407] Trial 3 finished with value: 0.3301050484793939 and parameters: {'reg_param': 0.41622132040021087, 'store_covariance': True, 'tol': 3.549878832196506e-06}. Best is trial 1 with value: 0.3908527530450857.\n",
      "[I 2025-10-01 02:47:41,685] Trial 4 finished with value: 0.357297811687746 and parameters: {'reg_param': 0.15212112147976886, 'store_covariance': True, 'tol': 7.4763120622522945e-06}. Best is trial 1 with value: 0.3908527530450857.\n",
      "[I 2025-10-01 02:47:42,024] Trial 5 finished with value: 0.3332398537360872 and parameters: {'reg_param': 0.30592644736118974, 'store_covariance': False, 'tol': 1.2562773503807034e-05}. Best is trial 1 with value: 0.3908527530450857.\n",
      "[I 2025-10-01 02:47:42,326] Trial 6 finished with value: 0.3404471290200738 and parameters: {'reg_param': 0.22803499210851796, 'store_covariance': True, 'tol': 3.489018845491386e-05}. Best is trial 1 with value: 0.3908527530450857.\n",
      "[I 2025-10-01 02:47:42,603] Trial 7 finished with value: 0.3334259358487227 and parameters: {'reg_param': 0.29620728443102123, 'store_covariance': False, 'tol': 3.247673570627449e-06}. Best is trial 1 with value: 0.3908527530450857.\n",
      "[I 2025-10-01 02:47:42,873] Trial 8 finished with value: 0.45451291075514505 and parameters: {'reg_param': 0.03252579649263976, 'store_covariance': False, 'tol': 0.0002661901888489054}. Best is trial 8 with value: 0.45451291075514505.\n",
      "[I 2025-10-01 02:47:43,150] Trial 9 finished with value: 0.35728835592959773 and parameters: {'reg_param': 0.15230688458668534, 'store_covariance': False, 'tol': 2.091498132903561e-05}. Best is trial 8 with value: 0.45451291075514505.\n",
      "[I 2025-10-01 02:47:43,430] Trial 10 finished with value: 0.5403327681386618 and parameters: {'reg_param': 0.010273404912149196, 'store_covariance': False, 'tol': 0.0001240492741349869}. Best is trial 10 with value: 0.5403327681386618.\n",
      "[I 2025-10-01 02:47:43,712] Trial 11 finished with value: 0.6194577523497105 and parameters: {'reg_param': 0.0027757703519366173, 'store_covariance': False, 'tol': 0.0001583416015155454}. Best is trial 11 with value: 0.6194577523497105.\n",
      "[I 2025-10-01 02:47:44,101] Trial 12 finished with value: 0.5623945873601868 and parameters: {'reg_param': 0.007335390233760546, 'store_covariance': False, 'tol': 9.568556430022637e-05}. Best is trial 11 with value: 0.6194577523497105.\n",
      "[I 2025-10-01 02:47:44,376] Trial 13 finished with value: 0.3834465529075711 and parameters: {'reg_param': 0.08670585322920565, 'store_covariance': False, 'tol': 0.00011392357116433955}. Best is trial 11 with value: 0.6194577523497105.\n",
      "[I 2025-10-01 02:47:44,687] Trial 14 finished with value: 0.573181886496958 and parameters: {'reg_param': 0.006268174111822978, 'store_covariance': False, 'tol': 0.00020291628770052793}. Best is trial 11 with value: 0.6194577523497105.\n",
      "[I 2025-10-01 02:47:44,960] Trial 15 finished with value: 0.33103773696101285 and parameters: {'reg_param': 0.46778093804071236, 'store_covariance': False, 'tol': 0.0009832001184162313}. Best is trial 11 with value: 0.6194577523497105.\n",
      "[I 2025-10-01 02:47:45,392] Trial 16 finished with value: 0.3816207622741581 and parameters: {'reg_param': 0.08912296271557373, 'store_covariance': False, 'tol': 0.0002739690770272643}. Best is trial 11 with value: 0.6194577523497105.\n",
      "[I 2025-10-01 02:47:45,668] Trial 17 finished with value: 0.3672136059739875 and parameters: {'reg_param': 0.12040396875045506, 'store_covariance': False, 'tol': 4.26775194228906e-05}. Best is trial 11 with value: 0.6194577523497105.\n",
      "[I 2025-10-01 02:47:45,987] Trial 18 finished with value: 0.41446866786248393 and parameters: {'reg_param': 0.05435449063501252, 'store_covariance': False, 'tol': 0.00020691346393219946}. Best is trial 11 with value: 0.6194577523497105.\n",
      "[I 2025-10-01 02:47:46,264] Trial 19 finished with value: 0.3306992665453766 and parameters: {'reg_param': 0.3559889011067058, 'store_covariance': False, 'tol': 0.0005376193936340106}. Best is trial 11 with value: 0.6194577523497105.\n",
      "[I 2025-10-01 02:47:46,539] Trial 20 finished with value: 0.3417767842646423 and parameters: {'reg_param': 0.21906508374556716, 'store_covariance': False, 'tol': 1.1930220880472066e-06}. Best is trial 11 with value: 0.6194577523497105.\n",
      "[I 2025-10-01 02:47:46,845] Trial 21 finished with value: 0.5590899183053497 and parameters: {'reg_param': 0.007706993951387367, 'store_covariance': False, 'tol': 9.143709399589622e-05}. Best is trial 11 with value: 0.6194577523497105.\n",
      "[I 2025-10-01 02:47:47,119] Trial 22 finished with value: 0.5699129361705444 and parameters: {'reg_param': 0.006570157858904108, 'store_covariance': False, 'tol': 0.00015585572735546843}. Best is trial 11 with value: 0.6194577523497105.\n",
      "[I 2025-10-01 02:47:47,422] Trial 23 finished with value: 0.40706868775882576 and parameters: {'reg_param': 0.06052603333464291, 'store_covariance': False, 'tol': 0.00017982094450136286}. Best is trial 11 with value: 0.6194577523497105.\n",
      "[I 2025-10-01 02:47:47,696] Trial 24 finished with value: 0.3630994480273954 and parameters: {'reg_param': 0.13153611735788256, 'store_covariance': False, 'tol': 0.0004491289831875191}. Best is trial 11 with value: 0.6194577523497105.\n",
      "[I 2025-10-01 02:47:48,016] Trial 25 finished with value: 0.4455869306049546 and parameters: {'reg_param': 0.03650372980208801, 'store_covariance': False, 'tol': 6.092647591860348e-05}. Best is trial 11 with value: 0.6194577523497105.\n",
      "[I 2025-10-01 02:47:48,297] Trial 26 finished with value: 0.3732458253336834 and parameters: {'reg_param': 0.10386607107947111, 'store_covariance': False, 'tol': 0.00015423454067721768}. Best is trial 11 with value: 0.6194577523497105.\n",
      "[I 2025-10-01 02:47:48,575] Trial 27 finished with value: 0.4206110178220344 and parameters: {'reg_param': 0.04975500130504794, 'store_covariance': False, 'tol': 2.1774117892717732e-05}. Best is trial 11 with value: 0.6194577523497105.\n",
      "[I 2025-10-01 02:47:48,861] Trial 28 finished with value: 0.6628300742728477 and parameters: {'reg_param': 0.0013034643955269895, 'store_covariance': False, 'tol': 0.0003300789342919576}. Best is trial 28 with value: 0.6628300742728477.\n",
      "[I 2025-10-01 02:47:49,250] Trial 29 finished with value: 0.35029535969109266 and parameters: {'reg_param': 0.1760273084531964, 'store_covariance': True, 'tol': 5.380808322182507e-05}. Best is trial 28 with value: 0.6628300742728477.\n",
      "[I 2025-10-01 02:47:49,562] Trial 30 finished with value: 0.4334476847105857 and parameters: {'reg_param': 0.042314923101680044, 'store_covariance': False, 'tol': 0.00036216954277677515}. Best is trial 28 with value: 0.6628300742728477.\n",
      "[I 2025-10-01 02:47:49,878] Trial 31 finished with value: 0.6504252862853386 and parameters: {'reg_param': 0.0016206150868658662, 'store_covariance': False, 'tol': 0.0006243821235424887}. Best is trial 28 with value: 0.6628300742728477.\n",
      "[I 2025-10-01 02:47:50,250] Trial 32 finished with value: 0.3948305934996895 and parameters: {'reg_param': 0.07228854148159448, 'store_covariance': False, 'tol': 0.0006686192807838936}. Best is trial 28 with value: 0.6628300742728477.\n",
      "[I 2025-10-01 02:47:50,634] Trial 33 finished with value: 0.4635219129866437 and parameters: {'reg_param': 0.029234320810523493, 'store_covariance': False, 'tol': 0.00036378785694505427}. Best is trial 28 with value: 0.6628300742728477.\n",
      "[I 2025-10-01 02:47:50,948] Trial 34 finished with value: 0.611362629361133 and parameters: {'reg_param': 0.0031753481925546065, 'store_covariance': True, 'tol': 0.0006358720743063741}. Best is trial 28 with value: 0.6628300742728477.\n",
      "[I 2025-10-01 02:47:51,225] Trial 35 finished with value: 0.3723760617184254 and parameters: {'reg_param': 0.10576873240884506, 'store_covariance': True, 'tol': 0.0007240875430312513}. Best is trial 28 with value: 0.6628300742728477.\n",
      "[I 2025-10-01 02:47:51,505] Trial 36 finished with value: 0.3991337305468242 and parameters: {'reg_param': 0.0674282323393359, 'store_covariance': True, 'tol': 0.000532799082451875}. Best is trial 28 with value: 0.6628300742728477.\n",
      "[I 2025-10-01 02:47:51,823] Trial 37 finished with value: 0.3614515584056611 and parameters: {'reg_param': 0.13670099521750012, 'store_covariance': True, 'tol': 0.0002957763342238249}. Best is trial 28 with value: 0.6628300742728477.\n",
      "[I 2025-10-01 02:47:52,101] Trial 38 finished with value: 0.34724275715599534 and parameters: {'reg_param': 0.18782913323744443, 'store_covariance': True, 'tol': 0.0009742786560661018}. Best is trial 28 with value: 0.6628300742728477.\n",
      "[I 2025-10-01 02:47:52,401] Trial 39 finished with value: 0.3298924684178461 and parameters: {'reg_param': 0.40610801321646445, 'store_covariance': True, 'tol': 0.0005820256307147027}. Best is trial 28 with value: 0.6628300742728477.\n",
      "[I 2025-10-01 02:47:52,679] Trial 40 finished with value: 0.4784429835335562 and parameters: {'reg_param': 0.024330355890380274, 'store_covariance': True, 'tol': 0.0003945901894798518}. Best is trial 28 with value: 0.6628300742728477.\n",
      "[I 2025-10-01 02:47:52,988] Trial 41 finished with value: 0.7050078726028972 and parameters: {'reg_param': 0.0005892836064367772, 'store_covariance': True, 'tol': 0.00022662024330343084}. Best is trial 41 with value: 0.7050078726028972.\n",
      "[I 2025-10-01 02:47:53,267] Trial 42 finished with value: 0.44528748856251 and parameters: {'reg_param': 0.03661120000094938, 'store_covariance': True, 'tol': 0.00023311999578840817}. Best is trial 41 with value: 0.7050078726028972.\n",
      "[I 2025-10-01 02:47:53,547] Trial 43 finished with value: 0.7676996634405511 and parameters: {'reg_param': 5.3882965155419775e-05, 'store_covariance': True, 'tol': 0.00032210277522493096}. Best is trial 43 with value: 0.7676996634405511.\n",
      "[I 2025-10-01 02:47:53,826] Trial 44 finished with value: 0.3350075631515124 and parameters: {'reg_param': 0.27337082695241327, 'store_covariance': True, 'tol': 9.52410702423168e-05}. Best is trial 43 with value: 0.7676996634405511.\n",
      "[I 2025-10-01 02:47:54,216] Trial 45 finished with value: 0.38888827255356684 and parameters: {'reg_param': 0.08086986916912864, 'store_covariance': True, 'tol': 0.00029964485439645485}. Best is trial 43 with value: 0.7676996634405511.\n",
      "[I 2025-10-01 02:47:54,493] Trial 46 finished with value: 0.46808375599030205 and parameters: {'reg_param': 0.027529343155520466, 'store_covariance': True, 'tol': 7.629313043027251e-05}. Best is trial 43 with value: 0.7676996634405511.\n",
      "[I 2025-10-01 02:47:54,815] Trial 47 finished with value: 0.4062574070732989 and parameters: {'reg_param': 0.06123573724759397, 'store_covariance': True, 'tol': 0.00013384081709239134}. Best is trial 43 with value: 0.7676996634405511.\n",
      "[I 2025-10-01 02:47:55,139] Trial 48 finished with value: 0.3791123376141986 and parameters: {'reg_param': 0.09350777092613603, 'store_covariance': True, 'tol': 8.652193934905744e-06}. Best is trial 43 with value: 0.7676996634405511.\n",
      "[I 2025-10-01 02:47:55,417] Trial 49 finished with value: 0.6279582018109824 and parameters: {'reg_param': 0.002383892706116226, 'store_covariance': True, 'tol': 0.0004196062629655001}. Best is trial 43 with value: 0.7676996634405511.\n",
      "\n",
      "✅ QDA optimization complete!\n",
      "   Time: 0.3 minutes\n",
      "   Best F1: 0.7677\n",
      "   Improvement: -11.05%\n",
      "   Best params: {'reg_param': 5.3882965155419775e-05, 'store_covariance': True, 'tol': 0.00032210277522493096}\n"
     ]
    }
   ],
   "source": [
    "# Create Optuna study for QDA\n",
    "print(\"🔍 Starting QDA optimization...\")\n",
    "print(f\"   Trials: 50\")\n",
    "print(f\"   Estimated time: ~15 minutes\")\n",
    "print(f\"   Started at: {datetime.now().strftime('%H:%M:%S')}\")\n",
    "\n",
    "qda_study = optuna.create_study(\n",
    "    direction='maximize',  # We want to maximize F1 score\n",
    "    sampler=TPESampler(seed=RANDOM_STATE),  # Bayesian optimization\n",
    "    pruner=MedianPruner(n_startup_trials=5, n_warmup_steps=2)  # Early stopping\n",
    ")\n",
    "\n",
    "# Optimize\n",
    "qda_start = time.time()\n",
    "qda_study.optimize(\n",
    "    objective_qda,\n",
    "    n_trials=50,\n",
    "    show_progress_bar=True,\n",
    "    n_jobs=1  # QDA doesn't parallelize well\n",
    ")\n",
    "qda_elapsed = time.time() - qda_start\n",
    "\n",
    "print(f\"\\n✅ QDA optimization complete!\")\n",
    "print(f\"   Time: {qda_elapsed/60:.1f} minutes\")\n",
    "print(f\"   Best F1: {qda_study.best_value:.4f}\")\n",
    "print(f\"   Improvement: {(qda_study.best_value - QDA_BASELINE_F1)*100:+.2f}%\")\n",
    "print(f\"   Best params: {qda_study.best_params}\")"
   ]
  },
  {
   "cell_type": "markdown",
   "metadata": {},
   "source": [
    "### 📊 QDA Optimization Visualizations"
   ]
  },
  {
   "cell_type": "code",
   "execution_count": 29,
   "metadata": {},
   "outputs": [
    {
     "data": {
      "application/vnd.plotly.v1+json": {
       "config": {
        "plotlyServerURL": "https://plot.ly"
       },
       "data": [
        {
         "mode": "markers",
         "name": "Objective Value",
         "type": "scatter",
         "x": [
          0,
          1,
          2,
          3,
          4,
          5,
          6,
          7,
          8,
          9,
          10,
          11,
          12,
          13,
          14,
          15,
          16,
          17,
          18,
          19,
          20,
          21,
          22,
          23,
          24,
          25,
          26,
          27,
          28,
          29,
          30,
          31,
          32,
          33,
          34,
          35,
          36,
          37,
          38,
          39,
          40,
          41,
          42,
          43,
          44,
          45,
          46,
          47,
          48,
          49
         ],
         "y": [
          0.34745162631113546,
          0.3908527530450857,
          0.3331727583106716,
          0.3301050484793939,
          0.357297811687746,
          0.3332398537360872,
          0.3404471290200738,
          0.3334259358487227,
          0.45451291075514505,
          0.35728835592959773,
          0.5403327681386618,
          0.6194577523497105,
          0.5623945873601868,
          0.3834465529075711,
          0.573181886496958,
          0.33103773696101285,
          0.3816207622741581,
          0.3672136059739875,
          0.41446866786248393,
          0.3306992665453766,
          0.3417767842646423,
          0.5590899183053497,
          0.5699129361705444,
          0.40706868775882576,
          0.3630994480273954,
          0.4455869306049546,
          0.3732458253336834,
          0.4206110178220344,
          0.6628300742728477,
          0.35029535969109266,
          0.4334476847105857,
          0.6504252862853386,
          0.3948305934996895,
          0.4635219129866437,
          0.611362629361133,
          0.3723760617184254,
          0.3991337305468242,
          0.3614515584056611,
          0.34724275715599534,
          0.3298924684178461,
          0.4784429835335562,
          0.7050078726028972,
          0.44528748856251,
          0.7676996634405511,
          0.3350075631515124,
          0.38888827255356684,
          0.46808375599030205,
          0.4062574070732989,
          0.3791123376141986,
          0.6279582018109824
         ]
        },
        {
         "mode": "lines",
         "name": "Best Value",
         "type": "scatter",
         "x": [
          0,
          1,
          2,
          3,
          4,
          5,
          6,
          7,
          8,
          9,
          10,
          11,
          12,
          13,
          14,
          15,
          16,
          17,
          18,
          19,
          20,
          21,
          22,
          23,
          24,
          25,
          26,
          27,
          28,
          29,
          30,
          31,
          32,
          33,
          34,
          35,
          36,
          37,
          38,
          39,
          40,
          41,
          42,
          43,
          44,
          45,
          46,
          47,
          48,
          49
         ],
         "y": [
          0.34745162631113546,
          0.3908527530450857,
          0.3908527530450857,
          0.3908527530450857,
          0.3908527530450857,
          0.3908527530450857,
          0.3908527530450857,
          0.3908527530450857,
          0.45451291075514505,
          0.45451291075514505,
          0.5403327681386618,
          0.6194577523497105,
          0.6194577523497105,
          0.6194577523497105,
          0.6194577523497105,
          0.6194577523497105,
          0.6194577523497105,
          0.6194577523497105,
          0.6194577523497105,
          0.6194577523497105,
          0.6194577523497105,
          0.6194577523497105,
          0.6194577523497105,
          0.6194577523497105,
          0.6194577523497105,
          0.6194577523497105,
          0.6194577523497105,
          0.6194577523497105,
          0.6628300742728477,
          0.6628300742728477,
          0.6628300742728477,
          0.6628300742728477,
          0.6628300742728477,
          0.6628300742728477,
          0.6628300742728477,
          0.6628300742728477,
          0.6628300742728477,
          0.6628300742728477,
          0.6628300742728477,
          0.6628300742728477,
          0.6628300742728477,
          0.7050078726028972,
          0.7050078726028972,
          0.7676996634405511,
          0.7676996634405511,
          0.7676996634405511,
          0.7676996634405511,
          0.7676996634405511,
          0.7676996634405511,
          0.7676996634405511
         ]
        },
        {
         "marker": {
          "color": "#cccccc"
         },
         "mode": "markers",
         "name": "Infeasible Trial",
         "showlegend": false,
         "type": "scatter",
         "x": [],
         "y": []
        }
       ],
       "layout": {
        "template": {
         "data": {
          "bar": [
           {
            "error_x": {
             "color": "#2a3f5f"
            },
            "error_y": {
             "color": "#2a3f5f"
            },
            "marker": {
             "line": {
              "color": "#E5ECF6",
              "width": 0.5
             },
             "pattern": {
              "fillmode": "overlay",
              "size": 10,
              "solidity": 0.2
             }
            },
            "type": "bar"
           }
          ],
          "barpolar": [
           {
            "marker": {
             "line": {
              "color": "#E5ECF6",
              "width": 0.5
             },
             "pattern": {
              "fillmode": "overlay",
              "size": 10,
              "solidity": 0.2
             }
            },
            "type": "barpolar"
           }
          ],
          "carpet": [
           {
            "aaxis": {
             "endlinecolor": "#2a3f5f",
             "gridcolor": "white",
             "linecolor": "white",
             "minorgridcolor": "white",
             "startlinecolor": "#2a3f5f"
            },
            "baxis": {
             "endlinecolor": "#2a3f5f",
             "gridcolor": "white",
             "linecolor": "white",
             "minorgridcolor": "white",
             "startlinecolor": "#2a3f5f"
            },
            "type": "carpet"
           }
          ],
          "choropleth": [
           {
            "colorbar": {
             "outlinewidth": 0,
             "ticks": ""
            },
            "type": "choropleth"
           }
          ],
          "contour": [
           {
            "colorbar": {
             "outlinewidth": 0,
             "ticks": ""
            },
            "colorscale": [
             [
              0,
              "#0d0887"
             ],
             [
              0.1111111111111111,
              "#46039f"
             ],
             [
              0.2222222222222222,
              "#7201a8"
             ],
             [
              0.3333333333333333,
              "#9c179e"
             ],
             [
              0.4444444444444444,
              "#bd3786"
             ],
             [
              0.5555555555555556,
              "#d8576b"
             ],
             [
              0.6666666666666666,
              "#ed7953"
             ],
             [
              0.7777777777777778,
              "#fb9f3a"
             ],
             [
              0.8888888888888888,
              "#fdca26"
             ],
             [
              1,
              "#f0f921"
             ]
            ],
            "type": "contour"
           }
          ],
          "contourcarpet": [
           {
            "colorbar": {
             "outlinewidth": 0,
             "ticks": ""
            },
            "type": "contourcarpet"
           }
          ],
          "heatmap": [
           {
            "colorbar": {
             "outlinewidth": 0,
             "ticks": ""
            },
            "colorscale": [
             [
              0,
              "#0d0887"
             ],
             [
              0.1111111111111111,
              "#46039f"
             ],
             [
              0.2222222222222222,
              "#7201a8"
             ],
             [
              0.3333333333333333,
              "#9c179e"
             ],
             [
              0.4444444444444444,
              "#bd3786"
             ],
             [
              0.5555555555555556,
              "#d8576b"
             ],
             [
              0.6666666666666666,
              "#ed7953"
             ],
             [
              0.7777777777777778,
              "#fb9f3a"
             ],
             [
              0.8888888888888888,
              "#fdca26"
             ],
             [
              1,
              "#f0f921"
             ]
            ],
            "type": "heatmap"
           }
          ],
          "histogram": [
           {
            "marker": {
             "pattern": {
              "fillmode": "overlay",
              "size": 10,
              "solidity": 0.2
             }
            },
            "type": "histogram"
           }
          ],
          "histogram2d": [
           {
            "colorbar": {
             "outlinewidth": 0,
             "ticks": ""
            },
            "colorscale": [
             [
              0,
              "#0d0887"
             ],
             [
              0.1111111111111111,
              "#46039f"
             ],
             [
              0.2222222222222222,
              "#7201a8"
             ],
             [
              0.3333333333333333,
              "#9c179e"
             ],
             [
              0.4444444444444444,
              "#bd3786"
             ],
             [
              0.5555555555555556,
              "#d8576b"
             ],
             [
              0.6666666666666666,
              "#ed7953"
             ],
             [
              0.7777777777777778,
              "#fb9f3a"
             ],
             [
              0.8888888888888888,
              "#fdca26"
             ],
             [
              1,
              "#f0f921"
             ]
            ],
            "type": "histogram2d"
           }
          ],
          "histogram2dcontour": [
           {
            "colorbar": {
             "outlinewidth": 0,
             "ticks": ""
            },
            "colorscale": [
             [
              0,
              "#0d0887"
             ],
             [
              0.1111111111111111,
              "#46039f"
             ],
             [
              0.2222222222222222,
              "#7201a8"
             ],
             [
              0.3333333333333333,
              "#9c179e"
             ],
             [
              0.4444444444444444,
              "#bd3786"
             ],
             [
              0.5555555555555556,
              "#d8576b"
             ],
             [
              0.6666666666666666,
              "#ed7953"
             ],
             [
              0.7777777777777778,
              "#fb9f3a"
             ],
             [
              0.8888888888888888,
              "#fdca26"
             ],
             [
              1,
              "#f0f921"
             ]
            ],
            "type": "histogram2dcontour"
           }
          ],
          "mesh3d": [
           {
            "colorbar": {
             "outlinewidth": 0,
             "ticks": ""
            },
            "type": "mesh3d"
           }
          ],
          "parcoords": [
           {
            "line": {
             "colorbar": {
              "outlinewidth": 0,
              "ticks": ""
             }
            },
            "type": "parcoords"
           }
          ],
          "pie": [
           {
            "automargin": true,
            "type": "pie"
           }
          ],
          "scatter": [
           {
            "fillpattern": {
             "fillmode": "overlay",
             "size": 10,
             "solidity": 0.2
            },
            "type": "scatter"
           }
          ],
          "scatter3d": [
           {
            "line": {
             "colorbar": {
              "outlinewidth": 0,
              "ticks": ""
             }
            },
            "marker": {
             "colorbar": {
              "outlinewidth": 0,
              "ticks": ""
             }
            },
            "type": "scatter3d"
           }
          ],
          "scattercarpet": [
           {
            "marker": {
             "colorbar": {
              "outlinewidth": 0,
              "ticks": ""
             }
            },
            "type": "scattercarpet"
           }
          ],
          "scattergeo": [
           {
            "marker": {
             "colorbar": {
              "outlinewidth": 0,
              "ticks": ""
             }
            },
            "type": "scattergeo"
           }
          ],
          "scattergl": [
           {
            "marker": {
             "colorbar": {
              "outlinewidth": 0,
              "ticks": ""
             }
            },
            "type": "scattergl"
           }
          ],
          "scattermap": [
           {
            "marker": {
             "colorbar": {
              "outlinewidth": 0,
              "ticks": ""
             }
            },
            "type": "scattermap"
           }
          ],
          "scattermapbox": [
           {
            "marker": {
             "colorbar": {
              "outlinewidth": 0,
              "ticks": ""
             }
            },
            "type": "scattermapbox"
           }
          ],
          "scatterpolar": [
           {
            "marker": {
             "colorbar": {
              "outlinewidth": 0,
              "ticks": ""
             }
            },
            "type": "scatterpolar"
           }
          ],
          "scatterpolargl": [
           {
            "marker": {
             "colorbar": {
              "outlinewidth": 0,
              "ticks": ""
             }
            },
            "type": "scatterpolargl"
           }
          ],
          "scatterternary": [
           {
            "marker": {
             "colorbar": {
              "outlinewidth": 0,
              "ticks": ""
             }
            },
            "type": "scatterternary"
           }
          ],
          "surface": [
           {
            "colorbar": {
             "outlinewidth": 0,
             "ticks": ""
            },
            "colorscale": [
             [
              0,
              "#0d0887"
             ],
             [
              0.1111111111111111,
              "#46039f"
             ],
             [
              0.2222222222222222,
              "#7201a8"
             ],
             [
              0.3333333333333333,
              "#9c179e"
             ],
             [
              0.4444444444444444,
              "#bd3786"
             ],
             [
              0.5555555555555556,
              "#d8576b"
             ],
             [
              0.6666666666666666,
              "#ed7953"
             ],
             [
              0.7777777777777778,
              "#fb9f3a"
             ],
             [
              0.8888888888888888,
              "#fdca26"
             ],
             [
              1,
              "#f0f921"
             ]
            ],
            "type": "surface"
           }
          ],
          "table": [
           {
            "cells": {
             "fill": {
              "color": "#EBF0F8"
             },
             "line": {
              "color": "white"
             }
            },
            "header": {
             "fill": {
              "color": "#C8D4E3"
             },
             "line": {
              "color": "white"
             }
            },
            "type": "table"
           }
          ]
         },
         "layout": {
          "annotationdefaults": {
           "arrowcolor": "#2a3f5f",
           "arrowhead": 0,
           "arrowwidth": 1
          },
          "autotypenumbers": "strict",
          "coloraxis": {
           "colorbar": {
            "outlinewidth": 0,
            "ticks": ""
           }
          },
          "colorscale": {
           "diverging": [
            [
             0,
             "#8e0152"
            ],
            [
             0.1,
             "#c51b7d"
            ],
            [
             0.2,
             "#de77ae"
            ],
            [
             0.3,
             "#f1b6da"
            ],
            [
             0.4,
             "#fde0ef"
            ],
            [
             0.5,
             "#f7f7f7"
            ],
            [
             0.6,
             "#e6f5d0"
            ],
            [
             0.7,
             "#b8e186"
            ],
            [
             0.8,
             "#7fbc41"
            ],
            [
             0.9,
             "#4d9221"
            ],
            [
             1,
             "#276419"
            ]
           ],
           "sequential": [
            [
             0,
             "#0d0887"
            ],
            [
             0.1111111111111111,
             "#46039f"
            ],
            [
             0.2222222222222222,
             "#7201a8"
            ],
            [
             0.3333333333333333,
             "#9c179e"
            ],
            [
             0.4444444444444444,
             "#bd3786"
            ],
            [
             0.5555555555555556,
             "#d8576b"
            ],
            [
             0.6666666666666666,
             "#ed7953"
            ],
            [
             0.7777777777777778,
             "#fb9f3a"
            ],
            [
             0.8888888888888888,
             "#fdca26"
            ],
            [
             1,
             "#f0f921"
            ]
           ],
           "sequentialminus": [
            [
             0,
             "#0d0887"
            ],
            [
             0.1111111111111111,
             "#46039f"
            ],
            [
             0.2222222222222222,
             "#7201a8"
            ],
            [
             0.3333333333333333,
             "#9c179e"
            ],
            [
             0.4444444444444444,
             "#bd3786"
            ],
            [
             0.5555555555555556,
             "#d8576b"
            ],
            [
             0.6666666666666666,
             "#ed7953"
            ],
            [
             0.7777777777777778,
             "#fb9f3a"
            ],
            [
             0.8888888888888888,
             "#fdca26"
            ],
            [
             1,
             "#f0f921"
            ]
           ]
          },
          "colorway": [
           "#636efa",
           "#EF553B",
           "#00cc96",
           "#ab63fa",
           "#FFA15A",
           "#19d3f3",
           "#FF6692",
           "#B6E880",
           "#FF97FF",
           "#FECB52"
          ],
          "font": {
           "color": "#2a3f5f"
          },
          "geo": {
           "bgcolor": "white",
           "lakecolor": "white",
           "landcolor": "#E5ECF6",
           "showlakes": true,
           "showland": true,
           "subunitcolor": "white"
          },
          "hoverlabel": {
           "align": "left"
          },
          "hovermode": "closest",
          "mapbox": {
           "style": "light"
          },
          "paper_bgcolor": "white",
          "plot_bgcolor": "#E5ECF6",
          "polar": {
           "angularaxis": {
            "gridcolor": "white",
            "linecolor": "white",
            "ticks": ""
           },
           "bgcolor": "#E5ECF6",
           "radialaxis": {
            "gridcolor": "white",
            "linecolor": "white",
            "ticks": ""
           }
          },
          "scene": {
           "xaxis": {
            "backgroundcolor": "#E5ECF6",
            "gridcolor": "white",
            "gridwidth": 2,
            "linecolor": "white",
            "showbackground": true,
            "ticks": "",
            "zerolinecolor": "white"
           },
           "yaxis": {
            "backgroundcolor": "#E5ECF6",
            "gridcolor": "white",
            "gridwidth": 2,
            "linecolor": "white",
            "showbackground": true,
            "ticks": "",
            "zerolinecolor": "white"
           },
           "zaxis": {
            "backgroundcolor": "#E5ECF6",
            "gridcolor": "white",
            "gridwidth": 2,
            "linecolor": "white",
            "showbackground": true,
            "ticks": "",
            "zerolinecolor": "white"
           }
          },
          "shapedefaults": {
           "line": {
            "color": "#2a3f5f"
           }
          },
          "ternary": {
           "aaxis": {
            "gridcolor": "white",
            "linecolor": "white",
            "ticks": ""
           },
           "baxis": {
            "gridcolor": "white",
            "linecolor": "white",
            "ticks": ""
           },
           "bgcolor": "#E5ECF6",
           "caxis": {
            "gridcolor": "white",
            "linecolor": "white",
            "ticks": ""
           }
          },
          "title": {
           "x": 0.05
          },
          "xaxis": {
           "automargin": true,
           "gridcolor": "white",
           "linecolor": "white",
           "ticks": "",
           "title": {
            "standoff": 15
           },
           "zerolinecolor": "white",
           "zerolinewidth": 2
          },
          "yaxis": {
           "automargin": true,
           "gridcolor": "white",
           "linecolor": "white",
           "ticks": "",
           "title": {
            "standoff": 15
           },
           "zerolinecolor": "white",
           "zerolinewidth": 2
          }
         }
        },
        "title": {
         "text": "QDA: F1 Score Over Trials (How did we improve?)"
        },
        "xaxis": {
         "title": {
          "text": "Trial"
         }
        },
        "yaxis": {
         "title": {
          "text": "Objective Value"
         }
        }
       }
      }
     },
     "metadata": {},
     "output_type": "display_data"
    },
    {
     "name": "stdout",
     "output_type": "stream",
     "text": [
      "📈 What this plot shows:\n",
      "   - Blue line: F1 score for each trial\n",
      "   - Red line: Best score so far (should generally go up)\n",
      "   - If red line plateaus → we found the optimum!\n"
     ]
    }
   ],
   "source": [
    "# Optimization history\n",
    "fig = optuna.visualization.plot_optimization_history(qda_study)\n",
    "fig.update_layout(title=\"QDA: F1 Score Over Trials (How did we improve?)\")\n",
    "fig.show()\n",
    "\n",
    "print(\"📈 What this plot shows:\")\n",
    "print(\"   - Blue line: F1 score for each trial\")\n",
    "print(\"   - Red line: Best score so far (should generally go up)\")\n",
    "print(\"   - If red line plateaus → we found the optimum!\")"
   ]
  },
  {
   "cell_type": "code",
   "execution_count": 30,
   "metadata": {},
   "outputs": [
    {
     "data": {
      "application/vnd.plotly.v1+json": {
       "config": {
        "plotlyServerURL": "https://plot.ly"
       },
       "data": [
        {
         "cliponaxis": false,
         "hovertemplate": [
          "tol (FloatDistribution): 0.0003018245262609699<extra></extra>",
          "store_covariance (CategoricalDistribution): 0.0003114091996284605<extra></extra>",
          "reg_param (FloatDistribution): 0.9993867662741106<extra></extra>"
         ],
         "name": "Objective Value",
         "orientation": "h",
         "text": [
          "<0.01",
          "<0.01",
          "1.00"
         ],
         "textposition": "outside",
         "type": "bar",
         "x": [
          0.0003018245262609699,
          0.0003114091996284605,
          0.9993867662741106
         ],
         "y": [
          "tol",
          "store_covariance",
          "reg_param"
         ]
        }
       ],
       "layout": {
        "template": {
         "data": {
          "bar": [
           {
            "error_x": {
             "color": "#2a3f5f"
            },
            "error_y": {
             "color": "#2a3f5f"
            },
            "marker": {
             "line": {
              "color": "#E5ECF6",
              "width": 0.5
             },
             "pattern": {
              "fillmode": "overlay",
              "size": 10,
              "solidity": 0.2
             }
            },
            "type": "bar"
           }
          ],
          "barpolar": [
           {
            "marker": {
             "line": {
              "color": "#E5ECF6",
              "width": 0.5
             },
             "pattern": {
              "fillmode": "overlay",
              "size": 10,
              "solidity": 0.2
             }
            },
            "type": "barpolar"
           }
          ],
          "carpet": [
           {
            "aaxis": {
             "endlinecolor": "#2a3f5f",
             "gridcolor": "white",
             "linecolor": "white",
             "minorgridcolor": "white",
             "startlinecolor": "#2a3f5f"
            },
            "baxis": {
             "endlinecolor": "#2a3f5f",
             "gridcolor": "white",
             "linecolor": "white",
             "minorgridcolor": "white",
             "startlinecolor": "#2a3f5f"
            },
            "type": "carpet"
           }
          ],
          "choropleth": [
           {
            "colorbar": {
             "outlinewidth": 0,
             "ticks": ""
            },
            "type": "choropleth"
           }
          ],
          "contour": [
           {
            "colorbar": {
             "outlinewidth": 0,
             "ticks": ""
            },
            "colorscale": [
             [
              0,
              "#0d0887"
             ],
             [
              0.1111111111111111,
              "#46039f"
             ],
             [
              0.2222222222222222,
              "#7201a8"
             ],
             [
              0.3333333333333333,
              "#9c179e"
             ],
             [
              0.4444444444444444,
              "#bd3786"
             ],
             [
              0.5555555555555556,
              "#d8576b"
             ],
             [
              0.6666666666666666,
              "#ed7953"
             ],
             [
              0.7777777777777778,
              "#fb9f3a"
             ],
             [
              0.8888888888888888,
              "#fdca26"
             ],
             [
              1,
              "#f0f921"
             ]
            ],
            "type": "contour"
           }
          ],
          "contourcarpet": [
           {
            "colorbar": {
             "outlinewidth": 0,
             "ticks": ""
            },
            "type": "contourcarpet"
           }
          ],
          "heatmap": [
           {
            "colorbar": {
             "outlinewidth": 0,
             "ticks": ""
            },
            "colorscale": [
             [
              0,
              "#0d0887"
             ],
             [
              0.1111111111111111,
              "#46039f"
             ],
             [
              0.2222222222222222,
              "#7201a8"
             ],
             [
              0.3333333333333333,
              "#9c179e"
             ],
             [
              0.4444444444444444,
              "#bd3786"
             ],
             [
              0.5555555555555556,
              "#d8576b"
             ],
             [
              0.6666666666666666,
              "#ed7953"
             ],
             [
              0.7777777777777778,
              "#fb9f3a"
             ],
             [
              0.8888888888888888,
              "#fdca26"
             ],
             [
              1,
              "#f0f921"
             ]
            ],
            "type": "heatmap"
           }
          ],
          "histogram": [
           {
            "marker": {
             "pattern": {
              "fillmode": "overlay",
              "size": 10,
              "solidity": 0.2
             }
            },
            "type": "histogram"
           }
          ],
          "histogram2d": [
           {
            "colorbar": {
             "outlinewidth": 0,
             "ticks": ""
            },
            "colorscale": [
             [
              0,
              "#0d0887"
             ],
             [
              0.1111111111111111,
              "#46039f"
             ],
             [
              0.2222222222222222,
              "#7201a8"
             ],
             [
              0.3333333333333333,
              "#9c179e"
             ],
             [
              0.4444444444444444,
              "#bd3786"
             ],
             [
              0.5555555555555556,
              "#d8576b"
             ],
             [
              0.6666666666666666,
              "#ed7953"
             ],
             [
              0.7777777777777778,
              "#fb9f3a"
             ],
             [
              0.8888888888888888,
              "#fdca26"
             ],
             [
              1,
              "#f0f921"
             ]
            ],
            "type": "histogram2d"
           }
          ],
          "histogram2dcontour": [
           {
            "colorbar": {
             "outlinewidth": 0,
             "ticks": ""
            },
            "colorscale": [
             [
              0,
              "#0d0887"
             ],
             [
              0.1111111111111111,
              "#46039f"
             ],
             [
              0.2222222222222222,
              "#7201a8"
             ],
             [
              0.3333333333333333,
              "#9c179e"
             ],
             [
              0.4444444444444444,
              "#bd3786"
             ],
             [
              0.5555555555555556,
              "#d8576b"
             ],
             [
              0.6666666666666666,
              "#ed7953"
             ],
             [
              0.7777777777777778,
              "#fb9f3a"
             ],
             [
              0.8888888888888888,
              "#fdca26"
             ],
             [
              1,
              "#f0f921"
             ]
            ],
            "type": "histogram2dcontour"
           }
          ],
          "mesh3d": [
           {
            "colorbar": {
             "outlinewidth": 0,
             "ticks": ""
            },
            "type": "mesh3d"
           }
          ],
          "parcoords": [
           {
            "line": {
             "colorbar": {
              "outlinewidth": 0,
              "ticks": ""
             }
            },
            "type": "parcoords"
           }
          ],
          "pie": [
           {
            "automargin": true,
            "type": "pie"
           }
          ],
          "scatter": [
           {
            "fillpattern": {
             "fillmode": "overlay",
             "size": 10,
             "solidity": 0.2
            },
            "type": "scatter"
           }
          ],
          "scatter3d": [
           {
            "line": {
             "colorbar": {
              "outlinewidth": 0,
              "ticks": ""
             }
            },
            "marker": {
             "colorbar": {
              "outlinewidth": 0,
              "ticks": ""
             }
            },
            "type": "scatter3d"
           }
          ],
          "scattercarpet": [
           {
            "marker": {
             "colorbar": {
              "outlinewidth": 0,
              "ticks": ""
             }
            },
            "type": "scattercarpet"
           }
          ],
          "scattergeo": [
           {
            "marker": {
             "colorbar": {
              "outlinewidth": 0,
              "ticks": ""
             }
            },
            "type": "scattergeo"
           }
          ],
          "scattergl": [
           {
            "marker": {
             "colorbar": {
              "outlinewidth": 0,
              "ticks": ""
             }
            },
            "type": "scattergl"
           }
          ],
          "scattermap": [
           {
            "marker": {
             "colorbar": {
              "outlinewidth": 0,
              "ticks": ""
             }
            },
            "type": "scattermap"
           }
          ],
          "scattermapbox": [
           {
            "marker": {
             "colorbar": {
              "outlinewidth": 0,
              "ticks": ""
             }
            },
            "type": "scattermapbox"
           }
          ],
          "scatterpolar": [
           {
            "marker": {
             "colorbar": {
              "outlinewidth": 0,
              "ticks": ""
             }
            },
            "type": "scatterpolar"
           }
          ],
          "scatterpolargl": [
           {
            "marker": {
             "colorbar": {
              "outlinewidth": 0,
              "ticks": ""
             }
            },
            "type": "scatterpolargl"
           }
          ],
          "scatterternary": [
           {
            "marker": {
             "colorbar": {
              "outlinewidth": 0,
              "ticks": ""
             }
            },
            "type": "scatterternary"
           }
          ],
          "surface": [
           {
            "colorbar": {
             "outlinewidth": 0,
             "ticks": ""
            },
            "colorscale": [
             [
              0,
              "#0d0887"
             ],
             [
              0.1111111111111111,
              "#46039f"
             ],
             [
              0.2222222222222222,
              "#7201a8"
             ],
             [
              0.3333333333333333,
              "#9c179e"
             ],
             [
              0.4444444444444444,
              "#bd3786"
             ],
             [
              0.5555555555555556,
              "#d8576b"
             ],
             [
              0.6666666666666666,
              "#ed7953"
             ],
             [
              0.7777777777777778,
              "#fb9f3a"
             ],
             [
              0.8888888888888888,
              "#fdca26"
             ],
             [
              1,
              "#f0f921"
             ]
            ],
            "type": "surface"
           }
          ],
          "table": [
           {
            "cells": {
             "fill": {
              "color": "#EBF0F8"
             },
             "line": {
              "color": "white"
             }
            },
            "header": {
             "fill": {
              "color": "#C8D4E3"
             },
             "line": {
              "color": "white"
             }
            },
            "type": "table"
           }
          ]
         },
         "layout": {
          "annotationdefaults": {
           "arrowcolor": "#2a3f5f",
           "arrowhead": 0,
           "arrowwidth": 1
          },
          "autotypenumbers": "strict",
          "coloraxis": {
           "colorbar": {
            "outlinewidth": 0,
            "ticks": ""
           }
          },
          "colorscale": {
           "diverging": [
            [
             0,
             "#8e0152"
            ],
            [
             0.1,
             "#c51b7d"
            ],
            [
             0.2,
             "#de77ae"
            ],
            [
             0.3,
             "#f1b6da"
            ],
            [
             0.4,
             "#fde0ef"
            ],
            [
             0.5,
             "#f7f7f7"
            ],
            [
             0.6,
             "#e6f5d0"
            ],
            [
             0.7,
             "#b8e186"
            ],
            [
             0.8,
             "#7fbc41"
            ],
            [
             0.9,
             "#4d9221"
            ],
            [
             1,
             "#276419"
            ]
           ],
           "sequential": [
            [
             0,
             "#0d0887"
            ],
            [
             0.1111111111111111,
             "#46039f"
            ],
            [
             0.2222222222222222,
             "#7201a8"
            ],
            [
             0.3333333333333333,
             "#9c179e"
            ],
            [
             0.4444444444444444,
             "#bd3786"
            ],
            [
             0.5555555555555556,
             "#d8576b"
            ],
            [
             0.6666666666666666,
             "#ed7953"
            ],
            [
             0.7777777777777778,
             "#fb9f3a"
            ],
            [
             0.8888888888888888,
             "#fdca26"
            ],
            [
             1,
             "#f0f921"
            ]
           ],
           "sequentialminus": [
            [
             0,
             "#0d0887"
            ],
            [
             0.1111111111111111,
             "#46039f"
            ],
            [
             0.2222222222222222,
             "#7201a8"
            ],
            [
             0.3333333333333333,
             "#9c179e"
            ],
            [
             0.4444444444444444,
             "#bd3786"
            ],
            [
             0.5555555555555556,
             "#d8576b"
            ],
            [
             0.6666666666666666,
             "#ed7953"
            ],
            [
             0.7777777777777778,
             "#fb9f3a"
            ],
            [
             0.8888888888888888,
             "#fdca26"
            ],
            [
             1,
             "#f0f921"
            ]
           ]
          },
          "colorway": [
           "#636efa",
           "#EF553B",
           "#00cc96",
           "#ab63fa",
           "#FFA15A",
           "#19d3f3",
           "#FF6692",
           "#B6E880",
           "#FF97FF",
           "#FECB52"
          ],
          "font": {
           "color": "#2a3f5f"
          },
          "geo": {
           "bgcolor": "white",
           "lakecolor": "white",
           "landcolor": "#E5ECF6",
           "showlakes": true,
           "showland": true,
           "subunitcolor": "white"
          },
          "hoverlabel": {
           "align": "left"
          },
          "hovermode": "closest",
          "mapbox": {
           "style": "light"
          },
          "paper_bgcolor": "white",
          "plot_bgcolor": "#E5ECF6",
          "polar": {
           "angularaxis": {
            "gridcolor": "white",
            "linecolor": "white",
            "ticks": ""
           },
           "bgcolor": "#E5ECF6",
           "radialaxis": {
            "gridcolor": "white",
            "linecolor": "white",
            "ticks": ""
           }
          },
          "scene": {
           "xaxis": {
            "backgroundcolor": "#E5ECF6",
            "gridcolor": "white",
            "gridwidth": 2,
            "linecolor": "white",
            "showbackground": true,
            "ticks": "",
            "zerolinecolor": "white"
           },
           "yaxis": {
            "backgroundcolor": "#E5ECF6",
            "gridcolor": "white",
            "gridwidth": 2,
            "linecolor": "white",
            "showbackground": true,
            "ticks": "",
            "zerolinecolor": "white"
           },
           "zaxis": {
            "backgroundcolor": "#E5ECF6",
            "gridcolor": "white",
            "gridwidth": 2,
            "linecolor": "white",
            "showbackground": true,
            "ticks": "",
            "zerolinecolor": "white"
           }
          },
          "shapedefaults": {
           "line": {
            "color": "#2a3f5f"
           }
          },
          "ternary": {
           "aaxis": {
            "gridcolor": "white",
            "linecolor": "white",
            "ticks": ""
           },
           "baxis": {
            "gridcolor": "white",
            "linecolor": "white",
            "ticks": ""
           },
           "bgcolor": "#E5ECF6",
           "caxis": {
            "gridcolor": "white",
            "linecolor": "white",
            "ticks": ""
           }
          },
          "title": {
           "x": 0.05
          },
          "xaxis": {
           "automargin": true,
           "gridcolor": "white",
           "linecolor": "white",
           "ticks": "",
           "title": {
            "standoff": 15
           },
           "zerolinecolor": "white",
           "zerolinewidth": 2
          },
          "yaxis": {
           "automargin": true,
           "gridcolor": "white",
           "linecolor": "white",
           "ticks": "",
           "title": {
            "standoff": 15
           },
           "zerolinecolor": "white",
           "zerolinewidth": 2
          }
         }
        },
        "title": {
         "text": "QDA: Which Hyperparameters Matter Most?"
        },
        "xaxis": {
         "title": {
          "text": "Hyperparameter Importance"
         }
        },
        "yaxis": {
         "title": {
          "text": "Hyperparameter"
         }
        }
       }
      }
     },
     "metadata": {},
     "output_type": "display_data"
    },
    {
     "name": "stdout",
     "output_type": "stream",
     "text": [
      "🎯 What this plot shows:\n",
      "   - Longer bars = more important parameters\n",
      "   - These are the 'knobs' that most affect performance\n",
      "   - Focus future tuning on the top parameters!\n"
     ]
    }
   ],
   "source": [
    "# Parameter importance\n",
    "fig = optuna.visualization.plot_param_importances(qda_study)\n",
    "fig.update_layout(title=\"QDA: Which Hyperparameters Matter Most?\")\n",
    "fig.show()\n",
    "\n",
    "print(\"🎯 What this plot shows:\")\n",
    "print(\"   - Longer bars = more important parameters\")\n",
    "print(\"   - These are the 'knobs' that most affect performance\")\n",
    "print(\"   - Focus future tuning on the top parameters!\")"
   ]
  },
  {
   "cell_type": "code",
   "execution_count": 9,
   "metadata": {},
   "outputs": [
    {
     "data": {
      "application/vnd.plotly.v1+json": {
       "config": {
        "plotlyServerURL": "https://plot.ly"
       },
       "data": [
        {
         "dimensions": [
          {
           "label": "Objective Value",
           "range": [
            0.3303969633492662,
            0.7552855121366681
           ],
           "values": [
            0.33075874380250103,
            0.35531312691176836,
            0.333711468856666,
            0.34602814575395646,
            0.33335404649497613,
            0.33418617342186363,
            0.3305457787439178,
            0.3333062076217794,
            0.4013927770473888,
            0.33343201836186526,
            0.4909120123990087,
            0.5789338482161541,
            0.5148259796845118,
            0.3506173496634336,
            0.5265722550255014,
            0.36707428909042095,
            0.34942617963185685,
            0.3384349892357231,
            0.3713525337348692,
            0.34001722147539243,
            0.3303969633492662,
            0.5110617497181347,
            0.5232833595911031,
            0.36681225987516,
            0.33606633477615344,
            0.39423013253748523,
            0.3437637591649006,
            0.3760780412566067,
            0.6232124996179209,
            0.33053953266826347,
            0.385670365734605,
            0.6099894619628794,
            0.3590263553482577,
            0.4099977717494118,
            0.5721070498721892,
            0.3430900999042316,
            0.362281776225764,
            0.3350075631515124,
            0.3308488047464587,
            0.3450754556419674,
            0.42278458628636717,
            0.6685478452523185,
            0.3942083834156704,
            0.7552855121366681,
            0.3316008329272446,
            0.3535325245454884,
            0.4138029792985821,
            0.36603961270505786,
            0.3474479029017987,
            0.5855888189161605
           ]
          },
          {
           "label": "reg_param",
           "range": [
            0.00010776593031083955,
            0.9355618760814247
           ],
           "values": [
            0.3745401188473625,
            0.15601864044243652,
            0.6011150117432088,
            0.8324426408004217,
            0.3042422429595377,
            0.6118528947223795,
            0.45606998421703593,
            0.5924145688620425,
            0.06505159298527952,
            0.3046137691733707,
            0.020546809824298393,
            0.005551540703873235,
            0.014670780467521093,
            0.1734117064584113,
            0.012536348223645955,
            0.9355618760814247,
            0.17824592543114745,
            0.24080793750091012,
            0.10870898127002504,
            0.7119778022134116,
            0.4381301674911343,
            0.015413987902774734,
            0.013140315717808215,
            0.12105206666928582,
            0.26307223471576513,
            0.07300745960417603,
            0.20773214215894223,
            0.09951000261009588,
            0.002606928791053979,
            0.3520546169063928,
            0.08462984620336009,
            0.0032412301737317325,
            0.14457708296318897,
            0.058468641621046986,
            0.006350696385109213,
            0.21153746481769012,
            0.1348564646786718,
            0.27340199043500024,
            0.37565826647488887,
            0.8122160264329289,
            0.04866071178076055,
            0.0011785672128735544,
            0.07322240000189877,
            0.00010776593031083955,
            0.5467416539048265,
            0.16173973833825728,
            0.05505868631104093,
            0.12247147449518794,
            0.18701554185227207,
            0.004767785412232452
           ]
          },
          {
           "label": "store_covariance",
           "range": [
            0,
            1
           ],
           "ticktext": [
            "True",
            "False"
           ],
           "tickvals": [
            0,
            1
           ],
           "values": [
            0,
            0,
            0,
            0,
            0,
            1,
            0,
            1,
            1,
            1,
            1,
            1,
            1,
            1,
            1,
            1,
            1,
            1,
            1,
            1,
            1,
            1,
            1,
            1,
            1,
            1,
            1,
            1,
            1,
            0,
            1,
            1,
            1,
            1,
            0,
            0,
            0,
            0,
            0,
            0,
            0,
            0,
            0,
            0,
            0,
            0,
            0,
            0,
            0,
            0
           ]
          },
          {
           "label": "tol",
           "range": [
            -5.9233515155683705,
            -3.0073580778153444
           ],
           "ticktext": [
            "1.19e-06",
            "1e-05",
            "0.0001",
            "0.000983"
           ],
           "tickvals": [
            -5.9233515155683705,
            -5,
            -4,
            -3.0073580778153444
           ],
           "values": [
            -4.204024547408889,
            -3.4014715626751943,
            -3.090270443514017,
            -5.449786470439698,
            -5.126312579405875,
            -4.9009144701189244,
            -4.457296684759165,
            -5.488427628938125,
            -3.5748079556506167,
            -4.679542518781195,
            -3.906405772625888,
            -3.800404966786438,
            -4.0191535775590586,
            -3.943386409656501,
            -3.6926830915839033,
            -3.0073580778153444,
            -3.5622984533631903,
            -4.36980083133422,
            -3.68421124871942,
            -3.2695250732944117,
            -5.9233515155683705,
            -4.038877584905005,
            -3.8072772337261034,
            -3.7451597255526337,
            -3.347628918145348,
            -4.215193941412153,
            -3.8118183555607996,
            -4.662059429986657,
            -3.481382191551817,
            -4.269152478330966,
            -3.4410880751709247,
            -3.2045495395589976,
            -3.1748211039365133,
            -3.439151801561077,
            -3.1966302475764654,
            -3.1402089239174793,
            -3.273436531747723,
            -3.5290365778954893,
            -3.01131681161856,
            -3.2350578898640903,
            -3.4038537166198894,
            -3.644701298522479,
            -3.632420473420135,
            -3.4920055332998947,
            -4.021175732988693,
            -3.523393175756294,
            -4.117514564935522,
            -3.873411420688567,
            -5.062873754614884,
            -3.377158038230963
           ]
          }
         ],
         "labelangle": 30,
         "labelside": "bottom",
         "line": {
          "color": [
           0.33075874380250103,
           0.35531312691176836,
           0.333711468856666,
           0.34602814575395646,
           0.33335404649497613,
           0.33418617342186363,
           0.3305457787439178,
           0.3333062076217794,
           0.4013927770473888,
           0.33343201836186526,
           0.4909120123990087,
           0.5789338482161541,
           0.5148259796845118,
           0.3506173496634336,
           0.5265722550255014,
           0.36707428909042095,
           0.34942617963185685,
           0.3384349892357231,
           0.3713525337348692,
           0.34001722147539243,
           0.3303969633492662,
           0.5110617497181347,
           0.5232833595911031,
           0.36681225987516,
           0.33606633477615344,
           0.39423013253748523,
           0.3437637591649006,
           0.3760780412566067,
           0.6232124996179209,
           0.33053953266826347,
           0.385670365734605,
           0.6099894619628794,
           0.3590263553482577,
           0.4099977717494118,
           0.5721070498721892,
           0.3430900999042316,
           0.362281776225764,
           0.3350075631515124,
           0.3308488047464587,
           0.3450754556419674,
           0.42278458628636717,
           0.6685478452523185,
           0.3942083834156704,
           0.7552855121366681,
           0.3316008329272446,
           0.3535325245454884,
           0.4138029792985821,
           0.36603961270505786,
           0.3474479029017987,
           0.5855888189161605
          ],
          "colorbar": {
           "title": {
            "text": "Objective Value"
           }
          },
          "colorscale": [
           [
            0,
            "rgb(247,251,255)"
           ],
           [
            0.125,
            "rgb(222,235,247)"
           ],
           [
            0.25,
            "rgb(198,219,239)"
           ],
           [
            0.375,
            "rgb(158,202,225)"
           ],
           [
            0.5,
            "rgb(107,174,214)"
           ],
           [
            0.625,
            "rgb(66,146,198)"
           ],
           [
            0.75,
            "rgb(33,113,181)"
           ],
           [
            0.875,
            "rgb(8,81,156)"
           ],
           [
            1,
            "rgb(8,48,107)"
           ]
          ],
          "reversescale": false,
          "showscale": true
         },
         "type": "parcoords"
        }
       ],
       "layout": {
        "template": {
         "data": {
          "bar": [
           {
            "error_x": {
             "color": "#2a3f5f"
            },
            "error_y": {
             "color": "#2a3f5f"
            },
            "marker": {
             "line": {
              "color": "#E5ECF6",
              "width": 0.5
             },
             "pattern": {
              "fillmode": "overlay",
              "size": 10,
              "solidity": 0.2
             }
            },
            "type": "bar"
           }
          ],
          "barpolar": [
           {
            "marker": {
             "line": {
              "color": "#E5ECF6",
              "width": 0.5
             },
             "pattern": {
              "fillmode": "overlay",
              "size": 10,
              "solidity": 0.2
             }
            },
            "type": "barpolar"
           }
          ],
          "carpet": [
           {
            "aaxis": {
             "endlinecolor": "#2a3f5f",
             "gridcolor": "white",
             "linecolor": "white",
             "minorgridcolor": "white",
             "startlinecolor": "#2a3f5f"
            },
            "baxis": {
             "endlinecolor": "#2a3f5f",
             "gridcolor": "white",
             "linecolor": "white",
             "minorgridcolor": "white",
             "startlinecolor": "#2a3f5f"
            },
            "type": "carpet"
           }
          ],
          "choropleth": [
           {
            "colorbar": {
             "outlinewidth": 0,
             "ticks": ""
            },
            "type": "choropleth"
           }
          ],
          "contour": [
           {
            "colorbar": {
             "outlinewidth": 0,
             "ticks": ""
            },
            "colorscale": [
             [
              0,
              "#0d0887"
             ],
             [
              0.1111111111111111,
              "#46039f"
             ],
             [
              0.2222222222222222,
              "#7201a8"
             ],
             [
              0.3333333333333333,
              "#9c179e"
             ],
             [
              0.4444444444444444,
              "#bd3786"
             ],
             [
              0.5555555555555556,
              "#d8576b"
             ],
             [
              0.6666666666666666,
              "#ed7953"
             ],
             [
              0.7777777777777778,
              "#fb9f3a"
             ],
             [
              0.8888888888888888,
              "#fdca26"
             ],
             [
              1,
              "#f0f921"
             ]
            ],
            "type": "contour"
           }
          ],
          "contourcarpet": [
           {
            "colorbar": {
             "outlinewidth": 0,
             "ticks": ""
            },
            "type": "contourcarpet"
           }
          ],
          "heatmap": [
           {
            "colorbar": {
             "outlinewidth": 0,
             "ticks": ""
            },
            "colorscale": [
             [
              0,
              "#0d0887"
             ],
             [
              0.1111111111111111,
              "#46039f"
             ],
             [
              0.2222222222222222,
              "#7201a8"
             ],
             [
              0.3333333333333333,
              "#9c179e"
             ],
             [
              0.4444444444444444,
              "#bd3786"
             ],
             [
              0.5555555555555556,
              "#d8576b"
             ],
             [
              0.6666666666666666,
              "#ed7953"
             ],
             [
              0.7777777777777778,
              "#fb9f3a"
             ],
             [
              0.8888888888888888,
              "#fdca26"
             ],
             [
              1,
              "#f0f921"
             ]
            ],
            "type": "heatmap"
           }
          ],
          "histogram": [
           {
            "marker": {
             "pattern": {
              "fillmode": "overlay",
              "size": 10,
              "solidity": 0.2
             }
            },
            "type": "histogram"
           }
          ],
          "histogram2d": [
           {
            "colorbar": {
             "outlinewidth": 0,
             "ticks": ""
            },
            "colorscale": [
             [
              0,
              "#0d0887"
             ],
             [
              0.1111111111111111,
              "#46039f"
             ],
             [
              0.2222222222222222,
              "#7201a8"
             ],
             [
              0.3333333333333333,
              "#9c179e"
             ],
             [
              0.4444444444444444,
              "#bd3786"
             ],
             [
              0.5555555555555556,
              "#d8576b"
             ],
             [
              0.6666666666666666,
              "#ed7953"
             ],
             [
              0.7777777777777778,
              "#fb9f3a"
             ],
             [
              0.8888888888888888,
              "#fdca26"
             ],
             [
              1,
              "#f0f921"
             ]
            ],
            "type": "histogram2d"
           }
          ],
          "histogram2dcontour": [
           {
            "colorbar": {
             "outlinewidth": 0,
             "ticks": ""
            },
            "colorscale": [
             [
              0,
              "#0d0887"
             ],
             [
              0.1111111111111111,
              "#46039f"
             ],
             [
              0.2222222222222222,
              "#7201a8"
             ],
             [
              0.3333333333333333,
              "#9c179e"
             ],
             [
              0.4444444444444444,
              "#bd3786"
             ],
             [
              0.5555555555555556,
              "#d8576b"
             ],
             [
              0.6666666666666666,
              "#ed7953"
             ],
             [
              0.7777777777777778,
              "#fb9f3a"
             ],
             [
              0.8888888888888888,
              "#fdca26"
             ],
             [
              1,
              "#f0f921"
             ]
            ],
            "type": "histogram2dcontour"
           }
          ],
          "mesh3d": [
           {
            "colorbar": {
             "outlinewidth": 0,
             "ticks": ""
            },
            "type": "mesh3d"
           }
          ],
          "parcoords": [
           {
            "line": {
             "colorbar": {
              "outlinewidth": 0,
              "ticks": ""
             }
            },
            "type": "parcoords"
           }
          ],
          "pie": [
           {
            "automargin": true,
            "type": "pie"
           }
          ],
          "scatter": [
           {
            "fillpattern": {
             "fillmode": "overlay",
             "size": 10,
             "solidity": 0.2
            },
            "type": "scatter"
           }
          ],
          "scatter3d": [
           {
            "line": {
             "colorbar": {
              "outlinewidth": 0,
              "ticks": ""
             }
            },
            "marker": {
             "colorbar": {
              "outlinewidth": 0,
              "ticks": ""
             }
            },
            "type": "scatter3d"
           }
          ],
          "scattercarpet": [
           {
            "marker": {
             "colorbar": {
              "outlinewidth": 0,
              "ticks": ""
             }
            },
            "type": "scattercarpet"
           }
          ],
          "scattergeo": [
           {
            "marker": {
             "colorbar": {
              "outlinewidth": 0,
              "ticks": ""
             }
            },
            "type": "scattergeo"
           }
          ],
          "scattergl": [
           {
            "marker": {
             "colorbar": {
              "outlinewidth": 0,
              "ticks": ""
             }
            },
            "type": "scattergl"
           }
          ],
          "scattermap": [
           {
            "marker": {
             "colorbar": {
              "outlinewidth": 0,
              "ticks": ""
             }
            },
            "type": "scattermap"
           }
          ],
          "scattermapbox": [
           {
            "marker": {
             "colorbar": {
              "outlinewidth": 0,
              "ticks": ""
             }
            },
            "type": "scattermapbox"
           }
          ],
          "scatterpolar": [
           {
            "marker": {
             "colorbar": {
              "outlinewidth": 0,
              "ticks": ""
             }
            },
            "type": "scatterpolar"
           }
          ],
          "scatterpolargl": [
           {
            "marker": {
             "colorbar": {
              "outlinewidth": 0,
              "ticks": ""
             }
            },
            "type": "scatterpolargl"
           }
          ],
          "scatterternary": [
           {
            "marker": {
             "colorbar": {
              "outlinewidth": 0,
              "ticks": ""
             }
            },
            "type": "scatterternary"
           }
          ],
          "surface": [
           {
            "colorbar": {
             "outlinewidth": 0,
             "ticks": ""
            },
            "colorscale": [
             [
              0,
              "#0d0887"
             ],
             [
              0.1111111111111111,
              "#46039f"
             ],
             [
              0.2222222222222222,
              "#7201a8"
             ],
             [
              0.3333333333333333,
              "#9c179e"
             ],
             [
              0.4444444444444444,
              "#bd3786"
             ],
             [
              0.5555555555555556,
              "#d8576b"
             ],
             [
              0.6666666666666666,
              "#ed7953"
             ],
             [
              0.7777777777777778,
              "#fb9f3a"
             ],
             [
              0.8888888888888888,
              "#fdca26"
             ],
             [
              1,
              "#f0f921"
             ]
            ],
            "type": "surface"
           }
          ],
          "table": [
           {
            "cells": {
             "fill": {
              "color": "#EBF0F8"
             },
             "line": {
              "color": "white"
             }
            },
            "header": {
             "fill": {
              "color": "#C8D4E3"
             },
             "line": {
              "color": "white"
             }
            },
            "type": "table"
           }
          ]
         },
         "layout": {
          "annotationdefaults": {
           "arrowcolor": "#2a3f5f",
           "arrowhead": 0,
           "arrowwidth": 1
          },
          "autotypenumbers": "strict",
          "coloraxis": {
           "colorbar": {
            "outlinewidth": 0,
            "ticks": ""
           }
          },
          "colorscale": {
           "diverging": [
            [
             0,
             "#8e0152"
            ],
            [
             0.1,
             "#c51b7d"
            ],
            [
             0.2,
             "#de77ae"
            ],
            [
             0.3,
             "#f1b6da"
            ],
            [
             0.4,
             "#fde0ef"
            ],
            [
             0.5,
             "#f7f7f7"
            ],
            [
             0.6,
             "#e6f5d0"
            ],
            [
             0.7,
             "#b8e186"
            ],
            [
             0.8,
             "#7fbc41"
            ],
            [
             0.9,
             "#4d9221"
            ],
            [
             1,
             "#276419"
            ]
           ],
           "sequential": [
            [
             0,
             "#0d0887"
            ],
            [
             0.1111111111111111,
             "#46039f"
            ],
            [
             0.2222222222222222,
             "#7201a8"
            ],
            [
             0.3333333333333333,
             "#9c179e"
            ],
            [
             0.4444444444444444,
             "#bd3786"
            ],
            [
             0.5555555555555556,
             "#d8576b"
            ],
            [
             0.6666666666666666,
             "#ed7953"
            ],
            [
             0.7777777777777778,
             "#fb9f3a"
            ],
            [
             0.8888888888888888,
             "#fdca26"
            ],
            [
             1,
             "#f0f921"
            ]
           ],
           "sequentialminus": [
            [
             0,
             "#0d0887"
            ],
            [
             0.1111111111111111,
             "#46039f"
            ],
            [
             0.2222222222222222,
             "#7201a8"
            ],
            [
             0.3333333333333333,
             "#9c179e"
            ],
            [
             0.4444444444444444,
             "#bd3786"
            ],
            [
             0.5555555555555556,
             "#d8576b"
            ],
            [
             0.6666666666666666,
             "#ed7953"
            ],
            [
             0.7777777777777778,
             "#fb9f3a"
            ],
            [
             0.8888888888888888,
             "#fdca26"
            ],
            [
             1,
             "#f0f921"
            ]
           ]
          },
          "colorway": [
           "#636efa",
           "#EF553B",
           "#00cc96",
           "#ab63fa",
           "#FFA15A",
           "#19d3f3",
           "#FF6692",
           "#B6E880",
           "#FF97FF",
           "#FECB52"
          ],
          "font": {
           "color": "#2a3f5f"
          },
          "geo": {
           "bgcolor": "white",
           "lakecolor": "white",
           "landcolor": "#E5ECF6",
           "showlakes": true,
           "showland": true,
           "subunitcolor": "white"
          },
          "hoverlabel": {
           "align": "left"
          },
          "hovermode": "closest",
          "mapbox": {
           "style": "light"
          },
          "paper_bgcolor": "white",
          "plot_bgcolor": "#E5ECF6",
          "polar": {
           "angularaxis": {
            "gridcolor": "white",
            "linecolor": "white",
            "ticks": ""
           },
           "bgcolor": "#E5ECF6",
           "radialaxis": {
            "gridcolor": "white",
            "linecolor": "white",
            "ticks": ""
           }
          },
          "scene": {
           "xaxis": {
            "backgroundcolor": "#E5ECF6",
            "gridcolor": "white",
            "gridwidth": 2,
            "linecolor": "white",
            "showbackground": true,
            "ticks": "",
            "zerolinecolor": "white"
           },
           "yaxis": {
            "backgroundcolor": "#E5ECF6",
            "gridcolor": "white",
            "gridwidth": 2,
            "linecolor": "white",
            "showbackground": true,
            "ticks": "",
            "zerolinecolor": "white"
           },
           "zaxis": {
            "backgroundcolor": "#E5ECF6",
            "gridcolor": "white",
            "gridwidth": 2,
            "linecolor": "white",
            "showbackground": true,
            "ticks": "",
            "zerolinecolor": "white"
           }
          },
          "shapedefaults": {
           "line": {
            "color": "#2a3f5f"
           }
          },
          "ternary": {
           "aaxis": {
            "gridcolor": "white",
            "linecolor": "white",
            "ticks": ""
           },
           "baxis": {
            "gridcolor": "white",
            "linecolor": "white",
            "ticks": ""
           },
           "bgcolor": "#E5ECF6",
           "caxis": {
            "gridcolor": "white",
            "linecolor": "white",
            "ticks": ""
           }
          },
          "title": {
           "x": 0.05
          },
          "xaxis": {
           "automargin": true,
           "gridcolor": "white",
           "linecolor": "white",
           "ticks": "",
           "title": {
            "standoff": 15
           },
           "zerolinecolor": "white",
           "zerolinewidth": 2
          },
          "yaxis": {
           "automargin": true,
           "gridcolor": "white",
           "linecolor": "white",
           "ticks": "",
           "title": {
            "standoff": 15
           },
           "zerolinecolor": "white",
           "zerolinewidth": 2
          }
         }
        },
        "title": {
         "text": "QDA: Hyperparameter Relationships"
        }
       }
      }
     },
     "metadata": {},
     "output_type": "display_data"
    },
    {
     "name": "stdout",
     "output_type": "stream",
     "text": [
      "🌈 What this plot shows:\n",
      "   - Each line is one trial\n",
      "   - Color: F1 score (yellow=good, purple=bad)\n",
      "   - Look for yellow lines to see good parameter combinations!\n"
     ]
    }
   ],
   "source": [
    "# Parallel coordinate plot\n",
    "fig = optuna.visualization.plot_parallel_coordinate(qda_study)\n",
    "fig.update_layout(title=\"QDA: Hyperparameter Relationships\")\n",
    "fig.show()\n",
    "\n",
    "print(\"🌈 What this plot shows:\")\n",
    "print(\"   - Each line is one trial\")\n",
    "print(\"   - Color: F1 score (yellow=good, purple=bad)\")\n",
    "print(\"   - Look for yellow lines to see good parameter combinations!\")"
   ]
  },
  {
   "cell_type": "markdown",
   "metadata": {},
   "source": [
    "## 6. Model 2: SVC (Support Vector Classifier)\n",
    "\n",
    "### 🎓 What is SVC?\n",
    "\n",
    "**Simple Analogy**: Finding the best fence to separate different groups\n",
    "\n",
    "Imagine you have red and blue marbles on a table:\n",
    "- **Goal**: Draw a line (or curve) to separate red from blue\n",
    "- **Support Vectors**: The marbles closest to the boundary (the important ones)\n",
    "- **Margin**: The width of the \"safety zone\" around the boundary\n",
    "\n",
    "**Why \"Support Vector\"?**\n",
    "- Only the marbles near the boundary matter (support vectors)\n",
    "- Other marbles far away don't affect the decision\n",
    "- Like: only edge pieces matter when building a puzzle frame\n",
    "\n",
    "**Why SVC is challenging for 21 classes:**\n",
    "- Must separate 21 groups (not just 2)\n",
    "- Low baseline (32.8%) suggests some classes are hard to distinguish\n",
    "- Needs careful tuning to improve\n",
    "\n",
    "**GPU Acceleration**:\n",
    "- cuML (GPU) SVC is ~10x faster than sklearn (CPU)\n",
    "- Expected time: 30-45 minutes with GPU vs 5-6 hours with CPU\n",
    "\n",
    "**What we're optimizing:**\n",
    "- `C`: Regularization (0.1 to 100)\n",
    "  - Low C → wide margin, simple boundary\n",
    "  - High C → narrow margin, complex boundary\n",
    "- `kernel`: Type of boundary curve\n",
    "  - 'rbf': Radial basis (circles/curves)\n",
    "  - 'poly': Polynomial (smooth curves)\n",
    "  - 'sigmoid': S-shaped curves\n",
    "- `gamma`: How far one point's influence reaches\n",
    "  - Low gamma → far influence, smooth decision\n",
    "  - High gamma → close influence, wiggly decision\n",
    "\n",
    "**Expected improvement**: +12-15% (45-48%) - large potential gain!"
   ]
  },
  {
   "cell_type": "code",
   "execution_count": 10,
   "metadata": {},
   "outputs": [],
   "source": [
    "# # Baseline performance\n",
    "# SVC_BASELINE_F1 = 0.3277\n",
    "# SVC_BASELINE_STD = 0.0161\n",
    "\n",
    "# print(f\"🎯 SVC Baseline Performance:\")\n",
    "# print(f\"   F1-macro: {SVC_BASELINE_F1:.4f} ± {SVC_BASELINE_STD:.4f}\")\n",
    "# print(f\"   Goal: ≥ {0.450:.3f}\")\n",
    "# print(f\"   Target improvement: +{(0.450 - SVC_BASELINE_F1)*100:.1f}%\")\n",
    "# print(f\"   ⚠️ Challenging task: 21-class classification\")"
   ]
  },
  {
   "cell_type": "code",
   "execution_count": 11,
   "metadata": {},
   "outputs": [],
   "source": [
    "# def objective_svc(trial):\n",
    "#     \"\"\"\n",
    "#     Objective function for SVC optimization.\n",
    "#     Uses GPU (cuML) if available for 10x speedup.\n",
    "#     \"\"\"\n",
    "#     # Suggest hyperparameters\n",
    "#     kernel = trial.suggest_categorical('kernel', ['rbf', 'poly', 'sigmoid'])\n",
    "#     params = {\n",
    "#         'C': trial.suggest_float('C', 0.1, 100.0, log=True),\n",
    "#         'kernel': kernel,\n",
    "#         'gamma': trial.suggest_categorical('gamma', ['scale', 'auto']) \n",
    "#                  if trial.suggest_categorical('gamma_type', ['fixed', 'float']) == 'fixed'\n",
    "#                  else trial.suggest_float('gamma_value', 0.001, 10.0, log=True),\n",
    "#         'random_state': RANDOM_STATE\n",
    "#     }\n",
    "    \n",
    "#     # Add degree for polynomial kernel\n",
    "#     if kernel == 'poly':\n",
    "#         params['degree'] = trial.suggest_int('degree', 2, 5)\n",
    "    \n",
    "#     # Use GPU version if available\n",
    "#     if GPU_AVAILABLE and CUML_AVAILABLE:\n",
    "#         try:\n",
    "#             # cuML uses slightly different parameter names\n",
    "#             cu_params = params.copy()\n",
    "#             if 'gamma_type' in params:\n",
    "#                 del cu_params['gamma_type']\n",
    "#             if 'gamma_value' in params:\n",
    "#                 cu_params['gamma'] = cu_params.pop('gamma_value')\n",
    "#             model = cuSVC(**cu_params)\n",
    "#         except Exception as e:\n",
    "#             print(f\"⚠️ cuML SVC failed, falling back to sklearn: {str(e)[:50]}\")\n",
    "#             if 'gamma_type' in params:\n",
    "#                 del params['gamma_type']\n",
    "#             if 'gamma_value' in params:\n",
    "#                 params['gamma'] = params.pop('gamma_value')\n",
    "#             model = skSVC(**params)\n",
    "#     else:\n",
    "#         if 'gamma_type' in params:\n",
    "#             del params['gamma_type']\n",
    "#         if 'gamma_value' in params:\n",
    "#             params['gamma'] = params.pop('gamma_value')\n",
    "#         model = skSVC(**params)\n",
    "    \n",
    "#     # Evaluate\n",
    "#     results = run_cross_validation(model, 'SVC', X_scaled, y, cv)\n",
    "    \n",
    "#     # Store fold scores\n",
    "#     trial.set_user_attr('fold_scores', results['fold_scores'])\n",
    "#     trial.set_user_attr('f1_std', results['f1_std'])\n",
    "    \n",
    "#     return results['f1_mean']\n",
    "\n",
    "# print(\"✅ SVC objective function defined\")\n",
    "# print(f\"   GPU acceleration: {'✅ Enabled' if (GPU_AVAILABLE and CUML_AVAILABLE) else '❌ Disabled'}\")"
   ]
  },
  {
   "cell_type": "code",
   "execution_count": 12,
   "metadata": {},
   "outputs": [],
   "source": [
    "# # Create Optuna study for SVC\n",
    "# print(\"🔍 Starting SVC optimization...\")\n",
    "# print(f\"   Trials: 50\")\n",
    "# print(f\"   Estimated time: {'30-45 minutes (GPU)' if (GPU_AVAILABLE and CUML_AVAILABLE) else '5-6 hours (CPU)'}\")\n",
    "# print(f\"   Started at: {datetime.now().strftime('%H:%M:%S')}\")\n",
    "# print(f\"   ⚠️ This will take the longest time!\")\n",
    "\n",
    "# svc_study = optuna.create_study(\n",
    "#     direction='maximize',\n",
    "#     sampler=TPESampler(seed=RANDOM_STATE),\n",
    "#     pruner=MedianPruner(n_startup_trials=5, n_warmup_steps=2)\n",
    "# )\n",
    "\n",
    "# # Optimize\n",
    "# svc_start = time.time()\n",
    "# svc_study.optimize(\n",
    "#     objective_svc,\n",
    "#     n_trials=50,\n",
    "#     show_progress_bar=True,\n",
    "#     n_jobs=1\n",
    "# )\n",
    "# svc_elapsed = time.time() - svc_start\n",
    "\n",
    "# print(f\"\\n✅ SVC optimization complete!\")\n",
    "# print(f\"   Time: {svc_elapsed/60:.1f} minutes ({svc_elapsed/3600:.2f} hours)\")\n",
    "# print(f\"   Best F1: {svc_study.best_value:.4f}\")\n",
    "# print(f\"   Improvement: {(svc_study.best_value - SVC_BASELINE_F1)*100:+.2f}%\")\n",
    "# print(f\"   Best params: {svc_study.best_params}\")"
   ]
  },
  {
   "cell_type": "markdown",
   "metadata": {},
   "source": [
    "### 📊 SVC Optimization Visualizations"
   ]
  },
  {
   "cell_type": "code",
   "execution_count": 13,
   "metadata": {},
   "outputs": [],
   "source": [
    "# # Optimization history\n",
    "# fig = optuna.visualization.plot_optimization_history(svc_study)\n",
    "# fig.update_layout(title=\"SVC: F1 Score Over Trials\")\n",
    "# fig.show()\n",
    "\n",
    "# # Parameter importance\n",
    "# fig = optuna.visualization.plot_param_importances(svc_study)\n",
    "# fig.update_layout(title=\"SVC: Which Hyperparameters Matter Most?\")\n",
    "# fig.show()\n",
    "\n",
    "# # Parallel coordinate plot\n",
    "# fig = optuna.visualization.plot_parallel_coordinate(svc_study)\n",
    "# fig.update_layout(title=\"SVC: Hyperparameter Relationships\")\n",
    "# fig.show()\n",
    "\n",
    "# # Analyze pruning effectiveness\n",
    "# completed = [t for t in svc_study.trials if t.state == optuna.trial.TrialState.COMPLETE]\n",
    "# pruned = [t for t in svc_study.trials if t.state == optuna.trial.TrialState.PRUNED]\n",
    "# print(f\"\\n✂️ Pruning Statistics:\")\n",
    "# print(f\"   Completed trials: {len(completed)}\")\n",
    "# print(f\"   Pruned trials: {len(pruned)}\")\n",
    "# print(f\"   Time saved: ~{len(pruned) * 2} minutes (estimated)\")"
   ]
  },
  {
   "cell_type": "markdown",
   "metadata": {},
   "source": [
    "## 7. Model 3: RandomForest\n",
    "\n",
    "### 🎓 What is RandomForest?\n",
    "\n",
    "**Simple Analogy**: Asking many experts and taking a vote\n",
    "\n",
    "Imagine you want to predict if it will rain tomorrow:\n",
    "- **Single Decision Tree**: Ask ONE weather expert\n",
    "- **RandomForest**: Ask 100 different weather experts and take a vote\n",
    "\n",
    "**Why \"Forest\"?**\n",
    "- Each tree is like one expert\n",
    "- Multiple trees = a \"forest\" of opinions\n",
    "- Final prediction = majority vote (wisdom of crowds)\n",
    "\n",
    "**Why RandomForest is better than one tree:**\n",
    "- One tree might be wrong (overfitted)\n",
    "- 100 trees averaging opinions = more robust\n",
    "- Each tree sees slightly different data (random sampling)\n",
    "\n",
    "**GPU Acceleration**:\n",
    "- cuML RandomForest is ~6x faster\n",
    "- Expected time: 20-30 minutes with GPU vs 2 hours with CPU\n",
    "\n",
    "**What we're optimizing:**\n",
    "- `n_estimators`: How many trees (100-500)\n",
    "  - More trees = better but slower\n",
    "- `max_depth`: How deep each tree grows (5-30)\n",
    "  - Deep trees = detailed but may overfit\n",
    "  - Shallow trees = simple but may underfit\n",
    "- `min_samples_split`: Minimum samples to split a node\n",
    "  - Controls tree complexity\n",
    "- `max_features`: Features each tree considers\n",
    "  - Adds randomness for diversity\n",
    "\n",
    "**Expected improvement**: +2.5% (73.5% → 76%)"
   ]
  },
  {
   "cell_type": "code",
   "execution_count": 14,
   "metadata": {},
   "outputs": [
    {
     "name": "stdout",
     "output_type": "stream",
     "text": [
      "🎯 RandomForest Baseline Performance:\n",
      "   F1-macro: 0.7349 ± 0.0014\n",
      "   Goal: ≥ 0.760\n",
      "   Target improvement: +2.5%\n"
     ]
    }
   ],
   "source": [
    "# Baseline performance\n",
    "RF_BASELINE_F1 = 0.7349\n",
    "RF_BASELINE_STD = 0.0014\n",
    "\n",
    "print(f\"🎯 RandomForest Baseline Performance:\")\n",
    "print(f\"   F1-macro: {RF_BASELINE_F1:.4f} ± {RF_BASELINE_STD:.4f}\")\n",
    "print(f\"   Goal: ≥ {0.760:.3f}\")\n",
    "print(f\"   Target improvement: +{(0.760 - RF_BASELINE_F1)*100:.1f}%\")"
   ]
  },
  {
   "cell_type": "code",
   "execution_count": 15,
   "metadata": {},
   "outputs": [
    {
     "name": "stdout",
     "output_type": "stream",
     "text": [
      "✅ RandomForest objective function defined\n",
      "   GPU acceleration: ✅ Enabled\n"
     ]
    }
   ],
   "source": [
    "def objective_rf(trial):\n",
    "    \"\"\"\n",
    "    Objective function for RandomForest optimization.\n",
    "    Uses GPU (cuML) if available for 6x speedup.\n",
    "    \"\"\"\n",
    "    # Suggest hyperparameters\n",
    "    max_features_type = trial.suggest_categorical('max_features_type', ['fixed', 'float'])\n",
    "    \n",
    "    params = {\n",
    "        'n_estimators': trial.suggest_int('n_estimators', 100, 500),\n",
    "        'max_depth': trial.suggest_int('max_depth', 5, 30),\n",
    "        'min_samples_split': trial.suggest_int('min_samples_split', 2, 50),\n",
    "        'min_samples_leaf': trial.suggest_int('min_samples_leaf', 1, 20),\n",
    "        'max_features': trial.suggest_categorical('max_features', ['sqrt', 'log2'])\n",
    "                        if max_features_type == 'fixed'\n",
    "                        else trial.suggest_float('max_features_ratio', 0.5, 1.0),\n",
    "        'bootstrap': trial.suggest_categorical('bootstrap', [True, False]),\n",
    "        'random_state': RANDOM_STATE\n",
    "    }\n",
    "    \n",
    "    # Use GPU version if available\n",
    "    if GPU_AVAILABLE and CUML_AVAILABLE:\n",
    "        try:\n",
    "            cu_params = params.copy()\n",
    "            if 'max_features_type' in params:\n",
    "                del cu_params['max_features_type']\n",
    "            if 'max_features_ratio' in params:\n",
    "                cu_params['max_features'] = cu_params.pop('max_features_ratio')\n",
    "            model = cuRF(**cu_params)\n",
    "        except Exception as e:\n",
    "            print(f\"⚠️ cuML RF failed, falling back to sklearn: {str(e)[:50]}\")\n",
    "            if 'max_features_type' in params:\n",
    "                del params['max_features_type']\n",
    "            if 'max_features_ratio' in params:\n",
    "                params['max_features'] = params.pop('max_features_ratio')\n",
    "            model = skRF(**params)\n",
    "    else:\n",
    "        if 'max_features_type' in params:\n",
    "            del params['max_features_type']\n",
    "        if 'max_features_ratio' in params:\n",
    "            params['max_features'] = params.pop('max_features_ratio')\n",
    "        model = skRF(**params)\n",
    "    \n",
    "    # Evaluate\n",
    "    results = run_cross_validation(model, 'RandomForest', X_scaled, y, cv)\n",
    "    \n",
    "    # Store fold scores\n",
    "    trial.set_user_attr('fold_scores', results['fold_scores'])\n",
    "    trial.set_user_attr('f1_std', results['f1_std'])\n",
    "    \n",
    "    return results['f1_mean']\n",
    "\n",
    "print(\"✅ RandomForest objective function defined\")\n",
    "print(f\"   GPU acceleration: {'✅ Enabled' if (GPU_AVAILABLE and CUML_AVAILABLE) else '❌ Disabled'}\")"
   ]
  },
  {
   "cell_type": "code",
   "execution_count": 16,
   "metadata": {},
   "outputs": [
    {
     "name": "stderr",
     "output_type": "stream",
     "text": [
      "[I 2025-10-01 02:06:03,308] A new study created in memory with name: no-name-1e3aae77-9818-4a52-9b2b-054aaf8ff884\n"
     ]
    },
    {
     "name": "stdout",
     "output_type": "stream",
     "text": [
      "🔍 Starting RandomForest optimization...\n",
      "   Trials: 50\n",
      "   Estimated time: 20-30 minutes (GPU)\n",
      "   Started at: 02:06:03\n"
     ]
    },
    {
     "data": {
      "application/vnd.jupyter.widget-view+json": {
       "model_id": "83080c4d079a4c3a90654c4132b7912a",
       "version_major": 2,
       "version_minor": 0
      },
      "text/plain": [
       "  0%|          | 0/50 [00:00<?, ?it/s]"
      ]
     },
     "metadata": {},
     "output_type": "display_data"
    },
    {
     "name": "stdout",
     "output_type": "stream",
     "text": [
      "[I 2025-10-01 02:06:23,472] Trial 0 finished with value: 0.739883323121435 and parameters: {'max_features_type': 'float', 'n_estimators': 393, 'max_depth': 20, 'min_samples_split': 9, 'min_samples_leaf': 4, 'max_features_ratio': 0.5290418060840998, 'bootstrap': True}. Best is trial 0 with value: 0.739883323121435.\n",
      "[I 2025-10-01 02:06:49,641] Trial 1 finished with value: 0.758708521700451 and parameters: {'max_features_type': 'fixed', 'n_estimators': 488, 'max_depth': 26, 'min_samples_split': 12, 'min_samples_leaf': 4, 'max_features': 'log2', 'bootstrap': True}. Best is trial 1 with value: 0.758708521700451.\n",
      "[I 2025-10-01 02:06:56,655] Trial 2 finished with value: 0.5798296810219986 and parameters: {'max_features_type': 'float', 'n_estimators': 155, 'max_depth': 12, 'min_samples_split': 19, 'min_samples_leaf': 10, 'max_features_ratio': 0.8925879806965068, 'bootstrap': False}. Best is trial 1 with value: 0.758708521700451.\n",
      "[I 2025-10-01 02:07:13,099] Trial 3 finished with value: 0.6780899079139143 and parameters: {'max_features_type': 'fixed', 'n_estimators': 343, 'max_depth': 9, 'min_samples_split': 5, 'min_samples_leaf': 19, 'max_features': 'sqrt', 'bootstrap': True}. Best is trial 1 with value: 0.758708521700451.\n",
      "[I 2025-10-01 02:07:20,363] Trial 4 finished with value: 0.7295107688800548 and parameters: {'max_features_type': 'fixed', 'n_estimators': 148, 'max_depth': 17, 'min_samples_split': 3, 'min_samples_leaf': 19, 'max_features': 'log2', 'bootstrap': False}. Best is trial 1 with value: 0.758708521700451.\n",
      "[I 2025-10-01 02:07:45,610] Trial 5 finished with value: 0.744318246860655 and parameters: {'max_features_type': 'fixed', 'n_estimators': 488, 'max_depth': 25, 'min_samples_split': 48, 'min_samples_leaf': 18, 'max_features': 'log2', 'bootstrap': False}. Best is trial 1 with value: 0.758708521700451.\n",
      "[I 2025-10-01 02:07:57,421] Trial 6 finished with value: 0.6538842963112232 and parameters: {'max_features_type': 'float', 'n_estimators': 255, 'max_depth': 12, 'min_samples_split': 42, 'min_samples_leaf': 8, 'max_features_ratio': 0.6404672548436904, 'bootstrap': True}. Best is trial 1 with value: 0.758708521700451.\n",
      "[I 2025-10-01 02:08:24,337] Trial 7 finished with value: 0.7599604468314618 and parameters: {'max_features_type': 'fixed', 'n_estimators': 495, 'max_depth': 25, 'min_samples_split': 11, 'min_samples_leaf': 1, 'max_features': 'sqrt', 'bootstrap': False}. Best is trial 7 with value: 0.7599604468314618.\n",
      "[I 2025-10-01 02:08:32,135] Trial 8 finished with value: 0.7597157089884188 and parameters: {'max_features_type': 'float', 'n_estimators': 146, 'max_depth': 27, 'min_samples_split': 32, 'min_samples_leaf': 7, 'max_features_ratio': 0.5317791751430119, 'bootstrap': False}. Best is trial 7 with value: 0.7599604468314618.\n",
      "[I 2025-10-01 02:08:53,913] Trial 9 finished with value: 0.7338970174201475 and parameters: {'max_features_type': 'fixed', 'n_estimators': 455, 'max_depth': 17, 'min_samples_split': 7, 'min_samples_leaf': 15, 'max_features': 'sqrt', 'bootstrap': True}. Best is trial 7 with value: 0.7599604468314618.\n",
      "[I 2025-10-01 02:09:07,275] Trial 10 finished with value: 0.7672439020316806 and parameters: {'max_features_type': 'fixed', 'n_estimators': 245, 'max_depth': 30, 'min_samples_split': 23, 'min_samples_leaf': 1, 'max_features': 'sqrt', 'bootstrap': False}. Best is trial 10 with value: 0.7672439020316806.\n",
      "[I 2025-10-01 02:09:20,378] Trial 11 finished with value: 0.7686537098599837 and parameters: {'max_features_type': 'fixed', 'n_estimators': 242, 'max_depth': 30, 'min_samples_split': 24, 'min_samples_leaf': 1, 'max_features': 'sqrt', 'bootstrap': False}. Best is trial 11 with value: 0.7686537098599837.\n",
      "[I 2025-10-01 02:09:34,342] Trial 12 finished with value: 0.7677752258926013 and parameters: {'max_features_type': 'fixed', 'n_estimators': 259, 'max_depth': 30, 'min_samples_split': 26, 'min_samples_leaf': 1, 'max_features': 'sqrt', 'bootstrap': False}. Best is trial 11 with value: 0.7686537098599837.\n",
      "[I 2025-10-01 02:09:46,377] Trial 13 finished with value: 0.7643017332043887 and parameters: {'max_features_type': 'fixed', 'n_estimators': 229, 'max_depth': 29, 'min_samples_split': 32, 'min_samples_leaf': 5, 'max_features': 'sqrt', 'bootstrap': False}. Best is trial 11 with value: 0.7686537098599837.\n",
      "[I 2025-10-01 02:10:01,605] Trial 14 finished with value: 0.7428381720354461 and parameters: {'max_features_type': 'fixed', 'n_estimators': 306, 'max_depth': 20, 'min_samples_split': 29, 'min_samples_leaf': 13, 'max_features': 'sqrt', 'bootstrap': False}. Best is trial 11 with value: 0.7686537098599837.\n",
      "[I 2025-10-01 02:10:11,841] Trial 15 finished with value: 0.7513270738378761 and parameters: {'max_features_type': 'fixed', 'n_estimators': 201, 'max_depth': 22, 'min_samples_split': 18, 'min_samples_leaf': 1, 'max_features': 'sqrt', 'bootstrap': False}. Best is trial 11 with value: 0.7686537098599837.\n",
      "[I 2025-10-01 02:10:28,806] Trial 16 finished with value: 0.7626014313954868 and parameters: {'max_features_type': 'fixed', 'n_estimators': 323, 'max_depth': 29, 'min_samples_split': 37, 'min_samples_leaf': 6, 'max_features': 'sqrt', 'bootstrap': False}. Best is trial 11 with value: 0.7686537098599837.\n",
      "[I 2025-10-01 02:10:47,944] Trial 17 finished with value: 0.7534362844486742 and parameters: {'max_features_type': 'fixed', 'n_estimators': 372, 'max_depth': 23, 'min_samples_split': 22, 'min_samples_leaf': 3, 'max_features': 'sqrt', 'bootstrap': False}. Best is trial 11 with value: 0.7686537098599837.\n",
      "[I 2025-10-01 02:10:52,552] Trial 18 finished with value: 0.2660562120518731 and parameters: {'max_features_type': 'float', 'n_estimators': 106, 'max_depth': 5, 'min_samples_split': 27, 'min_samples_leaf': 12, 'max_features_ratio': 0.9883882059785698, 'bootstrap': False}. Best is trial 11 with value: 0.7686537098599837.\n",
      "[I 2025-10-01 02:11:07,812] Trial 19 finished with value: 0.7591523842425147 and parameters: {'max_features_type': 'fixed', 'n_estimators': 275, 'max_depth': 30, 'min_samples_split': 16, 'min_samples_leaf': 9, 'max_features': 'log2', 'bootstrap': False}. Best is trial 11 with value: 0.7686537098599837.\n",
      "[I 2025-10-01 02:11:17,463] Trial 20 finished with value: 0.7593124283488306 and parameters: {'max_features_type': 'fixed', 'n_estimators': 186, 'max_depth': 27, 'min_samples_split': 37, 'min_samples_leaf': 3, 'max_features': 'sqrt', 'bootstrap': False}. Best is trial 11 with value: 0.7686537098599837.\n",
      "[I 2025-10-01 02:11:32,054] Trial 21 finished with value: 0.7690714756680446 and parameters: {'max_features_type': 'fixed', 'n_estimators': 270, 'max_depth': 30, 'min_samples_split': 24, 'min_samples_leaf': 1, 'max_features': 'sqrt', 'bootstrap': False}. Best is trial 21 with value: 0.7690714756680446.\n",
      "[I 2025-10-01 02:11:47,027] Trial 22 finished with value: 0.7641802347777803 and parameters: {'max_features_type': 'fixed', 'n_estimators': 279, 'max_depth': 28, 'min_samples_split': 24, 'min_samples_leaf': 2, 'max_features': 'sqrt', 'bootstrap': False}. Best is trial 21 with value: 0.7690714756680446.\n",
      "[I 2025-10-01 02:11:57,458] Trial 23 finished with value: 0.7482089962367284 and parameters: {'max_features_type': 'fixed', 'n_estimators': 203, 'max_depth': 23, 'min_samples_split': 30, 'min_samples_leaf': 6, 'max_features': 'sqrt', 'bootstrap': False}. Best is trial 21 with value: 0.7690714756680446.\n",
      "[I 2025-10-01 02:12:09,906] Trial 24 finished with value: 0.7692153316073138 and parameters: {'max_features_type': 'fixed', 'n_estimators': 225, 'max_depth': 30, 'min_samples_split': 14, 'min_samples_leaf': 3, 'max_features': 'sqrt', 'bootstrap': False}. Best is trial 24 with value: 0.7692153316073138.\n",
      "[I 2025-10-01 02:12:21,855] Trial 25 finished with value: 0.7589367564897319 and parameters: {'max_features_type': 'fixed', 'n_estimators': 226, 'max_depth': 25, 'min_samples_split': 15, 'min_samples_leaf': 3, 'max_features': 'sqrt', 'bootstrap': False}. Best is trial 24 with value: 0.7692153316073138.\n",
      "[I 2025-10-01 02:12:38,682] Trial 26 finished with value: 0.7678712102351207 and parameters: {'max_features_type': 'float', 'n_estimators': 305, 'max_depth': 27, 'min_samples_split': 20, 'min_samples_leaf': 5, 'max_features_ratio': 0.7849527378148702, 'bootstrap': True}. Best is trial 24 with value: 0.7692153316073138.\n",
      "[I 2025-10-01 02:12:47,452] Trial 27 finished with value: 0.7483522659666102 and parameters: {'max_features_type': 'fixed', 'n_estimators': 173, 'max_depth': 20, 'min_samples_split': 13, 'min_samples_leaf': 3, 'max_features': 'sqrt', 'bootstrap': False}. Best is trial 24 with value: 0.7692153316073138.\n",
      "[I 2025-10-01 02:13:03,962] Trial 28 finished with value: 0.7237534988616248 and parameters: {'max_features_type': 'fixed', 'n_estimators': 348, 'max_depth': 15, 'min_samples_split': 36, 'min_samples_leaf': 7, 'max_features': 'log2', 'bootstrap': False}. Best is trial 24 with value: 0.7692153316073138.\n",
      "[I 2025-10-01 02:13:10,203] Trial 29 finished with value: 0.7383732769003917 and parameters: {'max_features_type': 'float', 'n_estimators': 117, 'max_depth': 21, 'min_samples_split': 9, 'min_samples_leaf': 4, 'max_features_ratio': 0.7220796247384127, 'bootstrap': True}. Best is trial 24 with value: 0.7692153316073138.\n",
      "[I 2025-10-01 02:13:31,603] Trial 30 finished with value: 0.7567448810327894 and parameters: {'max_features_type': 'fixed', 'n_estimators': 407, 'max_depth': 24, 'min_samples_split': 16, 'min_samples_leaf': 2, 'max_features': 'sqrt', 'bootstrap': False}. Best is trial 24 with value: 0.7692153316073138.\n",
      "[I 2025-10-01 02:13:47,802] Trial 31 finished with value: 0.7686438512296009 and parameters: {'max_features_type': 'float', 'n_estimators': 292, 'max_depth': 28, 'min_samples_split': 21, 'min_samples_leaf': 5, 'max_features_ratio': 0.8292967039776589, 'bootstrap': True}. Best is trial 24 with value: 0.7692153316073138.\n",
      "[I 2025-10-01 02:14:03,851] Trial 32 finished with value: 0.7681699291933007 and parameters: {'max_features_type': 'float', 'n_estimators': 287, 'max_depth': 28, 'min_samples_split': 25, 'min_samples_leaf': 4, 'max_features_ratio': 0.8513832863350631, 'bootstrap': True}. Best is trial 24 with value: 0.7692153316073138.\n",
      "[I 2025-10-01 02:14:17,008] Trial 33 finished with value: 0.7704846993666699 and parameters: {'max_features_type': 'float', 'n_estimators': 224, 'max_depth': 30, 'min_samples_split': 22, 'min_samples_leaf': 5, 'max_features_ratio': 0.9587087962531229, 'bootstrap': True}. Best is trial 33 with value: 0.7704846993666699.\n",
      "[I 2025-10-01 02:14:29,764] Trial 34 finished with value: 0.7718300526503901 and parameters: {'max_features_type': 'float', 'n_estimators': 211, 'max_depth': 30, 'min_samples_split': 18, 'min_samples_leaf': 2, 'max_features_ratio': 0.9904260876296729, 'bootstrap': True}. Best is trial 34 with value: 0.7718300526503901.\n",
      "[I 2025-10-01 02:14:42,281] Trial 35 finished with value: 0.7608638482548413 and parameters: {'max_features_type': 'float', 'n_estimators': 222, 'max_depth': 26, 'min_samples_split': 19, 'min_samples_leaf': 2, 'max_features_ratio': 0.9912096090713177, 'bootstrap': True}. Best is trial 34 with value: 0.7718300526503901.\n",
      "[I 2025-10-01 02:14:51,861] Trial 36 finished with value: 0.7566414526687739 and parameters: {'max_features_type': 'float', 'n_estimators': 174, 'max_depth': 26, 'min_samples_split': 11, 'min_samples_leaf': 11, 'max_features_ratio': 0.9273027719162795, 'bootstrap': True}. Best is trial 34 with value: 0.7718300526503901.\n",
      "[I 2025-10-01 02:15:04,164] Trial 37 finished with value: 0.770259278130926 and parameters: {'max_features_type': 'float', 'n_estimators': 211, 'max_depth': 29, 'min_samples_split': 14, 'min_samples_leaf': 4, 'max_features_ratio': 0.9244668463573321, 'bootstrap': True}. Best is trial 34 with value: 0.7718300526503901.\n",
      "[I 2025-10-01 02:15:12,324] Trial 38 finished with value: 0.7643390480088459 and parameters: {'max_features_type': 'float', 'n_estimators': 142, 'max_depth': 28, 'min_samples_split': 4, 'min_samples_leaf': 9, 'max_features_ratio': 0.9289149569426228, 'bootstrap': True}. Best is trial 34 with value: 0.7718300526503901.\n",
      "[I 2025-10-01 02:15:21,511] Trial 39 finished with value: 0.607274651998399 and parameters: {'max_features_type': 'float', 'n_estimators': 200, 'max_depth': 12, 'min_samples_split': 14, 'min_samples_leaf': 6, 'max_features_ratio': 0.9952322672578504, 'bootstrap': True}. Best is trial 34 with value: 0.7718300526503901.\n",
      "[I 2025-10-01 02:15:27,535] Trial 40 finished with value: 0.667629035574925 and parameters: {'max_features_type': 'float', 'n_estimators': 125, 'max_depth': 14, 'min_samples_split': 8, 'min_samples_leaf': 8, 'max_features_ratio': 0.9185357170039546, 'bootstrap': True}. Best is trial 34 with value: 0.7718300526503901.\n",
      "[I 2025-10-01 02:15:42,592] Trial 41 finished with value: 0.7712160611364822 and parameters: {'max_features_type': 'float', 'n_estimators': 261, 'max_depth': 29, 'min_samples_split': 18, 'min_samples_leaf': 4, 'max_features_ratio': 0.8733367023285342, 'bootstrap': True}. Best is trial 34 with value: 0.7718300526503901.\n",
      "[I 2025-10-01 02:15:55,035] Trial 42 finished with value: 0.770930140833353 and parameters: {'max_features_type': 'float', 'n_estimators': 214, 'max_depth': 29, 'min_samples_split': 18, 'min_samples_leaf': 4, 'max_features_ratio': 0.935792356053505, 'bootstrap': True}. Best is trial 34 with value: 0.7718300526503901.\n",
      "[I 2025-10-01 02:16:04,653] Trial 43 finished with value: 0.7605791043913814 and parameters: {'max_features_type': 'float', 'n_estimators': 171, 'max_depth': 26, 'min_samples_split': 17, 'min_samples_leaf': 4, 'max_features_ratio': 0.9459893308167652, 'bootstrap': True}. Best is trial 34 with value: 0.7718300526503901.\n",
      "[I 2025-10-01 02:16:16,189] Trial 44 finished with value: 0.771578871966285 and parameters: {'max_features_type': 'float', 'n_estimators': 205, 'max_depth': 29, 'min_samples_split': 20, 'min_samples_leaf': 5, 'max_features_ratio': 0.8727496824122356, 'bootstrap': True}. Best is trial 34 with value: 0.7718300526503901.\n",
      "[I 2025-10-01 02:16:30,298] Trial 45 finished with value: 0.763826471912204 and parameters: {'max_features_type': 'float', 'n_estimators': 257, 'max_depth': 27, 'min_samples_split': 21, 'min_samples_leaf': 7, 'max_features_ratio': 0.8668853472409012, 'bootstrap': True}. Best is trial 34 with value: 0.7718300526503901.\n",
      "[I 2025-10-01 02:16:43,223] Trial 46 finished with value: 0.7489718515460244 and parameters: {'max_features_type': 'float', 'n_estimators': 246, 'max_depth': 25, 'min_samples_split': 19, 'min_samples_leaf': 15, 'max_features_ratio': 0.8214023828862049, 'bootstrap': True}. Best is trial 34 with value: 0.7718300526503901.\n",
      "[I 2025-10-01 02:16:51,891] Trial 47 finished with value: 0.4151809065266418 and parameters: {'max_features_type': 'float', 'n_estimators': 190, 'max_depth': 8, 'min_samples_split': 27, 'min_samples_leaf': 5, 'max_features_ratio': 0.9649805286499531, 'bootstrap': True}. Best is trial 34 with value: 0.7718300526503901.\n",
      "[I 2025-10-01 02:17:00,970] Trial 48 finished with value: 0.7547727309055887 and parameters: {'max_features_type': 'float', 'n_estimators': 159, 'max_depth': 29, 'min_samples_split': 11, 'min_samples_leaf': 20, 'max_features_ratio': 0.8849186324176964, 'bootstrap': True}. Best is trial 34 with value: 0.7718300526503901.\n",
      "[I 2025-10-01 02:17:19,707] Trial 49 finished with value: 0.766307468222409 and parameters: {'max_features_type': 'float', 'n_estimators': 324, 'max_depth': 28, 'min_samples_split': 18, 'min_samples_leaf': 7, 'max_features_ratio': 0.9557794117172477, 'bootstrap': True}. Best is trial 34 with value: 0.7718300526503901.\n",
      "\n",
      "✅ RandomForest optimization complete!\n",
      "   Time: 11.3 minutes\n",
      "   Best F1: 0.7718\n",
      "   Improvement: +3.69%\n",
      "   Best params: {'max_features_type': 'float', 'n_estimators': 211, 'max_depth': 30, 'min_samples_split': 18, 'min_samples_leaf': 2, 'max_features_ratio': 0.9904260876296729, 'bootstrap': True}\n"
     ]
    }
   ],
   "source": [
    "# Create Optuna study for RandomForest\n",
    "print(\"🔍 Starting RandomForest optimization...\")\n",
    "print(f\"   Trials: 50\")\n",
    "print(f\"   Estimated time: {'20-30 minutes (GPU)' if (GPU_AVAILABLE and CUML_AVAILABLE) else '2 hours (CPU)'}\")\n",
    "print(f\"   Started at: {datetime.now().strftime('%H:%M:%S')}\")\n",
    "\n",
    "rf_study = optuna.create_study(\n",
    "    direction='maximize',\n",
    "    sampler=TPESampler(seed=RANDOM_STATE),\n",
    "    pruner=MedianPruner(n_startup_trials=5, n_warmup_steps=2)\n",
    ")\n",
    "\n",
    "# Optimize\n",
    "rf_start = time.time()\n",
    "rf_study.optimize(\n",
    "    objective_rf,\n",
    "    n_trials=50,\n",
    "    show_progress_bar=True,\n",
    "    n_jobs=1\n",
    ")\n",
    "rf_elapsed = time.time() - rf_start\n",
    "\n",
    "print(f\"\\n✅ RandomForest optimization complete!\")\n",
    "print(f\"   Time: {rf_elapsed/60:.1f} minutes\")\n",
    "print(f\"   Best F1: {rf_study.best_value:.4f}\")\n",
    "print(f\"   Improvement: {(rf_study.best_value - RF_BASELINE_F1)*100:+.2f}%\")\n",
    "print(f\"   Best params: {rf_study.best_params}\")"
   ]
  },
  {
   "cell_type": "markdown",
   "metadata": {},
   "source": [
    "### 📊 RandomForest Optimization Visualizations"
   ]
  },
  {
   "cell_type": "code",
   "execution_count": 17,
   "metadata": {},
   "outputs": [
    {
     "data": {
      "application/vnd.plotly.v1+json": {
       "config": {
        "plotlyServerURL": "https://plot.ly"
       },
       "data": [
        {
         "mode": "markers",
         "name": "Objective Value",
         "type": "scatter",
         "x": [
          0,
          1,
          2,
          3,
          4,
          5,
          6,
          7,
          8,
          9,
          10,
          11,
          12,
          13,
          14,
          15,
          16,
          17,
          18,
          19,
          20,
          21,
          22,
          23,
          24,
          25,
          26,
          27,
          28,
          29,
          30,
          31,
          32,
          33,
          34,
          35,
          36,
          37,
          38,
          39,
          40,
          41,
          42,
          43,
          44,
          45,
          46,
          47,
          48,
          49
         ],
         "y": [
          0.739883323121435,
          0.758708521700451,
          0.5798296810219986,
          0.6780899079139143,
          0.7295107688800548,
          0.744318246860655,
          0.6538842963112232,
          0.7599604468314618,
          0.7597157089884188,
          0.7338970174201475,
          0.7672439020316806,
          0.7686537098599837,
          0.7677752258926013,
          0.7643017332043887,
          0.7428381720354461,
          0.7513270738378761,
          0.7626014313954868,
          0.7534362844486742,
          0.2660562120518731,
          0.7591523842425147,
          0.7593124283488306,
          0.7690714756680446,
          0.7641802347777803,
          0.7482089962367284,
          0.7692153316073138,
          0.7589367564897319,
          0.7678712102351207,
          0.7483522659666102,
          0.7237534988616248,
          0.7383732769003917,
          0.7567448810327894,
          0.7686438512296009,
          0.7681699291933007,
          0.7704846993666699,
          0.7718300526503901,
          0.7608638482548413,
          0.7566414526687739,
          0.770259278130926,
          0.7643390480088459,
          0.607274651998399,
          0.667629035574925,
          0.7712160611364822,
          0.770930140833353,
          0.7605791043913814,
          0.771578871966285,
          0.763826471912204,
          0.7489718515460244,
          0.4151809065266418,
          0.7547727309055887,
          0.766307468222409
         ]
        },
        {
         "mode": "lines",
         "name": "Best Value",
         "type": "scatter",
         "x": [
          0,
          1,
          2,
          3,
          4,
          5,
          6,
          7,
          8,
          9,
          10,
          11,
          12,
          13,
          14,
          15,
          16,
          17,
          18,
          19,
          20,
          21,
          22,
          23,
          24,
          25,
          26,
          27,
          28,
          29,
          30,
          31,
          32,
          33,
          34,
          35,
          36,
          37,
          38,
          39,
          40,
          41,
          42,
          43,
          44,
          45,
          46,
          47,
          48,
          49
         ],
         "y": [
          0.739883323121435,
          0.758708521700451,
          0.758708521700451,
          0.758708521700451,
          0.758708521700451,
          0.758708521700451,
          0.758708521700451,
          0.7599604468314618,
          0.7599604468314618,
          0.7599604468314618,
          0.7672439020316806,
          0.7686537098599837,
          0.7686537098599837,
          0.7686537098599837,
          0.7686537098599837,
          0.7686537098599837,
          0.7686537098599837,
          0.7686537098599837,
          0.7686537098599837,
          0.7686537098599837,
          0.7686537098599837,
          0.7690714756680446,
          0.7690714756680446,
          0.7690714756680446,
          0.7692153316073138,
          0.7692153316073138,
          0.7692153316073138,
          0.7692153316073138,
          0.7692153316073138,
          0.7692153316073138,
          0.7692153316073138,
          0.7692153316073138,
          0.7692153316073138,
          0.7704846993666699,
          0.7718300526503901,
          0.7718300526503901,
          0.7718300526503901,
          0.7718300526503901,
          0.7718300526503901,
          0.7718300526503901,
          0.7718300526503901,
          0.7718300526503901,
          0.7718300526503901,
          0.7718300526503901,
          0.7718300526503901,
          0.7718300526503901,
          0.7718300526503901,
          0.7718300526503901,
          0.7718300526503901,
          0.7718300526503901
         ]
        },
        {
         "marker": {
          "color": "#cccccc"
         },
         "mode": "markers",
         "name": "Infeasible Trial",
         "showlegend": false,
         "type": "scatter",
         "x": [],
         "y": []
        }
       ],
       "layout": {
        "template": {
         "data": {
          "bar": [
           {
            "error_x": {
             "color": "#2a3f5f"
            },
            "error_y": {
             "color": "#2a3f5f"
            },
            "marker": {
             "line": {
              "color": "#E5ECF6",
              "width": 0.5
             },
             "pattern": {
              "fillmode": "overlay",
              "size": 10,
              "solidity": 0.2
             }
            },
            "type": "bar"
           }
          ],
          "barpolar": [
           {
            "marker": {
             "line": {
              "color": "#E5ECF6",
              "width": 0.5
             },
             "pattern": {
              "fillmode": "overlay",
              "size": 10,
              "solidity": 0.2
             }
            },
            "type": "barpolar"
           }
          ],
          "carpet": [
           {
            "aaxis": {
             "endlinecolor": "#2a3f5f",
             "gridcolor": "white",
             "linecolor": "white",
             "minorgridcolor": "white",
             "startlinecolor": "#2a3f5f"
            },
            "baxis": {
             "endlinecolor": "#2a3f5f",
             "gridcolor": "white",
             "linecolor": "white",
             "minorgridcolor": "white",
             "startlinecolor": "#2a3f5f"
            },
            "type": "carpet"
           }
          ],
          "choropleth": [
           {
            "colorbar": {
             "outlinewidth": 0,
             "ticks": ""
            },
            "type": "choropleth"
           }
          ],
          "contour": [
           {
            "colorbar": {
             "outlinewidth": 0,
             "ticks": ""
            },
            "colorscale": [
             [
              0,
              "#0d0887"
             ],
             [
              0.1111111111111111,
              "#46039f"
             ],
             [
              0.2222222222222222,
              "#7201a8"
             ],
             [
              0.3333333333333333,
              "#9c179e"
             ],
             [
              0.4444444444444444,
              "#bd3786"
             ],
             [
              0.5555555555555556,
              "#d8576b"
             ],
             [
              0.6666666666666666,
              "#ed7953"
             ],
             [
              0.7777777777777778,
              "#fb9f3a"
             ],
             [
              0.8888888888888888,
              "#fdca26"
             ],
             [
              1,
              "#f0f921"
             ]
            ],
            "type": "contour"
           }
          ],
          "contourcarpet": [
           {
            "colorbar": {
             "outlinewidth": 0,
             "ticks": ""
            },
            "type": "contourcarpet"
           }
          ],
          "heatmap": [
           {
            "colorbar": {
             "outlinewidth": 0,
             "ticks": ""
            },
            "colorscale": [
             [
              0,
              "#0d0887"
             ],
             [
              0.1111111111111111,
              "#46039f"
             ],
             [
              0.2222222222222222,
              "#7201a8"
             ],
             [
              0.3333333333333333,
              "#9c179e"
             ],
             [
              0.4444444444444444,
              "#bd3786"
             ],
             [
              0.5555555555555556,
              "#d8576b"
             ],
             [
              0.6666666666666666,
              "#ed7953"
             ],
             [
              0.7777777777777778,
              "#fb9f3a"
             ],
             [
              0.8888888888888888,
              "#fdca26"
             ],
             [
              1,
              "#f0f921"
             ]
            ],
            "type": "heatmap"
           }
          ],
          "histogram": [
           {
            "marker": {
             "pattern": {
              "fillmode": "overlay",
              "size": 10,
              "solidity": 0.2
             }
            },
            "type": "histogram"
           }
          ],
          "histogram2d": [
           {
            "colorbar": {
             "outlinewidth": 0,
             "ticks": ""
            },
            "colorscale": [
             [
              0,
              "#0d0887"
             ],
             [
              0.1111111111111111,
              "#46039f"
             ],
             [
              0.2222222222222222,
              "#7201a8"
             ],
             [
              0.3333333333333333,
              "#9c179e"
             ],
             [
              0.4444444444444444,
              "#bd3786"
             ],
             [
              0.5555555555555556,
              "#d8576b"
             ],
             [
              0.6666666666666666,
              "#ed7953"
             ],
             [
              0.7777777777777778,
              "#fb9f3a"
             ],
             [
              0.8888888888888888,
              "#fdca26"
             ],
             [
              1,
              "#f0f921"
             ]
            ],
            "type": "histogram2d"
           }
          ],
          "histogram2dcontour": [
           {
            "colorbar": {
             "outlinewidth": 0,
             "ticks": ""
            },
            "colorscale": [
             [
              0,
              "#0d0887"
             ],
             [
              0.1111111111111111,
              "#46039f"
             ],
             [
              0.2222222222222222,
              "#7201a8"
             ],
             [
              0.3333333333333333,
              "#9c179e"
             ],
             [
              0.4444444444444444,
              "#bd3786"
             ],
             [
              0.5555555555555556,
              "#d8576b"
             ],
             [
              0.6666666666666666,
              "#ed7953"
             ],
             [
              0.7777777777777778,
              "#fb9f3a"
             ],
             [
              0.8888888888888888,
              "#fdca26"
             ],
             [
              1,
              "#f0f921"
             ]
            ],
            "type": "histogram2dcontour"
           }
          ],
          "mesh3d": [
           {
            "colorbar": {
             "outlinewidth": 0,
             "ticks": ""
            },
            "type": "mesh3d"
           }
          ],
          "parcoords": [
           {
            "line": {
             "colorbar": {
              "outlinewidth": 0,
              "ticks": ""
             }
            },
            "type": "parcoords"
           }
          ],
          "pie": [
           {
            "automargin": true,
            "type": "pie"
           }
          ],
          "scatter": [
           {
            "fillpattern": {
             "fillmode": "overlay",
             "size": 10,
             "solidity": 0.2
            },
            "type": "scatter"
           }
          ],
          "scatter3d": [
           {
            "line": {
             "colorbar": {
              "outlinewidth": 0,
              "ticks": ""
             }
            },
            "marker": {
             "colorbar": {
              "outlinewidth": 0,
              "ticks": ""
             }
            },
            "type": "scatter3d"
           }
          ],
          "scattercarpet": [
           {
            "marker": {
             "colorbar": {
              "outlinewidth": 0,
              "ticks": ""
             }
            },
            "type": "scattercarpet"
           }
          ],
          "scattergeo": [
           {
            "marker": {
             "colorbar": {
              "outlinewidth": 0,
              "ticks": ""
             }
            },
            "type": "scattergeo"
           }
          ],
          "scattergl": [
           {
            "marker": {
             "colorbar": {
              "outlinewidth": 0,
              "ticks": ""
             }
            },
            "type": "scattergl"
           }
          ],
          "scattermap": [
           {
            "marker": {
             "colorbar": {
              "outlinewidth": 0,
              "ticks": ""
             }
            },
            "type": "scattermap"
           }
          ],
          "scattermapbox": [
           {
            "marker": {
             "colorbar": {
              "outlinewidth": 0,
              "ticks": ""
             }
            },
            "type": "scattermapbox"
           }
          ],
          "scatterpolar": [
           {
            "marker": {
             "colorbar": {
              "outlinewidth": 0,
              "ticks": ""
             }
            },
            "type": "scatterpolar"
           }
          ],
          "scatterpolargl": [
           {
            "marker": {
             "colorbar": {
              "outlinewidth": 0,
              "ticks": ""
             }
            },
            "type": "scatterpolargl"
           }
          ],
          "scatterternary": [
           {
            "marker": {
             "colorbar": {
              "outlinewidth": 0,
              "ticks": ""
             }
            },
            "type": "scatterternary"
           }
          ],
          "surface": [
           {
            "colorbar": {
             "outlinewidth": 0,
             "ticks": ""
            },
            "colorscale": [
             [
              0,
              "#0d0887"
             ],
             [
              0.1111111111111111,
              "#46039f"
             ],
             [
              0.2222222222222222,
              "#7201a8"
             ],
             [
              0.3333333333333333,
              "#9c179e"
             ],
             [
              0.4444444444444444,
              "#bd3786"
             ],
             [
              0.5555555555555556,
              "#d8576b"
             ],
             [
              0.6666666666666666,
              "#ed7953"
             ],
             [
              0.7777777777777778,
              "#fb9f3a"
             ],
             [
              0.8888888888888888,
              "#fdca26"
             ],
             [
              1,
              "#f0f921"
             ]
            ],
            "type": "surface"
           }
          ],
          "table": [
           {
            "cells": {
             "fill": {
              "color": "#EBF0F8"
             },
             "line": {
              "color": "white"
             }
            },
            "header": {
             "fill": {
              "color": "#C8D4E3"
             },
             "line": {
              "color": "white"
             }
            },
            "type": "table"
           }
          ]
         },
         "layout": {
          "annotationdefaults": {
           "arrowcolor": "#2a3f5f",
           "arrowhead": 0,
           "arrowwidth": 1
          },
          "autotypenumbers": "strict",
          "coloraxis": {
           "colorbar": {
            "outlinewidth": 0,
            "ticks": ""
           }
          },
          "colorscale": {
           "diverging": [
            [
             0,
             "#8e0152"
            ],
            [
             0.1,
             "#c51b7d"
            ],
            [
             0.2,
             "#de77ae"
            ],
            [
             0.3,
             "#f1b6da"
            ],
            [
             0.4,
             "#fde0ef"
            ],
            [
             0.5,
             "#f7f7f7"
            ],
            [
             0.6,
             "#e6f5d0"
            ],
            [
             0.7,
             "#b8e186"
            ],
            [
             0.8,
             "#7fbc41"
            ],
            [
             0.9,
             "#4d9221"
            ],
            [
             1,
             "#276419"
            ]
           ],
           "sequential": [
            [
             0,
             "#0d0887"
            ],
            [
             0.1111111111111111,
             "#46039f"
            ],
            [
             0.2222222222222222,
             "#7201a8"
            ],
            [
             0.3333333333333333,
             "#9c179e"
            ],
            [
             0.4444444444444444,
             "#bd3786"
            ],
            [
             0.5555555555555556,
             "#d8576b"
            ],
            [
             0.6666666666666666,
             "#ed7953"
            ],
            [
             0.7777777777777778,
             "#fb9f3a"
            ],
            [
             0.8888888888888888,
             "#fdca26"
            ],
            [
             1,
             "#f0f921"
            ]
           ],
           "sequentialminus": [
            [
             0,
             "#0d0887"
            ],
            [
             0.1111111111111111,
             "#46039f"
            ],
            [
             0.2222222222222222,
             "#7201a8"
            ],
            [
             0.3333333333333333,
             "#9c179e"
            ],
            [
             0.4444444444444444,
             "#bd3786"
            ],
            [
             0.5555555555555556,
             "#d8576b"
            ],
            [
             0.6666666666666666,
             "#ed7953"
            ],
            [
             0.7777777777777778,
             "#fb9f3a"
            ],
            [
             0.8888888888888888,
             "#fdca26"
            ],
            [
             1,
             "#f0f921"
            ]
           ]
          },
          "colorway": [
           "#636efa",
           "#EF553B",
           "#00cc96",
           "#ab63fa",
           "#FFA15A",
           "#19d3f3",
           "#FF6692",
           "#B6E880",
           "#FF97FF",
           "#FECB52"
          ],
          "font": {
           "color": "#2a3f5f"
          },
          "geo": {
           "bgcolor": "white",
           "lakecolor": "white",
           "landcolor": "#E5ECF6",
           "showlakes": true,
           "showland": true,
           "subunitcolor": "white"
          },
          "hoverlabel": {
           "align": "left"
          },
          "hovermode": "closest",
          "mapbox": {
           "style": "light"
          },
          "paper_bgcolor": "white",
          "plot_bgcolor": "#E5ECF6",
          "polar": {
           "angularaxis": {
            "gridcolor": "white",
            "linecolor": "white",
            "ticks": ""
           },
           "bgcolor": "#E5ECF6",
           "radialaxis": {
            "gridcolor": "white",
            "linecolor": "white",
            "ticks": ""
           }
          },
          "scene": {
           "xaxis": {
            "backgroundcolor": "#E5ECF6",
            "gridcolor": "white",
            "gridwidth": 2,
            "linecolor": "white",
            "showbackground": true,
            "ticks": "",
            "zerolinecolor": "white"
           },
           "yaxis": {
            "backgroundcolor": "#E5ECF6",
            "gridcolor": "white",
            "gridwidth": 2,
            "linecolor": "white",
            "showbackground": true,
            "ticks": "",
            "zerolinecolor": "white"
           },
           "zaxis": {
            "backgroundcolor": "#E5ECF6",
            "gridcolor": "white",
            "gridwidth": 2,
            "linecolor": "white",
            "showbackground": true,
            "ticks": "",
            "zerolinecolor": "white"
           }
          },
          "shapedefaults": {
           "line": {
            "color": "#2a3f5f"
           }
          },
          "ternary": {
           "aaxis": {
            "gridcolor": "white",
            "linecolor": "white",
            "ticks": ""
           },
           "baxis": {
            "gridcolor": "white",
            "linecolor": "white",
            "ticks": ""
           },
           "bgcolor": "#E5ECF6",
           "caxis": {
            "gridcolor": "white",
            "linecolor": "white",
            "ticks": ""
           }
          },
          "title": {
           "x": 0.05
          },
          "xaxis": {
           "automargin": true,
           "gridcolor": "white",
           "linecolor": "white",
           "ticks": "",
           "title": {
            "standoff": 15
           },
           "zerolinecolor": "white",
           "zerolinewidth": 2
          },
          "yaxis": {
           "automargin": true,
           "gridcolor": "white",
           "linecolor": "white",
           "ticks": "",
           "title": {
            "standoff": 15
           },
           "zerolinecolor": "white",
           "zerolinewidth": 2
          }
         }
        },
        "title": {
         "text": "RandomForest: F1 Score Over Trials"
        },
        "xaxis": {
         "title": {
          "text": "Trial"
         }
        },
        "yaxis": {
         "title": {
          "text": "Objective Value"
         }
        }
       }
      }
     },
     "metadata": {},
     "output_type": "display_data"
    },
    {
     "data": {
      "application/vnd.plotly.v1+json": {
       "config": {
        "plotlyServerURL": "https://plot.ly"
       },
       "data": [
        {
         "cliponaxis": false,
         "hovertemplate": [
          "max_features_type (CategoricalDistribution): 9.94365058776402e-05<extra></extra>",
          "min_samples_split (IntDistribution): 0.005625741058917543<extra></extra>",
          "bootstrap (CategoricalDistribution): 0.0068958513065080565<extra></extra>",
          "min_samples_leaf (IntDistribution): 0.010432849777520927<extra></extra>",
          "n_estimators (IntDistribution): 0.08415231327825146<extra></extra>",
          "max_depth (IntDistribution): 0.8927938080729243<extra></extra>"
         ],
         "name": "Objective Value",
         "orientation": "h",
         "text": [
          "<0.01",
          "<0.01",
          "<0.01",
          "0.01",
          "0.08",
          "0.89"
         ],
         "textposition": "outside",
         "type": "bar",
         "x": [
          0.0000994365058776402,
          0.005625741058917543,
          0.0068958513065080565,
          0.010432849777520927,
          0.08415231327825146,
          0.8927938080729243
         ],
         "y": [
          "max_features_type",
          "min_samples_split",
          "bootstrap",
          "min_samples_leaf",
          "n_estimators",
          "max_depth"
         ]
        }
       ],
       "layout": {
        "template": {
         "data": {
          "bar": [
           {
            "error_x": {
             "color": "#2a3f5f"
            },
            "error_y": {
             "color": "#2a3f5f"
            },
            "marker": {
             "line": {
              "color": "#E5ECF6",
              "width": 0.5
             },
             "pattern": {
              "fillmode": "overlay",
              "size": 10,
              "solidity": 0.2
             }
            },
            "type": "bar"
           }
          ],
          "barpolar": [
           {
            "marker": {
             "line": {
              "color": "#E5ECF6",
              "width": 0.5
             },
             "pattern": {
              "fillmode": "overlay",
              "size": 10,
              "solidity": 0.2
             }
            },
            "type": "barpolar"
           }
          ],
          "carpet": [
           {
            "aaxis": {
             "endlinecolor": "#2a3f5f",
             "gridcolor": "white",
             "linecolor": "white",
             "minorgridcolor": "white",
             "startlinecolor": "#2a3f5f"
            },
            "baxis": {
             "endlinecolor": "#2a3f5f",
             "gridcolor": "white",
             "linecolor": "white",
             "minorgridcolor": "white",
             "startlinecolor": "#2a3f5f"
            },
            "type": "carpet"
           }
          ],
          "choropleth": [
           {
            "colorbar": {
             "outlinewidth": 0,
             "ticks": ""
            },
            "type": "choropleth"
           }
          ],
          "contour": [
           {
            "colorbar": {
             "outlinewidth": 0,
             "ticks": ""
            },
            "colorscale": [
             [
              0,
              "#0d0887"
             ],
             [
              0.1111111111111111,
              "#46039f"
             ],
             [
              0.2222222222222222,
              "#7201a8"
             ],
             [
              0.3333333333333333,
              "#9c179e"
             ],
             [
              0.4444444444444444,
              "#bd3786"
             ],
             [
              0.5555555555555556,
              "#d8576b"
             ],
             [
              0.6666666666666666,
              "#ed7953"
             ],
             [
              0.7777777777777778,
              "#fb9f3a"
             ],
             [
              0.8888888888888888,
              "#fdca26"
             ],
             [
              1,
              "#f0f921"
             ]
            ],
            "type": "contour"
           }
          ],
          "contourcarpet": [
           {
            "colorbar": {
             "outlinewidth": 0,
             "ticks": ""
            },
            "type": "contourcarpet"
           }
          ],
          "heatmap": [
           {
            "colorbar": {
             "outlinewidth": 0,
             "ticks": ""
            },
            "colorscale": [
             [
              0,
              "#0d0887"
             ],
             [
              0.1111111111111111,
              "#46039f"
             ],
             [
              0.2222222222222222,
              "#7201a8"
             ],
             [
              0.3333333333333333,
              "#9c179e"
             ],
             [
              0.4444444444444444,
              "#bd3786"
             ],
             [
              0.5555555555555556,
              "#d8576b"
             ],
             [
              0.6666666666666666,
              "#ed7953"
             ],
             [
              0.7777777777777778,
              "#fb9f3a"
             ],
             [
              0.8888888888888888,
              "#fdca26"
             ],
             [
              1,
              "#f0f921"
             ]
            ],
            "type": "heatmap"
           }
          ],
          "histogram": [
           {
            "marker": {
             "pattern": {
              "fillmode": "overlay",
              "size": 10,
              "solidity": 0.2
             }
            },
            "type": "histogram"
           }
          ],
          "histogram2d": [
           {
            "colorbar": {
             "outlinewidth": 0,
             "ticks": ""
            },
            "colorscale": [
             [
              0,
              "#0d0887"
             ],
             [
              0.1111111111111111,
              "#46039f"
             ],
             [
              0.2222222222222222,
              "#7201a8"
             ],
             [
              0.3333333333333333,
              "#9c179e"
             ],
             [
              0.4444444444444444,
              "#bd3786"
             ],
             [
              0.5555555555555556,
              "#d8576b"
             ],
             [
              0.6666666666666666,
              "#ed7953"
             ],
             [
              0.7777777777777778,
              "#fb9f3a"
             ],
             [
              0.8888888888888888,
              "#fdca26"
             ],
             [
              1,
              "#f0f921"
             ]
            ],
            "type": "histogram2d"
           }
          ],
          "histogram2dcontour": [
           {
            "colorbar": {
             "outlinewidth": 0,
             "ticks": ""
            },
            "colorscale": [
             [
              0,
              "#0d0887"
             ],
             [
              0.1111111111111111,
              "#46039f"
             ],
             [
              0.2222222222222222,
              "#7201a8"
             ],
             [
              0.3333333333333333,
              "#9c179e"
             ],
             [
              0.4444444444444444,
              "#bd3786"
             ],
             [
              0.5555555555555556,
              "#d8576b"
             ],
             [
              0.6666666666666666,
              "#ed7953"
             ],
             [
              0.7777777777777778,
              "#fb9f3a"
             ],
             [
              0.8888888888888888,
              "#fdca26"
             ],
             [
              1,
              "#f0f921"
             ]
            ],
            "type": "histogram2dcontour"
           }
          ],
          "mesh3d": [
           {
            "colorbar": {
             "outlinewidth": 0,
             "ticks": ""
            },
            "type": "mesh3d"
           }
          ],
          "parcoords": [
           {
            "line": {
             "colorbar": {
              "outlinewidth": 0,
              "ticks": ""
             }
            },
            "type": "parcoords"
           }
          ],
          "pie": [
           {
            "automargin": true,
            "type": "pie"
           }
          ],
          "scatter": [
           {
            "fillpattern": {
             "fillmode": "overlay",
             "size": 10,
             "solidity": 0.2
            },
            "type": "scatter"
           }
          ],
          "scatter3d": [
           {
            "line": {
             "colorbar": {
              "outlinewidth": 0,
              "ticks": ""
             }
            },
            "marker": {
             "colorbar": {
              "outlinewidth": 0,
              "ticks": ""
             }
            },
            "type": "scatter3d"
           }
          ],
          "scattercarpet": [
           {
            "marker": {
             "colorbar": {
              "outlinewidth": 0,
              "ticks": ""
             }
            },
            "type": "scattercarpet"
           }
          ],
          "scattergeo": [
           {
            "marker": {
             "colorbar": {
              "outlinewidth": 0,
              "ticks": ""
             }
            },
            "type": "scattergeo"
           }
          ],
          "scattergl": [
           {
            "marker": {
             "colorbar": {
              "outlinewidth": 0,
              "ticks": ""
             }
            },
            "type": "scattergl"
           }
          ],
          "scattermap": [
           {
            "marker": {
             "colorbar": {
              "outlinewidth": 0,
              "ticks": ""
             }
            },
            "type": "scattermap"
           }
          ],
          "scattermapbox": [
           {
            "marker": {
             "colorbar": {
              "outlinewidth": 0,
              "ticks": ""
             }
            },
            "type": "scattermapbox"
           }
          ],
          "scatterpolar": [
           {
            "marker": {
             "colorbar": {
              "outlinewidth": 0,
              "ticks": ""
             }
            },
            "type": "scatterpolar"
           }
          ],
          "scatterpolargl": [
           {
            "marker": {
             "colorbar": {
              "outlinewidth": 0,
              "ticks": ""
             }
            },
            "type": "scatterpolargl"
           }
          ],
          "scatterternary": [
           {
            "marker": {
             "colorbar": {
              "outlinewidth": 0,
              "ticks": ""
             }
            },
            "type": "scatterternary"
           }
          ],
          "surface": [
           {
            "colorbar": {
             "outlinewidth": 0,
             "ticks": ""
            },
            "colorscale": [
             [
              0,
              "#0d0887"
             ],
             [
              0.1111111111111111,
              "#46039f"
             ],
             [
              0.2222222222222222,
              "#7201a8"
             ],
             [
              0.3333333333333333,
              "#9c179e"
             ],
             [
              0.4444444444444444,
              "#bd3786"
             ],
             [
              0.5555555555555556,
              "#d8576b"
             ],
             [
              0.6666666666666666,
              "#ed7953"
             ],
             [
              0.7777777777777778,
              "#fb9f3a"
             ],
             [
              0.8888888888888888,
              "#fdca26"
             ],
             [
              1,
              "#f0f921"
             ]
            ],
            "type": "surface"
           }
          ],
          "table": [
           {
            "cells": {
             "fill": {
              "color": "#EBF0F8"
             },
             "line": {
              "color": "white"
             }
            },
            "header": {
             "fill": {
              "color": "#C8D4E3"
             },
             "line": {
              "color": "white"
             }
            },
            "type": "table"
           }
          ]
         },
         "layout": {
          "annotationdefaults": {
           "arrowcolor": "#2a3f5f",
           "arrowhead": 0,
           "arrowwidth": 1
          },
          "autotypenumbers": "strict",
          "coloraxis": {
           "colorbar": {
            "outlinewidth": 0,
            "ticks": ""
           }
          },
          "colorscale": {
           "diverging": [
            [
             0,
             "#8e0152"
            ],
            [
             0.1,
             "#c51b7d"
            ],
            [
             0.2,
             "#de77ae"
            ],
            [
             0.3,
             "#f1b6da"
            ],
            [
             0.4,
             "#fde0ef"
            ],
            [
             0.5,
             "#f7f7f7"
            ],
            [
             0.6,
             "#e6f5d0"
            ],
            [
             0.7,
             "#b8e186"
            ],
            [
             0.8,
             "#7fbc41"
            ],
            [
             0.9,
             "#4d9221"
            ],
            [
             1,
             "#276419"
            ]
           ],
           "sequential": [
            [
             0,
             "#0d0887"
            ],
            [
             0.1111111111111111,
             "#46039f"
            ],
            [
             0.2222222222222222,
             "#7201a8"
            ],
            [
             0.3333333333333333,
             "#9c179e"
            ],
            [
             0.4444444444444444,
             "#bd3786"
            ],
            [
             0.5555555555555556,
             "#d8576b"
            ],
            [
             0.6666666666666666,
             "#ed7953"
            ],
            [
             0.7777777777777778,
             "#fb9f3a"
            ],
            [
             0.8888888888888888,
             "#fdca26"
            ],
            [
             1,
             "#f0f921"
            ]
           ],
           "sequentialminus": [
            [
             0,
             "#0d0887"
            ],
            [
             0.1111111111111111,
             "#46039f"
            ],
            [
             0.2222222222222222,
             "#7201a8"
            ],
            [
             0.3333333333333333,
             "#9c179e"
            ],
            [
             0.4444444444444444,
             "#bd3786"
            ],
            [
             0.5555555555555556,
             "#d8576b"
            ],
            [
             0.6666666666666666,
             "#ed7953"
            ],
            [
             0.7777777777777778,
             "#fb9f3a"
            ],
            [
             0.8888888888888888,
             "#fdca26"
            ],
            [
             1,
             "#f0f921"
            ]
           ]
          },
          "colorway": [
           "#636efa",
           "#EF553B",
           "#00cc96",
           "#ab63fa",
           "#FFA15A",
           "#19d3f3",
           "#FF6692",
           "#B6E880",
           "#FF97FF",
           "#FECB52"
          ],
          "font": {
           "color": "#2a3f5f"
          },
          "geo": {
           "bgcolor": "white",
           "lakecolor": "white",
           "landcolor": "#E5ECF6",
           "showlakes": true,
           "showland": true,
           "subunitcolor": "white"
          },
          "hoverlabel": {
           "align": "left"
          },
          "hovermode": "closest",
          "mapbox": {
           "style": "light"
          },
          "paper_bgcolor": "white",
          "plot_bgcolor": "#E5ECF6",
          "polar": {
           "angularaxis": {
            "gridcolor": "white",
            "linecolor": "white",
            "ticks": ""
           },
           "bgcolor": "#E5ECF6",
           "radialaxis": {
            "gridcolor": "white",
            "linecolor": "white",
            "ticks": ""
           }
          },
          "scene": {
           "xaxis": {
            "backgroundcolor": "#E5ECF6",
            "gridcolor": "white",
            "gridwidth": 2,
            "linecolor": "white",
            "showbackground": true,
            "ticks": "",
            "zerolinecolor": "white"
           },
           "yaxis": {
            "backgroundcolor": "#E5ECF6",
            "gridcolor": "white",
            "gridwidth": 2,
            "linecolor": "white",
            "showbackground": true,
            "ticks": "",
            "zerolinecolor": "white"
           },
           "zaxis": {
            "backgroundcolor": "#E5ECF6",
            "gridcolor": "white",
            "gridwidth": 2,
            "linecolor": "white",
            "showbackground": true,
            "ticks": "",
            "zerolinecolor": "white"
           }
          },
          "shapedefaults": {
           "line": {
            "color": "#2a3f5f"
           }
          },
          "ternary": {
           "aaxis": {
            "gridcolor": "white",
            "linecolor": "white",
            "ticks": ""
           },
           "baxis": {
            "gridcolor": "white",
            "linecolor": "white",
            "ticks": ""
           },
           "bgcolor": "#E5ECF6",
           "caxis": {
            "gridcolor": "white",
            "linecolor": "white",
            "ticks": ""
           }
          },
          "title": {
           "x": 0.05
          },
          "xaxis": {
           "automargin": true,
           "gridcolor": "white",
           "linecolor": "white",
           "ticks": "",
           "title": {
            "standoff": 15
           },
           "zerolinecolor": "white",
           "zerolinewidth": 2
          },
          "yaxis": {
           "automargin": true,
           "gridcolor": "white",
           "linecolor": "white",
           "ticks": "",
           "title": {
            "standoff": 15
           },
           "zerolinecolor": "white",
           "zerolinewidth": 2
          }
         }
        },
        "title": {
         "text": "RandomForest: Which Hyperparameters Matter Most?"
        },
        "xaxis": {
         "title": {
          "text": "Hyperparameter Importance"
         }
        },
        "yaxis": {
         "title": {
          "text": "Hyperparameter"
         }
        }
       }
      }
     },
     "metadata": {},
     "output_type": "display_data"
    },
    {
     "name": "stderr",
     "output_type": "stream",
     "text": [
      "[W 2025-10-01 02:17:19,925] Your study has only completed trials with missing parameters.\n"
     ]
    },
    {
     "name": "stdout",
     "output_type": "stream",
     "text": [
      "🌳 Key insight: Look at whether n_estimators or max_depth matters more!\n"
     ]
    },
    {
     "data": {
      "application/vnd.plotly.v1+json": {
       "config": {
        "plotlyServerURL": "https://plot.ly"
       },
       "data": [],
       "layout": {
        "template": {
         "data": {
          "bar": [
           {
            "error_x": {
             "color": "#2a3f5f"
            },
            "error_y": {
             "color": "#2a3f5f"
            },
            "marker": {
             "line": {
              "color": "#E5ECF6",
              "width": 0.5
             },
             "pattern": {
              "fillmode": "overlay",
              "size": 10,
              "solidity": 0.2
             }
            },
            "type": "bar"
           }
          ],
          "barpolar": [
           {
            "marker": {
             "line": {
              "color": "#E5ECF6",
              "width": 0.5
             },
             "pattern": {
              "fillmode": "overlay",
              "size": 10,
              "solidity": 0.2
             }
            },
            "type": "barpolar"
           }
          ],
          "carpet": [
           {
            "aaxis": {
             "endlinecolor": "#2a3f5f",
             "gridcolor": "white",
             "linecolor": "white",
             "minorgridcolor": "white",
             "startlinecolor": "#2a3f5f"
            },
            "baxis": {
             "endlinecolor": "#2a3f5f",
             "gridcolor": "white",
             "linecolor": "white",
             "minorgridcolor": "white",
             "startlinecolor": "#2a3f5f"
            },
            "type": "carpet"
           }
          ],
          "choropleth": [
           {
            "colorbar": {
             "outlinewidth": 0,
             "ticks": ""
            },
            "type": "choropleth"
           }
          ],
          "contour": [
           {
            "colorbar": {
             "outlinewidth": 0,
             "ticks": ""
            },
            "colorscale": [
             [
              0,
              "#0d0887"
             ],
             [
              0.1111111111111111,
              "#46039f"
             ],
             [
              0.2222222222222222,
              "#7201a8"
             ],
             [
              0.3333333333333333,
              "#9c179e"
             ],
             [
              0.4444444444444444,
              "#bd3786"
             ],
             [
              0.5555555555555556,
              "#d8576b"
             ],
             [
              0.6666666666666666,
              "#ed7953"
             ],
             [
              0.7777777777777778,
              "#fb9f3a"
             ],
             [
              0.8888888888888888,
              "#fdca26"
             ],
             [
              1,
              "#f0f921"
             ]
            ],
            "type": "contour"
           }
          ],
          "contourcarpet": [
           {
            "colorbar": {
             "outlinewidth": 0,
             "ticks": ""
            },
            "type": "contourcarpet"
           }
          ],
          "heatmap": [
           {
            "colorbar": {
             "outlinewidth": 0,
             "ticks": ""
            },
            "colorscale": [
             [
              0,
              "#0d0887"
             ],
             [
              0.1111111111111111,
              "#46039f"
             ],
             [
              0.2222222222222222,
              "#7201a8"
             ],
             [
              0.3333333333333333,
              "#9c179e"
             ],
             [
              0.4444444444444444,
              "#bd3786"
             ],
             [
              0.5555555555555556,
              "#d8576b"
             ],
             [
              0.6666666666666666,
              "#ed7953"
             ],
             [
              0.7777777777777778,
              "#fb9f3a"
             ],
             [
              0.8888888888888888,
              "#fdca26"
             ],
             [
              1,
              "#f0f921"
             ]
            ],
            "type": "heatmap"
           }
          ],
          "histogram": [
           {
            "marker": {
             "pattern": {
              "fillmode": "overlay",
              "size": 10,
              "solidity": 0.2
             }
            },
            "type": "histogram"
           }
          ],
          "histogram2d": [
           {
            "colorbar": {
             "outlinewidth": 0,
             "ticks": ""
            },
            "colorscale": [
             [
              0,
              "#0d0887"
             ],
             [
              0.1111111111111111,
              "#46039f"
             ],
             [
              0.2222222222222222,
              "#7201a8"
             ],
             [
              0.3333333333333333,
              "#9c179e"
             ],
             [
              0.4444444444444444,
              "#bd3786"
             ],
             [
              0.5555555555555556,
              "#d8576b"
             ],
             [
              0.6666666666666666,
              "#ed7953"
             ],
             [
              0.7777777777777778,
              "#fb9f3a"
             ],
             [
              0.8888888888888888,
              "#fdca26"
             ],
             [
              1,
              "#f0f921"
             ]
            ],
            "type": "histogram2d"
           }
          ],
          "histogram2dcontour": [
           {
            "colorbar": {
             "outlinewidth": 0,
             "ticks": ""
            },
            "colorscale": [
             [
              0,
              "#0d0887"
             ],
             [
              0.1111111111111111,
              "#46039f"
             ],
             [
              0.2222222222222222,
              "#7201a8"
             ],
             [
              0.3333333333333333,
              "#9c179e"
             ],
             [
              0.4444444444444444,
              "#bd3786"
             ],
             [
              0.5555555555555556,
              "#d8576b"
             ],
             [
              0.6666666666666666,
              "#ed7953"
             ],
             [
              0.7777777777777778,
              "#fb9f3a"
             ],
             [
              0.8888888888888888,
              "#fdca26"
             ],
             [
              1,
              "#f0f921"
             ]
            ],
            "type": "histogram2dcontour"
           }
          ],
          "mesh3d": [
           {
            "colorbar": {
             "outlinewidth": 0,
             "ticks": ""
            },
            "type": "mesh3d"
           }
          ],
          "parcoords": [
           {
            "line": {
             "colorbar": {
              "outlinewidth": 0,
              "ticks": ""
             }
            },
            "type": "parcoords"
           }
          ],
          "pie": [
           {
            "automargin": true,
            "type": "pie"
           }
          ],
          "scatter": [
           {
            "fillpattern": {
             "fillmode": "overlay",
             "size": 10,
             "solidity": 0.2
            },
            "type": "scatter"
           }
          ],
          "scatter3d": [
           {
            "line": {
             "colorbar": {
              "outlinewidth": 0,
              "ticks": ""
             }
            },
            "marker": {
             "colorbar": {
              "outlinewidth": 0,
              "ticks": ""
             }
            },
            "type": "scatter3d"
           }
          ],
          "scattercarpet": [
           {
            "marker": {
             "colorbar": {
              "outlinewidth": 0,
              "ticks": ""
             }
            },
            "type": "scattercarpet"
           }
          ],
          "scattergeo": [
           {
            "marker": {
             "colorbar": {
              "outlinewidth": 0,
              "ticks": ""
             }
            },
            "type": "scattergeo"
           }
          ],
          "scattergl": [
           {
            "marker": {
             "colorbar": {
              "outlinewidth": 0,
              "ticks": ""
             }
            },
            "type": "scattergl"
           }
          ],
          "scattermap": [
           {
            "marker": {
             "colorbar": {
              "outlinewidth": 0,
              "ticks": ""
             }
            },
            "type": "scattermap"
           }
          ],
          "scattermapbox": [
           {
            "marker": {
             "colorbar": {
              "outlinewidth": 0,
              "ticks": ""
             }
            },
            "type": "scattermapbox"
           }
          ],
          "scatterpolar": [
           {
            "marker": {
             "colorbar": {
              "outlinewidth": 0,
              "ticks": ""
             }
            },
            "type": "scatterpolar"
           }
          ],
          "scatterpolargl": [
           {
            "marker": {
             "colorbar": {
              "outlinewidth": 0,
              "ticks": ""
             }
            },
            "type": "scatterpolargl"
           }
          ],
          "scatterternary": [
           {
            "marker": {
             "colorbar": {
              "outlinewidth": 0,
              "ticks": ""
             }
            },
            "type": "scatterternary"
           }
          ],
          "surface": [
           {
            "colorbar": {
             "outlinewidth": 0,
             "ticks": ""
            },
            "colorscale": [
             [
              0,
              "#0d0887"
             ],
             [
              0.1111111111111111,
              "#46039f"
             ],
             [
              0.2222222222222222,
              "#7201a8"
             ],
             [
              0.3333333333333333,
              "#9c179e"
             ],
             [
              0.4444444444444444,
              "#bd3786"
             ],
             [
              0.5555555555555556,
              "#d8576b"
             ],
             [
              0.6666666666666666,
              "#ed7953"
             ],
             [
              0.7777777777777778,
              "#fb9f3a"
             ],
             [
              0.8888888888888888,
              "#fdca26"
             ],
             [
              1,
              "#f0f921"
             ]
            ],
            "type": "surface"
           }
          ],
          "table": [
           {
            "cells": {
             "fill": {
              "color": "#EBF0F8"
             },
             "line": {
              "color": "white"
             }
            },
            "header": {
             "fill": {
              "color": "#C8D4E3"
             },
             "line": {
              "color": "white"
             }
            },
            "type": "table"
           }
          ]
         },
         "layout": {
          "annotationdefaults": {
           "arrowcolor": "#2a3f5f",
           "arrowhead": 0,
           "arrowwidth": 1
          },
          "autotypenumbers": "strict",
          "coloraxis": {
           "colorbar": {
            "outlinewidth": 0,
            "ticks": ""
           }
          },
          "colorscale": {
           "diverging": [
            [
             0,
             "#8e0152"
            ],
            [
             0.1,
             "#c51b7d"
            ],
            [
             0.2,
             "#de77ae"
            ],
            [
             0.3,
             "#f1b6da"
            ],
            [
             0.4,
             "#fde0ef"
            ],
            [
             0.5,
             "#f7f7f7"
            ],
            [
             0.6,
             "#e6f5d0"
            ],
            [
             0.7,
             "#b8e186"
            ],
            [
             0.8,
             "#7fbc41"
            ],
            [
             0.9,
             "#4d9221"
            ],
            [
             1,
             "#276419"
            ]
           ],
           "sequential": [
            [
             0,
             "#0d0887"
            ],
            [
             0.1111111111111111,
             "#46039f"
            ],
            [
             0.2222222222222222,
             "#7201a8"
            ],
            [
             0.3333333333333333,
             "#9c179e"
            ],
            [
             0.4444444444444444,
             "#bd3786"
            ],
            [
             0.5555555555555556,
             "#d8576b"
            ],
            [
             0.6666666666666666,
             "#ed7953"
            ],
            [
             0.7777777777777778,
             "#fb9f3a"
            ],
            [
             0.8888888888888888,
             "#fdca26"
            ],
            [
             1,
             "#f0f921"
            ]
           ],
           "sequentialminus": [
            [
             0,
             "#0d0887"
            ],
            [
             0.1111111111111111,
             "#46039f"
            ],
            [
             0.2222222222222222,
             "#7201a8"
            ],
            [
             0.3333333333333333,
             "#9c179e"
            ],
            [
             0.4444444444444444,
             "#bd3786"
            ],
            [
             0.5555555555555556,
             "#d8576b"
            ],
            [
             0.6666666666666666,
             "#ed7953"
            ],
            [
             0.7777777777777778,
             "#fb9f3a"
            ],
            [
             0.8888888888888888,
             "#fdca26"
            ],
            [
             1,
             "#f0f921"
            ]
           ]
          },
          "colorway": [
           "#636efa",
           "#EF553B",
           "#00cc96",
           "#ab63fa",
           "#FFA15A",
           "#19d3f3",
           "#FF6692",
           "#B6E880",
           "#FF97FF",
           "#FECB52"
          ],
          "font": {
           "color": "#2a3f5f"
          },
          "geo": {
           "bgcolor": "white",
           "lakecolor": "white",
           "landcolor": "#E5ECF6",
           "showlakes": true,
           "showland": true,
           "subunitcolor": "white"
          },
          "hoverlabel": {
           "align": "left"
          },
          "hovermode": "closest",
          "mapbox": {
           "style": "light"
          },
          "paper_bgcolor": "white",
          "plot_bgcolor": "#E5ECF6",
          "polar": {
           "angularaxis": {
            "gridcolor": "white",
            "linecolor": "white",
            "ticks": ""
           },
           "bgcolor": "#E5ECF6",
           "radialaxis": {
            "gridcolor": "white",
            "linecolor": "white",
            "ticks": ""
           }
          },
          "scene": {
           "xaxis": {
            "backgroundcolor": "#E5ECF6",
            "gridcolor": "white",
            "gridwidth": 2,
            "linecolor": "white",
            "showbackground": true,
            "ticks": "",
            "zerolinecolor": "white"
           },
           "yaxis": {
            "backgroundcolor": "#E5ECF6",
            "gridcolor": "white",
            "gridwidth": 2,
            "linecolor": "white",
            "showbackground": true,
            "ticks": "",
            "zerolinecolor": "white"
           },
           "zaxis": {
            "backgroundcolor": "#E5ECF6",
            "gridcolor": "white",
            "gridwidth": 2,
            "linecolor": "white",
            "showbackground": true,
            "ticks": "",
            "zerolinecolor": "white"
           }
          },
          "shapedefaults": {
           "line": {
            "color": "#2a3f5f"
           }
          },
          "ternary": {
           "aaxis": {
            "gridcolor": "white",
            "linecolor": "white",
            "ticks": ""
           },
           "baxis": {
            "gridcolor": "white",
            "linecolor": "white",
            "ticks": ""
           },
           "bgcolor": "#E5ECF6",
           "caxis": {
            "gridcolor": "white",
            "linecolor": "white",
            "ticks": ""
           }
          },
          "title": {
           "x": 0.05
          },
          "xaxis": {
           "automargin": true,
           "gridcolor": "white",
           "linecolor": "white",
           "ticks": "",
           "title": {
            "standoff": 15
           },
           "zerolinecolor": "white",
           "zerolinewidth": 2
          },
          "yaxis": {
           "automargin": true,
           "gridcolor": "white",
           "linecolor": "white",
           "ticks": "",
           "title": {
            "standoff": 15
           },
           "zerolinecolor": "white",
           "zerolinewidth": 2
          }
         }
        },
        "title": {
         "text": "RandomForest: Hyperparameter Relationships"
        }
       }
      }
     },
     "metadata": {},
     "output_type": "display_data"
    }
   ],
   "source": [
    "# Optimization history\n",
    "fig = optuna.visualization.plot_optimization_history(rf_study)\n",
    "fig.update_layout(title=\"RandomForest: F1 Score Over Trials\")\n",
    "fig.show()\n",
    "\n",
    "# Parameter importance\n",
    "fig = optuna.visualization.plot_param_importances(rf_study)\n",
    "fig.update_layout(title=\"RandomForest: Which Hyperparameters Matter Most?\")\n",
    "fig.show()\n",
    "\n",
    "print(\"🌳 Key insight: Look at whether n_estimators or max_depth matters more!\")\n",
    "\n",
    "# Parallel coordinate plot\n",
    "fig = optuna.visualization.plot_parallel_coordinate(rf_study)\n",
    "fig.update_layout(title=\"RandomForest: Hyperparameter Relationships\")\n",
    "fig.show()"
   ]
  },
  {
   "cell_type": "markdown",
   "metadata": {},
   "source": [
    "## 8. Model 4: DecisionTree\n",
    "\n",
    "### 🎓 What is DecisionTree?\n",
    "\n",
    "**Simple Analogy**: A flowchart of yes/no questions\n",
    "\n",
    "Imagine identifying an animal:\n",
    "- **Question 1**: Does it have fur? → Yes/No\n",
    "- **Question 2**: (if Yes) Does it bark? → Dog / Not Dog\n",
    "- **Question 3**: (if No) Does it have scales? → Reptile / Not Reptile\n",
    "\n",
    "This is exactly how a decision tree works!\n",
    "\n",
    "**Tree Structure:**\n",
    "```\n",
    "           [Feature_5 <= 0.7?]\n",
    "              /           \\\n",
    "            Yes           No\n",
    "            /               \\\n",
    "    [Feature_12 <= 0.3?]   [Class: 5]\n",
    "        /         \\\n",
    "    [Class: 2]   [Class: 7]\n",
    "```\n",
    "\n",
    "**Why simpler than RandomForest?**\n",
    "- Just ONE tree (not a forest of 100+)\n",
    "- Faster to train and predict\n",
    "- BUT: More prone to overfitting\n",
    "\n",
    "**What we're optimizing:**\n",
    "- `max_depth`: How many questions deep? (3-30)\n",
    "  - Too shallow → underfitting (can't capture patterns)\n",
    "  - Too deep → overfitting (memorizes training data)\n",
    "- `min_samples_split`: Minimum samples to ask another question\n",
    "  - Prevents overly specific rules\n",
    "- `criterion`: How to choose questions\n",
    "  - 'gini': Gini impurity (how mixed are the classes?)\n",
    "  - 'entropy': Information gain (how much do we learn?)\n",
    "\n",
    "**Expected improvement**: +2.5% (71.1% → 73.5%)"
   ]
  },
  {
   "cell_type": "code",
   "execution_count": 18,
   "metadata": {},
   "outputs": [
    {
     "name": "stdout",
     "output_type": "stream",
     "text": [
      "🎯 DecisionTree Baseline Performance:\n",
      "   F1-macro: 0.7105 ± 0.0060\n",
      "   Goal: ≥ 0.735\n",
      "   Target improvement: +2.4%\n"
     ]
    }
   ],
   "source": [
    "# Baseline performance\n",
    "DT_BASELINE_F1 = 0.7105\n",
    "DT_BASELINE_STD = 0.0060\n",
    "\n",
    "print(f\"🎯 DecisionTree Baseline Performance:\")\n",
    "print(f\"   F1-macro: {DT_BASELINE_F1:.4f} ± {DT_BASELINE_STD:.4f}\")\n",
    "print(f\"   Goal: ≥ {0.735:.3f}\")\n",
    "print(f\"   Target improvement: +{(0.735 - DT_BASELINE_F1)*100:.1f}%\")"
   ]
  },
  {
   "cell_type": "code",
   "execution_count": 19,
   "metadata": {},
   "outputs": [
    {
     "name": "stdout",
     "output_type": "stream",
     "text": [
      "✅ DecisionTree objective function defined\n"
     ]
    }
   ],
   "source": [
    "def objective_dt(trial):\n",
    "    \"\"\"\n",
    "    Objective function for DecisionTree optimization.\n",
    "    \"\"\"\n",
    "    # Suggest hyperparameters\n",
    "    max_features_type = trial.suggest_categorical('max_features_type', ['fixed', 'float', 'none'])\n",
    "    \n",
    "    params = {\n",
    "        'max_depth': trial.suggest_int('max_depth', 3, 30),\n",
    "        'min_samples_split': trial.suggest_int('min_samples_split', 2, 50),\n",
    "        'min_samples_leaf': trial.suggest_int('min_samples_leaf', 1, 20),\n",
    "        'max_features': None if max_features_type == 'none'\n",
    "                       else (trial.suggest_categorical('max_features', ['sqrt', 'log2'])\n",
    "                             if max_features_type == 'fixed'\n",
    "                             else trial.suggest_float('max_features_ratio', 0.5, 1.0)),\n",
    "        'criterion': trial.suggest_categorical('criterion', ['gini', 'entropy', 'log_loss']),\n",
    "        'splitter': trial.suggest_categorical('splitter', ['best', 'random']),\n",
    "        'random_state': RANDOM_STATE\n",
    "    }\n",
    "    \n",
    "    # Clean up params\n",
    "    if 'max_features_type' in params:\n",
    "        del params['max_features_type']\n",
    "    if 'max_features_ratio' in params:\n",
    "        params['max_features'] = params.pop('max_features_ratio')\n",
    "    \n",
    "    # Create model\n",
    "    model = DecisionTreeClassifier(**params)\n",
    "    \n",
    "    # Evaluate\n",
    "    results = run_cross_validation(model, 'DecisionTree', X_scaled, y, cv)\n",
    "    \n",
    "    # Store fold scores\n",
    "    trial.set_user_attr('fold_scores', results['fold_scores'])\n",
    "    trial.set_user_attr('f1_std', results['f1_std'])\n",
    "    \n",
    "    return results['f1_mean']\n",
    "\n",
    "print(\"✅ DecisionTree objective function defined\")"
   ]
  },
  {
   "cell_type": "code",
   "execution_count": 20,
   "metadata": {},
   "outputs": [
    {
     "name": "stderr",
     "output_type": "stream",
     "text": [
      "[I 2025-10-01 02:17:20,003] A new study created in memory with name: no-name-ea6cd607-0b39-4f31-bb32-97a6ff581284\n"
     ]
    },
    {
     "name": "stdout",
     "output_type": "stream",
     "text": [
      "🔍 Starting DecisionTree optimization...\n",
      "   Trials: 50\n",
      "   Estimated time: ~15-20 minutes\n",
      "   Started at: 02:17:20\n"
     ]
    },
    {
     "data": {
      "application/vnd.jupyter.widget-view+json": {
       "model_id": "b24cad52b34f4bc4a0ed962eecbc5b0c",
       "version_major": 2,
       "version_minor": 0
      },
      "text/plain": [
       "  0%|          | 0/50 [00:00<?, ?it/s]"
      ]
     },
     "metadata": {},
     "output_type": "display_data"
    },
    {
     "name": "stdout",
     "output_type": "stream",
     "text": [
      "[I 2025-10-01 02:17:20,129] Trial 0 finished with value: 0.5896084357141668 and parameters: {'max_features_type': 'float', 'max_depth': 19, 'min_samples_split': 9, 'min_samples_leaf': 4, 'max_features_ratio': 0.5290418060840998, 'criterion': 'gini', 'splitter': 'random'}. Best is trial 0 with value: 0.5896084357141668.\n",
      "[I 2025-10-01 02:17:20,179] Trial 1 finished with value: 0.2662890152365593 and parameters: {'max_features_type': 'fixed', 'max_depth': 8, 'min_samples_split': 16, 'min_samples_leaf': 11, 'max_features': 'sqrt', 'criterion': 'gini', 'splitter': 'random'}. Best is trial 0 with value: 0.5896084357141668.\n",
      "[I 2025-10-01 02:17:22,065] Trial 2 finished with value: 0.5816417782143384 and parameters: {'max_features_type': 'fixed', 'max_depth': 19, 'min_samples_split': 4, 'min_samples_leaf': 13, 'max_features': 'sqrt', 'criterion': 'entropy', 'splitter': 'best'}. Best is trial 0 with value: 0.5896084357141668.\n",
      "[I 2025-10-01 02:17:22,119] Trial 3 finished with value: 0.39532168794777345 and parameters: {'max_features_type': 'fixed', 'max_depth': 16, 'min_samples_split': 3, 'min_samples_leaf': 19, 'max_features': 'log2', 'criterion': 'log_loss', 'splitter': 'random'}. Best is trial 0 with value: 0.5896084357141668.\n",
      "[I 2025-10-01 02:17:22,251] Trial 4 finished with value: 0.6220413879531141 and parameters: {'max_features_type': 'float', 'max_depth': 19, 'min_samples_split': 47, 'min_samples_leaf': 2, 'max_features_ratio': 0.5979914312095727, 'criterion': 'log_loss', 'splitter': 'random'}. Best is trial 4 with value: 0.6220413879531141.\n",
      "[I 2025-10-01 02:17:22,336] Trial 5 finished with value: 0.25393904021364655 and parameters: {'max_features_type': 'none', 'max_depth': 6, 'min_samples_split': 41, 'min_samples_leaf': 2, 'criterion': 'gini', 'splitter': 'random'}. Best is trial 4 with value: 0.6220413879531141.\n",
      "[I 2025-10-01 02:17:22,412] Trial 6 finished with value: 0.22043293928008936 and parameters: {'max_features_type': 'none', 'max_depth': 5, 'min_samples_split': 19, 'min_samples_leaf': 3, 'criterion': 'gini', 'splitter': 'random'}. Best is trial 4 with value: 0.6220413879531141.\n",
      "[I 2025-10-01 02:17:22,629] Trial 7 finished with value: 0.6765707189709959 and parameters: {'max_features_type': 'float', 'max_depth': 27, 'min_samples_split': 25, 'min_samples_leaf': 3, 'max_features_ratio': 0.8566223936114975, 'criterion': 'log_loss', 'splitter': 'random'}. Best is trial 7 with value: 0.6765707189709959.\n",
      "[I 2025-10-01 02:17:23,020] Trial 8 finished with value: 0.1726293307655124 and parameters: {'max_features_type': 'fixed', 'max_depth': 3, 'min_samples_split': 33, 'min_samples_leaf': 7, 'max_features': 'log2', 'criterion': 'log_loss', 'splitter': 'best'}. Best is trial 7 with value: 0.6765707189709959.\n",
      "[I 2025-10-01 02:17:23,225] Trial 9 finished with value: 0.6489777573997527 and parameters: {'max_features_type': 'none', 'max_depth': 25, 'min_samples_split': 33, 'min_samples_leaf': 18, 'criterion': 'log_loss', 'splitter': 'random'}. Best is trial 7 with value: 0.6765707189709959.\n",
      "[I 2025-10-01 02:17:36,131] Trial 10 finished with value: 0.7064004297264457 and parameters: {'max_features_type': 'float', 'max_depth': 29, 'min_samples_split': 26, 'min_samples_leaf': 7, 'max_features_ratio': 0.9428281667388994, 'criterion': 'entropy', 'splitter': 'best'}. Best is trial 10 with value: 0.7064004297264457.\n",
      "[I 2025-10-01 02:17:49,198] Trial 11 finished with value: 0.7072967629721705 and parameters: {'max_features_type': 'float', 'max_depth': 30, 'min_samples_split': 24, 'min_samples_leaf': 7, 'max_features_ratio': 0.9691028034909674, 'criterion': 'entropy', 'splitter': 'best'}. Best is trial 11 with value: 0.7072967629721705.\n",
      "[I 2025-10-01 02:18:02,378] Trial 12 finished with value: 0.7049717510547445 and parameters: {'max_features_type': 'float', 'max_depth': 30, 'min_samples_split': 27, 'min_samples_leaf': 8, 'max_features_ratio': 0.9802949312914042, 'criterion': 'entropy', 'splitter': 'best'}. Best is trial 11 with value: 0.7072967629721705.\n",
      "[I 2025-10-01 02:18:15,206] Trial 13 finished with value: 0.7064078428093769 and parameters: {'max_features_type': 'float', 'max_depth': 25, 'min_samples_split': 19, 'min_samples_leaf': 7, 'max_features_ratio': 0.9969163136245777, 'criterion': 'entropy', 'splitter': 'best'}. Best is trial 11 with value: 0.7072967629721705.\n",
      "[I 2025-10-01 02:18:25,342] Trial 14 finished with value: 0.6935095988515222 and parameters: {'max_features_type': 'float', 'max_depth': 24, 'min_samples_split': 15, 'min_samples_leaf': 14, 'max_features_ratio': 0.7900933782622134, 'criterion': 'entropy', 'splitter': 'best'}. Best is trial 11 with value: 0.7072967629721705.\n",
      "[I 2025-10-01 02:18:37,664] Trial 15 finished with value: 0.7011095887301797 and parameters: {'max_features_type': 'float', 'max_depth': 23, 'min_samples_split': 21, 'min_samples_leaf': 9, 'max_features_ratio': 0.9980084946806067, 'criterion': 'entropy', 'splitter': 'best'}. Best is trial 11 with value: 0.7072967629721705.\n",
      "[I 2025-10-01 02:18:46,172] Trial 16 finished with value: 0.6578883812419887 and parameters: {'max_features_type': 'float', 'max_depth': 13, 'min_samples_split': 11, 'min_samples_leaf': 5, 'max_features_ratio': 0.8695948399858826, 'criterion': 'entropy', 'splitter': 'best'}. Best is trial 11 with value: 0.7072967629721705.\n",
      "[I 2025-10-01 02:18:57,620] Trial 17 finished with value: 0.701793660870693 and parameters: {'max_features_type': 'float', 'max_depth': 26, 'min_samples_split': 33, 'min_samples_leaf': 11, 'max_features_ratio': 0.8917056087661316, 'criterion': 'entropy', 'splitter': 'best'}. Best is trial 11 with value: 0.7072967629721705.\n",
      "[I 2025-10-01 02:19:06,622] Trial 18 finished with value: 0.6982919405267253 and parameters: {'max_features_type': 'float', 'max_depth': 22, 'min_samples_split': 39, 'min_samples_leaf': 6, 'max_features_ratio': 0.705191151721714, 'criterion': 'entropy', 'splitter': 'best'}. Best is trial 11 with value: 0.7072967629721705.\n",
      "[I 2025-10-01 02:19:19,877] Trial 19 finished with value: 0.702855060119843 and parameters: {'max_features_type': 'none', 'max_depth': 30, 'min_samples_split': 23, 'min_samples_leaf': 15, 'criterion': 'entropy', 'splitter': 'best'}. Best is trial 11 with value: 0.7072967629721705.\n",
      "[I 2025-10-01 02:19:27,307] Trial 20 finished with value: 0.6373026310067317 and parameters: {'max_features_type': 'float', 'max_depth': 12, 'min_samples_split': 30, 'min_samples_leaf': 9, 'max_features_ratio': 0.7666861926776032, 'criterion': 'entropy', 'splitter': 'best'}. Best is trial 11 with value: 0.7072967629721705.\n",
      "[I 2025-10-01 02:19:39,677] Trial 21 finished with value: 0.708399888698803 and parameters: {'max_features_type': 'float', 'max_depth': 28, 'min_samples_split': 28, 'min_samples_leaf': 6, 'max_features_ratio': 0.940220733003349, 'criterion': 'entropy', 'splitter': 'best'}. Best is trial 21 with value: 0.708399888698803.\n",
      "[I 2025-10-01 02:19:52,043] Trial 22 finished with value: 0.7112739456190285 and parameters: {'max_features_type': 'float', 'max_depth': 27, 'min_samples_split': 19, 'min_samples_leaf': 5, 'max_features_ratio': 0.9378420288908562, 'criterion': 'entropy', 'splitter': 'best'}. Best is trial 22 with value: 0.7112739456190285.\n",
      "[I 2025-10-01 02:20:04,241] Trial 23 finished with value: 0.7047788998300227 and parameters: {'max_features_type': 'float', 'max_depth': 28, 'min_samples_split': 39, 'min_samples_leaf': 5, 'max_features_ratio': 0.9063013652394503, 'criterion': 'entropy', 'splitter': 'best'}. Best is trial 22 with value: 0.7112739456190285.\n",
      "[I 2025-10-01 02:20:15,784] Trial 24 finished with value: 0.7021291857424591 and parameters: {'max_features_type': 'float', 'max_depth': 21, 'min_samples_split': 14, 'min_samples_leaf': 1, 'max_features_ratio': 0.9316967391748417, 'criterion': 'entropy', 'splitter': 'best'}. Best is trial 22 with value: 0.7112739456190285.\n",
      "[I 2025-10-01 02:20:26,684] Trial 25 finished with value: 0.7055759020514694 and parameters: {'max_features_type': 'float', 'max_depth': 27, 'min_samples_split': 29, 'min_samples_leaf': 10, 'max_features_ratio': 0.8236274588169088, 'criterion': 'entropy', 'splitter': 'best'}. Best is trial 22 with value: 0.7112739456190285.\n",
      "[I 2025-10-01 02:20:36,092] Trial 26 finished with value: 0.7084031217281913 and parameters: {'max_features_type': 'float', 'max_depth': 30, 'min_samples_split': 22, 'min_samples_leaf': 5, 'max_features_ratio': 0.6734098011635019, 'criterion': 'entropy', 'splitter': 'best'}. Best is trial 22 with value: 0.7112739456190285.\n",
      "[I 2025-10-01 02:20:45,480] Trial 27 finished with value: 0.7056184357943852 and parameters: {'max_features_type': 'float', 'max_depth': 28, 'min_samples_split': 8, 'min_samples_leaf': 5, 'max_features_ratio': 0.688909842491677, 'criterion': 'entropy', 'splitter': 'best'}. Best is trial 22 with value: 0.7112739456190285.\n",
      "[I 2025-10-01 02:20:46,368] Trial 28 finished with value: 0.6072203792515447 and parameters: {'max_features_type': 'fixed', 'max_depth': 21, 'min_samples_split': 19, 'min_samples_leaf': 4, 'max_features': 'sqrt', 'criterion': 'gini', 'splitter': 'best'}. Best is trial 22 with value: 0.7112739456190285.\n",
      "[I 2025-10-01 02:20:59,607] Trial 29 finished with value: 0.7097132330954143 and parameters: {'max_features_type': 'none', 'max_depth': 26, 'min_samples_split': 9, 'min_samples_leaf': 4, 'criterion': 'entropy', 'splitter': 'best'}. Best is trial 22 with value: 0.7112739456190285.\n",
      "[I 2025-10-01 02:21:05,071] Trial 30 finished with value: 0.6587842664141009 and parameters: {'max_features_type': 'none', 'max_depth': 17, 'min_samples_split': 8, 'min_samples_leaf': 1, 'criterion': 'gini', 'splitter': 'best'}. Best is trial 22 with value: 0.7112739456190285.\n",
      "[I 2025-10-01 02:21:18,333] Trial 31 finished with value: 0.7088847621820483 and parameters: {'max_features_type': 'none', 'max_depth': 26, 'min_samples_split': 12, 'min_samples_leaf': 4, 'criterion': 'entropy', 'splitter': 'best'}. Best is trial 22 with value: 0.7112739456190285.\n",
      "[I 2025-10-01 02:21:31,238] Trial 32 finished with value: 0.7065978815616523 and parameters: {'max_features_type': 'none', 'max_depth': 24, 'min_samples_split': 12, 'min_samples_leaf': 4, 'criterion': 'entropy', 'splitter': 'best'}. Best is trial 22 with value: 0.7112739456190285.\n",
      "[I 2025-10-01 02:21:44,672] Trial 33 finished with value: 0.7094063835498288 and parameters: {'max_features_type': 'none', 'max_depth': 26, 'min_samples_split': 7, 'min_samples_leaf': 3, 'criterion': 'entropy', 'splitter': 'best'}. Best is trial 22 with value: 0.7112739456190285.\n",
      "[I 2025-10-01 02:21:58,078] Trial 34 finished with value: 0.7103112413862541 and parameters: {'max_features_type': 'none', 'max_depth': 26, 'min_samples_split': 5, 'min_samples_leaf': 3, 'criterion': 'entropy', 'splitter': 'best'}. Best is trial 22 with value: 0.7112739456190285.\n",
      "[I 2025-10-01 02:22:10,504] Trial 35 finished with value: 0.7021681313272048 and parameters: {'max_features_type': 'none', 'max_depth': 21, 'min_samples_split': 5, 'min_samples_leaf': 2, 'criterion': 'entropy', 'splitter': 'best'}. Best is trial 22 with value: 0.7112739456190285.\n",
      "[I 2025-10-01 02:22:10,680] Trial 36 finished with value: 0.5873455798505827 and parameters: {'max_features_type': 'none', 'max_depth': 18, 'min_samples_split': 2, 'min_samples_leaf': 3, 'criterion': 'gini', 'splitter': 'random'}. Best is trial 22 with value: 0.7112739456190285.\n",
      "[I 2025-10-01 02:22:23,549] Trial 37 finished with value: 0.709418410173679 and parameters: {'max_features_type': 'none', 'max_depth': 23, 'min_samples_split': 5, 'min_samples_leaf': 1, 'criterion': 'log_loss', 'splitter': 'best'}. Best is trial 22 with value: 0.7112739456190285.\n",
      "[I 2025-10-01 02:22:23,789] Trial 38 finished with value: 0.6633033072822616 and parameters: {'max_features_type': 'none', 'max_depth': 23, 'min_samples_split': 5, 'min_samples_leaf': 1, 'criterion': 'log_loss', 'splitter': 'random'}. Best is trial 22 with value: 0.7112739456190285.\n",
      "[I 2025-10-01 02:22:34,034] Trial 39 finished with value: 0.6668838182591337 and parameters: {'max_features_type': 'none', 'max_depth': 14, 'min_samples_split': 4, 'min_samples_leaf': 2, 'criterion': 'log_loss', 'splitter': 'best'}. Best is trial 22 with value: 0.7112739456190285.\n",
      "[I 2025-10-01 02:22:34,101] Trial 40 finished with value: 0.4596011772882778 and parameters: {'max_features_type': 'fixed', 'max_depth': 20, 'min_samples_split': 10, 'min_samples_leaf': 2, 'max_features': 'log2', 'criterion': 'log_loss', 'splitter': 'random'}. Best is trial 22 with value: 0.7112739456190285.\n",
      "[I 2025-10-01 02:22:47,475] Trial 41 finished with value: 0.7091544268571605 and parameters: {'max_features_type': 'none', 'max_depth': 26, 'min_samples_split': 7, 'min_samples_leaf': 2, 'criterion': 'log_loss', 'splitter': 'best'}. Best is trial 22 with value: 0.7112739456190285.\n",
      "[I 2025-10-01 02:23:00,545] Trial 42 finished with value: 0.7094085658952368 and parameters: {'max_features_type': 'none', 'max_depth': 25, 'min_samples_split': 2, 'min_samples_leaf': 4, 'criterion': 'log_loss', 'splitter': 'best'}. Best is trial 22 with value: 0.7112739456190285.\n",
      "[I 2025-10-01 02:23:13,529] Trial 43 finished with value: 0.7077373487646581 and parameters: {'max_features_type': 'none', 'max_depth': 24, 'min_samples_split': 3, 'min_samples_leaf': 3, 'criterion': 'log_loss', 'splitter': 'best'}. Best is trial 22 with value: 0.7112739456190285.\n",
      "[I 2025-10-01 02:23:26,272] Trial 44 finished with value: 0.7088288365739642 and parameters: {'max_features_type': 'none', 'max_depth': 23, 'min_samples_split': 17, 'min_samples_leaf': 4, 'criterion': 'log_loss', 'splitter': 'best'}. Best is trial 22 with value: 0.7112739456190285.\n",
      "[I 2025-10-01 02:23:39,765] Trial 45 finished with value: 0.705919357627064 and parameters: {'max_features_type': 'none', 'max_depth': 28, 'min_samples_split': 2, 'min_samples_leaf': 6, 'criterion': 'log_loss', 'splitter': 'best'}. Best is trial 22 with value: 0.7112739456190285.\n",
      "[I 2025-10-01 02:23:48,325] Trial 46 finished with value: 0.6208578200845682 and parameters: {'max_features_type': 'none', 'max_depth': 10, 'min_samples_split': 6, 'min_samples_leaf': 1, 'criterion': 'log_loss', 'splitter': 'best'}. Best is trial 22 with value: 0.7112739456190285.\n",
      "[I 2025-10-01 02:23:48,396] Trial 47 finished with value: 0.4741694055958767 and parameters: {'max_features_type': 'fixed', 'max_depth': 25, 'min_samples_split': 9, 'min_samples_leaf': 4, 'max_features': 'log2', 'criterion': 'log_loss', 'splitter': 'random'}. Best is trial 22 with value: 0.7112739456190285.\n",
      "[I 2025-10-01 02:23:59,810] Trial 48 finished with value: 0.6835698809904956 and parameters: {'max_features_type': 'none', 'max_depth': 19, 'min_samples_split': 50, 'min_samples_leaf': 13, 'criterion': 'log_loss', 'splitter': 'best'}. Best is trial 22 with value: 0.7112739456190285.\n",
      "[I 2025-10-01 02:24:06,529] Trial 49 finished with value: 0.7143659168606741 and parameters: {'max_features_type': 'none', 'max_depth': 27, 'min_samples_split': 15, 'min_samples_leaf': 8, 'criterion': 'gini', 'splitter': 'best'}. Best is trial 49 with value: 0.7143659168606741.\n",
      "\n",
      "✅ DecisionTree optimization complete!\n",
      "   Time: 6.8 minutes\n",
      "   Best F1: 0.7144\n",
      "   Improvement: +0.39%\n",
      "   Best params: {'max_features_type': 'none', 'max_depth': 27, 'min_samples_split': 15, 'min_samples_leaf': 8, 'criterion': 'gini', 'splitter': 'best'}\n"
     ]
    }
   ],
   "source": [
    "# Create Optuna study for DecisionTree\n",
    "print(\"🔍 Starting DecisionTree optimization...\")\n",
    "print(f\"   Trials: 50\")\n",
    "print(f\"   Estimated time: ~15-20 minutes\")\n",
    "print(f\"   Started at: {datetime.now().strftime('%H:%M:%S')}\")\n",
    "\n",
    "dt_study = optuna.create_study(\n",
    "    direction='maximize',\n",
    "    sampler=TPESampler(seed=RANDOM_STATE),\n",
    "    pruner=MedianPruner(n_startup_trials=5, n_warmup_steps=2)\n",
    ")\n",
    "\n",
    "# Optimize\n",
    "dt_start = time.time()\n",
    "dt_study.optimize(\n",
    "    objective_dt,\n",
    "    n_trials=50,\n",
    "    show_progress_bar=True,\n",
    "    n_jobs=1\n",
    ")\n",
    "dt_elapsed = time.time() - dt_start\n",
    "\n",
    "print(f\"\\n✅ DecisionTree optimization complete!\")\n",
    "print(f\"   Time: {dt_elapsed/60:.1f} minutes\")\n",
    "print(f\"   Best F1: {dt_study.best_value:.4f}\")\n",
    "print(f\"   Improvement: {(dt_study.best_value - DT_BASELINE_F1)*100:+.2f}%\")\n",
    "print(f\"   Best params: {dt_study.best_params}\")"
   ]
  },
  {
   "cell_type": "markdown",
   "metadata": {},
   "source": [
    "### 📊 DecisionTree Optimization Visualizations"
   ]
  },
  {
   "cell_type": "code",
   "execution_count": 21,
   "metadata": {},
   "outputs": [
    {
     "data": {
      "application/vnd.plotly.v1+json": {
       "config": {
        "plotlyServerURL": "https://plot.ly"
       },
       "data": [
        {
         "mode": "markers",
         "name": "Objective Value",
         "type": "scatter",
         "x": [
          0,
          1,
          2,
          3,
          4,
          5,
          6,
          7,
          8,
          9,
          10,
          11,
          12,
          13,
          14,
          15,
          16,
          17,
          18,
          19,
          20,
          21,
          22,
          23,
          24,
          25,
          26,
          27,
          28,
          29,
          30,
          31,
          32,
          33,
          34,
          35,
          36,
          37,
          38,
          39,
          40,
          41,
          42,
          43,
          44,
          45,
          46,
          47,
          48,
          49
         ],
         "y": [
          0.5896084357141668,
          0.2662890152365593,
          0.5816417782143384,
          0.39532168794777345,
          0.6220413879531141,
          0.25393904021364655,
          0.22043293928008936,
          0.6765707189709959,
          0.1726293307655124,
          0.6489777573997527,
          0.7064004297264457,
          0.7072967629721705,
          0.7049717510547445,
          0.7064078428093769,
          0.6935095988515222,
          0.7011095887301797,
          0.6578883812419887,
          0.701793660870693,
          0.6982919405267253,
          0.702855060119843,
          0.6373026310067317,
          0.708399888698803,
          0.7112739456190285,
          0.7047788998300227,
          0.7021291857424591,
          0.7055759020514694,
          0.7084031217281913,
          0.7056184357943852,
          0.6072203792515447,
          0.7097132330954143,
          0.6587842664141009,
          0.7088847621820483,
          0.7065978815616523,
          0.7094063835498288,
          0.7103112413862541,
          0.7021681313272048,
          0.5873455798505827,
          0.709418410173679,
          0.6633033072822616,
          0.6668838182591337,
          0.4596011772882778,
          0.7091544268571605,
          0.7094085658952368,
          0.7077373487646581,
          0.7088288365739642,
          0.705919357627064,
          0.6208578200845682,
          0.4741694055958767,
          0.6835698809904956,
          0.7143659168606741
         ]
        },
        {
         "mode": "lines",
         "name": "Best Value",
         "type": "scatter",
         "x": [
          0,
          1,
          2,
          3,
          4,
          5,
          6,
          7,
          8,
          9,
          10,
          11,
          12,
          13,
          14,
          15,
          16,
          17,
          18,
          19,
          20,
          21,
          22,
          23,
          24,
          25,
          26,
          27,
          28,
          29,
          30,
          31,
          32,
          33,
          34,
          35,
          36,
          37,
          38,
          39,
          40,
          41,
          42,
          43,
          44,
          45,
          46,
          47,
          48,
          49
         ],
         "y": [
          0.5896084357141668,
          0.5896084357141668,
          0.5896084357141668,
          0.5896084357141668,
          0.6220413879531141,
          0.6220413879531141,
          0.6220413879531141,
          0.6765707189709959,
          0.6765707189709959,
          0.6765707189709959,
          0.7064004297264457,
          0.7072967629721705,
          0.7072967629721705,
          0.7072967629721705,
          0.7072967629721705,
          0.7072967629721705,
          0.7072967629721705,
          0.7072967629721705,
          0.7072967629721705,
          0.7072967629721705,
          0.7072967629721705,
          0.708399888698803,
          0.7112739456190285,
          0.7112739456190285,
          0.7112739456190285,
          0.7112739456190285,
          0.7112739456190285,
          0.7112739456190285,
          0.7112739456190285,
          0.7112739456190285,
          0.7112739456190285,
          0.7112739456190285,
          0.7112739456190285,
          0.7112739456190285,
          0.7112739456190285,
          0.7112739456190285,
          0.7112739456190285,
          0.7112739456190285,
          0.7112739456190285,
          0.7112739456190285,
          0.7112739456190285,
          0.7112739456190285,
          0.7112739456190285,
          0.7112739456190285,
          0.7112739456190285,
          0.7112739456190285,
          0.7112739456190285,
          0.7112739456190285,
          0.7112739456190285,
          0.7143659168606741
         ]
        },
        {
         "marker": {
          "color": "#cccccc"
         },
         "mode": "markers",
         "name": "Infeasible Trial",
         "showlegend": false,
         "type": "scatter",
         "x": [],
         "y": []
        }
       ],
       "layout": {
        "template": {
         "data": {
          "bar": [
           {
            "error_x": {
             "color": "#2a3f5f"
            },
            "error_y": {
             "color": "#2a3f5f"
            },
            "marker": {
             "line": {
              "color": "#E5ECF6",
              "width": 0.5
             },
             "pattern": {
              "fillmode": "overlay",
              "size": 10,
              "solidity": 0.2
             }
            },
            "type": "bar"
           }
          ],
          "barpolar": [
           {
            "marker": {
             "line": {
              "color": "#E5ECF6",
              "width": 0.5
             },
             "pattern": {
              "fillmode": "overlay",
              "size": 10,
              "solidity": 0.2
             }
            },
            "type": "barpolar"
           }
          ],
          "carpet": [
           {
            "aaxis": {
             "endlinecolor": "#2a3f5f",
             "gridcolor": "white",
             "linecolor": "white",
             "minorgridcolor": "white",
             "startlinecolor": "#2a3f5f"
            },
            "baxis": {
             "endlinecolor": "#2a3f5f",
             "gridcolor": "white",
             "linecolor": "white",
             "minorgridcolor": "white",
             "startlinecolor": "#2a3f5f"
            },
            "type": "carpet"
           }
          ],
          "choropleth": [
           {
            "colorbar": {
             "outlinewidth": 0,
             "ticks": ""
            },
            "type": "choropleth"
           }
          ],
          "contour": [
           {
            "colorbar": {
             "outlinewidth": 0,
             "ticks": ""
            },
            "colorscale": [
             [
              0,
              "#0d0887"
             ],
             [
              0.1111111111111111,
              "#46039f"
             ],
             [
              0.2222222222222222,
              "#7201a8"
             ],
             [
              0.3333333333333333,
              "#9c179e"
             ],
             [
              0.4444444444444444,
              "#bd3786"
             ],
             [
              0.5555555555555556,
              "#d8576b"
             ],
             [
              0.6666666666666666,
              "#ed7953"
             ],
             [
              0.7777777777777778,
              "#fb9f3a"
             ],
             [
              0.8888888888888888,
              "#fdca26"
             ],
             [
              1,
              "#f0f921"
             ]
            ],
            "type": "contour"
           }
          ],
          "contourcarpet": [
           {
            "colorbar": {
             "outlinewidth": 0,
             "ticks": ""
            },
            "type": "contourcarpet"
           }
          ],
          "heatmap": [
           {
            "colorbar": {
             "outlinewidth": 0,
             "ticks": ""
            },
            "colorscale": [
             [
              0,
              "#0d0887"
             ],
             [
              0.1111111111111111,
              "#46039f"
             ],
             [
              0.2222222222222222,
              "#7201a8"
             ],
             [
              0.3333333333333333,
              "#9c179e"
             ],
             [
              0.4444444444444444,
              "#bd3786"
             ],
             [
              0.5555555555555556,
              "#d8576b"
             ],
             [
              0.6666666666666666,
              "#ed7953"
             ],
             [
              0.7777777777777778,
              "#fb9f3a"
             ],
             [
              0.8888888888888888,
              "#fdca26"
             ],
             [
              1,
              "#f0f921"
             ]
            ],
            "type": "heatmap"
           }
          ],
          "histogram": [
           {
            "marker": {
             "pattern": {
              "fillmode": "overlay",
              "size": 10,
              "solidity": 0.2
             }
            },
            "type": "histogram"
           }
          ],
          "histogram2d": [
           {
            "colorbar": {
             "outlinewidth": 0,
             "ticks": ""
            },
            "colorscale": [
             [
              0,
              "#0d0887"
             ],
             [
              0.1111111111111111,
              "#46039f"
             ],
             [
              0.2222222222222222,
              "#7201a8"
             ],
             [
              0.3333333333333333,
              "#9c179e"
             ],
             [
              0.4444444444444444,
              "#bd3786"
             ],
             [
              0.5555555555555556,
              "#d8576b"
             ],
             [
              0.6666666666666666,
              "#ed7953"
             ],
             [
              0.7777777777777778,
              "#fb9f3a"
             ],
             [
              0.8888888888888888,
              "#fdca26"
             ],
             [
              1,
              "#f0f921"
             ]
            ],
            "type": "histogram2d"
           }
          ],
          "histogram2dcontour": [
           {
            "colorbar": {
             "outlinewidth": 0,
             "ticks": ""
            },
            "colorscale": [
             [
              0,
              "#0d0887"
             ],
             [
              0.1111111111111111,
              "#46039f"
             ],
             [
              0.2222222222222222,
              "#7201a8"
             ],
             [
              0.3333333333333333,
              "#9c179e"
             ],
             [
              0.4444444444444444,
              "#bd3786"
             ],
             [
              0.5555555555555556,
              "#d8576b"
             ],
             [
              0.6666666666666666,
              "#ed7953"
             ],
             [
              0.7777777777777778,
              "#fb9f3a"
             ],
             [
              0.8888888888888888,
              "#fdca26"
             ],
             [
              1,
              "#f0f921"
             ]
            ],
            "type": "histogram2dcontour"
           }
          ],
          "mesh3d": [
           {
            "colorbar": {
             "outlinewidth": 0,
             "ticks": ""
            },
            "type": "mesh3d"
           }
          ],
          "parcoords": [
           {
            "line": {
             "colorbar": {
              "outlinewidth": 0,
              "ticks": ""
             }
            },
            "type": "parcoords"
           }
          ],
          "pie": [
           {
            "automargin": true,
            "type": "pie"
           }
          ],
          "scatter": [
           {
            "fillpattern": {
             "fillmode": "overlay",
             "size": 10,
             "solidity": 0.2
            },
            "type": "scatter"
           }
          ],
          "scatter3d": [
           {
            "line": {
             "colorbar": {
              "outlinewidth": 0,
              "ticks": ""
             }
            },
            "marker": {
             "colorbar": {
              "outlinewidth": 0,
              "ticks": ""
             }
            },
            "type": "scatter3d"
           }
          ],
          "scattercarpet": [
           {
            "marker": {
             "colorbar": {
              "outlinewidth": 0,
              "ticks": ""
             }
            },
            "type": "scattercarpet"
           }
          ],
          "scattergeo": [
           {
            "marker": {
             "colorbar": {
              "outlinewidth": 0,
              "ticks": ""
             }
            },
            "type": "scattergeo"
           }
          ],
          "scattergl": [
           {
            "marker": {
             "colorbar": {
              "outlinewidth": 0,
              "ticks": ""
             }
            },
            "type": "scattergl"
           }
          ],
          "scattermap": [
           {
            "marker": {
             "colorbar": {
              "outlinewidth": 0,
              "ticks": ""
             }
            },
            "type": "scattermap"
           }
          ],
          "scattermapbox": [
           {
            "marker": {
             "colorbar": {
              "outlinewidth": 0,
              "ticks": ""
             }
            },
            "type": "scattermapbox"
           }
          ],
          "scatterpolar": [
           {
            "marker": {
             "colorbar": {
              "outlinewidth": 0,
              "ticks": ""
             }
            },
            "type": "scatterpolar"
           }
          ],
          "scatterpolargl": [
           {
            "marker": {
             "colorbar": {
              "outlinewidth": 0,
              "ticks": ""
             }
            },
            "type": "scatterpolargl"
           }
          ],
          "scatterternary": [
           {
            "marker": {
             "colorbar": {
              "outlinewidth": 0,
              "ticks": ""
             }
            },
            "type": "scatterternary"
           }
          ],
          "surface": [
           {
            "colorbar": {
             "outlinewidth": 0,
             "ticks": ""
            },
            "colorscale": [
             [
              0,
              "#0d0887"
             ],
             [
              0.1111111111111111,
              "#46039f"
             ],
             [
              0.2222222222222222,
              "#7201a8"
             ],
             [
              0.3333333333333333,
              "#9c179e"
             ],
             [
              0.4444444444444444,
              "#bd3786"
             ],
             [
              0.5555555555555556,
              "#d8576b"
             ],
             [
              0.6666666666666666,
              "#ed7953"
             ],
             [
              0.7777777777777778,
              "#fb9f3a"
             ],
             [
              0.8888888888888888,
              "#fdca26"
             ],
             [
              1,
              "#f0f921"
             ]
            ],
            "type": "surface"
           }
          ],
          "table": [
           {
            "cells": {
             "fill": {
              "color": "#EBF0F8"
             },
             "line": {
              "color": "white"
             }
            },
            "header": {
             "fill": {
              "color": "#C8D4E3"
             },
             "line": {
              "color": "white"
             }
            },
            "type": "table"
           }
          ]
         },
         "layout": {
          "annotationdefaults": {
           "arrowcolor": "#2a3f5f",
           "arrowhead": 0,
           "arrowwidth": 1
          },
          "autotypenumbers": "strict",
          "coloraxis": {
           "colorbar": {
            "outlinewidth": 0,
            "ticks": ""
           }
          },
          "colorscale": {
           "diverging": [
            [
             0,
             "#8e0152"
            ],
            [
             0.1,
             "#c51b7d"
            ],
            [
             0.2,
             "#de77ae"
            ],
            [
             0.3,
             "#f1b6da"
            ],
            [
             0.4,
             "#fde0ef"
            ],
            [
             0.5,
             "#f7f7f7"
            ],
            [
             0.6,
             "#e6f5d0"
            ],
            [
             0.7,
             "#b8e186"
            ],
            [
             0.8,
             "#7fbc41"
            ],
            [
             0.9,
             "#4d9221"
            ],
            [
             1,
             "#276419"
            ]
           ],
           "sequential": [
            [
             0,
             "#0d0887"
            ],
            [
             0.1111111111111111,
             "#46039f"
            ],
            [
             0.2222222222222222,
             "#7201a8"
            ],
            [
             0.3333333333333333,
             "#9c179e"
            ],
            [
             0.4444444444444444,
             "#bd3786"
            ],
            [
             0.5555555555555556,
             "#d8576b"
            ],
            [
             0.6666666666666666,
             "#ed7953"
            ],
            [
             0.7777777777777778,
             "#fb9f3a"
            ],
            [
             0.8888888888888888,
             "#fdca26"
            ],
            [
             1,
             "#f0f921"
            ]
           ],
           "sequentialminus": [
            [
             0,
             "#0d0887"
            ],
            [
             0.1111111111111111,
             "#46039f"
            ],
            [
             0.2222222222222222,
             "#7201a8"
            ],
            [
             0.3333333333333333,
             "#9c179e"
            ],
            [
             0.4444444444444444,
             "#bd3786"
            ],
            [
             0.5555555555555556,
             "#d8576b"
            ],
            [
             0.6666666666666666,
             "#ed7953"
            ],
            [
             0.7777777777777778,
             "#fb9f3a"
            ],
            [
             0.8888888888888888,
             "#fdca26"
            ],
            [
             1,
             "#f0f921"
            ]
           ]
          },
          "colorway": [
           "#636efa",
           "#EF553B",
           "#00cc96",
           "#ab63fa",
           "#FFA15A",
           "#19d3f3",
           "#FF6692",
           "#B6E880",
           "#FF97FF",
           "#FECB52"
          ],
          "font": {
           "color": "#2a3f5f"
          },
          "geo": {
           "bgcolor": "white",
           "lakecolor": "white",
           "landcolor": "#E5ECF6",
           "showlakes": true,
           "showland": true,
           "subunitcolor": "white"
          },
          "hoverlabel": {
           "align": "left"
          },
          "hovermode": "closest",
          "mapbox": {
           "style": "light"
          },
          "paper_bgcolor": "white",
          "plot_bgcolor": "#E5ECF6",
          "polar": {
           "angularaxis": {
            "gridcolor": "white",
            "linecolor": "white",
            "ticks": ""
           },
           "bgcolor": "#E5ECF6",
           "radialaxis": {
            "gridcolor": "white",
            "linecolor": "white",
            "ticks": ""
           }
          },
          "scene": {
           "xaxis": {
            "backgroundcolor": "#E5ECF6",
            "gridcolor": "white",
            "gridwidth": 2,
            "linecolor": "white",
            "showbackground": true,
            "ticks": "",
            "zerolinecolor": "white"
           },
           "yaxis": {
            "backgroundcolor": "#E5ECF6",
            "gridcolor": "white",
            "gridwidth": 2,
            "linecolor": "white",
            "showbackground": true,
            "ticks": "",
            "zerolinecolor": "white"
           },
           "zaxis": {
            "backgroundcolor": "#E5ECF6",
            "gridcolor": "white",
            "gridwidth": 2,
            "linecolor": "white",
            "showbackground": true,
            "ticks": "",
            "zerolinecolor": "white"
           }
          },
          "shapedefaults": {
           "line": {
            "color": "#2a3f5f"
           }
          },
          "ternary": {
           "aaxis": {
            "gridcolor": "white",
            "linecolor": "white",
            "ticks": ""
           },
           "baxis": {
            "gridcolor": "white",
            "linecolor": "white",
            "ticks": ""
           },
           "bgcolor": "#E5ECF6",
           "caxis": {
            "gridcolor": "white",
            "linecolor": "white",
            "ticks": ""
           }
          },
          "title": {
           "x": 0.05
          },
          "xaxis": {
           "automargin": true,
           "gridcolor": "white",
           "linecolor": "white",
           "ticks": "",
           "title": {
            "standoff": 15
           },
           "zerolinecolor": "white",
           "zerolinewidth": 2
          },
          "yaxis": {
           "automargin": true,
           "gridcolor": "white",
           "linecolor": "white",
           "ticks": "",
           "title": {
            "standoff": 15
           },
           "zerolinecolor": "white",
           "zerolinewidth": 2
          }
         }
        },
        "title": {
         "text": "DecisionTree: F1 Score Over Trials"
        },
        "xaxis": {
         "title": {
          "text": "Trial"
         }
        },
        "yaxis": {
         "title": {
          "text": "Objective Value"
         }
        }
       }
      }
     },
     "metadata": {},
     "output_type": "display_data"
    },
    {
     "data": {
      "application/vnd.plotly.v1+json": {
       "config": {
        "plotlyServerURL": "https://plot.ly"
       },
       "data": [
        {
         "cliponaxis": false,
         "hovertemplate": [
          "min_samples_leaf (IntDistribution): 0.005696787449489606<extra></extra>",
          "min_samples_split (IntDistribution): 0.007415239509394<extra></extra>",
          "criterion (CategoricalDistribution): 0.011201248459671041<extra></extra>",
          "splitter (CategoricalDistribution): 0.02840468200475881<extra></extra>",
          "max_features_type (CategoricalDistribution): 0.1404940251814074<extra></extra>",
          "max_depth (IntDistribution): 0.8067880173952792<extra></extra>"
         ],
         "name": "Objective Value",
         "orientation": "h",
         "text": [
          "<0.01",
          "<0.01",
          "0.01",
          "0.03",
          "0.14",
          "0.81"
         ],
         "textposition": "outside",
         "type": "bar",
         "x": [
          0.005696787449489606,
          0.007415239509394,
          0.011201248459671041,
          0.02840468200475881,
          0.1404940251814074,
          0.8067880173952792
         ],
         "y": [
          "min_samples_leaf",
          "min_samples_split",
          "criterion",
          "splitter",
          "max_features_type",
          "max_depth"
         ]
        }
       ],
       "layout": {
        "template": {
         "data": {
          "bar": [
           {
            "error_x": {
             "color": "#2a3f5f"
            },
            "error_y": {
             "color": "#2a3f5f"
            },
            "marker": {
             "line": {
              "color": "#E5ECF6",
              "width": 0.5
             },
             "pattern": {
              "fillmode": "overlay",
              "size": 10,
              "solidity": 0.2
             }
            },
            "type": "bar"
           }
          ],
          "barpolar": [
           {
            "marker": {
             "line": {
              "color": "#E5ECF6",
              "width": 0.5
             },
             "pattern": {
              "fillmode": "overlay",
              "size": 10,
              "solidity": 0.2
             }
            },
            "type": "barpolar"
           }
          ],
          "carpet": [
           {
            "aaxis": {
             "endlinecolor": "#2a3f5f",
             "gridcolor": "white",
             "linecolor": "white",
             "minorgridcolor": "white",
             "startlinecolor": "#2a3f5f"
            },
            "baxis": {
             "endlinecolor": "#2a3f5f",
             "gridcolor": "white",
             "linecolor": "white",
             "minorgridcolor": "white",
             "startlinecolor": "#2a3f5f"
            },
            "type": "carpet"
           }
          ],
          "choropleth": [
           {
            "colorbar": {
             "outlinewidth": 0,
             "ticks": ""
            },
            "type": "choropleth"
           }
          ],
          "contour": [
           {
            "colorbar": {
             "outlinewidth": 0,
             "ticks": ""
            },
            "colorscale": [
             [
              0,
              "#0d0887"
             ],
             [
              0.1111111111111111,
              "#46039f"
             ],
             [
              0.2222222222222222,
              "#7201a8"
             ],
             [
              0.3333333333333333,
              "#9c179e"
             ],
             [
              0.4444444444444444,
              "#bd3786"
             ],
             [
              0.5555555555555556,
              "#d8576b"
             ],
             [
              0.6666666666666666,
              "#ed7953"
             ],
             [
              0.7777777777777778,
              "#fb9f3a"
             ],
             [
              0.8888888888888888,
              "#fdca26"
             ],
             [
              1,
              "#f0f921"
             ]
            ],
            "type": "contour"
           }
          ],
          "contourcarpet": [
           {
            "colorbar": {
             "outlinewidth": 0,
             "ticks": ""
            },
            "type": "contourcarpet"
           }
          ],
          "heatmap": [
           {
            "colorbar": {
             "outlinewidth": 0,
             "ticks": ""
            },
            "colorscale": [
             [
              0,
              "#0d0887"
             ],
             [
              0.1111111111111111,
              "#46039f"
             ],
             [
              0.2222222222222222,
              "#7201a8"
             ],
             [
              0.3333333333333333,
              "#9c179e"
             ],
             [
              0.4444444444444444,
              "#bd3786"
             ],
             [
              0.5555555555555556,
              "#d8576b"
             ],
             [
              0.6666666666666666,
              "#ed7953"
             ],
             [
              0.7777777777777778,
              "#fb9f3a"
             ],
             [
              0.8888888888888888,
              "#fdca26"
             ],
             [
              1,
              "#f0f921"
             ]
            ],
            "type": "heatmap"
           }
          ],
          "histogram": [
           {
            "marker": {
             "pattern": {
              "fillmode": "overlay",
              "size": 10,
              "solidity": 0.2
             }
            },
            "type": "histogram"
           }
          ],
          "histogram2d": [
           {
            "colorbar": {
             "outlinewidth": 0,
             "ticks": ""
            },
            "colorscale": [
             [
              0,
              "#0d0887"
             ],
             [
              0.1111111111111111,
              "#46039f"
             ],
             [
              0.2222222222222222,
              "#7201a8"
             ],
             [
              0.3333333333333333,
              "#9c179e"
             ],
             [
              0.4444444444444444,
              "#bd3786"
             ],
             [
              0.5555555555555556,
              "#d8576b"
             ],
             [
              0.6666666666666666,
              "#ed7953"
             ],
             [
              0.7777777777777778,
              "#fb9f3a"
             ],
             [
              0.8888888888888888,
              "#fdca26"
             ],
             [
              1,
              "#f0f921"
             ]
            ],
            "type": "histogram2d"
           }
          ],
          "histogram2dcontour": [
           {
            "colorbar": {
             "outlinewidth": 0,
             "ticks": ""
            },
            "colorscale": [
             [
              0,
              "#0d0887"
             ],
             [
              0.1111111111111111,
              "#46039f"
             ],
             [
              0.2222222222222222,
              "#7201a8"
             ],
             [
              0.3333333333333333,
              "#9c179e"
             ],
             [
              0.4444444444444444,
              "#bd3786"
             ],
             [
              0.5555555555555556,
              "#d8576b"
             ],
             [
              0.6666666666666666,
              "#ed7953"
             ],
             [
              0.7777777777777778,
              "#fb9f3a"
             ],
             [
              0.8888888888888888,
              "#fdca26"
             ],
             [
              1,
              "#f0f921"
             ]
            ],
            "type": "histogram2dcontour"
           }
          ],
          "mesh3d": [
           {
            "colorbar": {
             "outlinewidth": 0,
             "ticks": ""
            },
            "type": "mesh3d"
           }
          ],
          "parcoords": [
           {
            "line": {
             "colorbar": {
              "outlinewidth": 0,
              "ticks": ""
             }
            },
            "type": "parcoords"
           }
          ],
          "pie": [
           {
            "automargin": true,
            "type": "pie"
           }
          ],
          "scatter": [
           {
            "fillpattern": {
             "fillmode": "overlay",
             "size": 10,
             "solidity": 0.2
            },
            "type": "scatter"
           }
          ],
          "scatter3d": [
           {
            "line": {
             "colorbar": {
              "outlinewidth": 0,
              "ticks": ""
             }
            },
            "marker": {
             "colorbar": {
              "outlinewidth": 0,
              "ticks": ""
             }
            },
            "type": "scatter3d"
           }
          ],
          "scattercarpet": [
           {
            "marker": {
             "colorbar": {
              "outlinewidth": 0,
              "ticks": ""
             }
            },
            "type": "scattercarpet"
           }
          ],
          "scattergeo": [
           {
            "marker": {
             "colorbar": {
              "outlinewidth": 0,
              "ticks": ""
             }
            },
            "type": "scattergeo"
           }
          ],
          "scattergl": [
           {
            "marker": {
             "colorbar": {
              "outlinewidth": 0,
              "ticks": ""
             }
            },
            "type": "scattergl"
           }
          ],
          "scattermap": [
           {
            "marker": {
             "colorbar": {
              "outlinewidth": 0,
              "ticks": ""
             }
            },
            "type": "scattermap"
           }
          ],
          "scattermapbox": [
           {
            "marker": {
             "colorbar": {
              "outlinewidth": 0,
              "ticks": ""
             }
            },
            "type": "scattermapbox"
           }
          ],
          "scatterpolar": [
           {
            "marker": {
             "colorbar": {
              "outlinewidth": 0,
              "ticks": ""
             }
            },
            "type": "scatterpolar"
           }
          ],
          "scatterpolargl": [
           {
            "marker": {
             "colorbar": {
              "outlinewidth": 0,
              "ticks": ""
             }
            },
            "type": "scatterpolargl"
           }
          ],
          "scatterternary": [
           {
            "marker": {
             "colorbar": {
              "outlinewidth": 0,
              "ticks": ""
             }
            },
            "type": "scatterternary"
           }
          ],
          "surface": [
           {
            "colorbar": {
             "outlinewidth": 0,
             "ticks": ""
            },
            "colorscale": [
             [
              0,
              "#0d0887"
             ],
             [
              0.1111111111111111,
              "#46039f"
             ],
             [
              0.2222222222222222,
              "#7201a8"
             ],
             [
              0.3333333333333333,
              "#9c179e"
             ],
             [
              0.4444444444444444,
              "#bd3786"
             ],
             [
              0.5555555555555556,
              "#d8576b"
             ],
             [
              0.6666666666666666,
              "#ed7953"
             ],
             [
              0.7777777777777778,
              "#fb9f3a"
             ],
             [
              0.8888888888888888,
              "#fdca26"
             ],
             [
              1,
              "#f0f921"
             ]
            ],
            "type": "surface"
           }
          ],
          "table": [
           {
            "cells": {
             "fill": {
              "color": "#EBF0F8"
             },
             "line": {
              "color": "white"
             }
            },
            "header": {
             "fill": {
              "color": "#C8D4E3"
             },
             "line": {
              "color": "white"
             }
            },
            "type": "table"
           }
          ]
         },
         "layout": {
          "annotationdefaults": {
           "arrowcolor": "#2a3f5f",
           "arrowhead": 0,
           "arrowwidth": 1
          },
          "autotypenumbers": "strict",
          "coloraxis": {
           "colorbar": {
            "outlinewidth": 0,
            "ticks": ""
           }
          },
          "colorscale": {
           "diverging": [
            [
             0,
             "#8e0152"
            ],
            [
             0.1,
             "#c51b7d"
            ],
            [
             0.2,
             "#de77ae"
            ],
            [
             0.3,
             "#f1b6da"
            ],
            [
             0.4,
             "#fde0ef"
            ],
            [
             0.5,
             "#f7f7f7"
            ],
            [
             0.6,
             "#e6f5d0"
            ],
            [
             0.7,
             "#b8e186"
            ],
            [
             0.8,
             "#7fbc41"
            ],
            [
             0.9,
             "#4d9221"
            ],
            [
             1,
             "#276419"
            ]
           ],
           "sequential": [
            [
             0,
             "#0d0887"
            ],
            [
             0.1111111111111111,
             "#46039f"
            ],
            [
             0.2222222222222222,
             "#7201a8"
            ],
            [
             0.3333333333333333,
             "#9c179e"
            ],
            [
             0.4444444444444444,
             "#bd3786"
            ],
            [
             0.5555555555555556,
             "#d8576b"
            ],
            [
             0.6666666666666666,
             "#ed7953"
            ],
            [
             0.7777777777777778,
             "#fb9f3a"
            ],
            [
             0.8888888888888888,
             "#fdca26"
            ],
            [
             1,
             "#f0f921"
            ]
           ],
           "sequentialminus": [
            [
             0,
             "#0d0887"
            ],
            [
             0.1111111111111111,
             "#46039f"
            ],
            [
             0.2222222222222222,
             "#7201a8"
            ],
            [
             0.3333333333333333,
             "#9c179e"
            ],
            [
             0.4444444444444444,
             "#bd3786"
            ],
            [
             0.5555555555555556,
             "#d8576b"
            ],
            [
             0.6666666666666666,
             "#ed7953"
            ],
            [
             0.7777777777777778,
             "#fb9f3a"
            ],
            [
             0.8888888888888888,
             "#fdca26"
            ],
            [
             1,
             "#f0f921"
            ]
           ]
          },
          "colorway": [
           "#636efa",
           "#EF553B",
           "#00cc96",
           "#ab63fa",
           "#FFA15A",
           "#19d3f3",
           "#FF6692",
           "#B6E880",
           "#FF97FF",
           "#FECB52"
          ],
          "font": {
           "color": "#2a3f5f"
          },
          "geo": {
           "bgcolor": "white",
           "lakecolor": "white",
           "landcolor": "#E5ECF6",
           "showlakes": true,
           "showland": true,
           "subunitcolor": "white"
          },
          "hoverlabel": {
           "align": "left"
          },
          "hovermode": "closest",
          "mapbox": {
           "style": "light"
          },
          "paper_bgcolor": "white",
          "plot_bgcolor": "#E5ECF6",
          "polar": {
           "angularaxis": {
            "gridcolor": "white",
            "linecolor": "white",
            "ticks": ""
           },
           "bgcolor": "#E5ECF6",
           "radialaxis": {
            "gridcolor": "white",
            "linecolor": "white",
            "ticks": ""
           }
          },
          "scene": {
           "xaxis": {
            "backgroundcolor": "#E5ECF6",
            "gridcolor": "white",
            "gridwidth": 2,
            "linecolor": "white",
            "showbackground": true,
            "ticks": "",
            "zerolinecolor": "white"
           },
           "yaxis": {
            "backgroundcolor": "#E5ECF6",
            "gridcolor": "white",
            "gridwidth": 2,
            "linecolor": "white",
            "showbackground": true,
            "ticks": "",
            "zerolinecolor": "white"
           },
           "zaxis": {
            "backgroundcolor": "#E5ECF6",
            "gridcolor": "white",
            "gridwidth": 2,
            "linecolor": "white",
            "showbackground": true,
            "ticks": "",
            "zerolinecolor": "white"
           }
          },
          "shapedefaults": {
           "line": {
            "color": "#2a3f5f"
           }
          },
          "ternary": {
           "aaxis": {
            "gridcolor": "white",
            "linecolor": "white",
            "ticks": ""
           },
           "baxis": {
            "gridcolor": "white",
            "linecolor": "white",
            "ticks": ""
           },
           "bgcolor": "#E5ECF6",
           "caxis": {
            "gridcolor": "white",
            "linecolor": "white",
            "ticks": ""
           }
          },
          "title": {
           "x": 0.05
          },
          "xaxis": {
           "automargin": true,
           "gridcolor": "white",
           "linecolor": "white",
           "ticks": "",
           "title": {
            "standoff": 15
           },
           "zerolinecolor": "white",
           "zerolinewidth": 2
          },
          "yaxis": {
           "automargin": true,
           "gridcolor": "white",
           "linecolor": "white",
           "ticks": "",
           "title": {
            "standoff": 15
           },
           "zerolinecolor": "white",
           "zerolinewidth": 2
          }
         }
        },
        "title": {
         "text": "DecisionTree: Which Hyperparameters Matter Most?"
        },
        "xaxis": {
         "title": {
          "text": "Hyperparameter Importance"
         }
        },
        "yaxis": {
         "title": {
          "text": "Hyperparameter"
         }
        }
       }
      }
     },
     "metadata": {},
     "output_type": "display_data"
    },
    {
     "name": "stderr",
     "output_type": "stream",
     "text": [
      "[W 2025-10-01 02:24:06,739] Your study has only completed trials with missing parameters.\n"
     ]
    },
    {
     "name": "stdout",
     "output_type": "stream",
     "text": [
      "🌲 Key comparison: Is max_depth more important for single trees than forests?\n"
     ]
    },
    {
     "data": {
      "application/vnd.plotly.v1+json": {
       "config": {
        "plotlyServerURL": "https://plot.ly"
       },
       "data": [],
       "layout": {
        "template": {
         "data": {
          "bar": [
           {
            "error_x": {
             "color": "#2a3f5f"
            },
            "error_y": {
             "color": "#2a3f5f"
            },
            "marker": {
             "line": {
              "color": "#E5ECF6",
              "width": 0.5
             },
             "pattern": {
              "fillmode": "overlay",
              "size": 10,
              "solidity": 0.2
             }
            },
            "type": "bar"
           }
          ],
          "barpolar": [
           {
            "marker": {
             "line": {
              "color": "#E5ECF6",
              "width": 0.5
             },
             "pattern": {
              "fillmode": "overlay",
              "size": 10,
              "solidity": 0.2
             }
            },
            "type": "barpolar"
           }
          ],
          "carpet": [
           {
            "aaxis": {
             "endlinecolor": "#2a3f5f",
             "gridcolor": "white",
             "linecolor": "white",
             "minorgridcolor": "white",
             "startlinecolor": "#2a3f5f"
            },
            "baxis": {
             "endlinecolor": "#2a3f5f",
             "gridcolor": "white",
             "linecolor": "white",
             "minorgridcolor": "white",
             "startlinecolor": "#2a3f5f"
            },
            "type": "carpet"
           }
          ],
          "choropleth": [
           {
            "colorbar": {
             "outlinewidth": 0,
             "ticks": ""
            },
            "type": "choropleth"
           }
          ],
          "contour": [
           {
            "colorbar": {
             "outlinewidth": 0,
             "ticks": ""
            },
            "colorscale": [
             [
              0,
              "#0d0887"
             ],
             [
              0.1111111111111111,
              "#46039f"
             ],
             [
              0.2222222222222222,
              "#7201a8"
             ],
             [
              0.3333333333333333,
              "#9c179e"
             ],
             [
              0.4444444444444444,
              "#bd3786"
             ],
             [
              0.5555555555555556,
              "#d8576b"
             ],
             [
              0.6666666666666666,
              "#ed7953"
             ],
             [
              0.7777777777777778,
              "#fb9f3a"
             ],
             [
              0.8888888888888888,
              "#fdca26"
             ],
             [
              1,
              "#f0f921"
             ]
            ],
            "type": "contour"
           }
          ],
          "contourcarpet": [
           {
            "colorbar": {
             "outlinewidth": 0,
             "ticks": ""
            },
            "type": "contourcarpet"
           }
          ],
          "heatmap": [
           {
            "colorbar": {
             "outlinewidth": 0,
             "ticks": ""
            },
            "colorscale": [
             [
              0,
              "#0d0887"
             ],
             [
              0.1111111111111111,
              "#46039f"
             ],
             [
              0.2222222222222222,
              "#7201a8"
             ],
             [
              0.3333333333333333,
              "#9c179e"
             ],
             [
              0.4444444444444444,
              "#bd3786"
             ],
             [
              0.5555555555555556,
              "#d8576b"
             ],
             [
              0.6666666666666666,
              "#ed7953"
             ],
             [
              0.7777777777777778,
              "#fb9f3a"
             ],
             [
              0.8888888888888888,
              "#fdca26"
             ],
             [
              1,
              "#f0f921"
             ]
            ],
            "type": "heatmap"
           }
          ],
          "histogram": [
           {
            "marker": {
             "pattern": {
              "fillmode": "overlay",
              "size": 10,
              "solidity": 0.2
             }
            },
            "type": "histogram"
           }
          ],
          "histogram2d": [
           {
            "colorbar": {
             "outlinewidth": 0,
             "ticks": ""
            },
            "colorscale": [
             [
              0,
              "#0d0887"
             ],
             [
              0.1111111111111111,
              "#46039f"
             ],
             [
              0.2222222222222222,
              "#7201a8"
             ],
             [
              0.3333333333333333,
              "#9c179e"
             ],
             [
              0.4444444444444444,
              "#bd3786"
             ],
             [
              0.5555555555555556,
              "#d8576b"
             ],
             [
              0.6666666666666666,
              "#ed7953"
             ],
             [
              0.7777777777777778,
              "#fb9f3a"
             ],
             [
              0.8888888888888888,
              "#fdca26"
             ],
             [
              1,
              "#f0f921"
             ]
            ],
            "type": "histogram2d"
           }
          ],
          "histogram2dcontour": [
           {
            "colorbar": {
             "outlinewidth": 0,
             "ticks": ""
            },
            "colorscale": [
             [
              0,
              "#0d0887"
             ],
             [
              0.1111111111111111,
              "#46039f"
             ],
             [
              0.2222222222222222,
              "#7201a8"
             ],
             [
              0.3333333333333333,
              "#9c179e"
             ],
             [
              0.4444444444444444,
              "#bd3786"
             ],
             [
              0.5555555555555556,
              "#d8576b"
             ],
             [
              0.6666666666666666,
              "#ed7953"
             ],
             [
              0.7777777777777778,
              "#fb9f3a"
             ],
             [
              0.8888888888888888,
              "#fdca26"
             ],
             [
              1,
              "#f0f921"
             ]
            ],
            "type": "histogram2dcontour"
           }
          ],
          "mesh3d": [
           {
            "colorbar": {
             "outlinewidth": 0,
             "ticks": ""
            },
            "type": "mesh3d"
           }
          ],
          "parcoords": [
           {
            "line": {
             "colorbar": {
              "outlinewidth": 0,
              "ticks": ""
             }
            },
            "type": "parcoords"
           }
          ],
          "pie": [
           {
            "automargin": true,
            "type": "pie"
           }
          ],
          "scatter": [
           {
            "fillpattern": {
             "fillmode": "overlay",
             "size": 10,
             "solidity": 0.2
            },
            "type": "scatter"
           }
          ],
          "scatter3d": [
           {
            "line": {
             "colorbar": {
              "outlinewidth": 0,
              "ticks": ""
             }
            },
            "marker": {
             "colorbar": {
              "outlinewidth": 0,
              "ticks": ""
             }
            },
            "type": "scatter3d"
           }
          ],
          "scattercarpet": [
           {
            "marker": {
             "colorbar": {
              "outlinewidth": 0,
              "ticks": ""
             }
            },
            "type": "scattercarpet"
           }
          ],
          "scattergeo": [
           {
            "marker": {
             "colorbar": {
              "outlinewidth": 0,
              "ticks": ""
             }
            },
            "type": "scattergeo"
           }
          ],
          "scattergl": [
           {
            "marker": {
             "colorbar": {
              "outlinewidth": 0,
              "ticks": ""
             }
            },
            "type": "scattergl"
           }
          ],
          "scattermap": [
           {
            "marker": {
             "colorbar": {
              "outlinewidth": 0,
              "ticks": ""
             }
            },
            "type": "scattermap"
           }
          ],
          "scattermapbox": [
           {
            "marker": {
             "colorbar": {
              "outlinewidth": 0,
              "ticks": ""
             }
            },
            "type": "scattermapbox"
           }
          ],
          "scatterpolar": [
           {
            "marker": {
             "colorbar": {
              "outlinewidth": 0,
              "ticks": ""
             }
            },
            "type": "scatterpolar"
           }
          ],
          "scatterpolargl": [
           {
            "marker": {
             "colorbar": {
              "outlinewidth": 0,
              "ticks": ""
             }
            },
            "type": "scatterpolargl"
           }
          ],
          "scatterternary": [
           {
            "marker": {
             "colorbar": {
              "outlinewidth": 0,
              "ticks": ""
             }
            },
            "type": "scatterternary"
           }
          ],
          "surface": [
           {
            "colorbar": {
             "outlinewidth": 0,
             "ticks": ""
            },
            "colorscale": [
             [
              0,
              "#0d0887"
             ],
             [
              0.1111111111111111,
              "#46039f"
             ],
             [
              0.2222222222222222,
              "#7201a8"
             ],
             [
              0.3333333333333333,
              "#9c179e"
             ],
             [
              0.4444444444444444,
              "#bd3786"
             ],
             [
              0.5555555555555556,
              "#d8576b"
             ],
             [
              0.6666666666666666,
              "#ed7953"
             ],
             [
              0.7777777777777778,
              "#fb9f3a"
             ],
             [
              0.8888888888888888,
              "#fdca26"
             ],
             [
              1,
              "#f0f921"
             ]
            ],
            "type": "surface"
           }
          ],
          "table": [
           {
            "cells": {
             "fill": {
              "color": "#EBF0F8"
             },
             "line": {
              "color": "white"
             }
            },
            "header": {
             "fill": {
              "color": "#C8D4E3"
             },
             "line": {
              "color": "white"
             }
            },
            "type": "table"
           }
          ]
         },
         "layout": {
          "annotationdefaults": {
           "arrowcolor": "#2a3f5f",
           "arrowhead": 0,
           "arrowwidth": 1
          },
          "autotypenumbers": "strict",
          "coloraxis": {
           "colorbar": {
            "outlinewidth": 0,
            "ticks": ""
           }
          },
          "colorscale": {
           "diverging": [
            [
             0,
             "#8e0152"
            ],
            [
             0.1,
             "#c51b7d"
            ],
            [
             0.2,
             "#de77ae"
            ],
            [
             0.3,
             "#f1b6da"
            ],
            [
             0.4,
             "#fde0ef"
            ],
            [
             0.5,
             "#f7f7f7"
            ],
            [
             0.6,
             "#e6f5d0"
            ],
            [
             0.7,
             "#b8e186"
            ],
            [
             0.8,
             "#7fbc41"
            ],
            [
             0.9,
             "#4d9221"
            ],
            [
             1,
             "#276419"
            ]
           ],
           "sequential": [
            [
             0,
             "#0d0887"
            ],
            [
             0.1111111111111111,
             "#46039f"
            ],
            [
             0.2222222222222222,
             "#7201a8"
            ],
            [
             0.3333333333333333,
             "#9c179e"
            ],
            [
             0.4444444444444444,
             "#bd3786"
            ],
            [
             0.5555555555555556,
             "#d8576b"
            ],
            [
             0.6666666666666666,
             "#ed7953"
            ],
            [
             0.7777777777777778,
             "#fb9f3a"
            ],
            [
             0.8888888888888888,
             "#fdca26"
            ],
            [
             1,
             "#f0f921"
            ]
           ],
           "sequentialminus": [
            [
             0,
             "#0d0887"
            ],
            [
             0.1111111111111111,
             "#46039f"
            ],
            [
             0.2222222222222222,
             "#7201a8"
            ],
            [
             0.3333333333333333,
             "#9c179e"
            ],
            [
             0.4444444444444444,
             "#bd3786"
            ],
            [
             0.5555555555555556,
             "#d8576b"
            ],
            [
             0.6666666666666666,
             "#ed7953"
            ],
            [
             0.7777777777777778,
             "#fb9f3a"
            ],
            [
             0.8888888888888888,
             "#fdca26"
            ],
            [
             1,
             "#f0f921"
            ]
           ]
          },
          "colorway": [
           "#636efa",
           "#EF553B",
           "#00cc96",
           "#ab63fa",
           "#FFA15A",
           "#19d3f3",
           "#FF6692",
           "#B6E880",
           "#FF97FF",
           "#FECB52"
          ],
          "font": {
           "color": "#2a3f5f"
          },
          "geo": {
           "bgcolor": "white",
           "lakecolor": "white",
           "landcolor": "#E5ECF6",
           "showlakes": true,
           "showland": true,
           "subunitcolor": "white"
          },
          "hoverlabel": {
           "align": "left"
          },
          "hovermode": "closest",
          "mapbox": {
           "style": "light"
          },
          "paper_bgcolor": "white",
          "plot_bgcolor": "#E5ECF6",
          "polar": {
           "angularaxis": {
            "gridcolor": "white",
            "linecolor": "white",
            "ticks": ""
           },
           "bgcolor": "#E5ECF6",
           "radialaxis": {
            "gridcolor": "white",
            "linecolor": "white",
            "ticks": ""
           }
          },
          "scene": {
           "xaxis": {
            "backgroundcolor": "#E5ECF6",
            "gridcolor": "white",
            "gridwidth": 2,
            "linecolor": "white",
            "showbackground": true,
            "ticks": "",
            "zerolinecolor": "white"
           },
           "yaxis": {
            "backgroundcolor": "#E5ECF6",
            "gridcolor": "white",
            "gridwidth": 2,
            "linecolor": "white",
            "showbackground": true,
            "ticks": "",
            "zerolinecolor": "white"
           },
           "zaxis": {
            "backgroundcolor": "#E5ECF6",
            "gridcolor": "white",
            "gridwidth": 2,
            "linecolor": "white",
            "showbackground": true,
            "ticks": "",
            "zerolinecolor": "white"
           }
          },
          "shapedefaults": {
           "line": {
            "color": "#2a3f5f"
           }
          },
          "ternary": {
           "aaxis": {
            "gridcolor": "white",
            "linecolor": "white",
            "ticks": ""
           },
           "baxis": {
            "gridcolor": "white",
            "linecolor": "white",
            "ticks": ""
           },
           "bgcolor": "#E5ECF6",
           "caxis": {
            "gridcolor": "white",
            "linecolor": "white",
            "ticks": ""
           }
          },
          "title": {
           "x": 0.05
          },
          "xaxis": {
           "automargin": true,
           "gridcolor": "white",
           "linecolor": "white",
           "ticks": "",
           "title": {
            "standoff": 15
           },
           "zerolinecolor": "white",
           "zerolinewidth": 2
          },
          "yaxis": {
           "automargin": true,
           "gridcolor": "white",
           "linecolor": "white",
           "ticks": "",
           "title": {
            "standoff": 15
           },
           "zerolinecolor": "white",
           "zerolinewidth": 2
          }
         }
        },
        "title": {
         "text": "DecisionTree: Hyperparameter Relationships"
        }
       }
      }
     },
     "metadata": {},
     "output_type": "display_data"
    }
   ],
   "source": [
    "# Optimization history\n",
    "fig = optuna.visualization.plot_optimization_history(dt_study)\n",
    "fig.update_layout(title=\"DecisionTree: F1 Score Over Trials\")\n",
    "fig.show()\n",
    "\n",
    "# Parameter importance\n",
    "fig = optuna.visualization.plot_param_importances(dt_study)\n",
    "fig.update_layout(title=\"DecisionTree: Which Hyperparameters Matter Most?\")\n",
    "fig.show()\n",
    "\n",
    "print(\"🌲 Key comparison: Is max_depth more important for single trees than forests?\")\n",
    "\n",
    "# Parallel coordinate plot\n",
    "fig = optuna.visualization.plot_parallel_coordinate(dt_study)\n",
    "fig.update_layout(title=\"DecisionTree: Hyperparameter Relationships\")\n",
    "fig.show()"
   ]
  },
  {
   "cell_type": "markdown",
   "metadata": {},
   "source": [
    "## 9. Results Comparison\n",
    "\n",
    "Now let's compare all 4 models to see which improved most and achieved the best performance!"
   ]
  },
  {
   "cell_type": "code",
   "execution_count": 22,
   "metadata": {},
   "outputs": [
    {
     "name": "stdout",
     "output_type": "stream",
     "text": [
      "\n",
      "================================================================================\n",
      "📊 OPTIMIZATION RESULTS SUMMARY\n",
      "================================================================================\n",
      "\n",
      "       Model Baseline F1 Optimized F1 Improvement % Time (min)\n",
      "RandomForest      0.7349       0.7718        +3.69%       11.3\n",
      "         QDA      0.8782       0.7553       -12.29%        0.3\n",
      "DecisionTree      0.7105       0.7144        +0.39%        6.8\n",
      "\n",
      "================================================================================\n",
      "\n",
      "📈 Performance Analysis:\n",
      "   🏆 Best model: RandomForest (F1 = 0.7718)\n",
      "   📈 Most improved: RandomForest (+3.69%)\n",
      "   ⏱️ Total optimization time: 18.3 minutes (0.31 hours)\n",
      "\n",
      "🎯 Goal Achievement:\n",
      "   ✅ RandomForest: 0.7718 (goal: 0.760)\n",
      "   ⚠️ QDA: 0.7553 (goal: 0.880)\n",
      "   ⚠️ DecisionTree: 0.7144 (goal: 0.735)\n"
     ]
    }
   ],
   "source": [
    "# Compile results\n",
    "results_data = [\n",
    "    {\n",
    "        'Model': 'QDA',\n",
    "        'Baseline F1': QDA_BASELINE_F1,\n",
    "        'Baseline Std': QDA_BASELINE_STD,\n",
    "        'Optimized F1': qda_study.best_value,\n",
    "        'Optimized Std': qda_study.best_trial.user_attrs.get('f1_std', 0.0),\n",
    "        'Improvement': qda_study.best_value - QDA_BASELINE_F1,\n",
    "        'Improvement %': (qda_study.best_value - QDA_BASELINE_F1) * 100,\n",
    "        'Time (min)': qda_elapsed / 60,\n",
    "        'Trials': len(qda_study.trials),\n",
    "        'Best Params': json.dumps(qda_study.best_params)\n",
    "    },\n",
    "    # {\n",
    "    #     'Model': 'SVC',\n",
    "    #     'Baseline F1': SVC_BASELINE_F1,\n",
    "    #     'Baseline Std': SVC_BASELINE_STD,\n",
    "    #     'Optimized F1': svc_study.best_value,\n",
    "    #     'Optimized Std': svc_study.best_trial.user_attrs.get('f1_std', 0.0),\n",
    "    #     'Improvement': svc_study.best_value - SVC_BASELINE_F1,\n",
    "    #     'Improvement %': (svc_study.best_value - SVC_BASELINE_F1) * 100,\n",
    "    #     'Time (min)': svc_elapsed / 60,\n",
    "    #     'Trials': len(svc_study.trials),\n",
    "    #     'Best Params': json.dumps(svc_study.best_params)\n",
    "    # },\n",
    "    {\n",
    "        'Model': 'RandomForest',\n",
    "        'Baseline F1': RF_BASELINE_F1,\n",
    "        'Baseline Std': RF_BASELINE_STD,\n",
    "        'Optimized F1': rf_study.best_value,\n",
    "        'Optimized Std': rf_study.best_trial.user_attrs.get('f1_std', 0.0),\n",
    "        'Improvement': rf_study.best_value - RF_BASELINE_F1,\n",
    "        'Improvement %': (rf_study.best_value - RF_BASELINE_F1) * 100,\n",
    "        'Time (min)': rf_elapsed / 60,\n",
    "        'Trials': len(rf_study.trials),\n",
    "        'Best Params': json.dumps(rf_study.best_params)\n",
    "    },\n",
    "    {\n",
    "        'Model': 'DecisionTree',\n",
    "        'Baseline F1': DT_BASELINE_F1,\n",
    "        'Baseline Std': DT_BASELINE_STD,\n",
    "        'Optimized F1': dt_study.best_value,\n",
    "        'Optimized Std': dt_study.best_trial.user_attrs.get('f1_std', 0.0),\n",
    "        'Improvement': dt_study.best_value - DT_BASELINE_F1,\n",
    "        'Improvement %': (dt_study.best_value - DT_BASELINE_F1) * 100,\n",
    "        'Time (min)': dt_elapsed / 60,\n",
    "        'Trials': len(dt_study.trials),\n",
    "        'Best Params': json.dumps(dt_study.best_params)\n",
    "    }\n",
    "]\n",
    "\n",
    "results_df = pd.DataFrame(results_data)\n",
    "results_df = results_df.sort_values('Optimized F1', ascending=False)\n",
    "\n",
    "# Display results\n",
    "print(\"\\n\" + \"=\"*80)\n",
    "print(\"📊 OPTIMIZATION RESULTS SUMMARY\")\n",
    "print(\"=\"*80 + \"\\n\")\n",
    "\n",
    "display_df = results_df[['Model', 'Baseline F1', 'Optimized F1', 'Improvement %', 'Time (min)']].copy()\n",
    "display_df['Baseline F1'] = display_df['Baseline F1'].map('{:.4f}'.format)\n",
    "display_df['Optimized F1'] = display_df['Optimized F1'].map('{:.4f}'.format)\n",
    "display_df['Improvement %'] = display_df['Improvement %'].map('{:+.2f}%'.format)\n",
    "display_df['Time (min)'] = display_df['Time (min)'].map('{:.1f}'.format)\n",
    "\n",
    "print(display_df.to_string(index=False))\n",
    "print(\"\\n\" + \"=\"*80)\n",
    "\n",
    "# Statistical significance check\n",
    "print(\"\\n📈 Performance Analysis:\")\n",
    "best_model = results_df.iloc[0]['Model']\n",
    "best_f1 = results_df.iloc[0]['Optimized F1']\n",
    "print(f\"   🏆 Best model: {best_model} (F1 = {best_f1:.4f})\")\n",
    "\n",
    "most_improved = results_df.loc[results_df['Improvement %'].idxmax()]\n",
    "print(f\"   📈 Most improved: {most_improved['Model']} ({most_improved['Improvement %']:+.2f}%)\")\n",
    "\n",
    "total_time = results_df['Time (min)'].sum()\n",
    "print(f\"   ⏱️ Total optimization time: {total_time:.1f} minutes ({total_time/60:.2f} hours)\")\n",
    "\n",
    "# Goal achievement\n",
    "print(\"\\n🎯 Goal Achievement:\")\n",
    "goals = {\n",
    "    'QDA': 0.880,\n",
    "    'SVC': 0.450,\n",
    "    'RandomForest': 0.760,\n",
    "    'DecisionTree': 0.735\n",
    "}\n",
    "\n",
    "for _, row in results_df.iterrows():\n",
    "    model = row['Model']\n",
    "    f1 = row['Optimized F1']\n",
    "    goal = goals[model]\n",
    "    status = \"✅\" if f1 >= goal else \"⚠️\"\n",
    "    print(f\"   {status} {model}: {f1:.4f} (goal: {goal:.3f})\")"
   ]
  },
  {
   "cell_type": "code",
   "execution_count": 23,
   "metadata": {},
   "outputs": [
    {
     "data": {
      "image/png": "[encoded data removed]",
      "text/plain": [
       "<Figure size 1200x600 with 1 Axes>"
      ]
     },
     "metadata": {},
     "output_type": "display_data"
    },
    {
     "name": "stdout",
     "output_type": "stream",
     "text": [
      "📊 Interpretation:\n",
      "   - Orange bars should be higher than blue bars (improvement)\n",
      "   - Larger difference = better optimization\n",
      "   - All models should show some improvement!\n"
     ]
    }
   ],
   "source": [
    "# Visualization: Baseline vs Optimized\n",
    "fig, ax = plt.subplots(figsize=(12, 6))\n",
    "\n",
    "x = np.arange(len(results_df))\n",
    "width = 0.35\n",
    "\n",
    "bars1 = ax.bar(x - width/2, results_df['Baseline F1'], width, \n",
    "               label='Baseline', alpha=0.8, color='steelblue')\n",
    "bars2 = ax.bar(x + width/2, results_df['Optimized F1'], width,\n",
    "               label='Optimized', alpha=0.8, color='darkorange')\n",
    "\n",
    "ax.set_xlabel('Model', fontsize=12)\n",
    "ax.set_ylabel('F1-Macro Score', fontsize=12)\n",
    "ax.set_title('Model Performance: Baseline vs Optimized', fontsize=14, fontweight='bold')\n",
    "ax.set_xticks(x)\n",
    "ax.set_xticklabels(results_df['Model'])\n",
    "ax.legend()\n",
    "ax.grid(axis='y', alpha=0.3)\n",
    "ax.set_ylim(0, 1.0)\n",
    "\n",
    "# Add value labels on bars\n",
    "for bars in [bars1, bars2]:\n",
    "    for bar in bars:\n",
    "        height = bar.get_height()\n",
    "        ax.text(bar.get_x() + bar.get_width()/2., height,\n",
    "                f'{height:.3f}',\n",
    "                ha='center', va='bottom', fontsize=9)\n",
    "\n",
    "plt.tight_layout()\n",
    "plt.show()\n",
    "\n",
    "print(\"📊 Interpretation:\")\n",
    "print(\"   - Orange bars should be higher than blue bars (improvement)\")\n",
    "print(\"   - Larger difference = better optimization\")\n",
    "print(\"   - All models should show some improvement!\")"
   ]
  },
  {
   "cell_type": "markdown",
   "metadata": {},
   "source": [
    "## 10. Model Persistence\n",
    "\n",
    "Save all optimized models and Optuna studies for future use"
   ]
  },
  {
   "cell_type": "code",
   "execution_count": 24,
   "metadata": {},
   "outputs": [
    {
     "name": "stdout",
     "output_type": "stream",
     "text": [
      "💾 Saving optimized models and studies...\n",
      "\n",
      "✅ Saved QDA model to ../models/qda_optimized.pkl\n",
      "   Saved QDA study to ../models/optuna_study_qda.pkl\n",
      "✅ Saved RandomForest model to ../models/randomforest_optimized.pkl\n",
      "   Saved RandomForest study to ../models/optuna_study_randomforest.pkl\n",
      "✅ Saved DecisionTree model to ../models/decisiontree_optimized.pkl\n",
      "   Saved DecisionTree study to ../models/optuna_study_decisiontree.pkl\n",
      "\n",
      "✅ Saved scaler to ../models/scaler_optimized.pkl\n",
      "✅ Saved optimization results to ../outputs/optimization_results.csv\n",
      "\n",
      "💾 All artifacts saved successfully!\n"
     ]
    }
   ],
   "source": [
    "print(\"💾 Saving optimized models and studies...\\n\")\n",
    "\n",
    "# Dictionary mapping studies to model classes\n",
    "model_configs = [\n",
    "    {\n",
    "        'name': 'QDA',\n",
    "        'study': qda_study,\n",
    "        'model_class': QuadraticDiscriminantAnalysis,\n",
    "        'baseline_f1': QDA_BASELINE_F1\n",
    "    },\n",
    "    # {\n",
    "    #     'name': 'SVC',\n",
    "    #     'study': svc_study,\n",
    "    #     'model_class': cuSVC if (GPU_AVAILABLE and CUML_AVAILABLE) else skSVC,\n",
    "    #     'baseline_f1': SVC_BASELINE_F1\n",
    "    # },\n",
    "    {\n",
    "        'name': 'RandomForest',\n",
    "        'study': rf_study,\n",
    "        'model_class': cuRF if (GPU_AVAILABLE and CUML_AVAILABLE) else skRF,\n",
    "        'baseline_f1': RF_BASELINE_F1\n",
    "    },\n",
    "    {\n",
    "        'name': 'DecisionTree',\n",
    "        'study': dt_study,\n",
    "        'model_class': DecisionTreeClassifier,\n",
    "        'baseline_f1': DT_BASELINE_F1\n",
    "    }\n",
    "]\n",
    "\n",
    "# Train and save each model\n",
    "for config in model_configs:\n",
    "    name = config['name']\n",
    "    study = config['study']\n",
    "    model_class = config['model_class']\n",
    "    \n",
    "    # Get best parameters\n",
    "    best_params = study.best_params.copy()\n",
    "    \n",
    "    # Clean up params (remove helper params)\n",
    "    params_to_remove = ['max_features_type', 'gamma_type', 'gamma_value', 'max_features_ratio']\n",
    "    for param in params_to_remove:\n",
    "        if param in best_params:\n",
    "            del best_params[param]\n",
    "    \n",
    "    # Add random state if applicable\n",
    "    if name != 'QDA':\n",
    "        best_params['random_state'] = RANDOM_STATE\n",
    "    \n",
    "    # Create and train model on full dataset\n",
    "    model = model_class(**best_params)\n",
    "    model.fit(X_scaled, y)\n",
    "    \n",
    "    # Add metadata\n",
    "    model._metadata = {\n",
    "        'model_name': name,\n",
    "        'best_params': study.best_params,\n",
    "        'cv_f1_mean': study.best_value,\n",
    "        'cv_f1_std': study.best_trial.user_attrs.get('f1_std', 0.0),\n",
    "        'baseline_f1': config['baseline_f1'],\n",
    "        'improvement': study.best_value - config['baseline_f1'],\n",
    "        'n_features': X_scaled.shape[1],\n",
    "        'feature_names': list(X_scaled.columns),\n",
    "        'optimization_trials': len(study.trials),\n",
    "        'trained_on': datetime.now().isoformat(),\n",
    "        'random_state': RANDOM_STATE\n",
    "    }\n",
    "    \n",
    "    # Save model\n",
    "    model_path = f'../models/{name.lower()}_optimized.pkl'\n",
    "    joblib.dump(model, model_path)\n",
    "    print(f\"✅ Saved {name} model to {model_path}\")\n",
    "    \n",
    "    # Save Optuna study\n",
    "    study_path = f'../models/optuna_study_{name.lower()}.pkl'\n",
    "    joblib.dump(study, study_path)\n",
    "    print(f\"   Saved {name} study to {study_path}\")\n",
    "\n",
    "# Save scaler\n",
    "scaler_path = '../models/scaler_optimized.pkl'\n",
    "joblib.dump(scaler, scaler_path)\n",
    "print(f\"\\n✅ Saved scaler to {scaler_path}\")\n",
    "\n",
    "# Save results CSV\n",
    "csv_path = '../outputs/optimization_results.csv'\n",
    "results_df.to_csv(csv_path, index=False)\n",
    "print(f\"✅ Saved optimization results to {csv_path}\")\n",
    "\n",
    "print(\"\\n💾 All artifacts saved successfully!\")"
   ]
  },
  {
   "cell_type": "markdown",
   "metadata": {},
   "source": [
    "## 11. Reflection: What Did We Learn?\n",
    "\n",
    "### 🤔 Key Learnings\n",
    "\n",
    "**1. Which models benefited most from optimization?**\n",
    "- Look at the \"Improvement %\" column in the results table\n",
    "- Expected: SVC should improve most (low baseline, high potential)\n",
    "- Expected: QDA should improve least (already near-optimal)\n",
    "\n",
    "**2. What surprised us?**\n",
    "- Did any model perform worse than expected?\n",
    "- Were the GPU speedups as expected? (SVC 10x, RF 6x)\n",
    "- Did pruning save significant time?\n",
    "\n",
    "**3. Parameter insights:**\n",
    "- Check the parameter importance plots\n",
    "- Which hyperparameters mattered most for each model?\n",
    "- Were there any unexpected parameter relationships?\n",
    "\n",
    "### ⚠️ Limitations\n",
    "\n",
    "**1. Optimization Budget**\n",
    "- 50 trials per model may not be enough for perfect optimization\n",
    "- Could try 75-100 trials for better results (but longer time)\n",
    "\n",
    "**2. Model-Specific Challenges**\n",
    "- SVC: 21-class classification is inherently difficult\n",
    "- Even with optimization, may not reach high F1 scores\n",
    "- Some classes might be fundamentally hard to distinguish\n",
    "\n",
    "**3. Feature Engineering Not Yet Applied**\n",
    "- Currently using raw 52 features\n",
    "- Feature engineering (notebook 08) may add +1-3% to all models\n",
    "\n",
    "### 🚀 What Could We Try Next?\n",
    "\n",
    "**1. Feature Engineering (Notebook 08)**\n",
    "- Create polynomial features (interactions)\n",
    "- Statistical aggregations\n",
    "- Domain-specific features\n",
    "- Expected: +1-3% improvement for all models\n",
    "\n",
    "**2. Ensemble Methods (Notebook 09)**\n",
    "- Combine multiple optimized models\n",
    "- Voting classifiers (hard/soft)\n",
    "- Stacking with meta-learner\n",
    "- Expected: Beat best individual model (>88%)\n",
    "\n",
    "**3. Alternative Algorithms**\n",
    "- LightGBM, XGBoost, CatBoost (gradient boosting)\n",
    "- Neural networks (TabNet for tabular data)\n",
    "- May achieve even better performance\n",
    "\n",
    "**4. More Trials**\n",
    "- Increase to 75-100 trials per model\n",
    "- Focus extra trials on models with largest improvement potential\n",
    "\n",
    "### 📝 Takeaways\n",
    "\n",
    "1. **Bayesian optimization (Optuna) is efficient**: Found good hyperparameters in 50 trials vs thousands for grid search\n",
    "2. **Trial pruning saves time**: MedianPruner stopped unpromising trials early\n",
    "3. **GPU acceleration matters**: SVC and RF trained much faster with cuML\n",
    "4. **Different models need different tuning**: Some hyperparameters mattered more than others\n",
    "5. **Baseline performance matters**: Hard to improve already-optimal models (QDA), easier to improve poor baselines (SVC)\n",
    "\n",
    "### 🎯 Next Steps\n",
    "\n",
    "1. ✅ Hyperparameter optimization complete\n",
    "2. ⏭️ Continue to Notebook 08: Feature Engineering\n",
    "3. ⏭️ Continue to Notebook 09: Ensemble Methods\n",
    "4. ⏭️ Generate competition submissions for all models"
   ]
  },
  {
   "cell_type": "code",
   "execution_count": 25,
   "metadata": {},
   "outputs": [
    {
     "name": "stdout",
     "output_type": "stream",
     "text": [
      "\n",
      "================================================================================\n",
      "✅ NOTEBOOK 07 COMPLETE\n",
      "================================================================================\n",
      "\n",
      "⏰ Total execution time: 18.3 minutes\n",
      "📊 Best model: RandomForest (F1 = 0.7718)\n",
      "🎯 All models optimized successfully!\n",
      "\n",
      "➡️ Next: Notebook 08 - Feature Engineering\n",
      "   Goal: Create new features to boost all model performances\n",
      "================================================================================\n"
     ]
    }
   ],
   "source": [
    "print(\"\\n\" + \"=\"*80)\n",
    "print(\"✅ NOTEBOOK 07 COMPLETE\")\n",
    "print(\"=\"*80)\n",
    "# print(f\"\\n⏰ Total execution time: {(qda_elapsed + svc_elapsed + rf_elapsed + dt_elapsed)/60:.1f} minutes\")\n",
    "print(f\"\\n⏰ Total execution time: {(qda_elapsed + rf_elapsed + dt_elapsed)/60:.1f} minutes\")\n",
    "print(f\"📊 Best model: {results_df.iloc[0]['Model']} (F1 = {results_df.iloc[0]['Optimized F1']:.4f})\")\n",
    "print(f\"🎯 All models optimized successfully!\")\n",
    "print(f\"\\n➡️ Next: Notebook 08 - Feature Engineering\")\n",
    "print(f\"   Goal: Create new features to boost all model performances\")\n",
    "print(\"=\"*80)"
   ]
  },
  {
   "cell_type": "code",
   "execution_count": null,
   "metadata": {},
   "outputs": [],
   "source": [
    "# 최종 권장 모델 정리\n",
    "print(\"\\n\" + \"=\"*80)\n",
    "print(\"🎯 최종 권장 모델 정리\")\n",
    "print(\"=\"*80 + \"\\n\")\n",
    "\n",
    "recommended_models = {\n",
    "    'Primary (Best)': {\n",
    "        'Model': 'QDA (Baseline)',\n",
    "        'F1-macro': 0.8782,\n",
    "        'Source': 'notebook 06 baseline',\n",
    "        'File': 'N/A - 재학습 필요',\n",
    "        'Notes': '⚠️ Optimized QDA (0.7553) 사용하지 말 것!'\n",
    "    },\n",
    "    'Secondary': {\n",
    "        'Model': 'RandomForest (Optimized)',\n",
    "        'F1-macro': 0.7718,\n",
    "        'Source': 'notebook 07 optimization',\n",
    "        'File': 'models/randomforest_optimized.pkl',\n",
    "        'Notes': '✅ 목표 달성 (0.760 이상)'\n",
    "    },\n",
    "    'Tertiary': {\n",
    "        'Model': 'LogisticRegression (Baseline)',\n",
    "        'F1-macro': 0.8762,\n",
    "        'Source': 'notebook 06 baseline',\n",
    "        'File': 'N/A - 재학습 필요',\n",
    "        'Notes': '✅ 두 번째로 높은 베이스라인'\n",
    "    }\n",
    "}\n",
    "\n",
    "for rank, info in recommended_models.items():\n",
    "    print(f\"【{rank}】\")\n",
    "    for key, value in info.items():\n",
    "        print(f\"  {key}: {value}\")\n",
    "    print()\n",
    "\n",
    "print(\"=\"*80)\n",
    "print(\"\\n💾 저장된 파일 정리:\\n\")\n",
    "\n",
    "saved_files = {\n",
    "    '✅ 사용 가능': [\n",
    "        'models/randomforest_optimized.pkl (F1: 0.7718)',\n",
    "        'models/decisiontree_optimized.pkl (F1: 0.7144)',\n",
    "        'models/scaler_optimized.pkl',\n",
    "        'outputs/optimization_results.csv'\n",
    "    ],\n",
    "    '⚠️ 사용 금지': [\n",
    "        'models/qda_optimized.pkl (F1: 0.7553 - Baseline보다 낮음!)'\n",
    "    ],\n",
    "    '❌ 생성 실패': [\n",
    "        'models/svc_optimized.pkl (GPU 메모리 오류)'\n",
    "    ]\n",
    "}\n",
    "\n",
    "for category, files in saved_files.items():\n",
    "    print(f\"{category}:\")\n",
    "    for file in files:\n",
    "        print(f\"  - {file}\")\n",
    "    print()\n",
    "\n",
    "print(\"=\"*80)\n",
    "print(\"\\n📝 다음 작업 체크리스트:\\n\")\n",
    "\n",
    "checklist = [\n",
    "    ('✅', 'RandomForest 최적화 완료 (목표 달성)'),\n",
    "    ('⚠️', 'QDA 최적화 실패 - Baseline 사용 권장'),\n",
    "    ('⚠️', 'DecisionTree 최적화 미미 - 선택적 사용'),\n",
    "    ('❌', 'SVC 최적화 실패 - GPU 메모리 오류'),\n",
    "    ('🔜', 'Feature Engineering (Notebook 08) 진행'),\n",
    "    ('🔜', 'Ensemble Methods (Notebook 09) - QDA + RF + LR 조합'),\n",
    "    ('🔄', 'QDA 재최적화 고려 (다른 탐색 범위)'),\n",
    "    ('🔄', 'SVC CPU 버전 최적화 고려 (시간 여유 시)')\n",
    "]\n",
    "\n",
    "for status, task in checklist:\n",
    "    print(f\"  {status} {task}\")\n",
    "\n",
    "print(\"\\n\" + \"=\"*80)"
   ]
  },
  {
   "cell_type": "markdown",
   "metadata": {},
   "source": [
    "## 12. 결과 상세 분석\n",
    "\n",
    "### 📊 최적화 결과 요약\n",
    "\n",
    "| 모델 | Baseline F1 | Optimized F1 | 개선율 | 목표 달성 | 소요 시간 |\n",
    "|------|-------------|--------------|--------|-----------|----------|\n",
    "| **RandomForest** | 0.7349 | **0.7718** | **+3.69%** | ✅ (목표: 0.760) | 11.3분 |\n",
    "| **QDA** | 0.8782 | 0.7553 | **-12.29%** | ❌ (목표: 0.880) | 0.3분 |\n",
    "| **DecisionTree** | 0.7105 | 0.7144 | +0.39% | ⚠️ (목표: 0.735) | 6.8분 |\n",
    "| **SVC** | 0.3277 | N/A | N/A | ❌ GPU 메모리 오류 | N/A |\n",
    "\n",
    "### 🎯 주요 발견사항\n",
    "\n",
    "#### 1. **RandomForest: 성공 사례** ✅\n",
    "- **개선율**: +3.69% (목표 초과 달성)\n",
    "- **최적 파라미터**:\n",
    "  - `n_estimators`: 211 (적절한 트리 개수)\n",
    "  - `max_depth`: 30 (충분히 깊은 트리)\n",
    "  - `min_samples_split`: 18 (과적합 방지)\n",
    "  - `max_features_ratio`: 0.99 (대부분의 특성 활용)\n",
    "  - `bootstrap`: True (앙상블 효과 극대화)\n",
    "- **성공 요인**:\n",
    "  - GPU 가속으로 빠른 최적화 (11.3분)\n",
    "  - 하이퍼파라미터 공간이 잘 탐색됨\n",
    "  - 베이스라인이 적절해 개선 여지가 있었음\n",
    "\n",
    "#### 2. **QDA: 심각한 성능 저하** ❌\n",
    "- **개선율**: -12.29% (기대와 정반대)\n",
    "- **최적 파라미터**:\n",
    "  - `reg_param`: 0.0001078 (거의 0에 가까움)\n",
    "  - `store_covariance`: True\n",
    "  - `tol`: 0.000322\n",
    "- **문제 진단**:\n",
    "  1. **과소 정규화**: `reg_param`이 너무 낮아 기본값과 거의 동일\n",
    "  2. **탐색 범위 문제**: `reg_param` 범위 (0.0-1.0)가 적절하지 않았을 가능성\n",
    "  3. **평가 지표 문제**: CV 평가가 제대로 작동하지 않았을 수 있음\n",
    "  4. **스케일링 효과**: MinMaxScaler가 QDA에 부정적 영향?\n",
    "- **권장 조치**:\n",
    "  - Baseline QDA 모델 사용 (0.8782 F1)\n",
    "  - 최적화된 QDA 모델은 사용하지 말 것\n",
    "  - 재최적화 시 `reg_param` 범위 재설정 필요 (0.0-0.1 또는 0.0-0.5)\n",
    "\n",
    "#### 3. **DecisionTree: 미미한 개선** ⚠️\n",
    "- **개선율**: +0.39% (목표 미달)\n",
    "- **최적 파라미터**:\n",
    "  - `max_depth`: 27 (깊은 트리)\n",
    "  - `min_samples_split`: 15\n",
    "  - `min_samples_leaf`: 8\n",
    "  - `criterion`: 'gini'\n",
    "  - `splitter`: 'best'\n",
    "- **분석**:\n",
    "  - 단일 트리의 한계 도달\n",
    "  - 과적합 방지와 성능 향상 사이의 trade-off\n",
    "  - 추가 개선이 어려울 것으로 예상\n",
    "- **권장 조치**:\n",
    "  - 최적화된 모델 사용 가능하나 큰 차이 없음\n",
    "  - RandomForest 사용 권장\n",
    "\n",
    "#### 4. **SVC: GPU 메모리 오류로 실패** ❌\n",
    "- **문제**: cuBLAS 메모리 할당 실패\n",
    "- **원인**: \n",
    "  - 21-class 분류 문제로 인한 높은 메모리 요구\n",
    "  - GPU VRAM 부족 (25.3GB 사용 가능했으나 부족)\n",
    "- **해결 방안**:\n",
    "  - CPU 버전(sklearn SVC) 사용 고려 (시간 소요 예상: 5-6시간)\n",
    "  - 데이터 샘플링 또는 배치 처리\n",
    "  - 또는 SVC 제외하고 진행\n",
    "\n",
    "### 🔍 시사점 및 교훈\n",
    "\n",
    "#### 1. **최적화의 양면성**\n",
    "- 모든 모델이 개선되는 것은 아님\n",
    "- QDA처럼 이미 좋은 모델은 오히려 악화될 수 있음\n",
    "- **Baseline 모델 보존의 중요성**\n",
    "\n",
    "#### 2. **하이퍼파라미터 공간 설정의 중요성**\n",
    "- QDA의 `reg_param` 범위가 부적절했을 가능성\n",
    "- 탐색 범위가 너무 넓거나 좁으면 문제 발생\n",
    "- **도메인 지식과 이론적 배경 필수**\n",
    "\n",
    "#### 3. **GPU 가속의 한계**\n",
    "- RandomForest에서는 효과적 (11분)\n",
    "- SVC에서는 메모리 문제 발생\n",
    "- **GPU 사용 가능 여부와 실제 성능은 별개**\n",
    "\n",
    "#### 4. **평가 지표의 신뢰성**\n",
    "- QDA의 CV 평가가 실제 성능을 반영하지 못함\n",
    "- **검증 세트 또는 홀드아웃 세트로 재확인 필요**\n",
    "\n",
    "### 💡 최종 권장사항\n",
    "\n",
    "#### **모델 선택 전략**\n",
    "\n",
    "1. **Primary Model**: **Baseline QDA** (F1: 0.8782)\n",
    "   - 가장 높은 성능\n",
    "   - 검증된 안정성\n",
    "   - **최적화된 QDA는 사용하지 말 것**\n",
    "\n",
    "2. **Secondary Model**: **Optimized RandomForest** (F1: 0.7718)\n",
    "   - 최적화로 목표 달성\n",
    "   - 앙상블 효과로 안정적\n",
    "   - 특징 중요도 분석 가능\n",
    "\n",
    "3. **Tertiary Model**: **Baseline LogisticRegression** (F1: 0.8762)\n",
    "   - QDA 다음으로 높은 베이스라인\n",
    "   - 빠르고 해석 가능\n",
    "\n",
    "4. **고려 모델**: **Baseline RandomForest** (F1: 0.7349) vs **Optimized RandomForest** (F1: 0.7718)\n",
    "   - 최적화 버전이 명확히 우수\n",
    "\n",
    "#### **다음 단계 우선순위**\n",
    "\n",
    "1. **즉시 진행**:\n",
    "   - ✅ Feature Engineering (Notebook 08)\n",
    "   - ✅ Ensemble Methods (Notebook 09) - QDA + RF + LR 조합\n",
    "   \n",
    "2. **재시도 고려**:\n",
    "   - 🔄 QDA 재최적화 (다른 탐색 범위, 스케일링 방법)\n",
    "   - 🔄 SVC CPU 버전으로 최적화 (시간 여유 시)\n",
    "\n",
    "3. **대안 탐색**:\n",
    "   - 🆕 Gradient Boosting (LightGBM, XGBoost, CatBoost)\n",
    "   - 🆕 다른 선형 모델 (Ridge, ElasticNet)\n",
    "\n",
    "### ⚠️ 주의사항\n",
    "\n",
    "1. **QDA 최적화 모델 사용 금지**\n",
    "   - Baseline보다 12% 낮은 성능\n",
    "   - 저장된 모델 파일: `models/qda_optimized.pkl` - 사용하지 말것\n",
    "   - 대신 Baseline QDA 사용\n",
    "\n",
    "2. **모델 평가 재검증**\n",
    "   - 홀드아웃 검증 세트로 모든 모델 재평가\n",
    "   - CV 결과와 실제 성능 차이 확인\n",
    "\n",
    "3. **앙상블 구성 시**\n",
    "   - Optimized QDA 제외\n",
    "   - Baseline QDA + Optimized RF + Baseline LR 조합 권장"
   ]
  }
 ],
 "metadata": {
  "kernelspec": {
   "display_name": "dacon-smartmh-02",
   "language": "python",
   "name": "python3"
  },
  "language_info": {
   "codemirror_mode": {
    "name": "ipython",
    "version": 3
   },
   "file_extension": ".py",
   "mimetype": "text/x-python",
   "name": "python",
   "nbconvert_exporter": "python",
   "pygments_lexer": "ipython3",
   "version": "3.12.11"
  }
 },
 "nbformat": 4,
 "nbformat_minor": 4
}
