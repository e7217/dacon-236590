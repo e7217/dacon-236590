{
 "cells": [
  {
   "cell_type": "markdown",
   "metadata": {},
   "source": [
    "# Optuna 하이퍼파라미터 최적화\n",
    "\n",
    "## 목표\n",
    "- 베이지안 최적화로 더 효율적인 파라미터 탐색\n",
    "- Pruning으로 시간 절약 (40% 단축)\n",
    "- 목표 성능: 0.815-0.830 F1-macro\n",
    "\n",
    "## Optuna vs RandomizedSearchCV\n",
    "- **RandomizedSearchCV**: 무작위 탐색 (이전 결과 무시)\n",
    "- **Optuna**: 베이지안 최적화 (이전 결과에서 학습)"
   ]
  },
  {
   "cell_type": "code",
   "execution_count": 1,
   "metadata": {},
   "outputs": [],
   "source": [
    "import pandas as pd\n",
    "import numpy as np\n",
    "import lightgbm as lgb\n",
    "import xgboost as xgb\n",
    "import optuna\n",
    "from optuna.integration import LightGBMPruningCallback\n",
    "from sklearn.model_selection import StratifiedKFold\n",
    "from sklearn.preprocessing import MinMaxScaler\n",
    "from sklearn.metrics import f1_score\n",
    "import matplotlib.pyplot as plt\n",
    "import seaborn as sns\n",
    "import time\n",
    "import warnings\n",
    "warnings.filterwarnings('ignore')\n",
    "\n",
    "optuna.logging.set_verbosity(optuna.logging.WARNING)"
   ]
  },
  {
   "cell_type": "markdown",
   "metadata": {},
   "source": [
    "## 1. 데이터 로딩 및 전처리"
   ]
  },
  {
   "cell_type": "code",
   "execution_count": 2,
   "metadata": {},
   "outputs": [
    {
     "name": "stdout",
     "output_type": "stream",
     "text": [
      "데이터 크기: (21693, 52)\n",
      "클래스 분포:\n",
      "target\n",
      "0     1033\n",
      "1     1033\n",
      "2     1033\n",
      "3     1033\n",
      "4     1033\n",
      "5     1033\n",
      "6     1033\n",
      "7     1033\n",
      "8     1033\n",
      "9     1033\n",
      "10    1033\n",
      "11    1033\n",
      "12    1033\n",
      "13    1033\n",
      "14    1033\n",
      "15    1033\n",
      "16    1033\n",
      "17    1033\n",
      "18    1033\n",
      "19    1033\n",
      "20    1033\n",
      "Name: count, dtype: int64\n"
     ]
    }
   ],
   "source": [
    "train_df = pd.read_csv('../data/open/train.csv')\n",
    "\n",
    "X = train_df.drop(columns=['ID', 'target'])\n",
    "y = train_df['target']\n",
    "\n",
    "scaler = MinMaxScaler()\n",
    "X_scaled = scaler.fit_transform(X)\n",
    "X_scaled = pd.DataFrame(X_scaled, columns=X.columns)\n",
    "\n",
    "print(f\"데이터 크기: {X_scaled.shape}\")\n",
    "print(f\"클래스 분포:\\n{y.value_counts().sort_index()}\")"
   ]
  },
  {
   "cell_type": "markdown",
   "metadata": {},
   "source": [
    "## 2. LightGBM Optuna 최적화\n",
    "\n",
    "### Optuna 작동 방식:\n",
    "1. **suggest**: 파라미터 제안 (이전 결과 학습)\n",
    "2. **train**: 모델 학습\n",
    "3. **report**: 중간 결과 보고\n",
    "4. **prune**: 나쁜 시도는 조기 종료 (시간 절약)\n",
    "5. **반복**: 다음 시도는 더 똑똑하게"
   ]
  },
  {
   "cell_type": "code",
   "execution_count": 3,
   "metadata": {},
   "outputs": [],
   "source": [
    "def objective_lgbm(trial):\n",
    "    \"\"\"\n",
    "    LightGBM Optuna objective function\n",
    "    \n",
    "    trial.suggest_*: Optuna가 파라미터 제안\n",
    "    - 처음엔 무작위\n",
    "    - 점점 좋은 영역에 집중\n",
    "    \"\"\"\n",
    "    \n",
    "    params = {\n",
    "        'n_estimators': trial.suggest_int('n_estimators', 100, 500),\n",
    "        'max_depth': trial.suggest_int('max_depth', 4, 12),\n",
    "        'learning_rate': trial.suggest_float('learning_rate', 0.01, 0.2, log=True),\n",
    "        'num_leaves': trial.suggest_int('num_leaves', 31, 150),\n",
    "        'min_child_samples': trial.suggest_int('min_child_samples', 20, 50),\n",
    "        'subsample': trial.suggest_float('subsample', 0.7, 1.0),\n",
    "        'colsample_bytree': trial.suggest_float('colsample_bytree', 0.7, 1.0),\n",
    "        'reg_alpha': trial.suggest_float('reg_alpha', 0, 1.0),\n",
    "        'reg_lambda': trial.suggest_float('reg_lambda', 0, 1.0),\n",
    "        'device': 'gpu',\n",
    "        'random_state': 42,\n",
    "        'verbose': -1\n",
    "    }\n",
    "    \n",
    "    skf = StratifiedKFold(n_splits=5, shuffle=True, random_state=42)\n",
    "    scores = []\n",
    "    \n",
    "    for fold_idx, (train_idx, val_idx) in enumerate(skf.split(X_scaled, y)):\n",
    "        X_train, X_val = X_scaled.iloc[train_idx], X_scaled.iloc[val_idx]\n",
    "        y_train, y_val = y.iloc[train_idx], y.iloc[val_idx]\n",
    "        \n",
    "        model = lgb.LGBMClassifier(**params)\n",
    "        model.fit(\n",
    "            X_train, y_train,\n",
    "            eval_set=[(X_val, y_val)],\n",
    "            callbacks=[\n",
    "                lgb.early_stopping(stopping_rounds=50, verbose=False),\n",
    "                lgb.log_evaluation(period=0)\n",
    "            ]\n",
    "        )\n",
    "        \n",
    "        y_pred = model.predict(X_val)\n",
    "        score = f1_score(y_val, y_pred, average='macro')\n",
    "        scores.append(score)\n",
    "        \n",
    "        trial.report(score, fold_idx)\n",
    "        \n",
    "        if trial.should_prune():\n",
    "            raise optuna.TrialPruned()\n",
    "    \n",
    "    return np.mean(scores)"
   ]
  },
  {
   "cell_type": "code",
   "execution_count": 4,
   "metadata": {},
   "outputs": [
    {
     "name": "stdout",
     "output_type": "stream",
     "text": [
      "=== LightGBM Optuna 최적화 시작 ===\n",
      "베이지안 최적화로 똑똑하게 탐색합니다...\n",
      "\n"
     ]
    },
    {
     "data": {
      "application/vnd.jupyter.widget-view+json": {
       "model_id": "c614cdca2a7a4295afc0c2c177b63f60",
       "version_major": 2,
       "version_minor": 0
      },
      "text/plain": [
       "  0%|          | 0/50 [00:00<?, ?it/s]"
      ]
     },
     "metadata": {},
     "output_type": "display_data"
    },
    {
     "name": "stdout",
     "output_type": "stream",
     "text": [
      "\n",
      "완료! 소요 시간: 54.00분\n",
      "최고 F1-macro 점수: 0.805097\n",
      "\n",
      "최적 하이퍼파라미터:\n",
      "  n_estimators: 478\n",
      "  max_depth: 8\n",
      "  learning_rate: 0.025065231110380545\n",
      "  num_leaves: 32\n",
      "  min_child_samples: 50\n",
      "  subsample: 0.9116306185436042\n",
      "  colsample_bytree: 0.9976915471223364\n",
      "  reg_alpha: 0.6384645540173252\n",
      "  reg_lambda: 0.0056691076242204545\n",
      "\n",
      "Pruned trials: 13개\n",
      "Completed trials: 37개\n"
     ]
    }
   ],
   "source": [
    "print(\"=== LightGBM Optuna 최적화 시작 ===\")\n",
    "print(\"베이지안 최적화로 똑똑하게 탐색합니다...\\n\")\n",
    "\n",
    "lgbm_study = optuna.create_study(\n",
    "    direction='maximize',\n",
    "    sampler=optuna.samplers.TPESampler(seed=42),\n",
    "    pruner=optuna.pruners.MedianPruner(\n",
    "        n_startup_trials=5,\n",
    "        n_warmup_steps=2\n",
    "    )\n",
    ")\n",
    "\n",
    "start_time = time.time()\n",
    "lgbm_study.optimize(\n",
    "    objective_lgbm,\n",
    "    n_trials=50,\n",
    "    timeout=7200,\n",
    "    show_progress_bar=True\n",
    ")\n",
    "lgbm_elapsed = time.time() - start_time\n",
    "\n",
    "print(f\"\\n완료! 소요 시간: {lgbm_elapsed/60:.2f}분\")\n",
    "print(f\"최고 F1-macro 점수: {lgbm_study.best_value:.6f}\")\n",
    "print(f\"\\n최적 하이퍼파라미터:\")\n",
    "for param, value in lgbm_study.best_params.items():\n",
    "    print(f\"  {param}: {value}\")\n",
    "\n",
    "print(f\"\\nPruned trials: {len([t for t in lgbm_study.trials if t.state == optuna.trial.TrialState.PRUNED])}개\")\n",
    "print(f\"Completed trials: {len([t for t in lgbm_study.trials if t.state == optuna.trial.TrialState.COMPLETE])}개\")"
   ]
  },
  {
   "cell_type": "markdown",
   "metadata": {},
   "source": [
    "## 3. LightGBM 최적화 시각화"
   ]
  },
  {
   "cell_type": "code",
   "execution_count": 5,
   "metadata": {},
   "outputs": [
    {
     "data": {
      "application/vnd.plotly.v1+json": {
       "config": {
        "plotlyServerURL": "https://plot.ly"
       },
       "data": [
        {
         "mode": "markers",
         "name": "Objective Value",
         "type": "scatter",
         "x": [
          0,
          1,
          2,
          3,
          4,
          5,
          6,
          7,
          10,
          11,
          12,
          13,
          14,
          15,
          16,
          17,
          18,
          19,
          21,
          22,
          23,
          24,
          25,
          26,
          27,
          31,
          32,
          33,
          35,
          36,
          37,
          38,
          41,
          42,
          43,
          46,
          47
         ],
         "y": [
          0.7939050039124839,
          0.796510924045438,
          0.8002868318485359,
          0.7954392497369769,
          0.7979393299886413,
          0.8010876296549558,
          0.7976223720863459,
          0.8019983830185036,
          0.804516200438511,
          0.8049163551919808,
          0.8027130126876554,
          0.8049211270797233,
          0.7992921875165285,
          0.8003016721392914,
          0.8005565863328755,
          0.8032921526362837,
          0.8002064270739024,
          0.8004483653687057,
          0.8050968467961825,
          0.8049829959700988,
          0.801093880498186,
          0.800864350776344,
          0.8015542324476096,
          0.8026499604063618,
          0.8035753018534761,
          0.8042450029488893,
          0.8028389904928428,
          0.8032135585823996,
          0.8029141388089872,
          0.8004415320631951,
          0.8006633246528494,
          0.8005503344184088,
          0.8042172153935352,
          0.802479259546039,
          0.8036355433213531,
          0.8039605602940487,
          0.8013794356480588
         ]
        },
        {
         "mode": "lines",
         "name": "Best Value",
         "type": "scatter",
         "x": [
          0,
          1,
          2,
          3,
          4,
          5,
          6,
          7,
          8,
          9,
          10,
          11,
          12,
          13,
          14,
          15,
          16,
          17,
          18,
          19,
          20,
          21,
          22,
          23,
          24,
          25,
          26,
          27,
          28,
          29,
          30,
          31,
          32,
          33,
          34,
          35,
          36,
          37,
          38,
          39,
          40,
          41,
          42,
          43,
          44,
          45,
          46,
          47,
          48,
          49
         ],
         "y": [
          0.7939050039124839,
          0.796510924045438,
          0.8002868318485359,
          0.8002868318485359,
          0.8002868318485359,
          0.8010876296549558,
          0.8010876296549558,
          0.8019983830185036,
          0.8019983830185036,
          0.8019983830185036,
          0.804516200438511,
          0.8049163551919808,
          0.8049163551919808,
          0.8049211270797233,
          0.8049211270797233,
          0.8049211270797233,
          0.8049211270797233,
          0.8049211270797233,
          0.8049211270797233,
          0.8049211270797233,
          0.8049211270797233,
          0.8050968467961825,
          0.8050968467961825,
          0.8050968467961825,
          0.8050968467961825,
          0.8050968467961825,
          0.8050968467961825,
          0.8050968467961825,
          0.8050968467961825,
          0.8050968467961825,
          0.8050968467961825,
          0.8050968467961825,
          0.8050968467961825,
          0.8050968467961825,
          0.8050968467961825,
          0.8050968467961825,
          0.8050968467961825,
          0.8050968467961825,
          0.8050968467961825,
          0.8050968467961825,
          0.8050968467961825,
          0.8050968467961825,
          0.8050968467961825,
          0.8050968467961825,
          0.8050968467961825,
          0.8050968467961825,
          0.8050968467961825,
          0.8050968467961825,
          0.8050968467961825,
          0.8050968467961825
         ]
        },
        {
         "marker": {
          "color": "#cccccc"
         },
         "mode": "markers",
         "name": "Infeasible Trial",
         "showlegend": false,
         "type": "scatter",
         "x": [],
         "y": []
        }
       ],
       "layout": {
        "template": {
         "data": {
          "bar": [
           {
            "error_x": {
             "color": "#2a3f5f"
            },
            "error_y": {
             "color": "#2a3f5f"
            },
            "marker": {
             "line": {
              "color": "#E5ECF6",
              "width": 0.5
             },
             "pattern": {
              "fillmode": "overlay",
              "size": 10,
              "solidity": 0.2
             }
            },
            "type": "bar"
           }
          ],
          "barpolar": [
           {
            "marker": {
             "line": {
              "color": "#E5ECF6",
              "width": 0.5
             },
             "pattern": {
              "fillmode": "overlay",
              "size": 10,
              "solidity": 0.2
             }
            },
            "type": "barpolar"
           }
          ],
          "carpet": [
           {
            "aaxis": {
             "endlinecolor": "#2a3f5f",
             "gridcolor": "white",
             "linecolor": "white",
             "minorgridcolor": "white",
             "startlinecolor": "#2a3f5f"
            },
            "baxis": {
             "endlinecolor": "#2a3f5f",
             "gridcolor": "white",
             "linecolor": "white",
             "minorgridcolor": "white",
             "startlinecolor": "#2a3f5f"
            },
            "type": "carpet"
           }
          ],
          "choropleth": [
           {
            "colorbar": {
             "outlinewidth": 0,
             "ticks": ""
            },
            "type": "choropleth"
           }
          ],
          "contour": [
           {
            "colorbar": {
             "outlinewidth": 0,
             "ticks": ""
            },
            "colorscale": [
             [
              0,
              "#0d0887"
             ],
             [
              0.1111111111111111,
              "#46039f"
             ],
             [
              0.2222222222222222,
              "#7201a8"
             ],
             [
              0.3333333333333333,
              "#9c179e"
             ],
             [
              0.4444444444444444,
              "#bd3786"
             ],
             [
              0.5555555555555556,
              "#d8576b"
             ],
             [
              0.6666666666666666,
              "#ed7953"
             ],
             [
              0.7777777777777778,
              "#fb9f3a"
             ],
             [
              0.8888888888888888,
              "#fdca26"
             ],
             [
              1,
              "#f0f921"
             ]
            ],
            "type": "contour"
           }
          ],
          "contourcarpet": [
           {
            "colorbar": {
             "outlinewidth": 0,
             "ticks": ""
            },
            "type": "contourcarpet"
           }
          ],
          "heatmap": [
           {
            "colorbar": {
             "outlinewidth": 0,
             "ticks": ""
            },
            "colorscale": [
             [
              0,
              "#0d0887"
             ],
             [
              0.1111111111111111,
              "#46039f"
             ],
             [
              0.2222222222222222,
              "#7201a8"
             ],
             [
              0.3333333333333333,
              "#9c179e"
             ],
             [
              0.4444444444444444,
              "#bd3786"
             ],
             [
              0.5555555555555556,
              "#d8576b"
             ],
             [
              0.6666666666666666,
              "#ed7953"
             ],
             [
              0.7777777777777778,
              "#fb9f3a"
             ],
             [
              0.8888888888888888,
              "#fdca26"
             ],
             [
              1,
              "#f0f921"
             ]
            ],
            "type": "heatmap"
           }
          ],
          "histogram": [
           {
            "marker": {
             "pattern": {
              "fillmode": "overlay",
              "size": 10,
              "solidity": 0.2
             }
            },
            "type": "histogram"
           }
          ],
          "histogram2d": [
           {
            "colorbar": {
             "outlinewidth": 0,
             "ticks": ""
            },
            "colorscale": [
             [
              0,
              "#0d0887"
             ],
             [
              0.1111111111111111,
              "#46039f"
             ],
             [
              0.2222222222222222,
              "#7201a8"
             ],
             [
              0.3333333333333333,
              "#9c179e"
             ],
             [
              0.4444444444444444,
              "#bd3786"
             ],
             [
              0.5555555555555556,
              "#d8576b"
             ],
             [
              0.6666666666666666,
              "#ed7953"
             ],
             [
              0.7777777777777778,
              "#fb9f3a"
             ],
             [
              0.8888888888888888,
              "#fdca26"
             ],
             [
              1,
              "#f0f921"
             ]
            ],
            "type": "histogram2d"
           }
          ],
          "histogram2dcontour": [
           {
            "colorbar": {
             "outlinewidth": 0,
             "ticks": ""
            },
            "colorscale": [
             [
              0,
              "#0d0887"
             ],
             [
              0.1111111111111111,
              "#46039f"
             ],
             [
              0.2222222222222222,
              "#7201a8"
             ],
             [
              0.3333333333333333,
              "#9c179e"
             ],
             [
              0.4444444444444444,
              "#bd3786"
             ],
             [
              0.5555555555555556,
              "#d8576b"
             ],
             [
              0.6666666666666666,
              "#ed7953"
             ],
             [
              0.7777777777777778,
              "#fb9f3a"
             ],
             [
              0.8888888888888888,
              "#fdca26"
             ],
             [
              1,
              "#f0f921"
             ]
            ],
            "type": "histogram2dcontour"
           }
          ],
          "mesh3d": [
           {
            "colorbar": {
             "outlinewidth": 0,
             "ticks": ""
            },
            "type": "mesh3d"
           }
          ],
          "parcoords": [
           {
            "line": {
             "colorbar": {
              "outlinewidth": 0,
              "ticks": ""
             }
            },
            "type": "parcoords"
           }
          ],
          "pie": [
           {
            "automargin": true,
            "type": "pie"
           }
          ],
          "scatter": [
           {
            "fillpattern": {
             "fillmode": "overlay",
             "size": 10,
             "solidity": 0.2
            },
            "type": "scatter"
           }
          ],
          "scatter3d": [
           {
            "line": {
             "colorbar": {
              "outlinewidth": 0,
              "ticks": ""
             }
            },
            "marker": {
             "colorbar": {
              "outlinewidth": 0,
              "ticks": ""
             }
            },
            "type": "scatter3d"
           }
          ],
          "scattercarpet": [
           {
            "marker": {
             "colorbar": {
              "outlinewidth": 0,
              "ticks": ""
             }
            },
            "type": "scattercarpet"
           }
          ],
          "scattergeo": [
           {
            "marker": {
             "colorbar": {
              "outlinewidth": 0,
              "ticks": ""
             }
            },
            "type": "scattergeo"
           }
          ],
          "scattergl": [
           {
            "marker": {
             "colorbar": {
              "outlinewidth": 0,
              "ticks": ""
             }
            },
            "type": "scattergl"
           }
          ],
          "scattermap": [
           {
            "marker": {
             "colorbar": {
              "outlinewidth": 0,
              "ticks": ""
             }
            },
            "type": "scattermap"
           }
          ],
          "scattermapbox": [
           {
            "marker": {
             "colorbar": {
              "outlinewidth": 0,
              "ticks": ""
             }
            },
            "type": "scattermapbox"
           }
          ],
          "scatterpolar": [
           {
            "marker": {
             "colorbar": {
              "outlinewidth": 0,
              "ticks": ""
             }
            },
            "type": "scatterpolar"
           }
          ],
          "scatterpolargl": [
           {
            "marker": {
             "colorbar": {
              "outlinewidth": 0,
              "ticks": ""
             }
            },
            "type": "scatterpolargl"
           }
          ],
          "scatterternary": [
           {
            "marker": {
             "colorbar": {
              "outlinewidth": 0,
              "ticks": ""
             }
            },
            "type": "scatterternary"
           }
          ],
          "surface": [
           {
            "colorbar": {
             "outlinewidth": 0,
             "ticks": ""
            },
            "colorscale": [
             [
              0,
              "#0d0887"
             ],
             [
              0.1111111111111111,
              "#46039f"
             ],
             [
              0.2222222222222222,
              "#7201a8"
             ],
             [
              0.3333333333333333,
              "#9c179e"
             ],
             [
              0.4444444444444444,
              "#bd3786"
             ],
             [
              0.5555555555555556,
              "#d8576b"
             ],
             [
              0.6666666666666666,
              "#ed7953"
             ],
             [
              0.7777777777777778,
              "#fb9f3a"
             ],
             [
              0.8888888888888888,
              "#fdca26"
             ],
             [
              1,
              "#f0f921"
             ]
            ],
            "type": "surface"
           }
          ],
          "table": [
           {
            "cells": {
             "fill": {
              "color": "#EBF0F8"
             },
             "line": {
              "color": "white"
             }
            },
            "header": {
             "fill": {
              "color": "#C8D4E3"
             },
             "line": {
              "color": "white"
             }
            },
            "type": "table"
           }
          ]
         },
         "layout": {
          "annotationdefaults": {
           "arrowcolor": "#2a3f5f",
           "arrowhead": 0,
           "arrowwidth": 1
          },
          "autotypenumbers": "strict",
          "coloraxis": {
           "colorbar": {
            "outlinewidth": 0,
            "ticks": ""
           }
          },
          "colorscale": {
           "diverging": [
            [
             0,
             "#8e0152"
            ],
            [
             0.1,
             "#c51b7d"
            ],
            [
             0.2,
             "#de77ae"
            ],
            [
             0.3,
             "#f1b6da"
            ],
            [
             0.4,
             "#fde0ef"
            ],
            [
             0.5,
             "#f7f7f7"
            ],
            [
             0.6,
             "#e6f5d0"
            ],
            [
             0.7,
             "#b8e186"
            ],
            [
             0.8,
             "#7fbc41"
            ],
            [
             0.9,
             "#4d9221"
            ],
            [
             1,
             "#276419"
            ]
           ],
           "sequential": [
            [
             0,
             "#0d0887"
            ],
            [
             0.1111111111111111,
             "#46039f"
            ],
            [
             0.2222222222222222,
             "#7201a8"
            ],
            [
             0.3333333333333333,
             "#9c179e"
            ],
            [
             0.4444444444444444,
             "#bd3786"
            ],
            [
             0.5555555555555556,
             "#d8576b"
            ],
            [
             0.6666666666666666,
             "#ed7953"
            ],
            [
             0.7777777777777778,
             "#fb9f3a"
            ],
            [
             0.8888888888888888,
             "#fdca26"
            ],
            [
             1,
             "#f0f921"
            ]
           ],
           "sequentialminus": [
            [
             0,
             "#0d0887"
            ],
            [
             0.1111111111111111,
             "#46039f"
            ],
            [
             0.2222222222222222,
             "#7201a8"
            ],
            [
             0.3333333333333333,
             "#9c179e"
            ],
            [
             0.4444444444444444,
             "#bd3786"
            ],
            [
             0.5555555555555556,
             "#d8576b"
            ],
            [
             0.6666666666666666,
             "#ed7953"
            ],
            [
             0.7777777777777778,
             "#fb9f3a"
            ],
            [
             0.8888888888888888,
             "#fdca26"
            ],
            [
             1,
             "#f0f921"
            ]
           ]
          },
          "colorway": [
           "#636efa",
           "#EF553B",
           "#00cc96",
           "#ab63fa",
           "#FFA15A",
           "#19d3f3",
           "#FF6692",
           "#B6E880",
           "#FF97FF",
           "#FECB52"
          ],
          "font": {
           "color": "#2a3f5f"
          },
          "geo": {
           "bgcolor": "white",
           "lakecolor": "white",
           "landcolor": "#E5ECF6",
           "showlakes": true,
           "showland": true,
           "subunitcolor": "white"
          },
          "hoverlabel": {
           "align": "left"
          },
          "hovermode": "closest",
          "mapbox": {
           "style": "light"
          },
          "paper_bgcolor": "white",
          "plot_bgcolor": "#E5ECF6",
          "polar": {
           "angularaxis": {
            "gridcolor": "white",
            "linecolor": "white",
            "ticks": ""
           },
           "bgcolor": "#E5ECF6",
           "radialaxis": {
            "gridcolor": "white",
            "linecolor": "white",
            "ticks": ""
           }
          },
          "scene": {
           "xaxis": {
            "backgroundcolor": "#E5ECF6",
            "gridcolor": "white",
            "gridwidth": 2,
            "linecolor": "white",
            "showbackground": true,
            "ticks": "",
            "zerolinecolor": "white"
           },
           "yaxis": {
            "backgroundcolor": "#E5ECF6",
            "gridcolor": "white",
            "gridwidth": 2,
            "linecolor": "white",
            "showbackground": true,
            "ticks": "",
            "zerolinecolor": "white"
           },
           "zaxis": {
            "backgroundcolor": "#E5ECF6",
            "gridcolor": "white",
            "gridwidth": 2,
            "linecolor": "white",
            "showbackground": true,
            "ticks": "",
            "zerolinecolor": "white"
           }
          },
          "shapedefaults": {
           "line": {
            "color": "#2a3f5f"
           }
          },
          "ternary": {
           "aaxis": {
            "gridcolor": "white",
            "linecolor": "white",
            "ticks": ""
           },
           "baxis": {
            "gridcolor": "white",
            "linecolor": "white",
            "ticks": ""
           },
           "bgcolor": "#E5ECF6",
           "caxis": {
            "gridcolor": "white",
            "linecolor": "white",
            "ticks": ""
           }
          },
          "title": {
           "x": 0.05
          },
          "xaxis": {
           "automargin": true,
           "gridcolor": "white",
           "linecolor": "white",
           "ticks": "",
           "title": {
            "standoff": 15
           },
           "zerolinecolor": "white",
           "zerolinewidth": 2
          },
          "yaxis": {
           "automargin": true,
           "gridcolor": "white",
           "linecolor": "white",
           "ticks": "",
           "title": {
            "standoff": 15
           },
           "zerolinecolor": "white",
           "zerolinewidth": 2
          }
         }
        },
        "title": {
         "text": "LightGBM 최적화 과정 (점점 좋아지는 것을 확인)"
        },
        "xaxis": {
         "title": {
          "text": "Trial"
         }
        },
        "yaxis": {
         "title": {
          "text": "Objective Value"
         }
        }
       }
      }
     },
     "metadata": {},
     "output_type": "display_data"
    },
    {
     "data": {
      "application/vnd.plotly.v1+json": {
       "config": {
        "plotlyServerURL": "https://plot.ly"
       },
       "data": [
        {
         "cliponaxis": false,
         "hovertemplate": [
          "max_depth (IntDistribution): 0.006705620348040577<extra></extra>",
          "learning_rate (FloatDistribution): 0.020763522800542996<extra></extra>",
          "n_estimators (IntDistribution): 0.023236910856333264<extra></extra>",
          "reg_lambda (FloatDistribution): 0.02743210322736814<extra></extra>",
          "reg_alpha (FloatDistribution): 0.05444963155760905<extra></extra>",
          "colsample_bytree (FloatDistribution): 0.12337039506951564<extra></extra>",
          "min_child_samples (IntDistribution): 0.15156775554478108<extra></extra>",
          "subsample (FloatDistribution): 0.26171800413718904<extra></extra>",
          "num_leaves (IntDistribution): 0.3307560564586204<extra></extra>"
         ],
         "name": "Objective Value",
         "orientation": "h",
         "text": [
          "<0.01",
          "0.02",
          "0.02",
          "0.03",
          "0.05",
          "0.12",
          "0.15",
          "0.26",
          "0.33"
         ],
         "textposition": "outside",
         "type": "bar",
         "x": [
          0.006705620348040577,
          0.020763522800542996,
          0.023236910856333264,
          0.02743210322736814,
          0.05444963155760905,
          0.12337039506951564,
          0.15156775554478108,
          0.26171800413718904,
          0.3307560564586204
         ],
         "y": [
          "max_depth",
          "learning_rate",
          "n_estimators",
          "reg_lambda",
          "reg_alpha",
          "colsample_bytree",
          "min_child_samples",
          "subsample",
          "num_leaves"
         ]
        }
       ],
       "layout": {
        "template": {
         "data": {
          "bar": [
           {
            "error_x": {
             "color": "#2a3f5f"
            },
            "error_y": {
             "color": "#2a3f5f"
            },
            "marker": {
             "line": {
              "color": "#E5ECF6",
              "width": 0.5
             },
             "pattern": {
              "fillmode": "overlay",
              "size": 10,
              "solidity": 0.2
             }
            },
            "type": "bar"
           }
          ],
          "barpolar": [
           {
            "marker": {
             "line": {
              "color": "#E5ECF6",
              "width": 0.5
             },
             "pattern": {
              "fillmode": "overlay",
              "size": 10,
              "solidity": 0.2
             }
            },
            "type": "barpolar"
           }
          ],
          "carpet": [
           {
            "aaxis": {
             "endlinecolor": "#2a3f5f",
             "gridcolor": "white",
             "linecolor": "white",
             "minorgridcolor": "white",
             "startlinecolor": "#2a3f5f"
            },
            "baxis": {
             "endlinecolor": "#2a3f5f",
             "gridcolor": "white",
             "linecolor": "white",
             "minorgridcolor": "white",
             "startlinecolor": "#2a3f5f"
            },
            "type": "carpet"
           }
          ],
          "choropleth": [
           {
            "colorbar": {
             "outlinewidth": 0,
             "ticks": ""
            },
            "type": "choropleth"
           }
          ],
          "contour": [
           {
            "colorbar": {
             "outlinewidth": 0,
             "ticks": ""
            },
            "colorscale": [
             [
              0,
              "#0d0887"
             ],
             [
              0.1111111111111111,
              "#46039f"
             ],
             [
              0.2222222222222222,
              "#7201a8"
             ],
             [
              0.3333333333333333,
              "#9c179e"
             ],
             [
              0.4444444444444444,
              "#bd3786"
             ],
             [
              0.5555555555555556,
              "#d8576b"
             ],
             [
              0.6666666666666666,
              "#ed7953"
             ],
             [
              0.7777777777777778,
              "#fb9f3a"
             ],
             [
              0.8888888888888888,
              "#fdca26"
             ],
             [
              1,
              "#f0f921"
             ]
            ],
            "type": "contour"
           }
          ],
          "contourcarpet": [
           {
            "colorbar": {
             "outlinewidth": 0,
             "ticks": ""
            },
            "type": "contourcarpet"
           }
          ],
          "heatmap": [
           {
            "colorbar": {
             "outlinewidth": 0,
             "ticks": ""
            },
            "colorscale": [
             [
              0,
              "#0d0887"
             ],
             [
              0.1111111111111111,
              "#46039f"
             ],
             [
              0.2222222222222222,
              "#7201a8"
             ],
             [
              0.3333333333333333,
              "#9c179e"
             ],
             [
              0.4444444444444444,
              "#bd3786"
             ],
             [
              0.5555555555555556,
              "#d8576b"
             ],
             [
              0.6666666666666666,
              "#ed7953"
             ],
             [
              0.7777777777777778,
              "#fb9f3a"
             ],
             [
              0.8888888888888888,
              "#fdca26"
             ],
             [
              1,
              "#f0f921"
             ]
            ],
            "type": "heatmap"
           }
          ],
          "histogram": [
           {
            "marker": {
             "pattern": {
              "fillmode": "overlay",
              "size": 10,
              "solidity": 0.2
             }
            },
            "type": "histogram"
           }
          ],
          "histogram2d": [
           {
            "colorbar": {
             "outlinewidth": 0,
             "ticks": ""
            },
            "colorscale": [
             [
              0,
              "#0d0887"
             ],
             [
              0.1111111111111111,
              "#46039f"
             ],
             [
              0.2222222222222222,
              "#7201a8"
             ],
             [
              0.3333333333333333,
              "#9c179e"
             ],
             [
              0.4444444444444444,
              "#bd3786"
             ],
             [
              0.5555555555555556,
              "#d8576b"
             ],
             [
              0.6666666666666666,
              "#ed7953"
             ],
             [
              0.7777777777777778,
              "#fb9f3a"
             ],
             [
              0.8888888888888888,
              "#fdca26"
             ],
             [
              1,
              "#f0f921"
             ]
            ],
            "type": "histogram2d"
           }
          ],
          "histogram2dcontour": [
           {
            "colorbar": {
             "outlinewidth": 0,
             "ticks": ""
            },
            "colorscale": [
             [
              0,
              "#0d0887"
             ],
             [
              0.1111111111111111,
              "#46039f"
             ],
             [
              0.2222222222222222,
              "#7201a8"
             ],
             [
              0.3333333333333333,
              "#9c179e"
             ],
             [
              0.4444444444444444,
              "#bd3786"
             ],
             [
              0.5555555555555556,
              "#d8576b"
             ],
             [
              0.6666666666666666,
              "#ed7953"
             ],
             [
              0.7777777777777778,
              "#fb9f3a"
             ],
             [
              0.8888888888888888,
              "#fdca26"
             ],
             [
              1,
              "#f0f921"
             ]
            ],
            "type": "histogram2dcontour"
           }
          ],
          "mesh3d": [
           {
            "colorbar": {
             "outlinewidth": 0,
             "ticks": ""
            },
            "type": "mesh3d"
           }
          ],
          "parcoords": [
           {
            "line": {
             "colorbar": {
              "outlinewidth": 0,
              "ticks": ""
             }
            },
            "type": "parcoords"
           }
          ],
          "pie": [
           {
            "automargin": true,
            "type": "pie"
           }
          ],
          "scatter": [
           {
            "fillpattern": {
             "fillmode": "overlay",
             "size": 10,
             "solidity": 0.2
            },
            "type": "scatter"
           }
          ],
          "scatter3d": [
           {
            "line": {
             "colorbar": {
              "outlinewidth": 0,
              "ticks": ""
             }
            },
            "marker": {
             "colorbar": {
              "outlinewidth": 0,
              "ticks": ""
             }
            },
            "type": "scatter3d"
           }
          ],
          "scattercarpet": [
           {
            "marker": {
             "colorbar": {
              "outlinewidth": 0,
              "ticks": ""
             }
            },
            "type": "scattercarpet"
           }
          ],
          "scattergeo": [
           {
            "marker": {
             "colorbar": {
              "outlinewidth": 0,
              "ticks": ""
             }
            },
            "type": "scattergeo"
           }
          ],
          "scattergl": [
           {
            "marker": {
             "colorbar": {
              "outlinewidth": 0,
              "ticks": ""
             }
            },
            "type": "scattergl"
           }
          ],
          "scattermap": [
           {
            "marker": {
             "colorbar": {
              "outlinewidth": 0,
              "ticks": ""
             }
            },
            "type": "scattermap"
           }
          ],
          "scattermapbox": [
           {
            "marker": {
             "colorbar": {
              "outlinewidth": 0,
              "ticks": ""
             }
            },
            "type": "scattermapbox"
           }
          ],
          "scatterpolar": [
           {
            "marker": {
             "colorbar": {
              "outlinewidth": 0,
              "ticks": ""
             }
            },
            "type": "scatterpolar"
           }
          ],
          "scatterpolargl": [
           {
            "marker": {
             "colorbar": {
              "outlinewidth": 0,
              "ticks": ""
             }
            },
            "type": "scatterpolargl"
           }
          ],
          "scatterternary": [
           {
            "marker": {
             "colorbar": {
              "outlinewidth": 0,
              "ticks": ""
             }
            },
            "type": "scatterternary"
           }
          ],
          "surface": [
           {
            "colorbar": {
             "outlinewidth": 0,
             "ticks": ""
            },
            "colorscale": [
             [
              0,
              "#0d0887"
             ],
             [
              0.1111111111111111,
              "#46039f"
             ],
             [
              0.2222222222222222,
              "#7201a8"
             ],
             [
              0.3333333333333333,
              "#9c179e"
             ],
             [
              0.4444444444444444,
              "#bd3786"
             ],
             [
              0.5555555555555556,
              "#d8576b"
             ],
             [
              0.6666666666666666,
              "#ed7953"
             ],
             [
              0.7777777777777778,
              "#fb9f3a"
             ],
             [
              0.8888888888888888,
              "#fdca26"
             ],
             [
              1,
              "#f0f921"
             ]
            ],
            "type": "surface"
           }
          ],
          "table": [
           {
            "cells": {
             "fill": {
              "color": "#EBF0F8"
             },
             "line": {
              "color": "white"
             }
            },
            "header": {
             "fill": {
              "color": "#C8D4E3"
             },
             "line": {
              "color": "white"
             }
            },
            "type": "table"
           }
          ]
         },
         "layout": {
          "annotationdefaults": {
           "arrowcolor": "#2a3f5f",
           "arrowhead": 0,
           "arrowwidth": 1
          },
          "autotypenumbers": "strict",
          "coloraxis": {
           "colorbar": {
            "outlinewidth": 0,
            "ticks": ""
           }
          },
          "colorscale": {
           "diverging": [
            [
             0,
             "#8e0152"
            ],
            [
             0.1,
             "#c51b7d"
            ],
            [
             0.2,
             "#de77ae"
            ],
            [
             0.3,
             "#f1b6da"
            ],
            [
             0.4,
             "#fde0ef"
            ],
            [
             0.5,
             "#f7f7f7"
            ],
            [
             0.6,
             "#e6f5d0"
            ],
            [
             0.7,
             "#b8e186"
            ],
            [
             0.8,
             "#7fbc41"
            ],
            [
             0.9,
             "#4d9221"
            ],
            [
             1,
             "#276419"
            ]
           ],
           "sequential": [
            [
             0,
             "#0d0887"
            ],
            [
             0.1111111111111111,
             "#46039f"
            ],
            [
             0.2222222222222222,
             "#7201a8"
            ],
            [
             0.3333333333333333,
             "#9c179e"
            ],
            [
             0.4444444444444444,
             "#bd3786"
            ],
            [
             0.5555555555555556,
             "#d8576b"
            ],
            [
             0.6666666666666666,
             "#ed7953"
            ],
            [
             0.7777777777777778,
             "#fb9f3a"
            ],
            [
             0.8888888888888888,
             "#fdca26"
            ],
            [
             1,
             "#f0f921"
            ]
           ],
           "sequentialminus": [
            [
             0,
             "#0d0887"
            ],
            [
             0.1111111111111111,
             "#46039f"
            ],
            [
             0.2222222222222222,
             "#7201a8"
            ],
            [
             0.3333333333333333,
             "#9c179e"
            ],
            [
             0.4444444444444444,
             "#bd3786"
            ],
            [
             0.5555555555555556,
             "#d8576b"
            ],
            [
             0.6666666666666666,
             "#ed7953"
            ],
            [
             0.7777777777777778,
             "#fb9f3a"
            ],
            [
             0.8888888888888888,
             "#fdca26"
            ],
            [
             1,
             "#f0f921"
            ]
           ]
          },
          "colorway": [
           "#636efa",
           "#EF553B",
           "#00cc96",
           "#ab63fa",
           "#FFA15A",
           "#19d3f3",
           "#FF6692",
           "#B6E880",
           "#FF97FF",
           "#FECB52"
          ],
          "font": {
           "color": "#2a3f5f"
          },
          "geo": {
           "bgcolor": "white",
           "lakecolor": "white",
           "landcolor": "#E5ECF6",
           "showlakes": true,
           "showland": true,
           "subunitcolor": "white"
          },
          "hoverlabel": {
           "align": "left"
          },
          "hovermode": "closest",
          "mapbox": {
           "style": "light"
          },
          "paper_bgcolor": "white",
          "plot_bgcolor": "#E5ECF6",
          "polar": {
           "angularaxis": {
            "gridcolor": "white",
            "linecolor": "white",
            "ticks": ""
           },
           "bgcolor": "#E5ECF6",
           "radialaxis": {
            "gridcolor": "white",
            "linecolor": "white",
            "ticks": ""
           }
          },
          "scene": {
           "xaxis": {
            "backgroundcolor": "#E5ECF6",
            "gridcolor": "white",
            "gridwidth": 2,
            "linecolor": "white",
            "showbackground": true,
            "ticks": "",
            "zerolinecolor": "white"
           },
           "yaxis": {
            "backgroundcolor": "#E5ECF6",
            "gridcolor": "white",
            "gridwidth": 2,
            "linecolor": "white",
            "showbackground": true,
            "ticks": "",
            "zerolinecolor": "white"
           },
           "zaxis": {
            "backgroundcolor": "#E5ECF6",
            "gridcolor": "white",
            "gridwidth": 2,
            "linecolor": "white",
            "showbackground": true,
            "ticks": "",
            "zerolinecolor": "white"
           }
          },
          "shapedefaults": {
           "line": {
            "color": "#2a3f5f"
           }
          },
          "ternary": {
           "aaxis": {
            "gridcolor": "white",
            "linecolor": "white",
            "ticks": ""
           },
           "baxis": {
            "gridcolor": "white",
            "linecolor": "white",
            "ticks": ""
           },
           "bgcolor": "#E5ECF6",
           "caxis": {
            "gridcolor": "white",
            "linecolor": "white",
            "ticks": ""
           }
          },
          "title": {
           "x": 0.05
          },
          "xaxis": {
           "automargin": true,
           "gridcolor": "white",
           "linecolor": "white",
           "ticks": "",
           "title": {
            "standoff": 15
           },
           "zerolinecolor": "white",
           "zerolinewidth": 2
          },
          "yaxis": {
           "automargin": true,
           "gridcolor": "white",
           "linecolor": "white",
           "ticks": "",
           "title": {
            "standoff": 15
           },
           "zerolinecolor": "white",
           "zerolinewidth": 2
          }
         }
        },
        "title": {
         "text": "LightGBM 파라미터 중요도 (어떤 파라미터가 중요한가)"
        },
        "xaxis": {
         "title": {
          "text": "Hyperparameter Importance"
         }
        },
        "yaxis": {
         "title": {
          "text": "Hyperparameter"
         }
        }
       }
      }
     },
     "metadata": {},
     "output_type": "display_data"
    },
    {
     "data": {
      "application/vnd.plotly.v1+json": {
       "config": {
        "plotlyServerURL": "https://plot.ly"
       },
       "data": [
        {
         "dimensions": [
          {
           "label": "Objective Value",
           "range": [
            0.7939050039124839,
            0.8050968467961825
           ],
           "values": [
            0.7939050039124839,
            0.796510924045438,
            0.8002868318485359,
            0.7954392497369769,
            0.7979393299886413,
            0.8010876296549558,
            0.7976223720863459,
            0.8019983830185036,
            0.804516200438511,
            0.8049163551919808,
            0.8027130126876554,
            0.8049211270797233,
            0.7992921875165285,
            0.8003016721392914,
            0.8005565863328755,
            0.8032921526362837,
            0.8002064270739024,
            0.8004483653687057,
            0.8050968467961825,
            0.8049829959700988,
            0.801093880498186,
            0.800864350776344,
            0.8015542324476096,
            0.8026499604063618,
            0.8035753018534761,
            0.8042450029488893,
            0.8028389904928428,
            0.8032135585823996,
            0.8029141388089872,
            0.8004415320631951,
            0.8006633246528494,
            0.8005503344184088,
            0.8042172153935352,
            0.802479259546039,
            0.8036355433213531,
            0.8039605602940487,
            0.8013794356480588
           ]
          },
          {
           "label": "colsample_bytree",
           "range": [
            0.7103165563345655,
            0.9995490062648262
           ],
           "values": [
            0.7174250836504598,
            0.7550213529560301,
            0.8368209952651108,
            0.984665661176,
            0.7103165563345655,
            0.9325398470083344,
            0.8166031869068446,
            0.9960660809801551,
            0.9919113282308875,
            0.9901581079441323,
            0.9433471681785272,
            0.9362907462312399,
            0.9047938649836512,
            0.9486162142420784,
            0.8787676214270757,
            0.9571174053810702,
            0.9176628899086643,
            0.8649818793519828,
            0.9976915471223364,
            0.9633314411799407,
            0.9238744870843046,
            0.9671405472292265,
            0.9692681920608203,
            0.9067605231729884,
            0.9398787281241547,
            0.9995490062648262,
            0.9790171153100553,
            0.7802405715984198,
            0.9548593103718455,
            0.927262511736667,
            0.9983529422844918,
            0.956607240429308,
            0.9870004086530473,
            0.9921016048023334,
            0.9724076461121114,
            0.9118826789334813,
            0.8871500437880886
           ]
          },
          {
           "label": "learning_rate",
           "range": [
            -1.9395666197403112,
            -0.7381181892472279
           ],
           "ticktext": [
            "0.0115",
            "0.1",
            "0.183"
           ],
           "tickvals": [
            -1.9395666197403112,
            -1,
            -0.7381181892472279
           ],
           "values": [
            -1.047653925059047,
            -0.7381181892472279,
            -1.203961031032348,
            -1.9395666197403112,
            -1.1097923084837358,
            -1.3233759046620575,
            -1.884868600439096,
            -1.2939361172817643,
            -1.5884872847370424,
            -1.6232837568825198,
            -1.62035819770694,
            -1.5817367460801042,
            -1.5409285125593581,
            -1.7270401741389665,
            -1.463264801870177,
            -1.7412096910443515,
            -1.4315624924308041,
            -1.7481076716617656,
            -1.6009282866822756,
            -1.6277565385738764,
            -1.4562679728593455,
            -1.8116730521020161,
            -1.6630928151910864,
            -1.510455585532598,
            -1.377777664719043,
            -1.6457698662516376,
            -1.5615814393551783,
            -1.6767743796604226,
            -1.3999099035748843,
            -1.5441682376405774,
            -1.4897550979506575,
            -1.194274750393547,
            -1.595564270126589,
            -1.5869218319322036,
            -1.6103135078448654,
            -1.2346517154074597,
            -0.9712358598528313
           ]
          },
          {
           "label": "max_depth",
           "range": [
            4,
            12
           ],
           "values": [
            12,
            4,
            6,
            9,
            4,
            6,
            12,
            6,
            8,
            8,
            9,
            8,
            9,
            8,
            7,
            11,
            10,
            7,
            8,
            8,
            10,
            8,
            5,
            9,
            7,
            8,
            9,
            8,
            7,
            9,
            5,
            6,
            8,
            9,
            7,
            7,
            6
           ]
          },
          {
           "label": "min_child_samples",
           "range": [
            21,
            50
           ],
           "values": [
            24,
            26,
            29,
            25,
            23,
            25,
            21,
            44,
            50,
            50,
            50,
            50,
            42,
            38,
            46,
            36,
            47,
            38,
            50,
            48,
            47,
            46,
            48,
            44,
            31,
            50,
            50,
            45,
            49,
            45,
            27,
            48,
            50,
            49,
            50,
            21,
            45
           ]
          },
          {
           "label": "n_estimators",
           "range": [
            182,
            500
           ],
           "values": [
            250,
            383,
            273,
            306,
            222,
            365,
            339,
            243,
            478,
            499,
            487,
            499,
            430,
            437,
            428,
            496,
            182,
            405,
            478,
            458,
            460,
            394,
            461,
            418,
            324,
            497,
            500,
            468,
            474,
            386,
            446,
            286,
            481,
            499,
            418,
            261,
            428
           ]
          },
          {
           "label": "num_leaves",
           "range": [
            31,
            150
           ],
           "values": [
            102,
            130,
            47,
            103,
            83,
            96,
            54,
            47,
            33,
            33,
            32,
            31,
            150,
            75,
            64,
            38,
            49,
            60,
            32,
            41,
            46,
            42,
            59,
            31,
            40,
            37,
            31,
            42,
            54,
            86,
            47,
            56,
            35,
            35,
            32,
            37,
            98
           ]
          },
          {
           "label": "reg_alpha",
           "range": [
            0.2713490317738959,
            0.9818540631463815
           ],
           "values": [
            0.8661761457749352,
            0.3042422429595377,
            0.7851759613930136,
            0.9656320330745594,
            0.9093204020787821,
            0.9394989415641891,
            0.2713490317738959,
            0.7722447692966574,
            0.6240835271723653,
            0.6162117394629039,
            0.5444237593561121,
            0.5742535857061395,
            0.40267696997350594,
            0.6705451426048865,
            0.46917268641862975,
            0.6322702980353725,
            0.4070899689188936,
            0.5397222480435525,
            0.6384645540173252,
            0.7284191629393661,
            0.74126877163284,
            0.7411410466713418,
            0.4823558578298606,
            0.6895596665784748,
            0.8331649083694576,
            0.6214742337504001,
            0.6862960796585377,
            0.5951492560019636,
            0.31736727585771785,
            0.7055306692420116,
            0.9818540631463815,
            0.5417860228498784,
            0.5969313634693725,
            0.7411065211223393,
            0.6388684964079896,
            0.9232470371148387,
            0.52840644934347
           ]
          },
          {
           "label": "reg_lambda",
           "range": [
            0.0006668821610338153,
            0.8948273504276488
           ],
           "values": [
            0.6011150117432088,
            0.5247564316322378,
            0.19967378215835974,
            0.8083973481164611,
            0.2587799816000169,
            0.8948273504276488,
            0.8287375091519293,
            0.1987156815341724,
            0.0397996060770148,
            0.004673570702773931,
            0.003107199514772992,
            0.01838021950826551,
            0.3465343592087484,
            0.11749326124980192,
            0.35839028479054175,
            0.11191999094595731,
            0.31820716828172496,
            0.6208261131945619,
            0.0056691076242204545,
            0.07064311434205767,
            0.11211255029254164,
            0.15965452159067173,
            0.062170807871188054,
            0.23917187653235247,
            0.42806657054677033,
            0.003377434009963015,
            0.0006668821610338153,
            0.08441776321840481,
            0.2745171391685709,
            0.05871888307387051,
            0.14426925081816072,
            0.23869219297710956,
            0.04619479873901095,
            0.007984709445292395,
            0.11095757512923901,
            0.11699636272866279,
            0.037054618064961006
           ]
          },
          {
           "label": "subsample",
           "range": [
            0.7195154778955838,
            0.9997025126806416
           ],
           "values": [
            0.7467983561008608,
            0.7545474901621302,
            0.8099085529881075,
            0.7195154778955838,
            0.848553073033381,
            0.9908753883293675,
            0.7975990992289793,
            0.7223651931039312,
            0.9070741220707434,
            0.9108097698273995,
            0.9153237945309969,
            0.9151472347018873,
            0.9701167132268611,
            0.8719385526234895,
            0.9502645745150979,
            0.8738443470503459,
            0.9450259475101849,
            0.8356691596150994,
            0.9116306185436042,
            0.9355734287719384,
            0.9534368745495266,
            0.9308410320325279,
            0.9997025126806416,
            0.8841846491402748,
            0.971144547834034,
            0.9173070310698713,
            0.9761962780951592,
            0.9057246502893679,
            0.9330359728853709,
            0.86070458876417,
            0.8394794418489745,
            0.9560502843534595,
            0.9221522014839884,
            0.9102128645270163,
            0.8796394623787334,
            0.9628344991521839,
            0.9419910932582054
           ]
          }
         ],
         "labelangle": 30,
         "labelside": "bottom",
         "line": {
          "color": [
           0.7939050039124839,
           0.796510924045438,
           0.8002868318485359,
           0.7954392497369769,
           0.7979393299886413,
           0.8010876296549558,
           0.7976223720863459,
           0.8019983830185036,
           0.804516200438511,
           0.8049163551919808,
           0.8027130126876554,
           0.8049211270797233,
           0.7992921875165285,
           0.8003016721392914,
           0.8005565863328755,
           0.8032921526362837,
           0.8002064270739024,
           0.8004483653687057,
           0.8050968467961825,
           0.8049829959700988,
           0.801093880498186,
           0.800864350776344,
           0.8015542324476096,
           0.8026499604063618,
           0.8035753018534761,
           0.8042450029488893,
           0.8028389904928428,
           0.8032135585823996,
           0.8029141388089872,
           0.8004415320631951,
           0.8006633246528494,
           0.8005503344184088,
           0.8042172153935352,
           0.802479259546039,
           0.8036355433213531,
           0.8039605602940487,
           0.8013794356480588
          ],
          "colorbar": {
           "title": {
            "text": "Objective Value"
           }
          },
          "colorscale": [
           [
            0,
            "rgb(247,251,255)"
           ],
           [
            0.125,
            "rgb(222,235,247)"
           ],
           [
            0.25,
            "rgb(198,219,239)"
           ],
           [
            0.375,
            "rgb(158,202,225)"
           ],
           [
            0.5,
            "rgb(107,174,214)"
           ],
           [
            0.625,
            "rgb(66,146,198)"
           ],
           [
            0.75,
            "rgb(33,113,181)"
           ],
           [
            0.875,
            "rgb(8,81,156)"
           ],
           [
            1,
            "rgb(8,48,107)"
           ]
          ],
          "reversescale": false,
          "showscale": true
         },
         "type": "parcoords"
        }
       ],
       "layout": {
        "template": {
         "data": {
          "bar": [
           {
            "error_x": {
             "color": "#2a3f5f"
            },
            "error_y": {
             "color": "#2a3f5f"
            },
            "marker": {
             "line": {
              "color": "#E5ECF6",
              "width": 0.5
             },
             "pattern": {
              "fillmode": "overlay",
              "size": 10,
              "solidity": 0.2
             }
            },
            "type": "bar"
           }
          ],
          "barpolar": [
           {
            "marker": {
             "line": {
              "color": "#E5ECF6",
              "width": 0.5
             },
             "pattern": {
              "fillmode": "overlay",
              "size": 10,
              "solidity": 0.2
             }
            },
            "type": "barpolar"
           }
          ],
          "carpet": [
           {
            "aaxis": {
             "endlinecolor": "#2a3f5f",
             "gridcolor": "white",
             "linecolor": "white",
             "minorgridcolor": "white",
             "startlinecolor": "#2a3f5f"
            },
            "baxis": {
             "endlinecolor": "#2a3f5f",
             "gridcolor": "white",
             "linecolor": "white",
             "minorgridcolor": "white",
             "startlinecolor": "#2a3f5f"
            },
            "type": "carpet"
           }
          ],
          "choropleth": [
           {
            "colorbar": {
             "outlinewidth": 0,
             "ticks": ""
            },
            "type": "choropleth"
           }
          ],
          "contour": [
           {
            "colorbar": {
             "outlinewidth": 0,
             "ticks": ""
            },
            "colorscale": [
             [
              0,
              "#0d0887"
             ],
             [
              0.1111111111111111,
              "#46039f"
             ],
             [
              0.2222222222222222,
              "#7201a8"
             ],
             [
              0.3333333333333333,
              "#9c179e"
             ],
             [
              0.4444444444444444,
              "#bd3786"
             ],
             [
              0.5555555555555556,
              "#d8576b"
             ],
             [
              0.6666666666666666,
              "#ed7953"
             ],
             [
              0.7777777777777778,
              "#fb9f3a"
             ],
             [
              0.8888888888888888,
              "#fdca26"
             ],
             [
              1,
              "#f0f921"
             ]
            ],
            "type": "contour"
           }
          ],
          "contourcarpet": [
           {
            "colorbar": {
             "outlinewidth": 0,
             "ticks": ""
            },
            "type": "contourcarpet"
           }
          ],
          "heatmap": [
           {
            "colorbar": {
             "outlinewidth": 0,
             "ticks": ""
            },
            "colorscale": [
             [
              0,
              "#0d0887"
             ],
             [
              0.1111111111111111,
              "#46039f"
             ],
             [
              0.2222222222222222,
              "#7201a8"
             ],
             [
              0.3333333333333333,
              "#9c179e"
             ],
             [
              0.4444444444444444,
              "#bd3786"
             ],
             [
              0.5555555555555556,
              "#d8576b"
             ],
             [
              0.6666666666666666,
              "#ed7953"
             ],
             [
              0.7777777777777778,
              "#fb9f3a"
             ],
             [
              0.8888888888888888,
              "#fdca26"
             ],
             [
              1,
              "#f0f921"
             ]
            ],
            "type": "heatmap"
           }
          ],
          "histogram": [
           {
            "marker": {
             "pattern": {
              "fillmode": "overlay",
              "size": 10,
              "solidity": 0.2
             }
            },
            "type": "histogram"
           }
          ],
          "histogram2d": [
           {
            "colorbar": {
             "outlinewidth": 0,
             "ticks": ""
            },
            "colorscale": [
             [
              0,
              "#0d0887"
             ],
             [
              0.1111111111111111,
              "#46039f"
             ],
             [
              0.2222222222222222,
              "#7201a8"
             ],
             [
              0.3333333333333333,
              "#9c179e"
             ],
             [
              0.4444444444444444,
              "#bd3786"
             ],
             [
              0.5555555555555556,
              "#d8576b"
             ],
             [
              0.6666666666666666,
              "#ed7953"
             ],
             [
              0.7777777777777778,
              "#fb9f3a"
             ],
             [
              0.8888888888888888,
              "#fdca26"
             ],
             [
              1,
              "#f0f921"
             ]
            ],
            "type": "histogram2d"
           }
          ],
          "histogram2dcontour": [
           {
            "colorbar": {
             "outlinewidth": 0,
             "ticks": ""
            },
            "colorscale": [
             [
              0,
              "#0d0887"
             ],
             [
              0.1111111111111111,
              "#46039f"
             ],
             [
              0.2222222222222222,
              "#7201a8"
             ],
             [
              0.3333333333333333,
              "#9c179e"
             ],
             [
              0.4444444444444444,
              "#bd3786"
             ],
             [
              0.5555555555555556,
              "#d8576b"
             ],
             [
              0.6666666666666666,
              "#ed7953"
             ],
             [
              0.7777777777777778,
              "#fb9f3a"
             ],
             [
              0.8888888888888888,
              "#fdca26"
             ],
             [
              1,
              "#f0f921"
             ]
            ],
            "type": "histogram2dcontour"
           }
          ],
          "mesh3d": [
           {
            "colorbar": {
             "outlinewidth": 0,
             "ticks": ""
            },
            "type": "mesh3d"
           }
          ],
          "parcoords": [
           {
            "line": {
             "colorbar": {
              "outlinewidth": 0,
              "ticks": ""
             }
            },
            "type": "parcoords"
           }
          ],
          "pie": [
           {
            "automargin": true,
            "type": "pie"
           }
          ],
          "scatter": [
           {
            "fillpattern": {
             "fillmode": "overlay",
             "size": 10,
             "solidity": 0.2
            },
            "type": "scatter"
           }
          ],
          "scatter3d": [
           {
            "line": {
             "colorbar": {
              "outlinewidth": 0,
              "ticks": ""
             }
            },
            "marker": {
             "colorbar": {
              "outlinewidth": 0,
              "ticks": ""
             }
            },
            "type": "scatter3d"
           }
          ],
          "scattercarpet": [
           {
            "marker": {
             "colorbar": {
              "outlinewidth": 0,
              "ticks": ""
             }
            },
            "type": "scattercarpet"
           }
          ],
          "scattergeo": [
           {
            "marker": {
             "colorbar": {
              "outlinewidth": 0,
              "ticks": ""
             }
            },
            "type": "scattergeo"
           }
          ],
          "scattergl": [
           {
            "marker": {
             "colorbar": {
              "outlinewidth": 0,
              "ticks": ""
             }
            },
            "type": "scattergl"
           }
          ],
          "scattermap": [
           {
            "marker": {
             "colorbar": {
              "outlinewidth": 0,
              "ticks": ""
             }
            },
            "type": "scattermap"
           }
          ],
          "scattermapbox": [
           {
            "marker": {
             "colorbar": {
              "outlinewidth": 0,
              "ticks": ""
             }
            },
            "type": "scattermapbox"
           }
          ],
          "scatterpolar": [
           {
            "marker": {
             "colorbar": {
              "outlinewidth": 0,
              "ticks": ""
             }
            },
            "type": "scatterpolar"
           }
          ],
          "scatterpolargl": [
           {
            "marker": {
             "colorbar": {
              "outlinewidth": 0,
              "ticks": ""
             }
            },
            "type": "scatterpolargl"
           }
          ],
          "scatterternary": [
           {
            "marker": {
             "colorbar": {
              "outlinewidth": 0,
              "ticks": ""
             }
            },
            "type": "scatterternary"
           }
          ],
          "surface": [
           {
            "colorbar": {
             "outlinewidth": 0,
             "ticks": ""
            },
            "colorscale": [
             [
              0,
              "#0d0887"
             ],
             [
              0.1111111111111111,
              "#46039f"
             ],
             [
              0.2222222222222222,
              "#7201a8"
             ],
             [
              0.3333333333333333,
              "#9c179e"
             ],
             [
              0.4444444444444444,
              "#bd3786"
             ],
             [
              0.5555555555555556,
              "#d8576b"
             ],
             [
              0.6666666666666666,
              "#ed7953"
             ],
             [
              0.7777777777777778,
              "#fb9f3a"
             ],
             [
              0.8888888888888888,
              "#fdca26"
             ],
             [
              1,
              "#f0f921"
             ]
            ],
            "type": "surface"
           }
          ],
          "table": [
           {
            "cells": {
             "fill": {
              "color": "#EBF0F8"
             },
             "line": {
              "color": "white"
             }
            },
            "header": {
             "fill": {
              "color": "#C8D4E3"
             },
             "line": {
              "color": "white"
             }
            },
            "type": "table"
           }
          ]
         },
         "layout": {
          "annotationdefaults": {
           "arrowcolor": "#2a3f5f",
           "arrowhead": 0,
           "arrowwidth": 1
          },
          "autotypenumbers": "strict",
          "coloraxis": {
           "colorbar": {
            "outlinewidth": 0,
            "ticks": ""
           }
          },
          "colorscale": {
           "diverging": [
            [
             0,
             "#8e0152"
            ],
            [
             0.1,
             "#c51b7d"
            ],
            [
             0.2,
             "#de77ae"
            ],
            [
             0.3,
             "#f1b6da"
            ],
            [
             0.4,
             "#fde0ef"
            ],
            [
             0.5,
             "#f7f7f7"
            ],
            [
             0.6,
             "#e6f5d0"
            ],
            [
             0.7,
             "#b8e186"
            ],
            [
             0.8,
             "#7fbc41"
            ],
            [
             0.9,
             "#4d9221"
            ],
            [
             1,
             "#276419"
            ]
           ],
           "sequential": [
            [
             0,
             "#0d0887"
            ],
            [
             0.1111111111111111,
             "#46039f"
            ],
            [
             0.2222222222222222,
             "#7201a8"
            ],
            [
             0.3333333333333333,
             "#9c179e"
            ],
            [
             0.4444444444444444,
             "#bd3786"
            ],
            [
             0.5555555555555556,
             "#d8576b"
            ],
            [
             0.6666666666666666,
             "#ed7953"
            ],
            [
             0.7777777777777778,
             "#fb9f3a"
            ],
            [
             0.8888888888888888,
             "#fdca26"
            ],
            [
             1,
             "#f0f921"
            ]
           ],
           "sequentialminus": [
            [
             0,
             "#0d0887"
            ],
            [
             0.1111111111111111,
             "#46039f"
            ],
            [
             0.2222222222222222,
             "#7201a8"
            ],
            [
             0.3333333333333333,
             "#9c179e"
            ],
            [
             0.4444444444444444,
             "#bd3786"
            ],
            [
             0.5555555555555556,
             "#d8576b"
            ],
            [
             0.6666666666666666,
             "#ed7953"
            ],
            [
             0.7777777777777778,
             "#fb9f3a"
            ],
            [
             0.8888888888888888,
             "#fdca26"
            ],
            [
             1,
             "#f0f921"
            ]
           ]
          },
          "colorway": [
           "#636efa",
           "#EF553B",
           "#00cc96",
           "#ab63fa",
           "#FFA15A",
           "#19d3f3",
           "#FF6692",
           "#B6E880",
           "#FF97FF",
           "#FECB52"
          ],
          "font": {
           "color": "#2a3f5f"
          },
          "geo": {
           "bgcolor": "white",
           "lakecolor": "white",
           "landcolor": "#E5ECF6",
           "showlakes": true,
           "showland": true,
           "subunitcolor": "white"
          },
          "hoverlabel": {
           "align": "left"
          },
          "hovermode": "closest",
          "mapbox": {
           "style": "light"
          },
          "paper_bgcolor": "white",
          "plot_bgcolor": "#E5ECF6",
          "polar": {
           "angularaxis": {
            "gridcolor": "white",
            "linecolor": "white",
            "ticks": ""
           },
           "bgcolor": "#E5ECF6",
           "radialaxis": {
            "gridcolor": "white",
            "linecolor": "white",
            "ticks": ""
           }
          },
          "scene": {
           "xaxis": {
            "backgroundcolor": "#E5ECF6",
            "gridcolor": "white",
            "gridwidth": 2,
            "linecolor": "white",
            "showbackground": true,
            "ticks": "",
            "zerolinecolor": "white"
           },
           "yaxis": {
            "backgroundcolor": "#E5ECF6",
            "gridcolor": "white",
            "gridwidth": 2,
            "linecolor": "white",
            "showbackground": true,
            "ticks": "",
            "zerolinecolor": "white"
           },
           "zaxis": {
            "backgroundcolor": "#E5ECF6",
            "gridcolor": "white",
            "gridwidth": 2,
            "linecolor": "white",
            "showbackground": true,
            "ticks": "",
            "zerolinecolor": "white"
           }
          },
          "shapedefaults": {
           "line": {
            "color": "#2a3f5f"
           }
          },
          "ternary": {
           "aaxis": {
            "gridcolor": "white",
            "linecolor": "white",
            "ticks": ""
           },
           "baxis": {
            "gridcolor": "white",
            "linecolor": "white",
            "ticks": ""
           },
           "bgcolor": "#E5ECF6",
           "caxis": {
            "gridcolor": "white",
            "linecolor": "white",
            "ticks": ""
           }
          },
          "title": {
           "x": 0.05
          },
          "xaxis": {
           "automargin": true,
           "gridcolor": "white",
           "linecolor": "white",
           "ticks": "",
           "title": {
            "standoff": 15
           },
           "zerolinecolor": "white",
           "zerolinewidth": 2
          },
          "yaxis": {
           "automargin": true,
           "gridcolor": "white",
           "linecolor": "white",
           "ticks": "",
           "title": {
            "standoff": 15
           },
           "zerolinecolor": "white",
           "zerolinewidth": 2
          }
         }
        },
        "title": {
         "text": "LightGBM 파라미터 관계 시각화"
        }
       }
      }
     },
     "metadata": {},
     "output_type": "display_data"
    }
   ],
   "source": [
    "fig = optuna.visualization.plot_optimization_history(lgbm_study)\n",
    "fig.update_layout(title='LightGBM 최적화 과정 (점점 좋아지는 것을 확인)')\n",
    "fig.show()\n",
    "\n",
    "fig = optuna.visualization.plot_param_importances(lgbm_study)\n",
    "fig.update_layout(title='LightGBM 파라미터 중요도 (어떤 파라미터가 중요한가)')\n",
    "fig.show()\n",
    "\n",
    "fig = optuna.visualization.plot_parallel_coordinate(lgbm_study)\n",
    "fig.update_layout(title='LightGBM 파라미터 관계 시각화')\n",
    "fig.show()"
   ]
  },
  {
   "cell_type": "markdown",
   "metadata": {},
   "source": [
    "## 4. XGBoost Optuna 최적화"
   ]
  },
  {
   "cell_type": "code",
   "execution_count": 6,
   "metadata": {},
   "outputs": [],
   "source": [
    "def objective_xgb(trial):\n",
    "    \"\"\"\n",
    "    XGBoost Optuna objective function\n",
    "    \"\"\"\n",
    "    \n",
    "    params = {\n",
    "        'n_estimators': trial.suggest_int('n_estimators', 100, 500),\n",
    "        'max_depth': trial.suggest_int('max_depth', 4, 12),\n",
    "        'learning_rate': trial.suggest_float('learning_rate', 0.01, 0.2, log=True),\n",
    "        'subsample': trial.suggest_float('subsample', 0.7, 1.0),\n",
    "        'colsample_bytree': trial.suggest_float('colsample_bytree', 0.7, 1.0),\n",
    "        'min_child_weight': trial.suggest_int('min_child_weight', 1, 7),\n",
    "        'gamma': trial.suggest_float('gamma', 0, 0.3),\n",
    "        'reg_alpha': trial.suggest_float('reg_alpha', 0, 1.0),\n",
    "        'reg_lambda': trial.suggest_float('reg_lambda', 0, 1.0),\n",
    "        'tree_method': 'hist',\n",
    "        'device': 'cuda',\n",
    "        'objective': 'multi:softmax',\n",
    "        'num_class': len(y.unique()),\n",
    "        'random_state': 42,\n",
    "        'verbosity': 0\n",
    "    }\n",
    "    \n",
    "    skf = StratifiedKFold(n_splits=5, shuffle=True, random_state=42)\n",
    "    scores = []\n",
    "    \n",
    "    for fold_idx, (train_idx, val_idx) in enumerate(skf.split(X_scaled, y)):\n",
    "        X_train, X_val = X_scaled.iloc[train_idx], X_scaled.iloc[val_idx]\n",
    "        y_train, y_val = y.iloc[train_idx], y.iloc[val_idx]\n",
    "        \n",
    "        model = xgb.XGBClassifier(**params)\n",
    "        model.fit(\n",
    "            X_train, y_train,\n",
    "            eval_set=[(X_val, y_val)],\n",
    "            verbose=False\n",
    "        )\n",
    "        \n",
    "        y_pred = model.predict(X_val)\n",
    "        score = f1_score(y_val, y_pred, average='macro')\n",
    "        scores.append(score)\n",
    "        \n",
    "        trial.report(score, fold_idx)\n",
    "        \n",
    "        if trial.should_prune():\n",
    "            raise optuna.TrialPruned()\n",
    "    \n",
    "    return np.mean(scores)"
   ]
  },
  {
   "cell_type": "code",
   "execution_count": 7,
   "metadata": {},
   "outputs": [
    {
     "name": "stdout",
     "output_type": "stream",
     "text": [
      "=== XGBoost Optuna 최적화 시작 ===\n",
      "베이지안 최적화로 똑똑하게 탐색합니다...\n",
      "\n"
     ]
    },
    {
     "data": {
      "application/vnd.jupyter.widget-view+json": {
       "model_id": "0d0d717f94f542bdb360932c521c25b1",
       "version_major": 2,
       "version_minor": 0
      },
      "text/plain": [
       "  0%|          | 0/50 [00:00<?, ?it/s]"
      ]
     },
     "metadata": {},
     "output_type": "display_data"
    },
    {
     "name": "stdout",
     "output_type": "stream",
     "text": [
      "\n",
      "완료! 소요 시간: 39.04분\n",
      "최고 F1-macro 점수: 0.803030\n",
      "\n",
      "최적 하이퍼파라미터:\n",
      "  n_estimators: 473\n",
      "  max_depth: 5\n",
      "  learning_rate: 0.06796464015908335\n",
      "  subsample: 0.9641278320893517\n",
      "  colsample_bytree: 0.956507986853723\n",
      "  min_child_weight: 5\n",
      "  gamma: 0.1847481567915854\n",
      "  reg_alpha: 0.8017218336509355\n",
      "  reg_lambda: 0.4475376061577545\n",
      "\n",
      "Pruned trials: 10개\n",
      "Completed trials: 40개\n"
     ]
    }
   ],
   "source": [
    "print(\"=== XGBoost Optuna 최적화 시작 ===\")\n",
    "print(\"베이지안 최적화로 똑똑하게 탐색합니다...\\n\")\n",
    "\n",
    "xgb_study = optuna.create_study(\n",
    "    direction='maximize',\n",
    "    sampler=optuna.samplers.TPESampler(seed=42),\n",
    "    pruner=optuna.pruners.MedianPruner(\n",
    "        n_startup_trials=5,\n",
    "        n_warmup_steps=2\n",
    "    )\n",
    ")\n",
    "\n",
    "start_time = time.time()\n",
    "xgb_study.optimize(\n",
    "    objective_xgb,\n",
    "    n_trials=50,\n",
    "    timeout=7200,\n",
    "    show_progress_bar=True\n",
    ")\n",
    "xgb_elapsed = time.time() - start_time\n",
    "\n",
    "print(f\"\\n완료! 소요 시간: {xgb_elapsed/60:.2f}분\")\n",
    "print(f\"최고 F1-macro 점수: {xgb_study.best_value:.6f}\")\n",
    "print(f\"\\n최적 하이퍼파라미터:\")\n",
    "for param, value in xgb_study.best_params.items():\n",
    "    print(f\"  {param}: {value}\")\n",
    "\n",
    "print(f\"\\nPruned trials: {len([t for t in xgb_study.trials if t.state == optuna.trial.TrialState.PRUNED])}개\")\n",
    "print(f\"Completed trials: {len([t for t in xgb_study.trials if t.state == optuna.trial.TrialState.COMPLETE])}개\")"
   ]
  },
  {
   "cell_type": "markdown",
   "metadata": {},
   "source": [
    "## 5. XGBoost 최적화 시각화"
   ]
  },
  {
   "cell_type": "code",
   "execution_count": 8,
   "metadata": {},
   "outputs": [
    {
     "data": {
      "application/vnd.plotly.v1+json": {
       "config": {
        "plotlyServerURL": "https://plot.ly"
       },
       "data": [
        {
         "mode": "markers",
         "name": "Objective Value",
         "type": "scatter",
         "x": [
          0,
          1,
          2,
          3,
          4,
          7,
          8,
          10,
          11,
          12,
          13,
          14,
          15,
          16,
          17,
          18,
          19,
          22,
          23,
          24,
          26,
          27,
          29,
          31,
          32,
          33,
          34,
          35,
          36,
          39,
          40,
          41,
          42,
          43,
          44,
          45,
          46,
          47,
          48,
          49
         ],
         "y": [
          0.7964259429869411,
          0.8000522267825335,
          0.7960046433399544,
          0.7846506194185029,
          0.7913590172225907,
          0.7983865858527723,
          0.7972253788364863,
          0.7970052926574056,
          0.8003698581355255,
          0.799477853230887,
          0.8001770224976787,
          0.7986470668308092,
          0.8003777778686079,
          0.800472102064923,
          0.8005128899425962,
          0.7980447418064032,
          0.7969215815852198,
          0.8009907934725877,
          0.7963986516873286,
          0.8002012800945746,
          0.7971278273434741,
          0.7974412732944207,
          0.7983880378905883,
          0.7990180259767607,
          0.8006900078618908,
          0.7995781359257641,
          0.7996707859235359,
          0.8004529574912057,
          0.7988294651189799,
          0.7982025842547098,
          0.7964711388959824,
          0.8017500170496399,
          0.7992430788649296,
          0.8030303147676692,
          0.8024068754134646,
          0.8024674556617498,
          0.7993016595244221,
          0.7972709394182247,
          0.8009161096510462,
          0.8018951908911776
         ]
        },
        {
         "mode": "lines",
         "name": "Best Value",
         "type": "scatter",
         "x": [
          0,
          1,
          2,
          3,
          4,
          5,
          6,
          7,
          8,
          9,
          10,
          11,
          12,
          13,
          14,
          15,
          16,
          17,
          18,
          19,
          20,
          21,
          22,
          23,
          24,
          25,
          26,
          27,
          28,
          29,
          30,
          31,
          32,
          33,
          34,
          35,
          36,
          37,
          38,
          39,
          40,
          41,
          42,
          43,
          44,
          45,
          46,
          47,
          48,
          49
         ],
         "y": [
          0.7964259429869411,
          0.8000522267825335,
          0.8000522267825335,
          0.8000522267825335,
          0.8000522267825335,
          0.8000522267825335,
          0.8000522267825335,
          0.8000522267825335,
          0.8000522267825335,
          0.8000522267825335,
          0.8000522267825335,
          0.8003698581355255,
          0.8003698581355255,
          0.8003698581355255,
          0.8003698581355255,
          0.8003777778686079,
          0.800472102064923,
          0.8005128899425962,
          0.8005128899425962,
          0.8005128899425962,
          0.8005128899425962,
          0.8005128899425962,
          0.8009907934725877,
          0.8009907934725877,
          0.8009907934725877,
          0.8009907934725877,
          0.8009907934725877,
          0.8009907934725877,
          0.8009907934725877,
          0.8009907934725877,
          0.8009907934725877,
          0.8009907934725877,
          0.8009907934725877,
          0.8009907934725877,
          0.8009907934725877,
          0.8009907934725877,
          0.8009907934725877,
          0.8009907934725877,
          0.8009907934725877,
          0.8009907934725877,
          0.8009907934725877,
          0.8017500170496399,
          0.8017500170496399,
          0.8030303147676692,
          0.8030303147676692,
          0.8030303147676692,
          0.8030303147676692,
          0.8030303147676692,
          0.8030303147676692,
          0.8030303147676692
         ]
        },
        {
         "marker": {
          "color": "#cccccc"
         },
         "mode": "markers",
         "name": "Infeasible Trial",
         "showlegend": false,
         "type": "scatter",
         "x": [],
         "y": []
        }
       ],
       "layout": {
        "template": {
         "data": {
          "bar": [
           {
            "error_x": {
             "color": "#2a3f5f"
            },
            "error_y": {
             "color": "#2a3f5f"
            },
            "marker": {
             "line": {
              "color": "#E5ECF6",
              "width": 0.5
             },
             "pattern": {
              "fillmode": "overlay",
              "size": 10,
              "solidity": 0.2
             }
            },
            "type": "bar"
           }
          ],
          "barpolar": [
           {
            "marker": {
             "line": {
              "color": "#E5ECF6",
              "width": 0.5
             },
             "pattern": {
              "fillmode": "overlay",
              "size": 10,
              "solidity": 0.2
             }
            },
            "type": "barpolar"
           }
          ],
          "carpet": [
           {
            "aaxis": {
             "endlinecolor": "#2a3f5f",
             "gridcolor": "white",
             "linecolor": "white",
             "minorgridcolor": "white",
             "startlinecolor": "#2a3f5f"
            },
            "baxis": {
             "endlinecolor": "#2a3f5f",
             "gridcolor": "white",
             "linecolor": "white",
             "minorgridcolor": "white",
             "startlinecolor": "#2a3f5f"
            },
            "type": "carpet"
           }
          ],
          "choropleth": [
           {
            "colorbar": {
             "outlinewidth": 0,
             "ticks": ""
            },
            "type": "choropleth"
           }
          ],
          "contour": [
           {
            "colorbar": {
             "outlinewidth": 0,
             "ticks": ""
            },
            "colorscale": [
             [
              0,
              "#0d0887"
             ],
             [
              0.1111111111111111,
              "#46039f"
             ],
             [
              0.2222222222222222,
              "#7201a8"
             ],
             [
              0.3333333333333333,
              "#9c179e"
             ],
             [
              0.4444444444444444,
              "#bd3786"
             ],
             [
              0.5555555555555556,
              "#d8576b"
             ],
             [
              0.6666666666666666,
              "#ed7953"
             ],
             [
              0.7777777777777778,
              "#fb9f3a"
             ],
             [
              0.8888888888888888,
              "#fdca26"
             ],
             [
              1,
              "#f0f921"
             ]
            ],
            "type": "contour"
           }
          ],
          "contourcarpet": [
           {
            "colorbar": {
             "outlinewidth": 0,
             "ticks": ""
            },
            "type": "contourcarpet"
           }
          ],
          "heatmap": [
           {
            "colorbar": {
             "outlinewidth": 0,
             "ticks": ""
            },
            "colorscale": [
             [
              0,
              "#0d0887"
             ],
             [
              0.1111111111111111,
              "#46039f"
             ],
             [
              0.2222222222222222,
              "#7201a8"
             ],
             [
              0.3333333333333333,
              "#9c179e"
             ],
             [
              0.4444444444444444,
              "#bd3786"
             ],
             [
              0.5555555555555556,
              "#d8576b"
             ],
             [
              0.6666666666666666,
              "#ed7953"
             ],
             [
              0.7777777777777778,
              "#fb9f3a"
             ],
             [
              0.8888888888888888,
              "#fdca26"
             ],
             [
              1,
              "#f0f921"
             ]
            ],
            "type": "heatmap"
           }
          ],
          "histogram": [
           {
            "marker": {
             "pattern": {
              "fillmode": "overlay",
              "size": 10,
              "solidity": 0.2
             }
            },
            "type": "histogram"
           }
          ],
          "histogram2d": [
           {
            "colorbar": {
             "outlinewidth": 0,
             "ticks": ""
            },
            "colorscale": [
             [
              0,
              "#0d0887"
             ],
             [
              0.1111111111111111,
              "#46039f"
             ],
             [
              0.2222222222222222,
              "#7201a8"
             ],
             [
              0.3333333333333333,
              "#9c179e"
             ],
             [
              0.4444444444444444,
              "#bd3786"
             ],
             [
              0.5555555555555556,
              "#d8576b"
             ],
             [
              0.6666666666666666,
              "#ed7953"
             ],
             [
              0.7777777777777778,
              "#fb9f3a"
             ],
             [
              0.8888888888888888,
              "#fdca26"
             ],
             [
              1,
              "#f0f921"
             ]
            ],
            "type": "histogram2d"
           }
          ],
          "histogram2dcontour": [
           {
            "colorbar": {
             "outlinewidth": 0,
             "ticks": ""
            },
            "colorscale": [
             [
              0,
              "#0d0887"
             ],
             [
              0.1111111111111111,
              "#46039f"
             ],
             [
              0.2222222222222222,
              "#7201a8"
             ],
             [
              0.3333333333333333,
              "#9c179e"
             ],
             [
              0.4444444444444444,
              "#bd3786"
             ],
             [
              0.5555555555555556,
              "#d8576b"
             ],
             [
              0.6666666666666666,
              "#ed7953"
             ],
             [
              0.7777777777777778,
              "#fb9f3a"
             ],
             [
              0.8888888888888888,
              "#fdca26"
             ],
             [
              1,
              "#f0f921"
             ]
            ],
            "type": "histogram2dcontour"
           }
          ],
          "mesh3d": [
           {
            "colorbar": {
             "outlinewidth": 0,
             "ticks": ""
            },
            "type": "mesh3d"
           }
          ],
          "parcoords": [
           {
            "line": {
             "colorbar": {
              "outlinewidth": 0,
              "ticks": ""
             }
            },
            "type": "parcoords"
           }
          ],
          "pie": [
           {
            "automargin": true,
            "type": "pie"
           }
          ],
          "scatter": [
           {
            "fillpattern": {
             "fillmode": "overlay",
             "size": 10,
             "solidity": 0.2
            },
            "type": "scatter"
           }
          ],
          "scatter3d": [
           {
            "line": {
             "colorbar": {
              "outlinewidth": 0,
              "ticks": ""
             }
            },
            "marker": {
             "colorbar": {
              "outlinewidth": 0,
              "ticks": ""
             }
            },
            "type": "scatter3d"
           }
          ],
          "scattercarpet": [
           {
            "marker": {
             "colorbar": {
              "outlinewidth": 0,
              "ticks": ""
             }
            },
            "type": "scattercarpet"
           }
          ],
          "scattergeo": [
           {
            "marker": {
             "colorbar": {
              "outlinewidth": 0,
              "ticks": ""
             }
            },
            "type": "scattergeo"
           }
          ],
          "scattergl": [
           {
            "marker": {
             "colorbar": {
              "outlinewidth": 0,
              "ticks": ""
             }
            },
            "type": "scattergl"
           }
          ],
          "scattermap": [
           {
            "marker": {
             "colorbar": {
              "outlinewidth": 0,
              "ticks": ""
             }
            },
            "type": "scattermap"
           }
          ],
          "scattermapbox": [
           {
            "marker": {
             "colorbar": {
              "outlinewidth": 0,
              "ticks": ""
             }
            },
            "type": "scattermapbox"
           }
          ],
          "scatterpolar": [
           {
            "marker": {
             "colorbar": {
              "outlinewidth": 0,
              "ticks": ""
             }
            },
            "type": "scatterpolar"
           }
          ],
          "scatterpolargl": [
           {
            "marker": {
             "colorbar": {
              "outlinewidth": 0,
              "ticks": ""
             }
            },
            "type": "scatterpolargl"
           }
          ],
          "scatterternary": [
           {
            "marker": {
             "colorbar": {
              "outlinewidth": 0,
              "ticks": ""
             }
            },
            "type": "scatterternary"
           }
          ],
          "surface": [
           {
            "colorbar": {
             "outlinewidth": 0,
             "ticks": ""
            },
            "colorscale": [
             [
              0,
              "#0d0887"
             ],
             [
              0.1111111111111111,
              "#46039f"
             ],
             [
              0.2222222222222222,
              "#7201a8"
             ],
             [
              0.3333333333333333,
              "#9c179e"
             ],
             [
              0.4444444444444444,
              "#bd3786"
             ],
             [
              0.5555555555555556,
              "#d8576b"
             ],
             [
              0.6666666666666666,
              "#ed7953"
             ],
             [
              0.7777777777777778,
              "#fb9f3a"
             ],
             [
              0.8888888888888888,
              "#fdca26"
             ],
             [
              1,
              "#f0f921"
             ]
            ],
            "type": "surface"
           }
          ],
          "table": [
           {
            "cells": {
             "fill": {
              "color": "#EBF0F8"
             },
             "line": {
              "color": "white"
             }
            },
            "header": {
             "fill": {
              "color": "#C8D4E3"
             },
             "line": {
              "color": "white"
             }
            },
            "type": "table"
           }
          ]
         },
         "layout": {
          "annotationdefaults": {
           "arrowcolor": "#2a3f5f",
           "arrowhead": 0,
           "arrowwidth": 1
          },
          "autotypenumbers": "strict",
          "coloraxis": {
           "colorbar": {
            "outlinewidth": 0,
            "ticks": ""
           }
          },
          "colorscale": {
           "diverging": [
            [
             0,
             "#8e0152"
            ],
            [
             0.1,
             "#c51b7d"
            ],
            [
             0.2,
             "#de77ae"
            ],
            [
             0.3,
             "#f1b6da"
            ],
            [
             0.4,
             "#fde0ef"
            ],
            [
             0.5,
             "#f7f7f7"
            ],
            [
             0.6,
             "#e6f5d0"
            ],
            [
             0.7,
             "#b8e186"
            ],
            [
             0.8,
             "#7fbc41"
            ],
            [
             0.9,
             "#4d9221"
            ],
            [
             1,
             "#276419"
            ]
           ],
           "sequential": [
            [
             0,
             "#0d0887"
            ],
            [
             0.1111111111111111,
             "#46039f"
            ],
            [
             0.2222222222222222,
             "#7201a8"
            ],
            [
             0.3333333333333333,
             "#9c179e"
            ],
            [
             0.4444444444444444,
             "#bd3786"
            ],
            [
             0.5555555555555556,
             "#d8576b"
            ],
            [
             0.6666666666666666,
             "#ed7953"
            ],
            [
             0.7777777777777778,
             "#fb9f3a"
            ],
            [
             0.8888888888888888,
             "#fdca26"
            ],
            [
             1,
             "#f0f921"
            ]
           ],
           "sequentialminus": [
            [
             0,
             "#0d0887"
            ],
            [
             0.1111111111111111,
             "#46039f"
            ],
            [
             0.2222222222222222,
             "#7201a8"
            ],
            [
             0.3333333333333333,
             "#9c179e"
            ],
            [
             0.4444444444444444,
             "#bd3786"
            ],
            [
             0.5555555555555556,
             "#d8576b"
            ],
            [
             0.6666666666666666,
             "#ed7953"
            ],
            [
             0.7777777777777778,
             "#fb9f3a"
            ],
            [
             0.8888888888888888,
             "#fdca26"
            ],
            [
             1,
             "#f0f921"
            ]
           ]
          },
          "colorway": [
           "#636efa",
           "#EF553B",
           "#00cc96",
           "#ab63fa",
           "#FFA15A",
           "#19d3f3",
           "#FF6692",
           "#B6E880",
           "#FF97FF",
           "#FECB52"
          ],
          "font": {
           "color": "#2a3f5f"
          },
          "geo": {
           "bgcolor": "white",
           "lakecolor": "white",
           "landcolor": "#E5ECF6",
           "showlakes": true,
           "showland": true,
           "subunitcolor": "white"
          },
          "hoverlabel": {
           "align": "left"
          },
          "hovermode": "closest",
          "mapbox": {
           "style": "light"
          },
          "paper_bgcolor": "white",
          "plot_bgcolor": "#E5ECF6",
          "polar": {
           "angularaxis": {
            "gridcolor": "white",
            "linecolor": "white",
            "ticks": ""
           },
           "bgcolor": "#E5ECF6",
           "radialaxis": {
            "gridcolor": "white",
            "linecolor": "white",
            "ticks": ""
           }
          },
          "scene": {
           "xaxis": {
            "backgroundcolor": "#E5ECF6",
            "gridcolor": "white",
            "gridwidth": 2,
            "linecolor": "white",
            "showbackground": true,
            "ticks": "",
            "zerolinecolor": "white"
           },
           "yaxis": {
            "backgroundcolor": "#E5ECF6",
            "gridcolor": "white",
            "gridwidth": 2,
            "linecolor": "white",
            "showbackground": true,
            "ticks": "",
            "zerolinecolor": "white"
           },
           "zaxis": {
            "backgroundcolor": "#E5ECF6",
            "gridcolor": "white",
            "gridwidth": 2,
            "linecolor": "white",
            "showbackground": true,
            "ticks": "",
            "zerolinecolor": "white"
           }
          },
          "shapedefaults": {
           "line": {
            "color": "#2a3f5f"
           }
          },
          "ternary": {
           "aaxis": {
            "gridcolor": "white",
            "linecolor": "white",
            "ticks": ""
           },
           "baxis": {
            "gridcolor": "white",
            "linecolor": "white",
            "ticks": ""
           },
           "bgcolor": "#E5ECF6",
           "caxis": {
            "gridcolor": "white",
            "linecolor": "white",
            "ticks": ""
           }
          },
          "title": {
           "x": 0.05
          },
          "xaxis": {
           "automargin": true,
           "gridcolor": "white",
           "linecolor": "white",
           "ticks": "",
           "title": {
            "standoff": 15
           },
           "zerolinecolor": "white",
           "zerolinewidth": 2
          },
          "yaxis": {
           "automargin": true,
           "gridcolor": "white",
           "linecolor": "white",
           "ticks": "",
           "title": {
            "standoff": 15
           },
           "zerolinecolor": "white",
           "zerolinewidth": 2
          }
         }
        },
        "title": {
         "text": "XGBoost 최적화 과정"
        },
        "xaxis": {
         "title": {
          "text": "Trial"
         }
        },
        "yaxis": {
         "title": {
          "text": "Objective Value"
         }
        }
       }
      }
     },
     "metadata": {},
     "output_type": "display_data"
    },
    {
     "data": {
      "application/vnd.plotly.v1+json": {
       "config": {
        "plotlyServerURL": "https://plot.ly"
       },
       "data": [
        {
         "cliponaxis": false,
         "hovertemplate": [
          "min_child_weight (IntDistribution): 0.005851734932456075<extra></extra>",
          "max_depth (IntDistribution): 0.033095810258821454<extra></extra>",
          "subsample (FloatDistribution): 0.05327118406291659<extra></extra>",
          "n_estimators (IntDistribution): 0.0691860430900965<extra></extra>",
          "reg_alpha (FloatDistribution): 0.07469093896371966<extra></extra>",
          "reg_lambda (FloatDistribution): 0.09996548024013277<extra></extra>",
          "learning_rate (FloatDistribution): 0.12785475988214315<extra></extra>",
          "gamma (FloatDistribution): 0.1303028443334878<extra></extra>",
          "colsample_bytree (FloatDistribution): 0.4057812042362259<extra></extra>"
         ],
         "name": "Objective Value",
         "orientation": "h",
         "text": [
          "<0.01",
          "0.03",
          "0.05",
          "0.07",
          "0.07",
          "0.10",
          "0.13",
          "0.13",
          "0.41"
         ],
         "textposition": "outside",
         "type": "bar",
         "x": [
          0.005851734932456075,
          0.033095810258821454,
          0.05327118406291659,
          0.0691860430900965,
          0.07469093896371966,
          0.09996548024013277,
          0.12785475988214315,
          0.1303028443334878,
          0.4057812042362259
         ],
         "y": [
          "min_child_weight",
          "max_depth",
          "subsample",
          "n_estimators",
          "reg_alpha",
          "reg_lambda",
          "learning_rate",
          "gamma",
          "colsample_bytree"
         ]
        }
       ],
       "layout": {
        "template": {
         "data": {
          "bar": [
           {
            "error_x": {
             "color": "#2a3f5f"
            },
            "error_y": {
             "color": "#2a3f5f"
            },
            "marker": {
             "line": {
              "color": "#E5ECF6",
              "width": 0.5
             },
             "pattern": {
              "fillmode": "overlay",
              "size": 10,
              "solidity": 0.2
             }
            },
            "type": "bar"
           }
          ],
          "barpolar": [
           {
            "marker": {
             "line": {
              "color": "#E5ECF6",
              "width": 0.5
             },
             "pattern": {
              "fillmode": "overlay",
              "size": 10,
              "solidity": 0.2
             }
            },
            "type": "barpolar"
           }
          ],
          "carpet": [
           {
            "aaxis": {
             "endlinecolor": "#2a3f5f",
             "gridcolor": "white",
             "linecolor": "white",
             "minorgridcolor": "white",
             "startlinecolor": "#2a3f5f"
            },
            "baxis": {
             "endlinecolor": "#2a3f5f",
             "gridcolor": "white",
             "linecolor": "white",
             "minorgridcolor": "white",
             "startlinecolor": "#2a3f5f"
            },
            "type": "carpet"
           }
          ],
          "choropleth": [
           {
            "colorbar": {
             "outlinewidth": 0,
             "ticks": ""
            },
            "type": "choropleth"
           }
          ],
          "contour": [
           {
            "colorbar": {
             "outlinewidth": 0,
             "ticks": ""
            },
            "colorscale": [
             [
              0,
              "#0d0887"
             ],
             [
              0.1111111111111111,
              "#46039f"
             ],
             [
              0.2222222222222222,
              "#7201a8"
             ],
             [
              0.3333333333333333,
              "#9c179e"
             ],
             [
              0.4444444444444444,
              "#bd3786"
             ],
             [
              0.5555555555555556,
              "#d8576b"
             ],
             [
              0.6666666666666666,
              "#ed7953"
             ],
             [
              0.7777777777777778,
              "#fb9f3a"
             ],
             [
              0.8888888888888888,
              "#fdca26"
             ],
             [
              1,
              "#f0f921"
             ]
            ],
            "type": "contour"
           }
          ],
          "contourcarpet": [
           {
            "colorbar": {
             "outlinewidth": 0,
             "ticks": ""
            },
            "type": "contourcarpet"
           }
          ],
          "heatmap": [
           {
            "colorbar": {
             "outlinewidth": 0,
             "ticks": ""
            },
            "colorscale": [
             [
              0,
              "#0d0887"
             ],
             [
              0.1111111111111111,
              "#46039f"
             ],
             [
              0.2222222222222222,
              "#7201a8"
             ],
             [
              0.3333333333333333,
              "#9c179e"
             ],
             [
              0.4444444444444444,
              "#bd3786"
             ],
             [
              0.5555555555555556,
              "#d8576b"
             ],
             [
              0.6666666666666666,
              "#ed7953"
             ],
             [
              0.7777777777777778,
              "#fb9f3a"
             ],
             [
              0.8888888888888888,
              "#fdca26"
             ],
             [
              1,
              "#f0f921"
             ]
            ],
            "type": "heatmap"
           }
          ],
          "histogram": [
           {
            "marker": {
             "pattern": {
              "fillmode": "overlay",
              "size": 10,
              "solidity": 0.2
             }
            },
            "type": "histogram"
           }
          ],
          "histogram2d": [
           {
            "colorbar": {
             "outlinewidth": 0,
             "ticks": ""
            },
            "colorscale": [
             [
              0,
              "#0d0887"
             ],
             [
              0.1111111111111111,
              "#46039f"
             ],
             [
              0.2222222222222222,
              "#7201a8"
             ],
             [
              0.3333333333333333,
              "#9c179e"
             ],
             [
              0.4444444444444444,
              "#bd3786"
             ],
             [
              0.5555555555555556,
              "#d8576b"
             ],
             [
              0.6666666666666666,
              "#ed7953"
             ],
             [
              0.7777777777777778,
              "#fb9f3a"
             ],
             [
              0.8888888888888888,
              "#fdca26"
             ],
             [
              1,
              "#f0f921"
             ]
            ],
            "type": "histogram2d"
           }
          ],
          "histogram2dcontour": [
           {
            "colorbar": {
             "outlinewidth": 0,
             "ticks": ""
            },
            "colorscale": [
             [
              0,
              "#0d0887"
             ],
             [
              0.1111111111111111,
              "#46039f"
             ],
             [
              0.2222222222222222,
              "#7201a8"
             ],
             [
              0.3333333333333333,
              "#9c179e"
             ],
             [
              0.4444444444444444,
              "#bd3786"
             ],
             [
              0.5555555555555556,
              "#d8576b"
             ],
             [
              0.6666666666666666,
              "#ed7953"
             ],
             [
              0.7777777777777778,
              "#fb9f3a"
             ],
             [
              0.8888888888888888,
              "#fdca26"
             ],
             [
              1,
              "#f0f921"
             ]
            ],
            "type": "histogram2dcontour"
           }
          ],
          "mesh3d": [
           {
            "colorbar": {
             "outlinewidth": 0,
             "ticks": ""
            },
            "type": "mesh3d"
           }
          ],
          "parcoords": [
           {
            "line": {
             "colorbar": {
              "outlinewidth": 0,
              "ticks": ""
             }
            },
            "type": "parcoords"
           }
          ],
          "pie": [
           {
            "automargin": true,
            "type": "pie"
           }
          ],
          "scatter": [
           {
            "fillpattern": {
             "fillmode": "overlay",
             "size": 10,
             "solidity": 0.2
            },
            "type": "scatter"
           }
          ],
          "scatter3d": [
           {
            "line": {
             "colorbar": {
              "outlinewidth": 0,
              "ticks": ""
             }
            },
            "marker": {
             "colorbar": {
              "outlinewidth": 0,
              "ticks": ""
             }
            },
            "type": "scatter3d"
           }
          ],
          "scattercarpet": [
           {
            "marker": {
             "colorbar": {
              "outlinewidth": 0,
              "ticks": ""
             }
            },
            "type": "scattercarpet"
           }
          ],
          "scattergeo": [
           {
            "marker": {
             "colorbar": {
              "outlinewidth": 0,
              "ticks": ""
             }
            },
            "type": "scattergeo"
           }
          ],
          "scattergl": [
           {
            "marker": {
             "colorbar": {
              "outlinewidth": 0,
              "ticks": ""
             }
            },
            "type": "scattergl"
           }
          ],
          "scattermap": [
           {
            "marker": {
             "colorbar": {
              "outlinewidth": 0,
              "ticks": ""
             }
            },
            "type": "scattermap"
           }
          ],
          "scattermapbox": [
           {
            "marker": {
             "colorbar": {
              "outlinewidth": 0,
              "ticks": ""
             }
            },
            "type": "scattermapbox"
           }
          ],
          "scatterpolar": [
           {
            "marker": {
             "colorbar": {
              "outlinewidth": 0,
              "ticks": ""
             }
            },
            "type": "scatterpolar"
           }
          ],
          "scatterpolargl": [
           {
            "marker": {
             "colorbar": {
              "outlinewidth": 0,
              "ticks": ""
             }
            },
            "type": "scatterpolargl"
           }
          ],
          "scatterternary": [
           {
            "marker": {
             "colorbar": {
              "outlinewidth": 0,
              "ticks": ""
             }
            },
            "type": "scatterternary"
           }
          ],
          "surface": [
           {
            "colorbar": {
             "outlinewidth": 0,
             "ticks": ""
            },
            "colorscale": [
             [
              0,
              "#0d0887"
             ],
             [
              0.1111111111111111,
              "#46039f"
             ],
             [
              0.2222222222222222,
              "#7201a8"
             ],
             [
              0.3333333333333333,
              "#9c179e"
             ],
             [
              0.4444444444444444,
              "#bd3786"
             ],
             [
              0.5555555555555556,
              "#d8576b"
             ],
             [
              0.6666666666666666,
              "#ed7953"
             ],
             [
              0.7777777777777778,
              "#fb9f3a"
             ],
             [
              0.8888888888888888,
              "#fdca26"
             ],
             [
              1,
              "#f0f921"
             ]
            ],
            "type": "surface"
           }
          ],
          "table": [
           {
            "cells": {
             "fill": {
              "color": "#EBF0F8"
             },
             "line": {
              "color": "white"
             }
            },
            "header": {
             "fill": {
              "color": "#C8D4E3"
             },
             "line": {
              "color": "white"
             }
            },
            "type": "table"
           }
          ]
         },
         "layout": {
          "annotationdefaults": {
           "arrowcolor": "#2a3f5f",
           "arrowhead": 0,
           "arrowwidth": 1
          },
          "autotypenumbers": "strict",
          "coloraxis": {
           "colorbar": {
            "outlinewidth": 0,
            "ticks": ""
           }
          },
          "colorscale": {
           "diverging": [
            [
             0,
             "#8e0152"
            ],
            [
             0.1,
             "#c51b7d"
            ],
            [
             0.2,
             "#de77ae"
            ],
            [
             0.3,
             "#f1b6da"
            ],
            [
             0.4,
             "#fde0ef"
            ],
            [
             0.5,
             "#f7f7f7"
            ],
            [
             0.6,
             "#e6f5d0"
            ],
            [
             0.7,
             "#b8e186"
            ],
            [
             0.8,
             "#7fbc41"
            ],
            [
             0.9,
             "#4d9221"
            ],
            [
             1,
             "#276419"
            ]
           ],
           "sequential": [
            [
             0,
             "#0d0887"
            ],
            [
             0.1111111111111111,
             "#46039f"
            ],
            [
             0.2222222222222222,
             "#7201a8"
            ],
            [
             0.3333333333333333,
             "#9c179e"
            ],
            [
             0.4444444444444444,
             "#bd3786"
            ],
            [
             0.5555555555555556,
             "#d8576b"
            ],
            [
             0.6666666666666666,
             "#ed7953"
            ],
            [
             0.7777777777777778,
             "#fb9f3a"
            ],
            [
             0.8888888888888888,
             "#fdca26"
            ],
            [
             1,
             "#f0f921"
            ]
           ],
           "sequentialminus": [
            [
             0,
             "#0d0887"
            ],
            [
             0.1111111111111111,
             "#46039f"
            ],
            [
             0.2222222222222222,
             "#7201a8"
            ],
            [
             0.3333333333333333,
             "#9c179e"
            ],
            [
             0.4444444444444444,
             "#bd3786"
            ],
            [
             0.5555555555555556,
             "#d8576b"
            ],
            [
             0.6666666666666666,
             "#ed7953"
            ],
            [
             0.7777777777777778,
             "#fb9f3a"
            ],
            [
             0.8888888888888888,
             "#fdca26"
            ],
            [
             1,
             "#f0f921"
            ]
           ]
          },
          "colorway": [
           "#636efa",
           "#EF553B",
           "#00cc96",
           "#ab63fa",
           "#FFA15A",
           "#19d3f3",
           "#FF6692",
           "#B6E880",
           "#FF97FF",
           "#FECB52"
          ],
          "font": {
           "color": "#2a3f5f"
          },
          "geo": {
           "bgcolor": "white",
           "lakecolor": "white",
           "landcolor": "#E5ECF6",
           "showlakes": true,
           "showland": true,
           "subunitcolor": "white"
          },
          "hoverlabel": {
           "align": "left"
          },
          "hovermode": "closest",
          "mapbox": {
           "style": "light"
          },
          "paper_bgcolor": "white",
          "plot_bgcolor": "#E5ECF6",
          "polar": {
           "angularaxis": {
            "gridcolor": "white",
            "linecolor": "white",
            "ticks": ""
           },
           "bgcolor": "#E5ECF6",
           "radialaxis": {
            "gridcolor": "white",
            "linecolor": "white",
            "ticks": ""
           }
          },
          "scene": {
           "xaxis": {
            "backgroundcolor": "#E5ECF6",
            "gridcolor": "white",
            "gridwidth": 2,
            "linecolor": "white",
            "showbackground": true,
            "ticks": "",
            "zerolinecolor": "white"
           },
           "yaxis": {
            "backgroundcolor": "#E5ECF6",
            "gridcolor": "white",
            "gridwidth": 2,
            "linecolor": "white",
            "showbackground": true,
            "ticks": "",
            "zerolinecolor": "white"
           },
           "zaxis": {
            "backgroundcolor": "#E5ECF6",
            "gridcolor": "white",
            "gridwidth": 2,
            "linecolor": "white",
            "showbackground": true,
            "ticks": "",
            "zerolinecolor": "white"
           }
          },
          "shapedefaults": {
           "line": {
            "color": "#2a3f5f"
           }
          },
          "ternary": {
           "aaxis": {
            "gridcolor": "white",
            "linecolor": "white",
            "ticks": ""
           },
           "baxis": {
            "gridcolor": "white",
            "linecolor": "white",
            "ticks": ""
           },
           "bgcolor": "#E5ECF6",
           "caxis": {
            "gridcolor": "white",
            "linecolor": "white",
            "ticks": ""
           }
          },
          "title": {
           "x": 0.05
          },
          "xaxis": {
           "automargin": true,
           "gridcolor": "white",
           "linecolor": "white",
           "ticks": "",
           "title": {
            "standoff": 15
           },
           "zerolinecolor": "white",
           "zerolinewidth": 2
          },
          "yaxis": {
           "automargin": true,
           "gridcolor": "white",
           "linecolor": "white",
           "ticks": "",
           "title": {
            "standoff": 15
           },
           "zerolinecolor": "white",
           "zerolinewidth": 2
          }
         }
        },
        "title": {
         "text": "XGBoost 파라미터 중요도"
        },
        "xaxis": {
         "title": {
          "text": "Hyperparameter Importance"
         }
        },
        "yaxis": {
         "title": {
          "text": "Hyperparameter"
         }
        }
       }
      }
     },
     "metadata": {},
     "output_type": "display_data"
    },
    {
     "data": {
      "application/vnd.plotly.v1+json": {
       "config": {
        "plotlyServerURL": "https://plot.ly"
       },
       "data": [
        {
         "dimensions": [
          {
           "label": "Objective Value",
           "range": [
            0.7846506194185029,
            0.8030303147676692
           ],
           "values": [
            0.7964259429869411,
            0.8000522267825335,
            0.7960046433399544,
            0.7846506194185029,
            0.7913590172225907,
            0.7983865858527723,
            0.7972253788364863,
            0.7970052926574056,
            0.8003698581355255,
            0.799477853230887,
            0.8001770224976787,
            0.7986470668308092,
            0.8003777778686079,
            0.800472102064923,
            0.8005128899425962,
            0.7980447418064032,
            0.7969215815852198,
            0.8009907934725877,
            0.7963986516873286,
            0.8002012800945746,
            0.7971278273434741,
            0.7974412732944207,
            0.7983880378905883,
            0.7990180259767607,
            0.8006900078618908,
            0.7995781359257641,
            0.7996707859235359,
            0.8004529574912057,
            0.7988294651189799,
            0.7982025842547098,
            0.7964711388959824,
            0.8017500170496399,
            0.7992430788649296,
            0.8030303147676692,
            0.8024068754134646,
            0.8024674556617498,
            0.7993016595244221,
            0.7972709394182247,
            0.8009161096510462,
            0.8018951908911776
           ]
          },
          {
           "label": "colsample_bytree",
           "range": [
            0.7366114704534336,
            0.9988425143458061
           ],
           "values": [
            0.7468055921327309,
            0.7637017332034828,
            0.7876433945605654,
            0.7511572371061874,
            0.7366114704534336,
            0.9406590942262119,
            0.9313811040057838,
            0.8637154840246646,
            0.9671620089607149,
            0.9983870600162321,
            0.8530910824195603,
            0.8722394550641496,
            0.9008398244994872,
            0.9164409974096344,
            0.8979590680058016,
            0.9014304290023042,
            0.8230661267767929,
            0.9365930736113032,
            0.9514686083796117,
            0.9770498153958994,
            0.8777733546446354,
            0.8239735962961732,
            0.9644940372290964,
            0.8831208866301141,
            0.9185301781130876,
            0.9198687858327488,
            0.9469862648050873,
            0.98548623005231,
            0.8867014976431684,
            0.9092270915089201,
            0.9367794851268735,
            0.9988425143458061,
            0.9987874059060243,
            0.956507986853723,
            0.965406232405889,
            0.9728369476229912,
            0.9661733197441001,
            0.9802861907518274,
            0.9904479812129855,
            0.9600880863274924
           ]
          },
          {
           "label": "gamma",
           "range": [
            0.010316556334565519,
            0.2960660809801552
           ],
           "values": [
            0.017425083650459836,
            0.055021352956030146,
            0.13682099526511077,
            0.28466566117599995,
            0.010316556334565519,
            0.2960660809801552,
            0.10753971856328177,
            0.07663303762955964,
            0.2832238485504506,
            0.18829288357678492,
            0.07246647989410189,
            0.24749511893255283,
            0.17057629834129884,
            0.17761912520284712,
            0.18174882788958277,
            0.21766288990866428,
            0.1494615073595314,
            0.1750017202891952,
            0.24432930632503996,
            0.12844514421588282,
            0.10374226449742391,
            0.15856291741102196,
            0.2257683547288482,
            0.17246140984827063,
            0.2040825994618487,
            0.2570026818405293,
            0.20709146263229486,
            0.18627483072956258,
            0.21504720470750865,
            0.12294470784896744,
            0.15095245964295373,
            0.18287469386558747,
            0.2005482070241934,
            0.1847481567915854,
            0.22658069916011375,
            0.2368951674640856,
            0.23080760232813402,
            0.27465421318269584,
            0.2414381829595439,
            0.22555752670029766
           ]
          },
          {
           "label": "learning_rate",
           "range": [
            -1.9395666197403112,
            -0.7381181892472279
           ],
           "ticktext": [
            "0.0115",
            "0.1",
            "0.183"
           ],
           "tickvals": [
            -1.9395666197403112,
            -1,
            -0.7381181892472279
           ],
           "values": [
            -1.047653925059047,
            -0.7381181892472279,
            -1.203961031032348,
            -1.9395666197403112,
            -1.1097923084837358,
            -1.2939361172817643,
            -1.0803573929988814,
            -0.7386031369555942,
            -1.5367146372484912,
            -1.611996051651114,
            -1.5571577070180245,
            -1.6712413166060025,
            -1.5368203208052382,
            -1.5268922298858763,
            -1.4399689284463635,
            -1.761077575077521,
            -1.3890551190217413,
            -1.4741066077042781,
            -1.4640676341355885,
            -1.2172095547325936,
            -0.9221826391025508,
            -1.448364065801749,
            -1.2358991638587744,
            -1.5317964927830452,
            -1.3803575090258549,
            -1.3654870495065363,
            -1.279447113429518,
            -1.1562875788021358,
            -1.3920972387826374,
            -1.329564427085541,
            -1.608994948137122,
            -1.1251080010793124,
            -1.0000818002888836,
            -1.1677169781447867,
            -1.1342081094569805,
            -1.1198129267553703,
            -1.1223793101114388,
            -0.8509162826345973,
            -1.0563159343137696,
            -1.1409000104146199
           ]
          },
          {
           "label": "max_depth",
           "range": [
            4,
            12
           ],
           "values": [
            12,
            4,
            6,
            9,
            4,
            6,
            11,
            4,
            8,
            9,
            8,
            9,
            8,
            8,
            7,
            10,
            7,
            8,
            10,
            5,
            7,
            10,
            5,
            8,
            7,
            7,
            7,
            6,
            5,
            7,
            8,
            6,
            6,
            5,
            5,
            5,
            4,
            5,
            4,
            5
           ]
          },
          {
           "label": "min_child_weight",
           "range": [
            1,
            7
           ],
           "values": [
            2,
            2,
            3,
            1,
            4,
            1,
            1,
            5,
            2,
            3,
            2,
            2,
            4,
            5,
            5,
            5,
            6,
            6,
            6,
            7,
            6,
            7,
            6,
            4,
            4,
            3,
            4,
            5,
            4,
            7,
            6,
            5,
            4,
            5,
            3,
            3,
            3,
            3,
            2,
            3
           ]
          },
          {
           "label": "n_estimators",
           "range": [
            102,
            500
           ],
           "values": [
            250,
            383,
            273,
            306,
            222,
            243,
            102,
            488,
            462,
            455,
            419,
            447,
            417,
            495,
            496,
            500,
            404,
            495,
            492,
            473,
            401,
            461,
            432,
            499,
            480,
            475,
            452,
            473,
            384,
            481,
            325,
            473,
            499,
            473,
            445,
            442,
            357,
            445,
            418,
            395
           ]
          },
          {
           "label": "reg_alpha",
           "range": [
            0.0253285952789023,
            0.9923811682978402
           ],
           "values": [
            0.8661761457749352,
            0.3042422429595377,
            0.7851759613930136,
            0.9656320330745594,
            0.9093204020787821,
            0.7722447692966574,
            0.11586905952512971,
            0.4040260720186447,
            0.6071842740332256,
            0.5945138724221897,
            0.5335054611689019,
            0.6050259367233362,
            0.6092599562105125,
            0.7071944785663513,
            0.7622177953919781,
            0.6965706060462998,
            0.7520803224414171,
            0.5050862853756231,
            0.4611767557695122,
            0.8100144227870412,
            0.0253285952789023,
            0.6984037608343532,
            0.8398384561816132,
            0.6592307867354719,
            0.5751510384402342,
            0.7375467605799141,
            0.5498048169939982,
            0.8333068119597493,
            0.26983379272408275,
            0.6527185486145649,
            0.7133390662573161,
            0.8597622035561376,
            0.9108566606161472,
            0.8017218336509355,
            0.8658397131998211,
            0.9406215669765086,
            0.9434246146919519,
            0.9923811682978402,
            0.8749698680420068,
            0.9123043653885357
           ]
          },
          {
           "label": "reg_lambda",
           "range": [
            0.005839262999944132,
            0.8631034258755935
           ],
           "values": [
            0.6011150117432088,
            0.5247564316322378,
            0.19967378215835974,
            0.8083973481164611,
            0.2587799816000169,
            0.1987156815341724,
            0.8631034258755935,
            0.4792951727359478,
            0.009023857416627673,
            0.005839262999944132,
            0.64208794318194,
            0.6653760923737713,
            0.34588359367864363,
            0.013179214380923454,
            0.33226487266518445,
            0.10386050827953885,
            0.33973690464600304,
            0.36527195364306997,
            0.11211255029254164,
            0.39636667320172747,
            0.1025848233753257,
            0.2132085268391402,
            0.5750776232875969,
            0.3684333565436957,
            0.5543435673054408,
            0.5266950104059408,
            0.5546522089317465,
            0.44251574724866316,
            0.7308442576760746,
            0.299328686437202,
            0.1677738797719851,
            0.43850962398084953,
            0.5133342788007942,
            0.4475376061577545,
            0.4271846693132539,
            0.451164608943476,
            0.44350998074509423,
            0.4755080440172912,
            0.42586711583339054,
            0.3911014815944346
           ]
          },
          {
           "label": "subsample",
           "range": [
            0.7054936594271534,
            0.9995977021962555
           ],
           "values": [
            0.8795975452591109,
            0.9497327922401265,
            0.7418481581956126,
            0.8822634555704315,
            0.8320457481218804,
            0.7422772674924287,
            0.9187021504122962,
            0.9857742432552251,
            0.9765667770944397,
            0.9995977021962555,
            0.9429898383089628,
            0.932717451028238,
            0.9528659198266746,
            0.9754147386740434,
            0.9061753396263178,
            0.8998998032202481,
            0.8295573357999031,
            0.9598321463515465,
            0.7054936594271534,
            0.9247586310212128,
            0.9943995818181833,
            0.9021261171210777,
            0.8770684589789293,
            0.9506256032713465,
            0.9494862058721911,
            0.9368166677010289,
            0.8865129628206444,
            0.9242743768529512,
            0.9807990385076651,
            0.8896158504500058,
            0.8696804948429054,
            0.930336043681132,
            0.9378407581702598,
            0.9641278320893517,
            0.960559156556086,
            0.9619526076875183,
            0.9905265497725604,
            0.9637424517832784,
            0.7937614209699914,
            0.9831127102265977
           ]
          }
         ],
         "labelangle": 30,
         "labelside": "bottom",
         "line": {
          "color": [
           0.7964259429869411,
           0.8000522267825335,
           0.7960046433399544,
           0.7846506194185029,
           0.7913590172225907,
           0.7983865858527723,
           0.7972253788364863,
           0.7970052926574056,
           0.8003698581355255,
           0.799477853230887,
           0.8001770224976787,
           0.7986470668308092,
           0.8003777778686079,
           0.800472102064923,
           0.8005128899425962,
           0.7980447418064032,
           0.7969215815852198,
           0.8009907934725877,
           0.7963986516873286,
           0.8002012800945746,
           0.7971278273434741,
           0.7974412732944207,
           0.7983880378905883,
           0.7990180259767607,
           0.8006900078618908,
           0.7995781359257641,
           0.7996707859235359,
           0.8004529574912057,
           0.7988294651189799,
           0.7982025842547098,
           0.7964711388959824,
           0.8017500170496399,
           0.7992430788649296,
           0.8030303147676692,
           0.8024068754134646,
           0.8024674556617498,
           0.7993016595244221,
           0.7972709394182247,
           0.8009161096510462,
           0.8018951908911776
          ],
          "colorbar": {
           "title": {
            "text": "Objective Value"
           }
          },
          "colorscale": [
           [
            0,
            "rgb(247,251,255)"
           ],
           [
            0.125,
            "rgb(222,235,247)"
           ],
           [
            0.25,
            "rgb(198,219,239)"
           ],
           [
            0.375,
            "rgb(158,202,225)"
           ],
           [
            0.5,
            "rgb(107,174,214)"
           ],
           [
            0.625,
            "rgb(66,146,198)"
           ],
           [
            0.75,
            "rgb(33,113,181)"
           ],
           [
            0.875,
            "rgb(8,81,156)"
           ],
           [
            1,
            "rgb(8,48,107)"
           ]
          ],
          "reversescale": false,
          "showscale": true
         },
         "type": "parcoords"
        }
       ],
       "layout": {
        "template": {
         "data": {
          "bar": [
           {
            "error_x": {
             "color": "#2a3f5f"
            },
            "error_y": {
             "color": "#2a3f5f"
            },
            "marker": {
             "line": {
              "color": "#E5ECF6",
              "width": 0.5
             },
             "pattern": {
              "fillmode": "overlay",
              "size": 10,
              "solidity": 0.2
             }
            },
            "type": "bar"
           }
          ],
          "barpolar": [
           {
            "marker": {
             "line": {
              "color": "#E5ECF6",
              "width": 0.5
             },
             "pattern": {
              "fillmode": "overlay",
              "size": 10,
              "solidity": 0.2
             }
            },
            "type": "barpolar"
           }
          ],
          "carpet": [
           {
            "aaxis": {
             "endlinecolor": "#2a3f5f",
             "gridcolor": "white",
             "linecolor": "white",
             "minorgridcolor": "white",
             "startlinecolor": "#2a3f5f"
            },
            "baxis": {
             "endlinecolor": "#2a3f5f",
             "gridcolor": "white",
             "linecolor": "white",
             "minorgridcolor": "white",
             "startlinecolor": "#2a3f5f"
            },
            "type": "carpet"
           }
          ],
          "choropleth": [
           {
            "colorbar": {
             "outlinewidth": 0,
             "ticks": ""
            },
            "type": "choropleth"
           }
          ],
          "contour": [
           {
            "colorbar": {
             "outlinewidth": 0,
             "ticks": ""
            },
            "colorscale": [
             [
              0,
              "#0d0887"
             ],
             [
              0.1111111111111111,
              "#46039f"
             ],
             [
              0.2222222222222222,
              "#7201a8"
             ],
             [
              0.3333333333333333,
              "#9c179e"
             ],
             [
              0.4444444444444444,
              "#bd3786"
             ],
             [
              0.5555555555555556,
              "#d8576b"
             ],
             [
              0.6666666666666666,
              "#ed7953"
             ],
             [
              0.7777777777777778,
              "#fb9f3a"
             ],
             [
              0.8888888888888888,
              "#fdca26"
             ],
             [
              1,
              "#f0f921"
             ]
            ],
            "type": "contour"
           }
          ],
          "contourcarpet": [
           {
            "colorbar": {
             "outlinewidth": 0,
             "ticks": ""
            },
            "type": "contourcarpet"
           }
          ],
          "heatmap": [
           {
            "colorbar": {
             "outlinewidth": 0,
             "ticks": ""
            },
            "colorscale": [
             [
              0,
              "#0d0887"
             ],
             [
              0.1111111111111111,
              "#46039f"
             ],
             [
              0.2222222222222222,
              "#7201a8"
             ],
             [
              0.3333333333333333,
              "#9c179e"
             ],
             [
              0.4444444444444444,
              "#bd3786"
             ],
             [
              0.5555555555555556,
              "#d8576b"
             ],
             [
              0.6666666666666666,
              "#ed7953"
             ],
             [
              0.7777777777777778,
              "#fb9f3a"
             ],
             [
              0.8888888888888888,
              "#fdca26"
             ],
             [
              1,
              "#f0f921"
             ]
            ],
            "type": "heatmap"
           }
          ],
          "histogram": [
           {
            "marker": {
             "pattern": {
              "fillmode": "overlay",
              "size": 10,
              "solidity": 0.2
             }
            },
            "type": "histogram"
           }
          ],
          "histogram2d": [
           {
            "colorbar": {
             "outlinewidth": 0,
             "ticks": ""
            },
            "colorscale": [
             [
              0,
              "#0d0887"
             ],
             [
              0.1111111111111111,
              "#46039f"
             ],
             [
              0.2222222222222222,
              "#7201a8"
             ],
             [
              0.3333333333333333,
              "#9c179e"
             ],
             [
              0.4444444444444444,
              "#bd3786"
             ],
             [
              0.5555555555555556,
              "#d8576b"
             ],
             [
              0.6666666666666666,
              "#ed7953"
             ],
             [
              0.7777777777777778,
              "#fb9f3a"
             ],
             [
              0.8888888888888888,
              "#fdca26"
             ],
             [
              1,
              "#f0f921"
             ]
            ],
            "type": "histogram2d"
           }
          ],
          "histogram2dcontour": [
           {
            "colorbar": {
             "outlinewidth": 0,
             "ticks": ""
            },
            "colorscale": [
             [
              0,
              "#0d0887"
             ],
             [
              0.1111111111111111,
              "#46039f"
             ],
             [
              0.2222222222222222,
              "#7201a8"
             ],
             [
              0.3333333333333333,
              "#9c179e"
             ],
             [
              0.4444444444444444,
              "#bd3786"
             ],
             [
              0.5555555555555556,
              "#d8576b"
             ],
             [
              0.6666666666666666,
              "#ed7953"
             ],
             [
              0.7777777777777778,
              "#fb9f3a"
             ],
             [
              0.8888888888888888,
              "#fdca26"
             ],
             [
              1,
              "#f0f921"
             ]
            ],
            "type": "histogram2dcontour"
           }
          ],
          "mesh3d": [
           {
            "colorbar": {
             "outlinewidth": 0,
             "ticks": ""
            },
            "type": "mesh3d"
           }
          ],
          "parcoords": [
           {
            "line": {
             "colorbar": {
              "outlinewidth": 0,
              "ticks": ""
             }
            },
            "type": "parcoords"
           }
          ],
          "pie": [
           {
            "automargin": true,
            "type": "pie"
           }
          ],
          "scatter": [
           {
            "fillpattern": {
             "fillmode": "overlay",
             "size": 10,
             "solidity": 0.2
            },
            "type": "scatter"
           }
          ],
          "scatter3d": [
           {
            "line": {
             "colorbar": {
              "outlinewidth": 0,
              "ticks": ""
             }
            },
            "marker": {
             "colorbar": {
              "outlinewidth": 0,
              "ticks": ""
             }
            },
            "type": "scatter3d"
           }
          ],
          "scattercarpet": [
           {
            "marker": {
             "colorbar": {
              "outlinewidth": 0,
              "ticks": ""
             }
            },
            "type": "scattercarpet"
           }
          ],
          "scattergeo": [
           {
            "marker": {
             "colorbar": {
              "outlinewidth": 0,
              "ticks": ""
             }
            },
            "type": "scattergeo"
           }
          ],
          "scattergl": [
           {
            "marker": {
             "colorbar": {
              "outlinewidth": 0,
              "ticks": ""
             }
            },
            "type": "scattergl"
           }
          ],
          "scattermap": [
           {
            "marker": {
             "colorbar": {
              "outlinewidth": 0,
              "ticks": ""
             }
            },
            "type": "scattermap"
           }
          ],
          "scattermapbox": [
           {
            "marker": {
             "colorbar": {
              "outlinewidth": 0,
              "ticks": ""
             }
            },
            "type": "scattermapbox"
           }
          ],
          "scatterpolar": [
           {
            "marker": {
             "colorbar": {
              "outlinewidth": 0,
              "ticks": ""
             }
            },
            "type": "scatterpolar"
           }
          ],
          "scatterpolargl": [
           {
            "marker": {
             "colorbar": {
              "outlinewidth": 0,
              "ticks": ""
             }
            },
            "type": "scatterpolargl"
           }
          ],
          "scatterternary": [
           {
            "marker": {
             "colorbar": {
              "outlinewidth": 0,
              "ticks": ""
             }
            },
            "type": "scatterternary"
           }
          ],
          "surface": [
           {
            "colorbar": {
             "outlinewidth": 0,
             "ticks": ""
            },
            "colorscale": [
             [
              0,
              "#0d0887"
             ],
             [
              0.1111111111111111,
              "#46039f"
             ],
             [
              0.2222222222222222,
              "#7201a8"
             ],
             [
              0.3333333333333333,
              "#9c179e"
             ],
             [
              0.4444444444444444,
              "#bd3786"
             ],
             [
              0.5555555555555556,
              "#d8576b"
             ],
             [
              0.6666666666666666,
              "#ed7953"
             ],
             [
              0.7777777777777778,
              "#fb9f3a"
             ],
             [
              0.8888888888888888,
              "#fdca26"
             ],
             [
              1,
              "#f0f921"
             ]
            ],
            "type": "surface"
           }
          ],
          "table": [
           {
            "cells": {
             "fill": {
              "color": "#EBF0F8"
             },
             "line": {
              "color": "white"
             }
            },
            "header": {
             "fill": {
              "color": "#C8D4E3"
             },
             "line": {
              "color": "white"
             }
            },
            "type": "table"
           }
          ]
         },
         "layout": {
          "annotationdefaults": {
           "arrowcolor": "#2a3f5f",
           "arrowhead": 0,
           "arrowwidth": 1
          },
          "autotypenumbers": "strict",
          "coloraxis": {
           "colorbar": {
            "outlinewidth": 0,
            "ticks": ""
           }
          },
          "colorscale": {
           "diverging": [
            [
             0,
             "#8e0152"
            ],
            [
             0.1,
             "#c51b7d"
            ],
            [
             0.2,
             "#de77ae"
            ],
            [
             0.3,
             "#f1b6da"
            ],
            [
             0.4,
             "#fde0ef"
            ],
            [
             0.5,
             "#f7f7f7"
            ],
            [
             0.6,
             "#e6f5d0"
            ],
            [
             0.7,
             "#b8e186"
            ],
            [
             0.8,
             "#7fbc41"
            ],
            [
             0.9,
             "#4d9221"
            ],
            [
             1,
             "#276419"
            ]
           ],
           "sequential": [
            [
             0,
             "#0d0887"
            ],
            [
             0.1111111111111111,
             "#46039f"
            ],
            [
             0.2222222222222222,
             "#7201a8"
            ],
            [
             0.3333333333333333,
             "#9c179e"
            ],
            [
             0.4444444444444444,
             "#bd3786"
            ],
            [
             0.5555555555555556,
             "#d8576b"
            ],
            [
             0.6666666666666666,
             "#ed7953"
            ],
            [
             0.7777777777777778,
             "#fb9f3a"
            ],
            [
             0.8888888888888888,
             "#fdca26"
            ],
            [
             1,
             "#f0f921"
            ]
           ],
           "sequentialminus": [
            [
             0,
             "#0d0887"
            ],
            [
             0.1111111111111111,
             "#46039f"
            ],
            [
             0.2222222222222222,
             "#7201a8"
            ],
            [
             0.3333333333333333,
             "#9c179e"
            ],
            [
             0.4444444444444444,
             "#bd3786"
            ],
            [
             0.5555555555555556,
             "#d8576b"
            ],
            [
             0.6666666666666666,
             "#ed7953"
            ],
            [
             0.7777777777777778,
             "#fb9f3a"
            ],
            [
             0.8888888888888888,
             "#fdca26"
            ],
            [
             1,
             "#f0f921"
            ]
           ]
          },
          "colorway": [
           "#636efa",
           "#EF553B",
           "#00cc96",
           "#ab63fa",
           "#FFA15A",
           "#19d3f3",
           "#FF6692",
           "#B6E880",
           "#FF97FF",
           "#FECB52"
          ],
          "font": {
           "color": "#2a3f5f"
          },
          "geo": {
           "bgcolor": "white",
           "lakecolor": "white",
           "landcolor": "#E5ECF6",
           "showlakes": true,
           "showland": true,
           "subunitcolor": "white"
          },
          "hoverlabel": {
           "align": "left"
          },
          "hovermode": "closest",
          "mapbox": {
           "style": "light"
          },
          "paper_bgcolor": "white",
          "plot_bgcolor": "#E5ECF6",
          "polar": {
           "angularaxis": {
            "gridcolor": "white",
            "linecolor": "white",
            "ticks": ""
           },
           "bgcolor": "#E5ECF6",
           "radialaxis": {
            "gridcolor": "white",
            "linecolor": "white",
            "ticks": ""
           }
          },
          "scene": {
           "xaxis": {
            "backgroundcolor": "#E5ECF6",
            "gridcolor": "white",
            "gridwidth": 2,
            "linecolor": "white",
            "showbackground": true,
            "ticks": "",
            "zerolinecolor": "white"
           },
           "yaxis": {
            "backgroundcolor": "#E5ECF6",
            "gridcolor": "white",
            "gridwidth": 2,
            "linecolor": "white",
            "showbackground": true,
            "ticks": "",
            "zerolinecolor": "white"
           },
           "zaxis": {
            "backgroundcolor": "#E5ECF6",
            "gridcolor": "white",
            "gridwidth": 2,
            "linecolor": "white",
            "showbackground": true,
            "ticks": "",
            "zerolinecolor": "white"
           }
          },
          "shapedefaults": {
           "line": {
            "color": "#2a3f5f"
           }
          },
          "ternary": {
           "aaxis": {
            "gridcolor": "white",
            "linecolor": "white",
            "ticks": ""
           },
           "baxis": {
            "gridcolor": "white",
            "linecolor": "white",
            "ticks": ""
           },
           "bgcolor": "#E5ECF6",
           "caxis": {
            "gridcolor": "white",
            "linecolor": "white",
            "ticks": ""
           }
          },
          "title": {
           "x": 0.05
          },
          "xaxis": {
           "automargin": true,
           "gridcolor": "white",
           "linecolor": "white",
           "ticks": "",
           "title": {
            "standoff": 15
           },
           "zerolinecolor": "white",
           "zerolinewidth": 2
          },
          "yaxis": {
           "automargin": true,
           "gridcolor": "white",
           "linecolor": "white",
           "ticks": "",
           "title": {
            "standoff": 15
           },
           "zerolinecolor": "white",
           "zerolinewidth": 2
          }
         }
        },
        "title": {
         "text": "XGBoost 파라미터 관계 시각화"
        }
       }
      }
     },
     "metadata": {},
     "output_type": "display_data"
    }
   ],
   "source": [
    "fig = optuna.visualization.plot_optimization_history(xgb_study)\n",
    "fig.update_layout(title='XGBoost 최적화 과정')\n",
    "fig.show()\n",
    "\n",
    "fig = optuna.visualization.plot_param_importances(xgb_study)\n",
    "fig.update_layout(title='XGBoost 파라미터 중요도')\n",
    "fig.show()\n",
    "\n",
    "fig = optuna.visualization.plot_parallel_coordinate(xgb_study)\n",
    "fig.update_layout(title='XGBoost 파라미터 관계 시각화')\n",
    "fig.show()"
   ]
  },
  {
   "cell_type": "markdown",
   "metadata": {},
   "source": [
    "## 6. 전체 결과 비교\n",
    "\n",
    "### 비교 대상:\n",
    "1. 기본 모델 (파라미터 튜닝 없음)\n",
    "2. RandomizedSearchCV (02_hyperparameter_tuning.ipynb)\n",
    "3. **Optuna (현재 노트북)**"
   ]
  },
  {
   "cell_type": "code",
   "execution_count": 9,
   "metadata": {},
   "outputs": [
    {
     "name": "stdout",
     "output_type": "stream",
     "text": [
      "\n",
      "======================================================================\n",
      "최종 성능 비교\n",
      "======================================================================\n",
      "           Method  F1-Macro Score\n",
      "    LightGBM (기본)        0.798000\n",
      "LightGBM (Optuna)        0.805097\n",
      "     XGBoost (기본)        0.800000\n",
      " XGBoost (Optuna)        0.803030\n",
      "\n",
      "📈 개선 효과:\n",
      "LightGBM: +0.71%\n",
      "XGBoost:  +0.30%\n",
      "\n",
      "⏱️ 소요 시간:\n",
      "LightGBM: 54.00분\n",
      "XGBoost:  39.04분\n",
      "총 시간:  93.04분\n"
     ]
    },
    {
     "data": {
      "image/png": "[encoded data removed]",
      "text/plain": [
       "<Figure size 1200x600 with 1 Axes>"
      ]
     },
     "metadata": {},
     "output_type": "display_data"
    }
   ],
   "source": [
    "results_comparison = pd.DataFrame({\n",
    "    'Method': [\n",
    "        'LightGBM (기본)',\n",
    "        'LightGBM (Optuna)',\n",
    "        'XGBoost (기본)',\n",
    "        'XGBoost (Optuna)'\n",
    "    ],\n",
    "    'F1-Macro Score': [\n",
    "        0.798,\n",
    "        lgbm_study.best_value,\n",
    "        0.800,\n",
    "        xgb_study.best_value\n",
    "    ]\n",
    "})\n",
    "\n",
    "print(\"\\n\" + \"=\"*70)\n",
    "print(\"최종 성능 비교\")\n",
    "print(\"=\"*70)\n",
    "print(results_comparison.to_string(index=False))\n",
    "\n",
    "lgbm_improvement = (lgbm_study.best_value - 0.798) * 100\n",
    "xgb_improvement = (xgb_study.best_value - 0.800) * 100\n",
    "\n",
    "print(f\"\\n📈 개선 효과:\")\n",
    "print(f\"LightGBM: +{lgbm_improvement:.2f}%\")\n",
    "print(f\"XGBoost:  +{xgb_improvement:.2f}%\")\n",
    "\n",
    "print(f\"\\n⏱️ 소요 시간:\")\n",
    "print(f\"LightGBM: {lgbm_elapsed/60:.2f}분\")\n",
    "print(f\"XGBoost:  {xgb_elapsed/60:.2f}분\")\n",
    "print(f\"총 시간:  {(lgbm_elapsed + xgb_elapsed)/60:.2f}분\")\n",
    "\n",
    "plt.figure(figsize=(12, 6))\n",
    "sns.barplot(data=results_comparison, x='Method', y='F1-Macro Score', palette='viridis')\n",
    "plt.axhline(y=0.800, color='r', linestyle='--', linewidth=2, label='기준선 (0.800)')\n",
    "plt.axhline(y=0.815, color='g', linestyle='--', linewidth=2, label='목표 (0.815)')\n",
    "plt.title('Optuna 최적화 결과 비교', fontsize=16, fontweight='bold')\n",
    "plt.ylabel('F1-Macro Score', fontsize=12)\n",
    "plt.ylim(0.79, max(results_comparison['F1-Macro Score']) + 0.01)\n",
    "plt.legend(fontsize=10)\n",
    "plt.xticks(rotation=45, ha='right')\n",
    "plt.tight_layout()\n",
    "plt.show()"
   ]
  },
  {
   "cell_type": "markdown",
   "metadata": {},
   "source": [
    "## 7. 최적 모델로 예측 생성"
   ]
  },
  {
   "cell_type": "code",
   "execution_count": 10,
   "metadata": {},
   "outputs": [
    {
     "name": "stdout",
     "output_type": "stream",
     "text": [
      "🏆 최고 성능 모델: LightGBM\n",
      "📊 CV F1-Macro Score: 0.805097\n",
      "\n",
      "최적 파라미터:\n",
      "  n_estimators: 478\n",
      "  max_depth: 8\n",
      "  learning_rate: 0.025065231110380545\n",
      "  num_leaves: 32\n",
      "  min_child_samples: 50\n",
      "  subsample: 0.9116306185436042\n",
      "  colsample_bytree: 0.9976915471223364\n",
      "  reg_alpha: 0.6384645540173252\n",
      "  reg_lambda: 0.0056691076242204545\n",
      "\n",
      "전체 훈련 데이터로 재학습 중...\n",
      "\n",
      "✅ 제출 파일 저장 완료: outputs/submissions/submission_optuna.csv\n",
      "\n",
      "예측 분포:\n",
      "0      845\n",
      "1      681\n",
      "2      416\n",
      "3      934\n",
      "4      726\n",
      "5      458\n",
      "6      699\n",
      "7      463\n",
      "8     1000\n",
      "9      764\n",
      "10     716\n",
      "11     647\n",
      "12    1235\n",
      "13     686\n",
      "14     696\n",
      "15     799\n",
      "16     574\n",
      "17     711\n",
      "18     671\n",
      "19     577\n",
      "20     706\n",
      "Name: count, dtype: int64\n"
     ]
    }
   ],
   "source": [
    "best_value = max(lgbm_study.best_value, xgb_study.best_value)\n",
    "best_model_name = 'LightGBM' if lgbm_study.best_value > xgb_study.best_value else 'XGBoost'\n",
    "best_params = lgbm_study.best_params if lgbm_study.best_value > xgb_study.best_value else xgb_study.best_params\n",
    "\n",
    "print(f\"🏆 최고 성능 모델: {best_model_name}\")\n",
    "print(f\"📊 CV F1-Macro Score: {best_value:.6f}\")\n",
    "print(f\"\\n최적 파라미터:\")\n",
    "for param, value in best_params.items():\n",
    "    print(f\"  {param}: {value}\")\n",
    "\n",
    "if best_model_name == 'LightGBM':\n",
    "    best_model = lgb.LGBMClassifier(**best_params, device='gpu', random_state=42, verbose=-1)\n",
    "else:\n",
    "    best_model = xgb.XGBClassifier(\n",
    "        **best_params,\n",
    "        tree_method='hist',\n",
    "        device='cuda',\n",
    "        objective='multi:softmax',\n",
    "        num_class=len(y.unique()),\n",
    "        random_state=42,\n",
    "        verbosity=0\n",
    "    )\n",
    "\n",
    "print(f\"\\n전체 훈련 데이터로 재학습 중...\")\n",
    "best_model.fit(X_scaled, y)\n",
    "\n",
    "test_df = pd.read_csv('../data/open/test.csv')\n",
    "test_ids = test_df['ID']\n",
    "X_test = test_df.drop(columns=['ID'])\n",
    "X_test_scaled = scaler.transform(X_test)\n",
    "\n",
    "predictions = best_model.predict(X_test_scaled)\n",
    "\n",
    "submission = pd.DataFrame({\n",
    "    'ID': test_ids,\n",
    "    'target': predictions\n",
    "})\n",
    "\n",
    "submission.to_csv('../outputs/submissions/submission_optuna.csv', index=False)\n",
    "print(\"\\n✅ 제출 파일 저장 완료: outputs/submissions/submission_optuna.csv\")\n",
    "print(f\"\\n예측 분포:\")\n",
    "print(pd.Series(predictions).value_counts().sort_index())"
   ]
  },
  {
   "cell_type": "markdown",
   "metadata": {},
   "source": [
    "## 8. 모델 및 Study 저장"
   ]
  },
  {
   "cell_type": "code",
   "execution_count": 11,
   "metadata": {},
   "outputs": [
    {
     "name": "stdout",
     "output_type": "stream",
     "text": [
      "✅ 모델 저장 완료:\n",
      "  - models/lgbm_optuna.pkl\n",
      "  - models/xgb_optuna.pkl\n",
      "  - models/scaler_optuna.pkl\n",
      "  - models/lgbm_optuna_study.pkl (Optuna study)\n",
      "  - models/xgb_optuna_study.pkl (Optuna study)\n"
     ]
    }
   ],
   "source": [
    "import joblib\n",
    "\n",
    "lgbm_best_model = lgb.LGBMClassifier(\n",
    "    **lgbm_study.best_params,\n",
    "    device='gpu',\n",
    "    random_state=42,\n",
    "    verbose=-1\n",
    ")\n",
    "lgbm_best_model.fit(X_scaled, y)\n",
    "\n",
    "xgb_best_model = xgb.XGBClassifier(\n",
    "    **xgb_study.best_params,\n",
    "    tree_method='hist',\n",
    "    device='cuda',\n",
    "    objective='multi:softmax',\n",
    "    num_class=len(y.unique()),\n",
    "    random_state=42,\n",
    "    verbosity=0\n",
    ")\n",
    "xgb_best_model.fit(X_scaled, y)\n",
    "\n",
    "joblib.dump(lgbm_best_model, '../models/lgbm_optuna.pkl')\n",
    "joblib.dump(xgb_best_model, '../models/xgb_optuna.pkl')\n",
    "joblib.dump(scaler, '../models/scaler_optuna.pkl')\n",
    "\n",
    "joblib.dump(lgbm_study, '../models/lgbm_optuna_study.pkl')\n",
    "joblib.dump(xgb_study, '../models/xgb_optuna_study.pkl')\n",
    "\n",
    "print(\"✅ 모델 저장 완료:\")\n",
    "print(\"  - models/lgbm_optuna.pkl\")\n",
    "print(\"  - models/xgb_optuna.pkl\")\n",
    "print(\"  - models/scaler_optuna.pkl\")\n",
    "print(\"  - models/lgbm_optuna_study.pkl (Optuna study)\")\n",
    "print(\"  - models/xgb_optuna_study.pkl (Optuna study)\")"
   ]
  },
  {
   "cell_type": "markdown",
   "metadata": {},
   "source": [
    "## 9. Study 결과 상세 분석"
   ]
  },
  {
   "cell_type": "code",
   "execution_count": 12,
   "metadata": {},
   "outputs": [
    {
     "name": "stdout",
     "output_type": "stream",
     "text": [
      "=== Optuna 최적화 상세 통계 ===\n",
      "\n",
      "LightGBM:\n",
      "  전체 시도: 50개\n",
      "  완료: 37개\n",
      "  Pruned (조기 종료): 13개\n",
      "  시간 절약 효과: 26.0%\n",
      "\n",
      "XGBoost:\n",
      "  전체 시도: 50개\n",
      "  완료: 40개\n",
      "  Pruned (조기 종료): 10개\n",
      "  시간 절약 효과: 20.0%\n",
      "\n",
      "=== 점수 통계 ===\n",
      "LightGBM:\n",
      "  최고: 0.805097\n",
      "  평균: 0.801522\n",
      "  표준편차: 0.002667\n",
      "\n",
      "XGBoost:\n",
      "  최고: 0.803030\n",
      "  평균: 0.798696\n",
      "  표준편차: 0.003138\n"
     ]
    }
   ],
   "source": [
    "print(\"=== Optuna 최적화 상세 통계 ===\")\n",
    "print(f\"\\nLightGBM:\")\n",
    "print(f\"  전체 시도: {len(lgbm_study.trials)}개\")\n",
    "print(f\"  완료: {len([t for t in lgbm_study.trials if t.state == optuna.trial.TrialState.COMPLETE])}개\")\n",
    "print(f\"  Pruned (조기 종료): {len([t for t in lgbm_study.trials if t.state == optuna.trial.TrialState.PRUNED])}개\")\n",
    "print(f\"  시간 절약 효과: {len([t for t in lgbm_study.trials if t.state == optuna.trial.TrialState.PRUNED]) / len(lgbm_study.trials) * 100:.1f}%\")\n",
    "\n",
    "print(f\"\\nXGBoost:\")\n",
    "print(f\"  전체 시도: {len(xgb_study.trials)}개\")\n",
    "print(f\"  완료: {len([t for t in xgb_study.trials if t.state == optuna.trial.TrialState.COMPLETE])}개\")\n",
    "print(f\"  Pruned (조기 종료): {len([t for t in xgb_study.trials if t.state == optuna.trial.TrialState.PRUNED])}개\")\n",
    "print(f\"  시간 절약 효과: {len([t for t in xgb_study.trials if t.state == optuna.trial.TrialState.PRUNED]) / len(xgb_study.trials) * 100:.1f}%\")\n",
    "\n",
    "completed_lgbm_scores = [t.value for t in lgbm_study.trials if t.state == optuna.trial.TrialState.COMPLETE]\n",
    "completed_xgb_scores = [t.value for t in xgb_study.trials if t.state == optuna.trial.TrialState.COMPLETE]\n",
    "\n",
    "print(f\"\\n=== 점수 통계 ===\")\n",
    "print(f\"LightGBM:\")\n",
    "print(f\"  최고: {max(completed_lgbm_scores):.6f}\")\n",
    "print(f\"  평균: {np.mean(completed_lgbm_scores):.6f}\")\n",
    "print(f\"  표준편차: {np.std(completed_lgbm_scores):.6f}\")\n",
    "\n",
    "print(f\"\\nXGBoost:\")\n",
    "print(f\"  최고: {max(completed_xgb_scores):.6f}\")\n",
    "print(f\"  평균: {np.mean(completed_xgb_scores):.6f}\")\n",
    "print(f\"  표준편차: {np.std(completed_xgb_scores):.6f}\")"
   ]
  },
  {
   "cell_type": "markdown",
   "metadata": {},
   "source": [
    "## 10. 결론 및 다음 단계\n",
    "\n",
    "### Optuna의 장점 (확인됨):\n",
    "1. ✅ **더 나은 성능**: 베이지안 최적화로 더 좋은 파라미터 발견\n",
    "2. ✅ **시간 절약**: Pruning으로 나쁜 시도 조기 종료\n",
    "3. ✅ **시각화**: 최적화 과정을 한눈에 확인\n",
    "4. ✅ **파라미터 중요도**: 어떤 파라미터가 중요한지 파악\n",
    "\n",
    "### 다음 단계 추천:\n",
    "1. **피처 엔지니어링** (+2-4% 추가 개선 가능)\n",
    "   - 상호작용 피처\n",
    "   - 다항식 피처\n",
    "   - 통계적 피처\n",
    "\n",
    "2. **앙상블** (+1-2% 추가 개선)\n",
    "   - LightGBM + XGBoost Voting\n",
    "   - Stacking\n",
    "\n",
    "3. **추가 모델**\n",
    "   - CatBoost\n",
    "   - Neural Networks"
   ]
  }
 ],
 "metadata": {
  "kernelspec": {
   "display_name": ".venv",
   "language": "python",
   "name": "python3"
  },
  "language_info": {
   "codemirror_mode": {
    "name": "ipython",
    "version": 3
   },
   "file_extension": ".py",
   "mimetype": "text/x-python",
   "name": "python",
   "nbconvert_exporter": "python",
   "pygments_lexer": "ipython3",
   "version": "3.12.11"
  }
 },
 "nbformat": 4,
 "nbformat_minor": 4
}
