{
 "cells": [
  {
   "cell_type": "markdown",
   "metadata": {},
   "source": [
    "# 하이퍼파라미터 튜닝\n",
    "\n",
    "기본 모델 성능:\n",
    "- LightGBM: ~0.798 F1-macro\n",
    "- XGBoost: ~0.800 F1-macro\n",
    "\n",
    "목표: 하이퍼파라미터 최적화로 0.815-0.830 달성"
   ]
  },
  {
   "cell_type": "code",
   "execution_count": null,
   "metadata": {},
   "outputs": [],
   "source": [
    "import pandas as pd\n",
    "import numpy as np\n",
    "import lightgbm as lgb\n",
    "import xgboost as xgb\n",
    "from sklearn.model_selection import RandomizedSearchCV, StratifiedKFold\n",
    "from sklearn.preprocessing import MinMaxScaler\n",
    "from sklearn.metrics import f1_score, make_scorer\n",
    "import matplotlib.pyplot as plt\n",
    "import seaborn as sns\n",
    "import time"
   ]
  },
  {
   "cell_type": "markdown",
   "metadata": {},
   "source": [
    "## 1. 데이터 로딩 및 전처리"
   ]
  },
  {
   "cell_type": "code",
   "execution_count": null,
   "metadata": {},
   "outputs": [],
   "source": [
    "train_df = pd.read_csv('../data/open/train.csv')\n",
    "\n",
    "X = train_df.drop(columns=['ID', 'target'])\n",
    "y = train_df['target']\n",
    "\n",
    "scaler = MinMaxScaler()\n",
    "X_scaled = scaler.fit_transform(X)\n",
    "X_scaled = pd.DataFrame(X_scaled, columns=X.columns)\n",
    "\n",
    "print(f\"데이터 크기: {X_scaled.shape}\")\n",
    "print(f\"\\n클래스 분포:\\n{y.value_counts().sort_index()}\")"
   ]
  },
  {
   "cell_type": "markdown",
   "metadata": {},
   "source": [
    "## 2. 하이퍼파라미터 탐색 공간 정의\n",
    "\n",
    "### 주요 하이퍼파라미터 설명:\n",
    "\n",
    "- **n_estimators**: 나무 개수 (많을수록 성능 좋지만 시간 오래 걸림)\n",
    "- **max_depth**: 나무 깊이 (깊을수록 복잡한 패턴 학습, 과적합 위험)\n",
    "- **learning_rate**: 학습률 (작을수록 천천히 정확하게 학습)\n",
    "- **subsample**: 데이터 샘플링 비율 (과적합 방지)\n",
    "- **colsample_bytree**: 피처 샘플링 비율 (과적합 방지)\n",
    "- **reg_alpha, reg_lambda**: 정규화 강도 (과적합 방지)"
   ]
  },
  {
   "cell_type": "markdown",
   "metadata": {},
   "source": [
    "## 3. LightGBM 하이퍼파라미터 튜닝"
   ]
  },
  {
   "cell_type": "code",
   "execution_count": null,
   "metadata": {},
   "outputs": [],
   "source": [
    "lgbm_param_dist = {\n",
    "    'n_estimators': [100, 200, 300, 400, 500],\n",
    "    'max_depth': [4, 6, 8, 10, 12, -1],\n",
    "    'learning_rate': [0.01, 0.03, 0.05, 0.1, 0.15, 0.2],\n",
    "    'num_leaves': [31, 50, 70, 100, 150],\n",
    "    'min_child_samples': [20, 30, 40, 50],\n",
    "    'subsample': [0.7, 0.8, 0.9, 1.0],\n",
    "    'colsample_bytree': [0.7, 0.8, 0.9, 1.0],\n",
    "    'reg_alpha': [0, 0.1, 0.5, 1.0],\n",
    "    'reg_lambda': [0, 0.1, 0.5, 1.0]\n",
    "}\n",
    "\n",
    "lgbm_base = lgb.LGBMClassifier(\n",
    "    device='gpu',\n",
    "    random_state=42,\n",
    "    verbose=-1\n",
    ")\n",
    "\n",
    "skf = StratifiedKFold(n_splits=5, shuffle=True, random_state=42)\n",
    "f1_scorer = make_scorer(f1_score, average='macro')\n",
    "\n",
    "print(\"LightGBM 하이퍼파라미터 튜닝 시작...\")\n",
    "print(f\"총 {50}개 조합 테스트 (5-Fold CV)\")\n",
    "print(\"예상 소요 시간: 30-60분\\n\")\n",
    "\n",
    "lgbm_random_search = RandomizedSearchCV(\n",
    "    estimator=lgbm_base,\n",
    "    param_distributions=lgbm_param_dist,\n",
    "    n_iter=50,\n",
    "    cv=skf,\n",
    "    scoring=f1_scorer,\n",
    "    random_state=42,\n",
    "    # n_jobs=-1,\n",
    "    verbose=2\n",
    ")\n",
    "\n",
    "start_time = time.time()\n",
    "lgbm_random_search.fit(X_scaled, y)\n",
    "lgbm_elapsed = time.time() - start_time\n",
    "\n",
    "print(f\"\\n완료! 소요 시간: {lgbm_elapsed/60:.2f}분\")\n",
    "print(f\"최고 F1-macro 점수: {lgbm_random_search.best_score_:.6f}\")\n",
    "print(f\"\\n최적 하이퍼파라미터:\")\n",
    "for param, value in lgbm_random_search.best_params_.items():\n",
    "    print(f\"  {param}: {value}\")"
   ]
  },
  {
   "cell_type": "markdown",
   "metadata": {},
   "source": [
    "## 4. XGBoost 하이퍼파라미터 튜닝"
   ]
  },
  {
   "cell_type": "code",
   "execution_count": null,
   "metadata": {},
   "outputs": [],
   "source": [
    "xgb_param_dist = {\n",
    "    'n_estimators': [100, 200, 300, 400, 500],\n",
    "    'max_depth': [4, 6, 8, 10, 12],\n",
    "    'learning_rate': [0.01, 0.03, 0.05, 0.1, 0.15, 0.2],\n",
    "    'subsample': [0.7, 0.8, 0.9, 1.0],\n",
    "    'colsample_bytree': [0.7, 0.8, 0.9, 1.0],\n",
    "    'min_child_weight': [1, 3, 5, 7],\n",
    "    'gamma': [0, 0.1, 0.2, 0.3],\n",
    "    'reg_alpha': [0, 0.1, 0.5, 1.0],\n",
    "    'reg_lambda': [0, 0.1, 0.5, 1.0]\n",
    "}\n",
    "\n",
    "xgb_base = xgb.XGBClassifier(\n",
    "    tree_method='hist',\n",
    "    device=\"cuda\",\n",
    "    objective='multi:softmax',\n",
    "    num_class=len(y.unique()),\n",
    "    random_state=42,\n",
    "    verbosity=0\n",
    ")\n",
    "\n",
    "print(\"XGBoost 하이퍼파라미터 튜닝 시작...\")\n",
    "print(f\"총 {50}개 조합 테스트 (5-Fold CV)\")\n",
    "print(\"예상 소요 시간: 30-60분\\n\")\n",
    "\n",
    "xgb_random_search = RandomizedSearchCV(\n",
    "    estimator=xgb_base,\n",
    "    param_distributions=xgb_param_dist,\n",
    "    n_iter=50,\n",
    "    cv=skf,\n",
    "    scoring=f1_scorer,\n",
    "    random_state=42,\n",
    "    # n_jobs=-1,\n",
    "    verbose=2\n",
    ")\n",
    "\n",
    "start_time = time.time()\n",
    "xgb_random_search.fit(X_scaled, y)\n",
    "xgb_elapsed = time.time() - start_time\n",
    "\n",
    "print(f\"\\n완료! 소요 시간: {xgb_elapsed/60:.2f}분\")\n",
    "print(f\"최고 F1-macro 점수: {xgb_random_search.best_score_:.6f}\")\n",
    "print(f\"\\n최적 하이퍼파라미터:\")\n",
    "for param, value in xgb_random_search.best_params_.items():\n",
    "    print(f\"  {param}: {value}\")"
   ]
  },
  {
   "cell_type": "markdown",
   "metadata": {},
   "source": [
    "## 5. 결과 비교 및 시각화"
   ]
  },
  {
   "cell_type": "code",
   "execution_count": null,
   "metadata": {},
   "outputs": [],
   "source": [
    "results_comparison = pd.DataFrame({\n",
    "    'Model': ['LightGBM (기본)', 'LightGBM (튜닝)', 'XGBoost (기본)', 'XGBoost (튜닝)'],\n",
    "    'F1-Macro Score': [0.798, lgbm_random_search.best_score_, 0.800, xgb_random_search.best_score_]\n",
    "})\n",
    "\n",
    "print(\"\\n\" + \"=\"*60)\n",
    "print(\"최종 성능 비교\")\n",
    "print(\"=\"*60)\n",
    "print(results_comparison.to_string(index=False))\n",
    "\n",
    "lgbm_improvement = (lgbm_random_search.best_score_ - 0.798) * 100\n",
    "xgb_improvement = (xgb_random_search.best_score_ - 0.800) * 100\n",
    "\n",
    "print(f\"\\nLightGBM 개선: +{lgbm_improvement:.2f}%\")\n",
    "print(f\"XGBoost 개선: +{xgb_improvement:.2f}%\")\n",
    "\n",
    "plt.figure(figsize=(10, 6))\n",
    "sns.barplot(data=results_comparison, x='Model', y='F1-Macro Score')\n",
    "plt.axhline(y=0.800, color='r', linestyle='--', label='기준선 (0.800)')\n",
    "plt.title('하이퍼파라미터 튜닝 전후 성능 비교', fontsize=14)\n",
    "plt.ylabel('F1-Macro Score')\n",
    "plt.ylim(0.79, max(results_comparison['F1-Macro Score']) + 0.01)\n",
    "plt.legend()\n",
    "plt.xticks(rotation=45)\n",
    "plt.tight_layout()\n",
    "plt.show()"
   ]
  },
  {
   "cell_type": "markdown",
   "metadata": {},
   "source": [
    "## 6. 최적 모델로 예측 생성"
   ]
  },
  {
   "cell_type": "code",
   "execution_count": null,
   "metadata": {},
   "outputs": [],
   "source": [
    "best_model = lgbm_random_search.best_estimator_ if lgbm_random_search.best_score_ > xgb_random_search.best_score_ else xgb_random_search.best_estimator_\n",
    "best_model_name = 'LightGBM' if lgbm_random_search.best_score_ > xgb_random_search.best_score_ else 'XGBoost'\n",
    "best_score = max(lgbm_random_search.best_score_, xgb_random_search.best_score_)\n",
    "\n",
    "print(f\"최고 성능 모델: {best_model_name}\")\n",
    "print(f\"CV F1-Macro Score: {best_score:.6f}\")\n",
    "\n",
    "test_df = pd.read_csv('../data/open/test.csv')\n",
    "test_ids = test_df['ID']\n",
    "X_test = test_df.drop(columns=['ID'])\n",
    "X_test_scaled = scaler.transform(X_test)\n",
    "\n",
    "best_model.fit(X_scaled, y)\n",
    "predictions = best_model.predict(X_test_scaled)\n",
    "\n",
    "submission = pd.DataFrame({\n",
    "    'ID': test_ids,\n",
    "    'target': predictions\n",
    "})\n",
    "\n",
    "submission.to_csv('../outputs/submissions/submission_tuned.csv', index=False)\n",
    "print(\"\\n제출 파일 저장 완료: outputs/submissions/submission_tuned.csv\")\n",
    "print(f\"\\n예측 분포:\\n{pd.Series(predictions).value_counts().sort_index()}\")"
   ]
  },
  {
   "cell_type": "markdown",
   "metadata": {},
   "source": [
    "## 7. 모델 저장"
   ]
  },
  {
   "cell_type": "code",
   "execution_count": null,
   "metadata": {},
   "outputs": [],
   "source": [
    "import joblib\n",
    "\n",
    "joblib.dump(lgbm_random_search.best_estimator_, '../models/lgbm_tuned.pkl')\n",
    "joblib.dump(xgb_random_search.best_estimator_, '../models/xgb_tuned.pkl')\n",
    "joblib.dump(scaler, '../models/scaler.pkl')\n",
    "\n",
    "print(\"모델 저장 완료:\")\n",
    "print(\"  - models/lgbm_tuned.pkl\")\n",
    "print(\"  - models/xgb_tuned.pkl\")\n",
    "print(\"  - models/scaler.pkl\")"
   ]
  }
 ],
 "metadata": {
  "kernelspec": {
   "display_name": "Python 3",
   "language": "python",
   "name": "python3"
  },
  "language_info": {
   "codemirror_mode": {
    "name": "ipython",
    "version": 3
   },
   "file_extension": ".py",
   "mimetype": "text/x-python",
   "name": "python",
   "nbconvert_exporter": "python",
   "pygments_lexer": "ipython3",
   "version": "3.8.0"
  }
 },
 "nbformat": 4,
 "nbformat_minor": 4
}
